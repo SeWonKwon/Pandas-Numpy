{
 "cells": [
  {
   "cell_type": "markdown",
   "metadata": {},
   "source": [
    "<a href='https://github.com/SeWonKwon' ><div> <img src ='https://slid-capture.s3.ap-northeast-2.amazonaws.com/public/image_upload/6556674324ed41a289a354258718280d/964e5a8b-75ad-41fc-ae75-0ca66d06fbc7.png' align='left' /> </div></a>\n"
   ]
  },
  {
   "cell_type": "markdown",
   "metadata": {},
   "source": [
    "출처 : https://www.w3resource.com/python-exercises/pandas/index-data-series.php"
   ]
  },
  {
   "cell_type": "code",
   "execution_count": 1,
   "metadata": {
    "ExecuteTime": {
     "end_time": "2021-07-08T00:59:59.132861Z",
     "start_time": "2021-07-08T00:59:56.213517Z"
    }
   },
   "outputs": [],
   "source": [
    "import pandas as pd\n",
    "import numpy as np"
   ]
  },
  {
   "cell_type": "markdown",
   "metadata": {},
   "source": [
    "# 21. Write a Pandas program to find the positions of numbers that are multiples of 5 of a given series.  \n",
    "\n",
    "Sample Output:    \n",
    "```\n",
    "\n",
    "Original Series:    \n",
    "0 1    \n",
    "1 9    \n",
    "2 8    \n",
    "3 6    \n",
    "4 9    \n",
    "5 7    \n",
    "6 1    \n",
    "7 1    \n",
    "8 1    \n",
    "dtype: int64    \n",
    "\n",
    "Positions of numbers that are multiples of 5:    \n",
    "[]    \n",
    "```    \n",
    "    "
   ]
  },
  {
   "cell_type": "code",
   "execution_count": 2,
   "metadata": {
    "ExecuteTime": {
     "end_time": "2021-07-08T00:59:59.147858Z",
     "start_time": "2021-07-08T00:59:59.134850Z"
    }
   },
   "outputs": [
    {
     "name": "stdout",
     "output_type": "stream",
     "text": [
      "[ 2  6 10  4 10  1  1  9  6]\n"
     ]
    },
    {
     "data": {
      "text/plain": [
       "array([10, 10])"
      ]
     },
     "execution_count": 2,
     "metadata": {},
     "output_type": "execute_result"
    }
   ],
   "source": [
    "s = np.random.randint(1, 11, 9)\n",
    "print(s)\n",
    "s[s%5==0]"
   ]
  },
  {
   "cell_type": "markdown",
   "metadata": {},
   "source": [
    "22. Write a Pandas program to extract items at given positions of a given series.     \n",
    "Sample Output:    \n",
    "\n",
    "```\n",
    "Original Series:    \n",
    "0 2    \n",
    "1 3    \n",
    "2 9    \n",
    "3 0    \n",
    "4 2    \n",
    "5 3    \n",
    "... 19 0    \n",
    "20 2    \n",
    "21 3    \n",
    "dtype: object    \n",
    "\n",
    "\n",
    "Extract items at given positions of the said series:    \n",
    "0 2    \n",
    "2 9    \n",
    "6 8    \n",
    "11 0    \n",
    "21 3    \n",
    "dtype: object    \n",
    "```"
   ]
  },
  {
   "cell_type": "markdown",
   "metadata": {},
   "source": [
    "# ★ 23. Write a Pandas program to get the positions of items of a given series in another given series.   \n",
    "\n",
    "Sample Output:    \n",
    "\n",
    "Original Series:    \n",
    "0 1    \n",
    "1 2    \n",
    "2 3    \n",
    "3 4    \n",
    "4 5    \n",
    "5 6    \n",
    "6 7    \n",
    "7 8    \n",
    "8 9    \n",
    "9 10    \n",
    "dtype: int64    \n",
    "\n",
    "0 1    \n",
    "1 3    \n",
    "2 5    \n",
    "3 7    \n",
    "4 10    \n",
    "dtype: int64    \n",
    "\n",
    "Positions of items of series2 in series1:    \n",
    "[0, 2, 4, 6, 9]    \n",
    "```"
   ]
  },
  {
   "cell_type": "code",
   "execution_count": 3,
   "metadata": {
    "ExecuteTime": {
     "end_time": "2021-07-08T00:59:59.163854Z",
     "start_time": "2021-07-08T00:59:59.152855Z"
    },
    "scrolled": true
   },
   "outputs": [
    {
     "data": {
      "text/plain": [
       "0     1\n",
       "1     2\n",
       "2     3\n",
       "3     4\n",
       "4     5\n",
       "5     6\n",
       "6     7\n",
       "7     8\n",
       "8     9\n",
       "9    10\n",
       "dtype: int32"
      ]
     },
     "execution_count": 3,
     "metadata": {},
     "output_type": "execute_result"
    }
   ],
   "source": [
    "s1 = pd.Series(np.arange(1,11))\n",
    "s1"
   ]
  },
  {
   "cell_type": "code",
   "execution_count": 4,
   "metadata": {
    "ExecuteTime": {
     "end_time": "2021-07-08T00:59:59.178859Z",
     "start_time": "2021-07-08T00:59:59.165856Z"
    }
   },
   "outputs": [
    {
     "data": {
      "text/plain": [
       "0     1\n",
       "1     3\n",
       "2     5\n",
       "3     7\n",
       "4    10\n",
       "dtype: int64"
      ]
     },
     "execution_count": 4,
     "metadata": {},
     "output_type": "execute_result"
    }
   ],
   "source": [
    "s2 = pd.Series([1, 3, 5, 7, 10])\n",
    "s2"
   ]
  },
  {
   "cell_type": "code",
   "execution_count": 5,
   "metadata": {
    "ExecuteTime": {
     "end_time": "2021-07-08T00:59:59.193863Z",
     "start_time": "2021-07-08T00:59:59.180858Z"
    }
   },
   "outputs": [
    {
     "data": {
      "text/plain": [
       "0     True\n",
       "1    False\n",
       "2     True\n",
       "3    False\n",
       "4     True\n",
       "5    False\n",
       "6     True\n",
       "7    False\n",
       "8    False\n",
       "9     True\n",
       "dtype: bool"
      ]
     },
     "execution_count": 5,
     "metadata": {},
     "output_type": "execute_result"
    }
   ],
   "source": [
    "s1.isin(s2)"
   ]
  },
  {
   "cell_type": "code",
   "execution_count": 6,
   "metadata": {
    "ExecuteTime": {
     "end_time": "2021-07-08T00:59:59.208879Z",
     "start_time": "2021-07-08T00:59:59.195861Z"
    }
   },
   "outputs": [
    {
     "data": {
      "text/plain": [
       "Int64Index([0, 2, 4, 6, 9], dtype='int64')"
      ]
     },
     "execution_count": 6,
     "metadata": {},
     "output_type": "execute_result"
    }
   ],
   "source": [
    "s1.index[s1.isin(s2)]"
   ]
  },
  {
   "cell_type": "markdown",
   "metadata": {},
   "source": [
    "## 다른 답안"
   ]
  },
  {
   "cell_type": "code",
   "execution_count": 7,
   "metadata": {
    "ExecuteTime": {
     "end_time": "2021-07-08T00:59:59.223881Z",
     "start_time": "2021-07-08T00:59:59.211872Z"
    }
   },
   "outputs": [
    {
     "data": {
      "text/plain": [
       "[0, 2, 4, 6, 9]"
      ]
     },
     "execution_count": 7,
     "metadata": {},
     "output_type": "execute_result"
    }
   ],
   "source": [
    "[pd.Index(s1).get_loc(i) for i in s2]"
   ]
  },
  {
   "cell_type": "markdown",
   "metadata": {},
   "source": [
    "# ★24. Write a Pandas program convert the first and last character of each word to upper case in each word of a given series.     \n",
    "\n",
    "Sample Output:    \n",
    "\n",
    "```\n",
    "Original Series:    \n",
    "0 php    \n",
    "1 python    \n",
    "2 java    \n",
    "3 c#    \n",
    "dtype: object    \n",
    "\n",
    "\n",
    "First and last character of each word to upper case:    \n",
    "0 PhP    \n",
    "1 PythoN    \n",
    "2 JavA    \n",
    "3 C#    \n",
    "dtype: object    \n",
    "```\n",
    "    \n",
    "    "
   ]
  },
  {
   "cell_type": "code",
   "execution_count": 8,
   "metadata": {
    "ExecuteTime": {
     "end_time": "2021-07-08T00:59:59.238890Z",
     "start_time": "2021-07-08T00:59:59.225875Z"
    }
   },
   "outputs": [
    {
     "data": {
      "text/plain": [
       "0       php\n",
       "1    python\n",
       "2      java\n",
       "3        c#\n",
       "dtype: object"
      ]
     },
     "execution_count": 8,
     "metadata": {},
     "output_type": "execute_result"
    }
   ],
   "source": [
    "s1 = pd.Series(['php', 'python', 'java', 'c#'])\n",
    "s1"
   ]
  },
  {
   "cell_type": "code",
   "execution_count": 9,
   "metadata": {
    "ExecuteTime": {
     "end_time": "2021-07-08T00:59:59.253887Z",
     "start_time": "2021-07-08T00:59:59.241875Z"
    }
   },
   "outputs": [
    {
     "data": {
      "text/plain": [
       "0       PhP\n",
       "1    PythoN\n",
       "2      JavA\n",
       "3        C#\n",
       "dtype: object"
      ]
     },
     "execution_count": 9,
     "metadata": {},
     "output_type": "execute_result"
    }
   ],
   "source": [
    "def upper_fnl(x):\n",
    "    return (x[0]).upper() + x[1:-1] + (x[-1]).upper()\n",
    "s1.apply(lambda x : upper_fnl(x))"
   ]
  },
  {
   "cell_type": "markdown",
   "metadata": {},
   "source": [
    "## 다른답안"
   ]
  },
  {
   "cell_type": "code",
   "execution_count": 10,
   "metadata": {
    "ExecuteTime": {
     "end_time": "2021-07-08T00:59:59.268897Z",
     "start_time": "2021-07-08T00:59:59.255883Z"
    }
   },
   "outputs": [
    {
     "data": {
      "text/plain": [
       "0       PhP\n",
       "1    PythoN\n",
       "2      JavA\n",
       "3        C#\n",
       "dtype: object"
      ]
     },
     "execution_count": 10,
     "metadata": {},
     "output_type": "execute_result"
    }
   ],
   "source": [
    "s1.map(lambda x: x[0].upper() + x[1:-1] + x[-1].upper())"
   ]
  },
  {
   "cell_type": "markdown",
   "metadata": {},
   "source": [
    "# 25. Write a Pandas program to calculate the number of characters in each word in a given series.  \n",
    "\n",
    "Sample Output:    \n",
    "\n",
    "```\n",
    "Original Series:    \n",
    "0 Php    \n",
    "1 Python    \n",
    "2 Java    \n",
    "3 C#    \n",
    "dtype: object    \n",
    "\n",
    "Number of characters in each word in the said series:    \n",
    "0 3    \n",
    "1 6    \n",
    "2 4    \n",
    "3 2    \n",
    "dtype: int64    \n",
    "    \n",
    "```"
   ]
  },
  {
   "cell_type": "code",
   "execution_count": 11,
   "metadata": {
    "ExecuteTime": {
     "end_time": "2021-07-08T00:59:59.283882Z",
     "start_time": "2021-07-08T00:59:59.271881Z"
    }
   },
   "outputs": [
    {
     "data": {
      "text/plain": [
       "0       Php\n",
       "1    Python\n",
       "2      Java\n",
       "3        C#\n",
       "dtype: object"
      ]
     },
     "execution_count": 11,
     "metadata": {},
     "output_type": "execute_result"
    }
   ],
   "source": [
    "s1 = s1.str.capitalize()\n",
    "s1"
   ]
  },
  {
   "cell_type": "code",
   "execution_count": 12,
   "metadata": {
    "ExecuteTime": {
     "end_time": "2021-07-08T00:59:59.298841Z",
     "start_time": "2021-07-08T00:59:59.285885Z"
    }
   },
   "outputs": [
    {
     "data": {
      "text/plain": [
       "0    3\n",
       "1    6\n",
       "2    4\n",
       "3    2\n",
       "dtype: int64"
      ]
     },
     "execution_count": 12,
     "metadata": {},
     "output_type": "execute_result"
    }
   ],
   "source": [
    "s1.str.len()"
   ]
  },
  {
   "cell_type": "markdown",
   "metadata": {},
   "source": [
    "# 26. Write a Pandas program to compute difference of differences between consecutive numbers of a given series.     \n",
    "\n",
    "Sample Output:    \n",
    "\n",
    "```\n",
    "Original Series:    \n",
    "0 1    \n",
    "1 3    \n",
    "2 5    \n",
    "3 8    \n",
    "4 10    \n",
    "5 11    \n",
    "6 15    \n",
    "dtype: int64    \n",
    "\n",
    "Difference of differences between consecutive numbers of the said series:    \n",
    "\n",
    "[nan, 2.0, 2.0, 3.0, 2.0, 1.0, 4.0]    \n",
    "[nan, nan, 0.0, 1.0, -1.0, -1.0, 3.0]    \n",
    "```\n",
    "    "
   ]
  },
  {
   "cell_type": "code",
   "execution_count": 13,
   "metadata": {
    "ExecuteTime": {
     "end_time": "2021-07-08T00:59:59.313851Z",
     "start_time": "2021-07-08T00:59:59.301829Z"
    },
    "scrolled": true
   },
   "outputs": [
    {
     "data": {
      "text/plain": [
       "0     1\n",
       "1     3\n",
       "2     5\n",
       "3     8\n",
       "4    10\n",
       "5    11\n",
       "6    15\n",
       "dtype: int64"
      ]
     },
     "execution_count": 13,
     "metadata": {},
     "output_type": "execute_result"
    }
   ],
   "source": [
    "s1 = pd.Series([1, 3, 5, 8, 10, 11, 15])\n",
    "s1"
   ]
  },
  {
   "cell_type": "code",
   "execution_count": 14,
   "metadata": {
    "ExecuteTime": {
     "end_time": "2021-07-08T00:59:59.328853Z",
     "start_time": "2021-07-08T00:59:59.315850Z"
    }
   },
   "outputs": [
    {
     "name": "stdout",
     "output_type": "stream",
     "text": [
      "[nan, 2.0, 2.0, 3.0, 2.0, 1.0, 4.0]\n",
      "[nan, nan, 0.0, 1.0, -1.0, -1.0, 3.0]\n"
     ]
    }
   ],
   "source": [
    "print(s1.diff().tolist())\n",
    "print(s1.diff().diff().tolist())"
   ]
  },
  {
   "cell_type": "code",
   "execution_count": 15,
   "metadata": {
    "ExecuteTime": {
     "end_time": "2021-07-08T00:59:59.343838Z",
     "start_time": "2021-07-08T00:59:59.330848Z"
    }
   },
   "outputs": [
    {
     "name": "stdout",
     "output_type": "stream",
     "text": [
      " diff(*args, **kwargs)\n",
      "\n",
      "Calculate the n-th discrete difference along the given axis.\n",
      "\n",
      "The first difference is given by ``out[i] = a[i+1] - a[i]`` along\n",
      "the given axis, higher differences are calculated by using `diff`\n",
      "recursively.\n",
      "\n",
      "Parameters\n",
      "----------\n",
      "a : array_like\n",
      "    Input array\n",
      "n : int, optional\n",
      "    The number of times values are differenced. If zero, the input\n",
      "    is returned as-is.\n",
      "axis : int, optional\n",
      "    The axis along which the difference is taken, default is the\n",
      "    last axis.\n",
      "prepend, append : array_like, optional\n",
      "    Values to prepend or append to `a` along axis prior to\n",
      "    performing the difference.  Scalar values are expanded to\n",
      "    arrays with length 1 in the direction of axis and the shape\n",
      "    of the input array in along all other axes.  Otherwise the\n",
      "    dimension and shape must match `a` except along axis.\n",
      "\n",
      "    .. versionadded:: 1.16.0\n",
      "\n",
      "Returns\n",
      "-------\n",
      "diff : ndarray\n",
      "    The n-th differences. The shape of the output is the same as `a`\n",
      "    except along `axis` where the dimension is smaller by `n`. The\n",
      "    type of the output is the same as the type of the difference\n",
      "    between any two elements of `a`. This is the same as the type of\n",
      "    `a` in most cases. A notable exception is `datetime64`, which\n",
      "    results in a `timedelta64` output array.\n",
      "\n",
      "See Also\n",
      "--------\n",
      "gradient, ediff1d, cumsum\n",
      "\n",
      "Notes\n",
      "-----\n",
      "Type is preserved for boolean arrays, so the result will contain\n",
      "`False` when consecutive elements are the same and `True` when they\n",
      "differ.\n",
      "\n",
      "For unsigned integer arrays, the results will also be unsigned. This\n",
      "should not be surprising, as the result is consistent with\n",
      "calculating the difference directly:\n",
      "\n",
      ">>> u8_arr = np.array([1, 0], dtype=np.uint8)\n",
      ">>> np.diff(u8_arr)\n",
      "array([255], dtype=uint8)\n",
      ">>> u8_arr[1,...] - u8_arr[0,...]\n",
      "255\n",
      "\n",
      "If this is not desirable, then the array should be cast to a larger\n",
      "integer type first:\n",
      "\n",
      ">>> i16_arr = u8_arr.astype(np.int16)\n",
      ">>> np.diff(i16_arr)\n",
      "array([-1], dtype=int16)\n",
      "\n",
      "Examples\n",
      "--------\n",
      ">>> x = np.array([1, 2, 4, 7, 0])\n",
      ">>> np.diff(x)\n",
      "array([ 1,  2,  3, -7])\n",
      ">>> np.diff(x, n=2)\n",
      "array([  1,   1, -10])\n",
      "\n",
      ">>> x = np.array([[1, 3, 6, 10], [0, 5, 6, 8]])\n",
      ">>> np.diff(x)\n",
      "array([[2, 3, 4],\n",
      "       [5, 1, 2]])\n",
      ">>> np.diff(x, axis=0)\n",
      "array([[-1,  2,  0, -2]])\n",
      "\n",
      ">>> x = np.arange('1066-10-13', '1066-10-16', dtype=np.datetime64)\n",
      ">>> np.diff(x)\n",
      "array([1, 1], dtype='timedelta64[D]')\n"
     ]
    }
   ],
   "source": [
    "np.info(np.diff)"
   ]
  },
  {
   "cell_type": "markdown",
   "metadata": {},
   "source": [
    "# 27. Write a Pandas program to convert a series of date strings to a timeseries.     \n",
    "\n",
    "Sample Output:    \n",
    "\n",
    "```\n",
    "Original Series:    \n",
    "0 01 Jan 2015    \n",
    "1 10-02-2016    \n",
    "2 20180307    \n",
    "3 2014/05/06    \n",
    "4 2016-04-12    \n",
    "5 2019-04-06T11:20    \n",
    "dtype: object    \n",
    "\n",
    "Series of date strings to a timeseries:    \n",
    "0 2015-01-01 00:00:00    \n",
    "1 2016-10-02 00:00:00    \n",
    "2 2018-03-07 00:00:00    \n",
    "3 2014-05-06 00:00:00    \n",
    "4 2016-04-12 00:00:00    \n",
    "5 2019-04-06 11:20:00    \n",
    "dtype: datetime64[ns]    \n",
    "```\n",
    "    "
   ]
  },
  {
   "cell_type": "code",
   "execution_count": 16,
   "metadata": {
    "ExecuteTime": {
     "end_time": "2021-07-08T00:59:59.358848Z",
     "start_time": "2021-07-08T00:59:59.346839Z"
    },
    "scrolled": true
   },
   "outputs": [
    {
     "data": {
      "text/plain": [
       "0         01 Jan 2015\n",
       "1          10-02-2016\n",
       "2            20180307\n",
       "3          2014/05/06\n",
       "4          2016-04-12\n",
       "5    2019-04-06T11:20\n",
       "dtype: object"
      ]
     },
     "execution_count": 16,
     "metadata": {},
     "output_type": "execute_result"
    }
   ],
   "source": [
    "s1 = pd.Series(['01 Jan 2015', '10-02-2016',\n",
    "                '20180307', '2014/05/06',\n",
    "                '2016-04-12', '2019-04-06T11:20'])\n",
    "s1"
   ]
  },
  {
   "cell_type": "code",
   "execution_count": 17,
   "metadata": {
    "ExecuteTime": {
     "end_time": "2021-07-08T00:59:59.373863Z",
     "start_time": "2021-07-08T00:59:59.360849Z"
    }
   },
   "outputs": [
    {
     "data": {
      "text/plain": [
       "0   2015-01-01 00:00:00\n",
       "1   2016-10-02 00:00:00\n",
       "2   2018-03-07 00:00:00\n",
       "3   2014-05-06 00:00:00\n",
       "4   2016-04-12 00:00:00\n",
       "5   2019-04-06 11:20:00\n",
       "dtype: datetime64[ns]"
      ]
     },
     "execution_count": 17,
     "metadata": {},
     "output_type": "execute_result"
    }
   ],
   "source": [
    "pd.to_datetime(s1)"
   ]
  },
  {
   "cell_type": "markdown",
   "metadata": {},
   "source": [
    "# ★ 28. Write a Pandas program to get the day of month, day of year, week number and day of week from a given series of date strings.  \n",
    "\n",
    "Sample Output:    \n",
    "\n",
    "```\n",
    "Original Series:    \n",
    "0 01 Jan 2015    \n",
    "1 10-02-2016    \n",
    "2 20180307    \n",
    "3 2014/05/06    \n",
    "4 2016-04-12    \n",
    "5 2019-04-06T11:20    \n",
    "dtype: object    \n",
    "\n",
    "Day of month:    \n",
    "[1, 2, 7, 6, 12, 6]    \n",
    "\n",
    "Day of year:    \n",
    "[1, 276, 66, 126, 103, 96]    \n",
    "\n",
    "Week number:    \n",
    "[1, 39, 10, 19, 15, 14]    \n",
    "\n",
    "Day of week:    \n",
    "['Thursday', 'Sunday', 'Wednesday', 'Tuesday', 'Tuesday', 'Saturday']    \n",
    "```\n",
    "    "
   ]
  },
  {
   "cell_type": "code",
   "execution_count": 18,
   "metadata": {
    "ExecuteTime": {
     "end_time": "2021-07-08T00:59:59.388848Z",
     "start_time": "2021-07-08T00:59:59.376846Z"
    }
   },
   "outputs": [],
   "source": [
    "s1 = pd.Series(['01 Jan 2015', '10-02-2016',\n",
    "                '20180307', '2014/05/06',\n",
    "                '2016-04-12', '2019-04-06T11:20'])"
   ]
  },
  {
   "cell_type": "code",
   "execution_count": 19,
   "metadata": {
    "ExecuteTime": {
     "end_time": "2021-07-08T00:59:59.403865Z",
     "start_time": "2021-07-08T00:59:59.392849Z"
    }
   },
   "outputs": [
    {
     "data": {
      "text/plain": [
       "0   2015-01-01 00:00:00\n",
       "1   2016-10-02 00:00:00\n",
       "2   2018-03-07 00:00:00\n",
       "3   2014-05-06 00:00:00\n",
       "4   2016-04-12 00:00:00\n",
       "5   2019-04-06 11:20:00\n",
       "dtype: datetime64[ns]"
      ]
     },
     "execution_count": 19,
     "metadata": {},
     "output_type": "execute_result"
    }
   ],
   "source": [
    "from dateutil.parser import parse\n",
    "date_series = s1.map(lambda x: parse(x))\n",
    "date_series"
   ]
  },
  {
   "cell_type": "code",
   "execution_count": 20,
   "metadata": {
    "ExecuteTime": {
     "end_time": "2021-07-08T00:59:59.418855Z",
     "start_time": "2021-07-08T00:59:59.406853Z"
    }
   },
   "outputs": [
    {
     "name": "stdout",
     "output_type": "stream",
     "text": [
      "Day of month:\n",
      "[1, 2, 7, 6, 12, 6]\n",
      "Day of year:\n",
      "[1, 276, 66, 126, 103, 96]\n",
      "Week number:\n",
      "[1, 39, 10, 19, 15, 14]\n",
      "Day of week:\n",
      "['Thursday' 'Sunday' 'Wednesday' 'Tuesday' 'Tuesday' 'Saturday']\n"
     ]
    },
    {
     "name": "stderr",
     "output_type": "stream",
     "text": [
      "<ipython-input-20-9ca8081c1636>:8: FutureWarning: Series.dt.weekofyear and Series.dt.week have been deprecated.  Please use Series.dt.isocalendar().week instead.\n",
      "  print(date_series.dt.weekofyear.tolist())\n"
     ]
    }
   ],
   "source": [
    "print(\"Day of month:\")\n",
    "print(date_series.dt.day.tolist())\n",
    "\n",
    "print(\"Day of year:\")\n",
    "print(date_series.dt.dayofyear.tolist())\n",
    "\n",
    "print(\"Week number:\")\n",
    "print(date_series.dt.weekofyear.tolist())\n",
    "\n",
    "print(\"Day of week:\")\n",
    "weekday_name_list = ['Monday', 'Tuesday', 'Wednesday', 'Thursday', 'Friday', 'Saturday', 'Sunday']\n",
    "print(np.array(weekday_name_list)[date_series.dt.weekday.tolist()])"
   ]
  },
  {
   "cell_type": "markdown",
   "metadata": {},
   "source": [
    "# ★ 29. Write a Pandas program to convert year-month string to dates adding a specified day of the month.   \n",
    "\n",
    "Sample Output:    \n",
    "\n",
    "```\n",
    "Original Series:    \n",
    "0 Jan 2015    \n",
    "1 Feb 2016    \n",
    "2 Mar 2017    \n",
    "3 Apr 2018    \n",
    "4 May 2019    \n",
    "dtype: object    \n",
    "\n",
    "New dates:    \n",
    "0 2015-01-11    \n",
    "1 2016-02-11    \n",
    "2 2017-03-11    \n",
    "3 2018-04-11    \n",
    "4 2019-05-11    \n",
    "dtype: datetime64[ns]    \n",
    "```\n",
    "    "
   ]
  },
  {
   "cell_type": "code",
   "execution_count": 21,
   "metadata": {
    "ExecuteTime": {
     "end_time": "2021-07-08T00:59:59.433858Z",
     "start_time": "2021-07-08T00:59:59.420855Z"
    }
   },
   "outputs": [
    {
     "name": "stdout",
     "output_type": "stream",
     "text": [
      "Original Series:\n",
      "0    Jan 2015\n",
      "1    Feb 2016\n",
      "2    Mar 2017\n",
      "3    Apr 2018\n",
      "4    May 2019\n",
      "dtype: object\n",
      "\n",
      "New dates:\n",
      "0   2015-01-11\n",
      "1   2016-02-11\n",
      "2   2017-03-11\n",
      "3   2018-04-11\n",
      "4   2019-05-11\n",
      "dtype: datetime64[ns]\n"
     ]
    }
   ],
   "source": [
    "import pandas as pd\n",
    "from dateutil.parser import parse\n",
    "date_series = pd.Series(['Jan 2015', 'Feb 2016', 'Mar 2017', 'Apr 2018', 'May 2019'])\n",
    "print(\"Original Series:\")\n",
    "print(date_series)\n",
    "print(\"\\nNew dates:\")\n",
    "result = date_series.map(lambda d: parse('11 ' + d))\n",
    "print(result)"
   ]
  },
  {
   "cell_type": "markdown",
   "metadata": {},
   "source": [
    "# 30. Write a Pandas program to filter words from a given series that contain atleast two vowels.     \n",
    "\n",
    "Sample Output:    \n",
    "\n",
    "```\n",
    "Original Series:    \n",
    "0 Red    \n",
    "1 Green    \n",
    "2 Orange    \n",
    "3 Pink    \n",
    "4 Yellow    \n",
    "5 White    \n",
    "dtype: object    \n",
    "\n",
    "Filtered words:    \n",
    "1 Green    \n",
    "2 Orange    \n",
    "4 Yellow    \n",
    "5 White    \n",
    "dtype: object    \n",
    "```"
   ]
  },
  {
   "cell_type": "code",
   "execution_count": 22,
   "metadata": {
    "ExecuteTime": {
     "end_time": "2021-07-08T00:59:59.448881Z",
     "start_time": "2021-07-08T00:59:59.436858Z"
    }
   },
   "outputs": [
    {
     "data": {
      "text/plain": [
       "0       Red\n",
       "1     Green\n",
       "2    Orange\n",
       "3      Pink\n",
       "4    Yellow\n",
       "5     White\n",
       "dtype: object"
      ]
     },
     "execution_count": 22,
     "metadata": {},
     "output_type": "execute_result"
    }
   ],
   "source": [
    "s1 = pd.Series(['Red', 'Green', 'Orange', 'Pink', 'Yellow', 'White'])\n",
    "s1"
   ]
  },
  {
   "cell_type": "code",
   "execution_count": 23,
   "metadata": {
    "ExecuteTime": {
     "end_time": "2021-07-08T00:59:59.478875Z",
     "start_time": "2021-07-08T00:59:59.450876Z"
    }
   },
   "outputs": [
    {
     "data": {
      "text/plain": [
       "1     Green\n",
       "2    Orange\n",
       "4    Yellow\n",
       "5     White\n",
       "dtype: object"
      ]
     },
     "execution_count": 23,
     "metadata": {},
     "output_type": "execute_result"
    }
   ],
   "source": [
    "vowels_count = s1.str.count('a') + s1.str.count('e') + s1.str.count('i') + s1.str.count('o') \\\n",
    "+ s1.str.count('u') \n",
    "\n",
    "s1[vowels_count >=2]"
   ]
  },
  {
   "cell_type": "markdown",
   "metadata": {},
   "source": [
    "다른 답안"
   ]
  },
  {
   "cell_type": "code",
   "execution_count": 24,
   "metadata": {
    "ExecuteTime": {
     "end_time": "2021-07-08T00:59:59.493878Z",
     "start_time": "2021-07-08T00:59:59.480887Z"
    }
   },
   "outputs": [
    {
     "name": "stdout",
     "output_type": "stream",
     "text": [
      "Original Series:\n",
      "0       Red\n",
      "1     Green\n",
      "2    Orange\n",
      "3      Pink\n",
      "4    Yellow\n",
      "5     White\n",
      "dtype: object\n",
      "\n",
      "Filtered words:\n",
      "1     Green\n",
      "2    Orange\n",
      "4    Yellow\n",
      "5     White\n",
      "dtype: object\n"
     ]
    }
   ],
   "source": [
    "import pandas as pd\n",
    "from collections import Counter\n",
    "color_series = pd.Series(['Red', 'Green', 'Orange', 'Pink', 'Yellow', 'White'])\n",
    "print(\"Original Series:\")\n",
    "print(color_series)\n",
    "print(\"\\nFiltered words:\")\n",
    "result = mask = color_series.map(lambda c: sum([Counter(c.lower()).get(i, 0) for i in list('aeiou')]) >= 2)\n",
    "print(color_series[result])"
   ]
  },
  {
   "cell_type": "markdown",
   "metadata": {},
   "source": [
    "# 31. Write a Pandas program to compute the Euclidean distance between two given series.     \n",
    "Euclidean distance    \n",
    "From Wikipedia,    \n",
    "In mathematics, the Euclidean distance or Euclidean metric is the \"ordinary\" straight-line distance between two points in Euclidean space. With this distance, Euclidean space becomes a metric space. The associated norm is called the Euclidean norm.    \n",
    "\n",
    "\n",
    "```\n",
    "Sample Output:    \n",
    "Original series:    \n",
    "0 1    \n",
    "1 2    \n",
    "2 3    \n",
    "3 4    \n",
    "4 5    \n",
    "5 6    \n",
    "6 7    \n",
    "7 8    \n",
    "8 9    \n",
    "9 10    \n",
    "dtype: int64    \n",
    "0 11    \n",
    "1 8    \n",
    "2 7    \n",
    "3 5    \n",
    "4 6    \n",
    "5 5    \n",
    "6 3    \n",
    "7 4    \n",
    "8 7    \n",
    "9 1    \n",
    "dtype: int64    \n",
    "\n",
    "Euclidean distance between two said series:    \n",
    "16.492422502470642    \n",
    "```\n",
    "    "
   ]
  },
  {
   "cell_type": "code",
   "execution_count": 25,
   "metadata": {
    "ExecuteTime": {
     "end_time": "2021-07-08T01:02:07.801632Z",
     "start_time": "2021-07-08T01:02:07.790623Z"
    }
   },
   "outputs": [],
   "source": [
    "s1 = pd.Series(np.random.randint(1, 10, 10))\n",
    "s2 = pd.Series(np.random.randint(1, 10, 10))"
   ]
  },
  {
   "cell_type": "code",
   "execution_count": 28,
   "metadata": {
    "ExecuteTime": {
     "end_time": "2021-07-08T01:03:42.353284Z",
     "start_time": "2021-07-08T01:03:42.335262Z"
    }
   },
   "outputs": [
    {
     "data": {
      "text/plain": [
       "14.730919862656235"
      ]
     },
     "execution_count": 28,
     "metadata": {},
     "output_type": "execute_result"
    }
   ],
   "source": [
    "np.linalg.norm(s1 - s2)"
   ]
  },
  {
   "cell_type": "code",
   "execution_count": 29,
   "metadata": {
    "ExecuteTime": {
     "end_time": "2021-07-08T01:03:54.151687Z",
     "start_time": "2021-07-08T01:03:54.130681Z"
    }
   },
   "outputs": [],
   "source": [
    "np.linalg.norm?"
   ]
  },
  {
   "cell_type": "markdown",
   "metadata": {},
   "source": [
    "# ★ 32. Write a Pandas program to find the positions of the values neighboured by smaller values on both sides in a given series.  \n",
    "\n",
    "Sample Output:    \n",
    "\n",
    "```\n",
    "Original series:    \n",
    "0 1    \n",
    "1 8    \n",
    "2 7    \n",
    "3 5    \n",
    "4 6    \n",
    "5 5    \n",
    "6 3    \n",
    "7 4    \n",
    "8 7    \n",
    "9 1    \n",
    "dtype: int64    \n",
    "\n",
    "Positions of the values surrounded by smaller values on both sides:    \n",
    "[1 4 8]    \n",
    "  ```  \n",
    "    \n",
    "    "
   ]
  },
  {
   "cell_type": "code",
   "execution_count": 31,
   "metadata": {
    "ExecuteTime": {
     "end_time": "2021-07-08T01:09:08.243090Z",
     "start_time": "2021-07-08T01:09:08.230095Z"
    }
   },
   "outputs": [
    {
     "data": {
      "text/plain": [
       "0    1\n",
       "1    8\n",
       "2    7\n",
       "3    5\n",
       "4    6\n",
       "5    5\n",
       "6    3\n",
       "7    4\n",
       "8    7\n",
       "9    1\n",
       "dtype: int64"
      ]
     },
     "execution_count": 31,
     "metadata": {},
     "output_type": "execute_result"
    }
   ],
   "source": [
    "nums = pd.Series([1, 8, 7, 5, 6, 5, 3, 4, 7, 1])\n",
    "nums"
   ]
  },
  {
   "cell_type": "code",
   "execution_count": 32,
   "metadata": {
    "ExecuteTime": {
     "end_time": "2021-07-08T01:09:15.093288Z",
     "start_time": "2021-07-08T01:09:15.077272Z"
    }
   },
   "outputs": [
    {
     "data": {
      "text/plain": [
       "array([ 7, -1, -2,  1, -1, -2,  1,  3, -6], dtype=int64)"
      ]
     },
     "execution_count": 32,
     "metadata": {},
     "output_type": "execute_result"
    }
   ],
   "source": [
    "np.diff(nums)"
   ]
  },
  {
   "cell_type": "code",
   "execution_count": 33,
   "metadata": {
    "ExecuteTime": {
     "end_time": "2021-07-08T01:10:43.287521Z",
     "start_time": "2021-07-08T01:10:43.271521Z"
    }
   },
   "outputs": [
    {
     "data": {
      "text/plain": [
       "array([ 1, -1, -1,  1, -1, -1,  1,  1, -1], dtype=int64)"
      ]
     },
     "execution_count": 33,
     "metadata": {},
     "output_type": "execute_result"
    }
   ],
   "source": [
    "np.sign(np.diff(nums))"
   ]
  },
  {
   "cell_type": "code",
   "execution_count": 34,
   "metadata": {
    "ExecuteTime": {
     "end_time": "2021-07-08T01:11:25.099528Z",
     "start_time": "2021-07-08T01:11:25.085531Z"
    }
   },
   "outputs": [
    {
     "data": {
      "text/plain": [
       "array([-2,  0,  2, -2,  0,  2,  0, -2], dtype=int64)"
      ]
     },
     "execution_count": 34,
     "metadata": {},
     "output_type": "execute_result"
    }
   ],
   "source": [
    "np.diff(np.sign(np.diff(nums)))"
   ]
  },
  {
   "cell_type": "code",
   "execution_count": 35,
   "metadata": {
    "ExecuteTime": {
     "end_time": "2021-07-08T01:13:38.211416Z",
     "start_time": "2021-07-08T01:13:38.192426Z"
    }
   },
   "outputs": [],
   "source": [
    "temp = np.diff(np.sign(np.diff(nums)))"
   ]
  },
  {
   "cell_type": "code",
   "execution_count": 36,
   "metadata": {
    "ExecuteTime": {
     "end_time": "2021-07-08T01:13:38.407660Z",
     "start_time": "2021-07-08T01:13:38.401671Z"
    }
   },
   "outputs": [
    {
     "name": "stdout",
     "output_type": "stream",
     "text": [
      "[1 4 8]\n"
     ]
    }
   ],
   "source": [
    "result = np.where(temp == -2)[0] + 1\n",
    "print(result)"
   ]
  },
  {
   "cell_type": "markdown",
   "metadata": {},
   "source": [
    "# 33. Write a Pandas program to replace missing white spaces in a given string with the least frequent character.     \n",
    "\n",
    "Sample Output:    \n",
    "\n",
    "```\n",
    "Original series:    \n",
    "abc def abcdef icd    \n",
    "c 3    \n",
    "d 3    \n",
    "3    \n",
    "b 2    \n",
    "e 2    \n",
    "a 2    \n",
    "f 2    \n",
    "i 1    \n",
    "dtype: int64    \n",
    "\n",
    "abcidefiabcdefiicd    \n",
    "```\n",
    "  "
   ]
  },
  {
   "cell_type": "code",
   "execution_count": 37,
   "metadata": {
    "ExecuteTime": {
     "end_time": "2021-07-08T01:30:36.161668Z",
     "start_time": "2021-07-08T01:30:36.144665Z"
    }
   },
   "outputs": [
    {
     "data": {
      "text/plain": [
       "0     a\n",
       "1     b\n",
       "2     c\n",
       "3      \n",
       "4     d\n",
       "5     e\n",
       "6     f\n",
       "7      \n",
       "8     a\n",
       "9     b\n",
       "10    c\n",
       "11    d\n",
       "12    e\n",
       "13    f\n",
       "14     \n",
       "15    i\n",
       "16    c\n",
       "17    d\n",
       "dtype: object"
      ]
     },
     "execution_count": 37,
     "metadata": {},
     "output_type": "execute_result"
    }
   ],
   "source": [
    "s = 'abc def abcdef icd'\n",
    "s1 = pd.Series(list(s))\n",
    "s1"
   ]
  },
  {
   "cell_type": "code",
   "execution_count": 38,
   "metadata": {
    "ExecuteTime": {
     "end_time": "2021-07-08T01:30:44.760381Z",
     "start_time": "2021-07-08T01:30:44.750384Z"
    }
   },
   "outputs": [
    {
     "data": {
      "text/plain": [
       "d    3\n",
       "c    3\n",
       "     3\n",
       "a    2\n",
       "b    2\n",
       "f    2\n",
       "e    2\n",
       "i    1\n",
       "dtype: int64"
      ]
     },
     "execution_count": 38,
     "metadata": {},
     "output_type": "execute_result"
    }
   ],
   "source": [
    "s1.value_counts()"
   ]
  },
  {
   "cell_type": "code",
   "execution_count": 39,
   "metadata": {
    "ExecuteTime": {
     "end_time": "2021-07-08T01:31:11.383753Z",
     "start_time": "2021-07-08T01:31:11.371744Z"
    }
   },
   "outputs": [
    {
     "data": {
      "text/plain": [
       "'i'"
      ]
     },
     "execution_count": 39,
     "metadata": {},
     "output_type": "execute_result"
    }
   ],
   "source": [
    "s1.value_counts().idxmin()"
   ]
  },
  {
   "cell_type": "code",
   "execution_count": 40,
   "metadata": {
    "ExecuteTime": {
     "end_time": "2021-07-08T01:31:42.611491Z",
     "start_time": "2021-07-08T01:31:42.603503Z"
    },
    "scrolled": true
   },
   "outputs": [
    {
     "data": {
      "text/plain": [
       "0     a\n",
       "1     b\n",
       "2     c\n",
       "3     i\n",
       "4     d\n",
       "5     e\n",
       "6     f\n",
       "7     i\n",
       "8     a\n",
       "9     b\n",
       "10    c\n",
       "11    d\n",
       "12    e\n",
       "13    f\n",
       "14    i\n",
       "15    i\n",
       "16    c\n",
       "17    d\n",
       "dtype: object"
      ]
     },
     "execution_count": 40,
     "metadata": {},
     "output_type": "execute_result"
    }
   ],
   "source": [
    "s1[s1==' ']= s1.value_counts().idxmin()\n",
    "s1"
   ]
  },
  {
   "cell_type": "code",
   "execution_count": 42,
   "metadata": {
    "ExecuteTime": {
     "end_time": "2021-07-08T01:32:28.819738Z",
     "start_time": "2021-07-08T01:32:28.810749Z"
    }
   },
   "outputs": [
    {
     "data": {
      "text/plain": [
       "'abcidefiabcdefiicd'"
      ]
     },
     "execution_count": 42,
     "metadata": {},
     "output_type": "execute_result"
    }
   ],
   "source": [
    "''.join(s1.tolist())"
   ]
  },
  {
   "cell_type": "markdown",
   "metadata": {},
   "source": [
    "다른답안"
   ]
  },
  {
   "cell_type": "code",
   "execution_count": 43,
   "metadata": {
    "ExecuteTime": {
     "end_time": "2021-07-08T01:33:49.330784Z",
     "start_time": "2021-07-08T01:33:49.310792Z"
    }
   },
   "outputs": [
    {
     "name": "stdout",
     "output_type": "stream",
     "text": [
      "Original series:\n",
      "abc def abcdef icd\n",
      "d    3\n",
      "c    3\n",
      "     3\n",
      "a    2\n",
      "b    2\n",
      "f    2\n",
      "e    2\n",
      "i    1\n",
      "dtype: int64\n",
      "abcidefiabcdefiicd\n"
     ]
    }
   ],
   "source": [
    "import pandas as pd\n",
    "str1 = 'abc def abcdef icd'\n",
    "print(\"Original series:\")\n",
    "print(str1)\n",
    "ser = pd.Series(list(str1))\n",
    "element_freq = ser.value_counts()\n",
    "print(element_freq)\n",
    "current_freq = element_freq.dropna().index[-1]\n",
    "result = \"\".join(ser.replace(' ', current_freq))\n",
    "print(result)"
   ]
  },
  {
   "cell_type": "markdown",
   "metadata": {},
   "source": [
    "# 34. ★ Write a Pandas program to compute the autocorrelations of a given numeric series.     \n",
    "\n",
    "From Wikipedia:    \n",
    "\n",
    "Autocorrelation, also known as serial correlation, is the correlation of a signal with a delayed copy of itself as a function of delay. Informally, it is the similarity between observations as a function of the time lag between them.    \n",
    "\n",
    "```\n",
    "Sample Output:    \n",
    "Original series:    \n",
    "0 13.207262    \n",
    "1 4.098685    \n",
    "2 -1.435534    \n",
    "3 13.626760    \n",
    "... \n",
    "13 -2.346193    \n",
    "14 17.873884    \n",
    "dtype: float64\n",
    "\n",
    "Autocorrelations of the said series:    \n",
    "[-0.38, 0.1, -0.43, 0.03, 0.35, -0.2, 0.04, -0.59, 0.34, 0.11]    \n",
    "```"
   ]
  },
  {
   "cell_type": "code",
   "execution_count": 44,
   "metadata": {
    "ExecuteTime": {
     "end_time": "2021-07-08T01:36:27.067989Z",
     "start_time": "2021-07-08T01:36:27.024976Z"
    }
   },
   "outputs": [
    {
     "name": "stdout",
     "output_type": "stream",
     "text": [
      "Original series:\n",
      "0      4.078328\n",
      "1      1.237739\n",
      "2     -6.204420\n",
      "3     -9.841603\n",
      "4      0.906946\n",
      "5     14.200945\n",
      "6     -2.525146\n",
      "7      2.931368\n",
      "8      7.092350\n",
      "9      8.997225\n",
      "10    15.064716\n",
      "11    -0.547292\n",
      "12     5.826397\n",
      "13    23.271998\n",
      "14     0.277006\n",
      "dtype: float64\n",
      "\n",
      "Autocorrelations of the said series:\n",
      "[0.09, -0.18, 0.31, 0.18, 0.42, -0.34, -0.48, 0.7, -0.03, -0.5]\n"
     ]
    }
   ],
   "source": [
    "import pandas as pd\n",
    "import numpy as np\n",
    "num_series = pd.Series(np.arange(15) + np.random.normal(1, 10, 15))\n",
    "print(\"Original series:\")\n",
    "print(num_series)\n",
    "autocorrelations = [num_series.autocorr(i).round(2) for i in range(11)]\n",
    "print(\"\\nAutocorrelations of the said series:\")\n",
    "print(autocorrelations[1:])"
   ]
  },
  {
   "cell_type": "markdown",
   "metadata": {},
   "source": [
    "# ★ 35.  Write a Pandas program to create a TimeSeries to display all the Sundays of given year.     \n",
    "\n",
    "Sample Output:    \n",
    "\n",
    "```\n",
    "All Sundays of 2020:    \n",
    "0 2020-01-05    \n",
    "1 2020-01-12    \n",
    "2 2020-01-19    \n",
    "3 2020-01-26    \n",
    "4 2020-02-02    \n",
    "5 2020-02-09    \n",
    "..... \n",
    "48 2020-12-06    \n",
    "49 2020-12-13    \n",
    "50 2020-12-20    \n",
    "51 2020-12-27    \n",
    "dtype: datetime64[ns]    \n",
    "```"
   ]
  },
  {
   "cell_type": "code",
   "execution_count": 48,
   "metadata": {
    "ExecuteTime": {
     "end_time": "2021-07-08T01:40:21.387741Z",
     "start_time": "2021-07-08T01:40:21.374744Z"
    },
    "scrolled": true
   },
   "outputs": [
    {
     "data": {
      "text/plain": [
       "DatetimeIndex(['2020-01-05', '2020-01-12', '2020-01-19', '2020-01-26',\n",
       "               '2020-02-02', '2020-02-09', '2020-02-16', '2020-02-23',\n",
       "               '2020-03-01', '2020-03-08', '2020-03-15', '2020-03-22',\n",
       "               '2020-03-29', '2020-04-05', '2020-04-12', '2020-04-19',\n",
       "               '2020-04-26', '2020-05-03', '2020-05-10', '2020-05-17',\n",
       "               '2020-05-24', '2020-05-31', '2020-06-07', '2020-06-14',\n",
       "               '2020-06-21', '2020-06-28', '2020-07-05', '2020-07-12',\n",
       "               '2020-07-19', '2020-07-26', '2020-08-02', '2020-08-09',\n",
       "               '2020-08-16', '2020-08-23', '2020-08-30', '2020-09-06',\n",
       "               '2020-09-13', '2020-09-20', '2020-09-27', '2020-10-04',\n",
       "               '2020-10-11', '2020-10-18', '2020-10-25', '2020-11-01',\n",
       "               '2020-11-08', '2020-11-15', '2020-11-22', '2020-11-29',\n",
       "               '2020-12-06', '2020-12-13', '2020-12-20', '2020-12-27'],\n",
       "              dtype='datetime64[ns]', freq='7D')"
      ]
     },
     "execution_count": 48,
     "metadata": {},
     "output_type": "execute_result"
    }
   ],
   "source": [
    "pd.date_range('2020-01-05','2020-12-28',freq='7D')"
   ]
  },
  {
   "cell_type": "markdown",
   "metadata": {},
   "source": [
    "다른 답안"
   ]
  },
  {
   "cell_type": "code",
   "execution_count": 47,
   "metadata": {
    "ExecuteTime": {
     "end_time": "2021-07-08T01:40:15.967944Z",
     "start_time": "2021-07-08T01:40:15.959932Z"
    }
   },
   "outputs": [
    {
     "name": "stdout",
     "output_type": "stream",
     "text": [
      "All Sundays of 2020:\n",
      "0    2020-01-05\n",
      "1    2020-01-12\n",
      "2    2020-01-19\n",
      "3    2020-01-26\n",
      "4    2020-02-02\n",
      "5    2020-02-09\n",
      "6    2020-02-16\n",
      "7    2020-02-23\n",
      "8    2020-03-01\n",
      "9    2020-03-08\n",
      "10   2020-03-15\n",
      "11   2020-03-22\n",
      "12   2020-03-29\n",
      "13   2020-04-05\n",
      "14   2020-04-12\n",
      "15   2020-04-19\n",
      "16   2020-04-26\n",
      "17   2020-05-03\n",
      "18   2020-05-10\n",
      "19   2020-05-17\n",
      "20   2020-05-24\n",
      "21   2020-05-31\n",
      "22   2020-06-07\n",
      "23   2020-06-14\n",
      "24   2020-06-21\n",
      "25   2020-06-28\n",
      "26   2020-07-05\n",
      "27   2020-07-12\n",
      "28   2020-07-19\n",
      "29   2020-07-26\n",
      "30   2020-08-02\n",
      "31   2020-08-09\n",
      "32   2020-08-16\n",
      "33   2020-08-23\n",
      "34   2020-08-30\n",
      "35   2020-09-06\n",
      "36   2020-09-13\n",
      "37   2020-09-20\n",
      "38   2020-09-27\n",
      "39   2020-10-04\n",
      "40   2020-10-11\n",
      "41   2020-10-18\n",
      "42   2020-10-25\n",
      "43   2020-11-01\n",
      "44   2020-11-08\n",
      "45   2020-11-15\n",
      "46   2020-11-22\n",
      "47   2020-11-29\n",
      "48   2020-12-06\n",
      "49   2020-12-13\n",
      "50   2020-12-20\n",
      "51   2020-12-27\n",
      "dtype: datetime64[ns]\n"
     ]
    }
   ],
   "source": [
    "import pandas as pd\n",
    "result = pd.Series(pd.date_range('2020-01-01', periods=52, freq='W-SUN'))\n",
    "print(\"All Sundays of 2020:\")\n",
    "print(result)"
   ]
  },
  {
   "cell_type": "markdown",
   "metadata": {},
   "source": [
    "# ★ 36. Write a Pandas program to convert given series into a dataframe with its index as another column on the dataframe.     \n",
    "Sample Output:    \n",
    "\n",
    "```\n",
    "index 0    \n",
    "0 A 0    \n",
    "1 B 1    \n",
    "2 C 2    \n",
    "3 D 3    \n",
    "4 E 4    \n",
    "```"
   ]
  },
  {
   "cell_type": "code",
   "execution_count": 52,
   "metadata": {
    "ExecuteTime": {
     "end_time": "2021-07-08T01:45:34.090289Z",
     "start_time": "2021-07-08T01:45:34.082288Z"
    },
    "scrolled": true
   },
   "outputs": [
    {
     "data": {
      "text/html": [
       "<div>\n",
       "<style scoped>\n",
       "    .dataframe tbody tr th:only-of-type {\n",
       "        vertical-align: middle;\n",
       "    }\n",
       "\n",
       "    .dataframe tbody tr th {\n",
       "        vertical-align: top;\n",
       "    }\n",
       "\n",
       "    .dataframe thead th {\n",
       "        text-align: right;\n",
       "    }\n",
       "</style>\n",
       "<table border=\"1\" class=\"dataframe\">\n",
       "  <thead>\n",
       "    <tr style=\"text-align: right;\">\n",
       "      <th></th>\n",
       "      <th>index</th>\n",
       "      <th>0</th>\n",
       "    </tr>\n",
       "  </thead>\n",
       "  <tbody>\n",
       "    <tr>\n",
       "      <th>0</th>\n",
       "      <td>A</td>\n",
       "      <td>0</td>\n",
       "    </tr>\n",
       "    <tr>\n",
       "      <th>1</th>\n",
       "      <td>B</td>\n",
       "      <td>1</td>\n",
       "    </tr>\n",
       "    <tr>\n",
       "      <th>2</th>\n",
       "      <td>C</td>\n",
       "      <td>2</td>\n",
       "    </tr>\n",
       "    <tr>\n",
       "      <th>3</th>\n",
       "      <td>D</td>\n",
       "      <td>3</td>\n",
       "    </tr>\n",
       "    <tr>\n",
       "      <th>4</th>\n",
       "      <td>E</td>\n",
       "      <td>4</td>\n",
       "    </tr>\n",
       "  </tbody>\n",
       "</table>\n",
       "</div>"
      ],
      "text/plain": [
       "  index  0\n",
       "0     A  0\n",
       "1     B  1\n",
       "2     C  2\n",
       "3     D  3\n",
       "4     E  4"
      ]
     },
     "execution_count": 52,
     "metadata": {},
     "output_type": "execute_result"
    }
   ],
   "source": [
    "pd.DataFrame({'index':list('ABCDE'), '0':list('01234')})"
   ]
  },
  {
   "cell_type": "markdown",
   "metadata": {},
   "source": [
    "다른 답안"
   ]
  },
  {
   "cell_type": "code",
   "execution_count": 50,
   "metadata": {
    "ExecuteTime": {
     "end_time": "2021-07-08T01:44:02.439878Z",
     "start_time": "2021-07-08T01:44:02.419886Z"
    }
   },
   "outputs": [
    {
     "name": "stdout",
     "output_type": "stream",
     "text": [
      "  index  0\n",
      "0     A  0\n",
      "1     B  1\n",
      "2     C  2\n",
      "3     D  3\n",
      "4     E  4\n"
     ]
    }
   ],
   "source": [
    "import numpy as np\n",
    "import pandas as pd\n",
    "\n",
    "char_list = list('ABCDEFGHIJKLMNOP')\n",
    "num_arra = np.arange(8)\n",
    "num_dict = dict(zip(char_list, num_arra))\n",
    "num_ser = pd.Series(num_dict)\n",
    "df = num_ser.to_frame().reset_index()\n",
    "print(df.head())"
   ]
  },
  {
   "cell_type": "code",
   "execution_count": 51,
   "metadata": {
    "ExecuteTime": {
     "end_time": "2021-07-08T01:44:39.038376Z",
     "start_time": "2021-07-08T01:44:39.025368Z"
    }
   },
   "outputs": [
    {
     "data": {
      "text/plain": [
       "{'A': 0, 'B': 1, 'C': 2, 'D': 3, 'E': 4, 'F': 5, 'G': 6, 'H': 7}"
      ]
     },
     "execution_count": 51,
     "metadata": {},
     "output_type": "execute_result"
    }
   ],
   "source": [
    "num_dict"
   ]
  },
  {
   "cell_type": "markdown",
   "metadata": {},
   "source": [
    "# 37. Write a Pandas program to stack two given series vertically and horizontally.     \n",
    "\n",
    "Sample Output:    \n",
    "\n",
    "```\n",
    "Original Series:    \n",
    "0 0    \n",
    "1 1    \n",
    "2 2    \n",
    "3 3    \n",
    "4 4    \n",
    "5 5    \n",
    "6 6    \n",
    "7 7    \n",
    "8 8    \n",
    "9 9    \n",
    "dtype: int64    \n",
    "\n",
    "0 p    \n",
    "1 q    \n",
    "2 r    \n",
    "3 s    \n",
    "4 t    \n",
    "5 u    \n",
    "6 v    \n",
    "7 w    \n",
    "8 x    \n",
    "9 y    \n",
    "dtype: object    \n",
    "\n",
    "Stack two given series vertically and horizontally:    \n",
    "0 1    \n",
    "0 0 p    \n",
    "1 1 q    \n",
    "2 2 r    \n",
    "3 3 s    \n",
    "4 4 t    \n",
    "5 5 u    \n",
    "6 6 v    \n",
    "7 7 w    \n",
    "8 8 x    \n",
    "9 9 y    \n",
    "```"
   ]
  },
  {
   "cell_type": "code",
   "execution_count": 53,
   "metadata": {
    "ExecuteTime": {
     "end_time": "2021-07-08T01:47:17.881392Z",
     "start_time": "2021-07-08T01:47:17.865388Z"
    },
    "scrolled": true
   },
   "outputs": [
    {
     "data": {
      "text/plain": [
       "(0    0\n",
       " 1    1\n",
       " 2    2\n",
       " 3    3\n",
       " 4    4\n",
       " 5    5\n",
       " 6    6\n",
       " 7    7\n",
       " 8    8\n",
       " 9    9\n",
       " dtype: int32,\n",
       " 0    p\n",
       " 1    q\n",
       " 2    r\n",
       " 3    s\n",
       " 4    t\n",
       " 5    u\n",
       " 6    v\n",
       " 7    w\n",
       " 8    x\n",
       " 9    y\n",
       " dtype: object)"
      ]
     },
     "execution_count": 53,
     "metadata": {},
     "output_type": "execute_result"
    }
   ],
   "source": [
    "s1 = pd.Series(np.arange(10))\n",
    "s2 = pd.Series(list('pqrstuvwxy'))\n",
    "s1,s2"
   ]
  },
  {
   "cell_type": "code",
   "execution_count": 56,
   "metadata": {
    "ExecuteTime": {
     "end_time": "2021-07-08T01:49:47.299204Z",
     "start_time": "2021-07-08T01:49:47.290215Z"
    }
   },
   "outputs": [
    {
     "data": {
      "text/plain": [
       "0    0\n",
       "1    1\n",
       "2    2\n",
       "3    3\n",
       "4    4\n",
       "5    5\n",
       "6    6\n",
       "7    7\n",
       "8    8\n",
       "9    9\n",
       "0    p\n",
       "1    q\n",
       "2    r\n",
       "3    s\n",
       "4    t\n",
       "5    u\n",
       "6    v\n",
       "7    w\n",
       "8    x\n",
       "9    y\n",
       "dtype: object"
      ]
     },
     "execution_count": 56,
     "metadata": {},
     "output_type": "execute_result"
    }
   ],
   "source": [
    "# vertically\n",
    "pd.concat([s1,s2])"
   ]
  },
  {
   "cell_type": "code",
   "execution_count": 57,
   "metadata": {
    "ExecuteTime": {
     "end_time": "2021-07-08T01:49:58.371790Z",
     "start_time": "2021-07-08T01:49:58.352788Z"
    }
   },
   "outputs": [
    {
     "data": {
      "text/html": [
       "<div>\n",
       "<style scoped>\n",
       "    .dataframe tbody tr th:only-of-type {\n",
       "        vertical-align: middle;\n",
       "    }\n",
       "\n",
       "    .dataframe tbody tr th {\n",
       "        vertical-align: top;\n",
       "    }\n",
       "\n",
       "    .dataframe thead th {\n",
       "        text-align: right;\n",
       "    }\n",
       "</style>\n",
       "<table border=\"1\" class=\"dataframe\">\n",
       "  <thead>\n",
       "    <tr style=\"text-align: right;\">\n",
       "      <th></th>\n",
       "      <th>0</th>\n",
       "      <th>1</th>\n",
       "    </tr>\n",
       "  </thead>\n",
       "  <tbody>\n",
       "    <tr>\n",
       "      <th>0</th>\n",
       "      <td>0</td>\n",
       "      <td>p</td>\n",
       "    </tr>\n",
       "    <tr>\n",
       "      <th>1</th>\n",
       "      <td>1</td>\n",
       "      <td>q</td>\n",
       "    </tr>\n",
       "    <tr>\n",
       "      <th>2</th>\n",
       "      <td>2</td>\n",
       "      <td>r</td>\n",
       "    </tr>\n",
       "    <tr>\n",
       "      <th>3</th>\n",
       "      <td>3</td>\n",
       "      <td>s</td>\n",
       "    </tr>\n",
       "    <tr>\n",
       "      <th>4</th>\n",
       "      <td>4</td>\n",
       "      <td>t</td>\n",
       "    </tr>\n",
       "    <tr>\n",
       "      <th>5</th>\n",
       "      <td>5</td>\n",
       "      <td>u</td>\n",
       "    </tr>\n",
       "    <tr>\n",
       "      <th>6</th>\n",
       "      <td>6</td>\n",
       "      <td>v</td>\n",
       "    </tr>\n",
       "    <tr>\n",
       "      <th>7</th>\n",
       "      <td>7</td>\n",
       "      <td>w</td>\n",
       "    </tr>\n",
       "    <tr>\n",
       "      <th>8</th>\n",
       "      <td>8</td>\n",
       "      <td>x</td>\n",
       "    </tr>\n",
       "    <tr>\n",
       "      <th>9</th>\n",
       "      <td>9</td>\n",
       "      <td>y</td>\n",
       "    </tr>\n",
       "  </tbody>\n",
       "</table>\n",
       "</div>"
      ],
      "text/plain": [
       "   0  1\n",
       "0  0  p\n",
       "1  1  q\n",
       "2  2  r\n",
       "3  3  s\n",
       "4  4  t\n",
       "5  5  u\n",
       "6  6  v\n",
       "7  7  w\n",
       "8  8  x\n",
       "9  9  y"
      ]
     },
     "execution_count": 57,
     "metadata": {},
     "output_type": "execute_result"
    }
   ],
   "source": [
    "# horizontally\n",
    "pd.concat([s1,s2],axis=1)"
   ]
  },
  {
   "cell_type": "markdown",
   "metadata": {},
   "source": [
    "# 38. Write a Pandas program to check the equality of two given series.     \n",
    "Sample Output:    \n",
    "Original Series:    \n",
    "0 1    \n",
    "1 8    \n",
    "2 7    \n",
    "3 5    \n",
    "4 6    \n",
    "5 5    \n",
    "6 3    \n",
    "7 4    \n",
    "8 7    \n",
    "9 1    \n",
    "dtype: int64    \n",
    "0 1    \n",
    "1 8    \n",
    "2 7    \n",
    "3 5    \n",
    "4 6    \n",
    "5 5    \n",
    "6 3    \n",
    "7 4    \n",
    "8 7    \n",
    "9 1    \n",
    "dtype: int64    \n",
    "Check 2 series are equal or not?    \n",
    "0 True    \n",
    "1 True    \n",
    "2 True    \n",
    "3 True    \n",
    "4 True    \n",
    "5 True    \n",
    "6 True    \n",
    "7 True    \n",
    "8 True    \n",
    "9 True    \n",
    "dtype: bool    "
   ]
  },
  {
   "cell_type": "code",
   "execution_count": 58,
   "metadata": {
    "ExecuteTime": {
     "end_time": "2021-07-08T01:51:30.106686Z",
     "start_time": "2021-07-08T01:51:30.085696Z"
    }
   },
   "outputs": [
    {
     "name": "stdout",
     "output_type": "stream",
     "text": [
      "Original Series:\n",
      "0    1\n",
      "1    8\n",
      "2    7\n",
      "3    5\n",
      "4    6\n",
      "5    5\n",
      "6    3\n",
      "7    4\n",
      "8    7\n",
      "9    1\n",
      "dtype: int64\n",
      "0    1\n",
      "1    8\n",
      "2    7\n",
      "3    5\n",
      "4    6\n",
      "5    5\n",
      "6    3\n",
      "7    4\n",
      "8    7\n",
      "9    1\n",
      "dtype: int64\n",
      "Check 2 series are equal or not?\n",
      "0    True\n",
      "1    True\n",
      "2    True\n",
      "3    True\n",
      "4    True\n",
      "5    True\n",
      "6    True\n",
      "7    True\n",
      "8    True\n",
      "9    True\n",
      "dtype: bool\n"
     ]
    }
   ],
   "source": [
    "nums1 = pd.Series([1, 8, 7, 5, 6, 5, 3, 4, 7, 1])\n",
    "nums2 = pd.Series([1, 8, 7, 5, 6, 5, 3, 4, 7, 1])\n",
    "print(\"Original Series:\")\n",
    "print(nums1)\n",
    "print(nums2)\n",
    "print(\"Check 2 series are equal or not?\")\n",
    "print(nums1 == nums2)"
   ]
  },
  {
   "cell_type": "markdown",
   "metadata": {},
   "source": [
    "# 39. Write a Pandas program to find the index of the first occurrence of the smallest and largest value of a given series.     \n",
    "Sample Output:    \n",
    "\n",
    "```\n",
    "Original Series:    \n",
    "0 1    \n",
    "1 3    \n",
    "2 7    \n",
    "3 12    \n",
    "4 88    \n",
    "5 23    \n",
    "6 3    \n",
    "7 1    \n",
    "8 9    \n",
    "9 0    \n",
    "dtype: int64    \n",
    "\n",
    "Index of the first occurrence of the smallest and largest value of the said series:    \n",
    "9    \n",
    "4    \n",
    "```"
   ]
  },
  {
   "cell_type": "code",
   "execution_count": 59,
   "metadata": {
    "ExecuteTime": {
     "end_time": "2021-07-08T01:52:39.226917Z",
     "start_time": "2021-07-08T01:52:39.218928Z"
    }
   },
   "outputs": [
    {
     "data": {
      "text/plain": [
       "array([44, 39, 46, 52, 82, 43, 15, 78, 16, 12])"
      ]
     },
     "execution_count": 59,
     "metadata": {},
     "output_type": "execute_result"
    }
   ],
   "source": [
    "s1 = np.random.randint(0, 100, 10)\n",
    "s1"
   ]
  },
  {
   "cell_type": "code",
   "execution_count": 61,
   "metadata": {
    "ExecuteTime": {
     "end_time": "2021-07-08T01:53:09.006703Z",
     "start_time": "2021-07-08T01:53:09.001719Z"
    }
   },
   "outputs": [
    {
     "data": {
      "text/plain": [
       "(9, 4)"
      ]
     },
     "execution_count": 61,
     "metadata": {},
     "output_type": "execute_result"
    }
   ],
   "source": [
    "s1.argmin(), s1.argmax()"
   ]
  },
  {
   "cell_type": "markdown",
   "metadata": {},
   "source": [
    "다른 답안"
   ]
  },
  {
   "cell_type": "code",
   "execution_count": 62,
   "metadata": {
    "ExecuteTime": {
     "end_time": "2021-07-08T01:53:39.982086Z",
     "start_time": "2021-07-08T01:53:39.973092Z"
    }
   },
   "outputs": [
    {
     "name": "stdout",
     "output_type": "stream",
     "text": [
      "Original Series:\n",
      "0     1\n",
      "1     3\n",
      "2     7\n",
      "3    12\n",
      "4    88\n",
      "5    23\n",
      "6     3\n",
      "7     1\n",
      "8     9\n",
      "9     0\n",
      "dtype: int64\n",
      "Index of the first occurrence of the smallest and largest value of the said series:\n",
      "9\n",
      "4\n"
     ]
    }
   ],
   "source": [
    "import pandas as pd\n",
    "nums = pd.Series([1, 3, 7, 12, 88, 23, 3, 1, 9, 0])\n",
    "print(\"Original Series:\")\n",
    "print(nums)\n",
    "print(\"Index of the first occurrence of the smallest and largest value of the said series:\")\n",
    "print(nums.idxmin())\n",
    "print(nums.idxmax())"
   ]
  },
  {
   "cell_type": "markdown",
   "metadata": {},
   "source": [
    "# ★ 40. Write a Pandas program to check inequality over the index axis of a given dataframe and a given series.     \n",
    "\n",
    "Sample Output:    \n",
    "\n",
    "```\n",
    "Original DataFrame:    \n",
    "W X Y Z    \n",
    "0 68.0 78.0 84 86    \n",
    "1 75.0 75.0 94 97    \n",
    "2 86.0 NaN 89 96    \n",
    "3 80.0 80.0 86 72    \n",
    "4 NaN 86.0 86 83    \n",
    "\n",
    "Original Series:    \n",
    "0 68.0    \n",
    "1 75.0    \n",
    "2 86.0    \n",
    "3 80.0    \n",
    "4 NaN    \n",
    "dtype: float64    \n",
    "\n",
    "Check for inequality of the said series & dataframe:    \n",
    "W X Y Z    \n",
    "0 False True True True    \n",
    "1 False False True True    \n",
    "2 False True True True    \n",
    "3 False False True True    \n",
    "4 True True True True    \n",
    "```"
   ]
  },
  {
   "cell_type": "code",
   "execution_count": 63,
   "metadata": {
    "ExecuteTime": {
     "end_time": "2021-07-08T01:54:52.296850Z",
     "start_time": "2021-07-08T01:54:52.277851Z"
    }
   },
   "outputs": [],
   "source": [
    "df_data = pd.DataFrame({'W':[68,75,86,80,None],'X':[78,75,None,80,86], 'Y':[84,94,89,86,86],'Z':[86,97,96,72,83]});\n",
    "sr_data = pd.Series([68, 75, 86, 80, None]) "
   ]
  },
  {
   "cell_type": "code",
   "execution_count": 72,
   "metadata": {
    "ExecuteTime": {
     "end_time": "2021-07-08T01:57:24.795357Z",
     "start_time": "2021-07-08T01:57:24.781360Z"
    }
   },
   "outputs": [
    {
     "data": {
      "text/html": [
       "<div>\n",
       "<style scoped>\n",
       "    .dataframe tbody tr th:only-of-type {\n",
       "        vertical-align: middle;\n",
       "    }\n",
       "\n",
       "    .dataframe tbody tr th {\n",
       "        vertical-align: top;\n",
       "    }\n",
       "\n",
       "    .dataframe thead th {\n",
       "        text-align: right;\n",
       "    }\n",
       "</style>\n",
       "<table border=\"1\" class=\"dataframe\">\n",
       "  <thead>\n",
       "    <tr style=\"text-align: right;\">\n",
       "      <th></th>\n",
       "      <th>W</th>\n",
       "      <th>X</th>\n",
       "      <th>Y</th>\n",
       "      <th>Z</th>\n",
       "    </tr>\n",
       "  </thead>\n",
       "  <tbody>\n",
       "    <tr>\n",
       "      <th>0</th>\n",
       "      <td>False</td>\n",
       "      <td>True</td>\n",
       "      <td>True</td>\n",
       "      <td>True</td>\n",
       "    </tr>\n",
       "    <tr>\n",
       "      <th>1</th>\n",
       "      <td>False</td>\n",
       "      <td>False</td>\n",
       "      <td>True</td>\n",
       "      <td>True</td>\n",
       "    </tr>\n",
       "    <tr>\n",
       "      <th>2</th>\n",
       "      <td>False</td>\n",
       "      <td>True</td>\n",
       "      <td>True</td>\n",
       "      <td>True</td>\n",
       "    </tr>\n",
       "    <tr>\n",
       "      <th>3</th>\n",
       "      <td>False</td>\n",
       "      <td>False</td>\n",
       "      <td>True</td>\n",
       "      <td>True</td>\n",
       "    </tr>\n",
       "    <tr>\n",
       "      <th>4</th>\n",
       "      <td>True</td>\n",
       "      <td>True</td>\n",
       "      <td>True</td>\n",
       "      <td>True</td>\n",
       "    </tr>\n",
       "  </tbody>\n",
       "</table>\n",
       "</div>"
      ],
      "text/plain": [
       "       W      X     Y     Z\n",
       "0  False   True  True  True\n",
       "1  False  False  True  True\n",
       "2  False   True  True  True\n",
       "3  False  False  True  True\n",
       "4   True   True  True  True"
      ]
     },
     "execution_count": 72,
     "metadata": {},
     "output_type": "execute_result"
    }
   ],
   "source": [
    "df_data.ne(sr_data, axis=0)"
   ]
  },
  {
   "cell_type": "code",
   "execution_count": 73,
   "metadata": {
    "ExecuteTime": {
     "end_time": "2021-07-08T01:57:44.712490Z",
     "start_time": "2021-07-08T01:57:44.708493Z"
    },
    "scrolled": false
   },
   "outputs": [
    {
     "name": "stdout",
     "output_type": "stream",
     "text": [
      "Help on method ne in module pandas.core.ops:\n",
      "\n",
      "ne(other, axis='columns', level=None) method of pandas.core.frame.DataFrame instance\n",
      "    Get Not equal to of dataframe and other, element-wise (binary operator `ne`).\n",
      "    \n",
      "    Among flexible wrappers (`eq`, `ne`, `le`, `lt`, `ge`, `gt`) to comparison\n",
      "    operators.\n",
      "    \n",
      "    Equivalent to `==`, `=!`, `<=`, `<`, `>=`, `>` with support to choose axis\n",
      "    (rows or columns) and level for comparison.\n",
      "    \n",
      "    Parameters\n",
      "    ----------\n",
      "    other : scalar, sequence, Series, or DataFrame\n",
      "        Any single or multiple element data structure, or list-like object.\n",
      "    axis : {0 or 'index', 1 or 'columns'}, default 'columns'\n",
      "        Whether to compare by the index (0 or 'index') or columns\n",
      "        (1 or 'columns').\n",
      "    level : int or label\n",
      "        Broadcast across a level, matching Index values on the passed\n",
      "        MultiIndex level.\n",
      "    \n",
      "    Returns\n",
      "    -------\n",
      "    DataFrame of bool\n",
      "        Result of the comparison.\n",
      "    \n",
      "    See Also\n",
      "    --------\n",
      "    DataFrame.eq : Compare DataFrames for equality elementwise.\n",
      "    DataFrame.ne : Compare DataFrames for inequality elementwise.\n",
      "    DataFrame.le : Compare DataFrames for less than inequality\n",
      "        or equality elementwise.\n",
      "    DataFrame.lt : Compare DataFrames for strictly less than\n",
      "        inequality elementwise.\n",
      "    DataFrame.ge : Compare DataFrames for greater than inequality\n",
      "        or equality elementwise.\n",
      "    DataFrame.gt : Compare DataFrames for strictly greater than\n",
      "        inequality elementwise.\n",
      "    \n",
      "    Notes\n",
      "    -----\n",
      "    Mismatched indices will be unioned together.\n",
      "    `NaN` values are considered different (i.e. `NaN` != `NaN`).\n",
      "    \n",
      "    Examples\n",
      "    --------\n",
      "    >>> df = pd.DataFrame({'cost': [250, 150, 100],\n",
      "    ...                    'revenue': [100, 250, 300]},\n",
      "    ...                   index=['A', 'B', 'C'])\n",
      "    >>> df\n",
      "       cost  revenue\n",
      "    A   250      100\n",
      "    B   150      250\n",
      "    C   100      300\n",
      "    \n",
      "    Comparison with a scalar, using either the operator or method:\n",
      "    \n",
      "    >>> df == 100\n",
      "        cost  revenue\n",
      "    A  False     True\n",
      "    B  False    False\n",
      "    C   True    False\n",
      "    \n",
      "    >>> df.eq(100)\n",
      "        cost  revenue\n",
      "    A  False     True\n",
      "    B  False    False\n",
      "    C   True    False\n",
      "    \n",
      "    When `other` is a :class:`Series`, the columns of a DataFrame are aligned\n",
      "    with the index of `other` and broadcast:\n",
      "    \n",
      "    >>> df != pd.Series([100, 250], index=[\"cost\", \"revenue\"])\n",
      "        cost  revenue\n",
      "    A   True     True\n",
      "    B   True    False\n",
      "    C  False     True\n",
      "    \n",
      "    Use the method to control the broadcast axis:\n",
      "    \n",
      "    >>> df.ne(pd.Series([100, 300], index=[\"A\", \"D\"]), axis='index')\n",
      "       cost  revenue\n",
      "    A  True    False\n",
      "    B  True     True\n",
      "    C  True     True\n",
      "    D  True     True\n",
      "    \n",
      "    When comparing to an arbitrary sequence, the number of columns must\n",
      "    match the number elements in `other`:\n",
      "    \n",
      "    >>> df == [250, 100]\n",
      "        cost  revenue\n",
      "    A   True     True\n",
      "    B  False    False\n",
      "    C  False    False\n",
      "    \n",
      "    Use the method to control the axis:\n",
      "    \n",
      "    >>> df.eq([250, 250, 100], axis='index')\n",
      "        cost  revenue\n",
      "    A   True    False\n",
      "    B  False     True\n",
      "    C   True    False\n",
      "    \n",
      "    Compare to a DataFrame of different shape.\n",
      "    \n",
      "    >>> other = pd.DataFrame({'revenue': [300, 250, 100, 150]},\n",
      "    ...                      index=['A', 'B', 'C', 'D'])\n",
      "    >>> other\n",
      "       revenue\n",
      "    A      300\n",
      "    B      250\n",
      "    C      100\n",
      "    D      150\n",
      "    \n",
      "    >>> df.gt(other)\n",
      "        cost  revenue\n",
      "    A  False    False\n",
      "    B  False    False\n",
      "    C  False     True\n",
      "    D  False    False\n",
      "    \n",
      "    Compare to a MultiIndex by level.\n",
      "    \n",
      "    >>> df_multindex = pd.DataFrame({'cost': [250, 150, 100, 150, 300, 220],\n",
      "    ...                              'revenue': [100, 250, 300, 200, 175, 225]},\n",
      "    ...                             index=[['Q1', 'Q1', 'Q1', 'Q2', 'Q2', 'Q2'],\n",
      "    ...                                    ['A', 'B', 'C', 'A', 'B', 'C']])\n",
      "    >>> df_multindex\n",
      "          cost  revenue\n",
      "    Q1 A   250      100\n",
      "       B   150      250\n",
      "       C   100      300\n",
      "    Q2 A   150      200\n",
      "       B   300      175\n",
      "       C   220      225\n",
      "    \n",
      "    >>> df.le(df_multindex, level=1)\n",
      "           cost  revenue\n",
      "    Q1 A   True     True\n",
      "       B   True     True\n",
      "       C   True     True\n",
      "    Q2 A  False     True\n",
      "       B   True    False\n",
      "       C   True    False\n",
      "\n"
     ]
    }
   ],
   "source": [
    "help(df_data.ne)"
   ]
  },
  {
   "cell_type": "code",
   "execution_count": null,
   "metadata": {},
   "outputs": [],
   "source": []
  }
 ],
 "metadata": {
  "kernelspec": {
   "display_name": "Python 3",
   "language": "python",
   "name": "python3"
  },
  "language_info": {
   "codemirror_mode": {
    "name": "ipython",
    "version": 3
   },
   "file_extension": ".py",
   "mimetype": "text/x-python",
   "name": "python",
   "nbconvert_exporter": "python",
   "pygments_lexer": "ipython3",
   "version": "3.8.5"
  },
  "toc": {
   "base_numbering": 1,
   "nav_menu": {},
   "number_sections": false,
   "sideBar": true,
   "skip_h1_title": false,
   "title_cell": "Table of Contents",
   "title_sidebar": "Contents",
   "toc_cell": false,
   "toc_position": {},
   "toc_section_display": true,
   "toc_window_display": false
  }
 },
 "nbformat": 4,
 "nbformat_minor": 4
}
