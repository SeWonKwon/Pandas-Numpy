{
 "cells": [
  {
   "cell_type": "markdown",
   "metadata": {},
   "source": [
    "<a href='https://github.com/SeWonKwon' ><div> <img src ='https://slid-capture.s3.ap-northeast-2.amazonaws.com/public/image_upload/6556674324ed41a289a354258718280d/964e5a8b-75ad-41fc-ae75-0ca66d06fbc7.png' align='left' /> </div></a>\n"
   ]
  },
  {
   "cell_type": "markdown",
   "metadata": {},
   "source": [
    "출처 : https://www.w3resource.com/python-exercises/pandas/index-data-series.php"
   ]
  },
  {
   "cell_type": "code",
   "execution_count": 1,
   "metadata": {
    "ExecuteTime": {
     "end_time": "2021-07-06T03:54:02.333846Z",
     "start_time": "2021-07-06T03:54:00.183722Z"
    }
   },
   "outputs": [
    {
     "data": {
      "text/plain": [
       "'1.1.3'"
      ]
     },
     "execution_count": 1,
     "metadata": {},
     "output_type": "execute_result"
    }
   ],
   "source": [
    "import pandas as pd\n",
    "import numpy as np\n",
    "\n",
    "pd.__version__"
   ]
  },
  {
   "cell_type": "markdown",
   "metadata": {},
   "source": [
    "# 1. Write a Pandas program to create and display a one-dimensional array-like     \n",
    "    object containing an array of data using Pandas module. "
   ]
  },
  {
   "cell_type": "code",
   "execution_count": 2,
   "metadata": {
    "ExecuteTime": {
     "end_time": "2021-07-06T03:54:02.348861Z",
     "start_time": "2021-07-06T03:54:02.334847Z"
    }
   },
   "outputs": [
    {
     "data": {
      "text/plain": [
       "0    1\n",
       "1    3\n",
       "2    4\n",
       "3    6\n",
       "4    7\n",
       "5    9\n",
       "dtype: int64"
      ]
     },
     "execution_count": 2,
     "metadata": {},
     "output_type": "execute_result"
    }
   ],
   "source": [
    "s  = pd.Series([1, 3, 4, 6, 7, 9])\n",
    "s"
   ]
  },
  {
   "cell_type": "markdown",
   "metadata": {},
   "source": [
    "# 2. Write a Pandas program to convert a Panda module Series to Python list and it's type."
   ]
  },
  {
   "cell_type": "code",
   "execution_count": 3,
   "metadata": {
    "ExecuteTime": {
     "end_time": "2021-07-06T03:54:02.363875Z",
     "start_time": "2021-07-06T03:54:02.349862Z"
    }
   },
   "outputs": [
    {
     "name": "stdout",
     "output_type": "stream",
     "text": [
      "<class 'pandas.core.series.Series'>\n",
      "[1, 3, 4, 6, 7, 9]\n",
      "<class 'list'>\n"
     ]
    },
    {
     "data": {
      "text/plain": [
       "[1, 3, 4, 6, 7, 9]"
      ]
     },
     "execution_count": 3,
     "metadata": {},
     "output_type": "execute_result"
    }
   ],
   "source": [
    "print(type(s))\n",
    "l = s.tolist()\n",
    "print(l)\n",
    "print(type(l))\n",
    "l"
   ]
  },
  {
   "cell_type": "markdown",
   "metadata": {},
   "source": [
    "# 3. Write a Pandas program to add, subtract, multiple and divide two Pandas Series.     \n",
    "\n",
    "Sample Series: `[2, 4, 6, 8, 10]`, `[1, 3, 5, 7, 9]`    \n",
    "   "
   ]
  },
  {
   "cell_type": "code",
   "execution_count": 4,
   "metadata": {
    "ExecuteTime": {
     "end_time": "2021-07-06T03:54:02.378889Z",
     "start_time": "2021-07-06T03:54:02.364876Z"
    },
    "scrolled": true
   },
   "outputs": [
    {
     "data": {
      "text/plain": [
       "(0     2\n",
       " 1     4\n",
       " 2     6\n",
       " 3     8\n",
       " 4    10\n",
       " dtype: int64,\n",
       " 0    1\n",
       " 1    3\n",
       " 2    5\n",
       " 3    7\n",
       " 4    9\n",
       " dtype: int64)"
      ]
     },
     "execution_count": 4,
     "metadata": {},
     "output_type": "execute_result"
    }
   ],
   "source": [
    "s1 = pd.Series([2, 4, 6, 8, 10])\n",
    "s2 = pd.Series([1, 3, 5, 7, 9])\n",
    "s1, s2"
   ]
  },
  {
   "cell_type": "code",
   "execution_count": 5,
   "metadata": {
    "ExecuteTime": {
     "end_time": "2021-07-06T03:54:02.393903Z",
     "start_time": "2021-07-06T03:54:02.379888Z"
    }
   },
   "outputs": [
    {
     "data": {
      "text/plain": [
       "0     3\n",
       "1     7\n",
       "2    11\n",
       "3    15\n",
       "4    19\n",
       "dtype: int64"
      ]
     },
     "execution_count": 5,
     "metadata": {},
     "output_type": "execute_result"
    }
   ],
   "source": [
    "s1.add(s2)"
   ]
  },
  {
   "cell_type": "code",
   "execution_count": 6,
   "metadata": {
    "ExecuteTime": {
     "end_time": "2021-07-06T03:54:02.408916Z",
     "start_time": "2021-07-06T03:54:02.394903Z"
    }
   },
   "outputs": [
    {
     "data": {
      "text/plain": [
       "0    1\n",
       "1    1\n",
       "2    1\n",
       "3    1\n",
       "4    1\n",
       "dtype: int64"
      ]
     },
     "execution_count": 6,
     "metadata": {},
     "output_type": "execute_result"
    }
   ],
   "source": [
    "s1.sub(s2)"
   ]
  },
  {
   "cell_type": "code",
   "execution_count": 7,
   "metadata": {
    "ExecuteTime": {
     "end_time": "2021-07-06T03:54:02.423928Z",
     "start_time": "2021-07-06T03:54:02.409915Z"
    }
   },
   "outputs": [
    {
     "data": {
      "text/plain": [
       "0     2\n",
       "1    12\n",
       "2    30\n",
       "3    56\n",
       "4    90\n",
       "dtype: int64"
      ]
     },
     "execution_count": 7,
     "metadata": {},
     "output_type": "execute_result"
    }
   ],
   "source": [
    "s1.mul(s2)"
   ]
  },
  {
   "cell_type": "code",
   "execution_count": 8,
   "metadata": {
    "ExecuteTime": {
     "end_time": "2021-07-06T03:54:02.438943Z",
     "start_time": "2021-07-06T03:54:02.424931Z"
    },
    "scrolled": true
   },
   "outputs": [
    {
     "data": {
      "text/plain": [
       "0    2.000000\n",
       "1    1.333333\n",
       "2    1.200000\n",
       "3    1.142857\n",
       "4    1.111111\n",
       "dtype: float64"
      ]
     },
     "execution_count": 8,
     "metadata": {},
     "output_type": "execute_result"
    }
   ],
   "source": [
    "s1.divide(s2)"
   ]
  },
  {
   "cell_type": "code",
   "execution_count": 9,
   "metadata": {
    "ExecuteTime": {
     "end_time": "2021-07-06T03:54:02.453956Z",
     "start_time": "2021-07-06T03:54:02.439944Z"
    }
   },
   "outputs": [
    {
     "data": {
      "text/plain": [
       "0    0.500000\n",
       "1    0.750000\n",
       "2    0.833333\n",
       "3    0.875000\n",
       "4    0.900000\n",
       "dtype: float64"
      ]
     },
     "execution_count": 9,
     "metadata": {},
     "output_type": "execute_result"
    }
   ],
   "source": [
    "s2.divide(s1)"
   ]
  },
  {
   "cell_type": "markdown",
   "metadata": {},
   "source": [
    "# 4. Write a Pandas program to compare the elements of the two Pandas Series.     \n",
    "\n",
    "Sample Series: `[2, 4, 6, 8, 10]`, `[1, 3, 5, 7, 10]`    "
   ]
  },
  {
   "cell_type": "code",
   "execution_count": 10,
   "metadata": {
    "ExecuteTime": {
     "end_time": "2021-07-06T03:54:02.483985Z",
     "start_time": "2021-07-06T03:54:02.454959Z"
    }
   },
   "outputs": [
    {
     "data": {
      "text/plain": [
       "0    True\n",
       "1    True\n",
       "2    True\n",
       "3    True\n",
       "4    True\n",
       "dtype: bool"
      ]
     },
     "execution_count": 10,
     "metadata": {},
     "output_type": "execute_result"
    }
   ],
   "source": [
    "s1 = pd.Series([2, 4, 6, 8, 10])\n",
    "s2 = pd.Series([1, 3, 5, 7, 9])\n",
    "\n",
    "s1 > s2"
   ]
  },
  {
   "cell_type": "code",
   "execution_count": 11,
   "metadata": {
    "ExecuteTime": {
     "end_time": "2021-07-06T03:54:02.498996Z",
     "start_time": "2021-07-06T03:54:02.484988Z"
    }
   },
   "outputs": [
    {
     "data": {
      "text/plain": [
       "0    False\n",
       "1    False\n",
       "2    False\n",
       "3    False\n",
       "4    False\n",
       "dtype: bool"
      ]
     },
     "execution_count": 11,
     "metadata": {},
     "output_type": "execute_result"
    }
   ],
   "source": [
    "s1 < s2"
   ]
  },
  {
   "cell_type": "code",
   "execution_count": 12,
   "metadata": {
    "ExecuteTime": {
     "end_time": "2021-07-06T03:54:02.514019Z",
     "start_time": "2021-07-06T03:54:02.499999Z"
    }
   },
   "outputs": [
    {
     "data": {
      "text/plain": [
       "0    False\n",
       "1    False\n",
       "2    False\n",
       "3    False\n",
       "4    False\n",
       "dtype: bool"
      ]
     },
     "execution_count": 12,
     "metadata": {},
     "output_type": "execute_result"
    }
   ],
   "source": [
    "s1 == s2"
   ]
  },
  {
   "cell_type": "markdown",
   "metadata": {},
   "source": [
    "# 5. Write a Pandas program to convert a dictionary to a Pandas series.     \n",
    "\n",
    "Sample Series:    \n",
    "\n",
    "Original dictionary:    \n",
    "`{'a': 100, 'b': 200, 'c': 300, 'd': 400, 'e': 800}`\n",
    "\n",
    "```\n",
    "Converted series:    \n",
    "a 100    \n",
    "b 200    \n",
    "c 300    \n",
    "d 400    \n",
    "e 800    \n",
    "dtype: int64  \n",
    "```\n",
    "    "
   ]
  },
  {
   "cell_type": "code",
   "execution_count": 13,
   "metadata": {
    "ExecuteTime": {
     "end_time": "2021-07-06T03:54:02.529025Z",
     "start_time": "2021-07-06T03:54:02.515013Z"
    }
   },
   "outputs": [
    {
     "data": {
      "text/plain": [
       "a    100\n",
       "b    200\n",
       "c    300\n",
       "d    400\n",
       "e    800\n",
       "dtype: int64"
      ]
     },
     "execution_count": 13,
     "metadata": {},
     "output_type": "execute_result"
    }
   ],
   "source": [
    "s = pd.Series({'a': 100, 'b': 200, 'c': 300, 'd': 400, 'e': 800})\n",
    "s"
   ]
  },
  {
   "cell_type": "markdown",
   "metadata": {},
   "source": [
    "# 6. Write a Pandas program to convert a NumPy array to a Pandas series.    \n",
    "\n",
    "Sample Series:    \n",
    "\n",
    "\n",
    "NumPy array:    \n",
    "`[10 20 30 40 50]`    \n",
    "\n",
    "\n",
    "```\n",
    "Converted Pandas series:    \n",
    "0 10    \n",
    "1 20    \n",
    "2 30    \n",
    "3 40    \n",
    "4 50    \n",
    "dtype: int64  \n",
    "```\n",
    "    \n",
    "    "
   ]
  },
  {
   "cell_type": "code",
   "execution_count": 14,
   "metadata": {
    "ExecuteTime": {
     "end_time": "2021-07-06T03:54:02.544037Z",
     "start_time": "2021-07-06T03:54:02.530025Z"
    }
   },
   "outputs": [
    {
     "data": {
      "text/plain": [
       "0    10\n",
       "1    20\n",
       "2    30\n",
       "3    40\n",
       "4    50\n",
       "dtype: int32"
      ]
     },
     "execution_count": 14,
     "metadata": {},
     "output_type": "execute_result"
    }
   ],
   "source": [
    "n_array = np.array([10, 20, 30, 40, 50])\n",
    "\n",
    "s = pd.Series(n_array)\n",
    "s"
   ]
  },
  {
   "cell_type": "markdown",
   "metadata": {},
   "source": [
    "# 7. Write a Pandas program to change the data type of given a column or a Series.     \n",
    "\n",
    "Sample Series:    \n",
    "\n",
    "```\n",
    "Original Data Series:    \n",
    "0 100    \n",
    "1 200    \n",
    "2 python    \n",
    "3 300.12    \n",
    "4 400    \n",
    "dtype: object    \n",
    "```\n",
    "\n",
    "```\n",
    "Change the said data type to numeric:    \n",
    "0 100.00    \n",
    "1 200.00    \n",
    "2 NaN    \n",
    "3 300.12    \n",
    "4 400.00    \n",
    "dtype: float64    \n",
    "```\n",
    "    "
   ]
  },
  {
   "cell_type": "code",
   "execution_count": 15,
   "metadata": {
    "ExecuteTime": {
     "end_time": "2021-07-06T03:54:02.559051Z",
     "start_time": "2021-07-06T03:54:02.545038Z"
    }
   },
   "outputs": [
    {
     "data": {
      "text/plain": [
       "0       100\n",
       "1       200\n",
       "2    python\n",
       "3    300.12\n",
       "4       400\n",
       "dtype: object"
      ]
     },
     "execution_count": 15,
     "metadata": {},
     "output_type": "execute_result"
    }
   ],
   "source": [
    "Original_s = pd.Series([100, 200, 'python', 300.12, 400])\n",
    "Original_s"
   ]
  },
  {
   "cell_type": "code",
   "execution_count": 16,
   "metadata": {
    "ExecuteTime": {
     "end_time": "2021-07-06T03:54:02.574065Z",
     "start_time": "2021-07-06T03:54:02.560052Z"
    }
   },
   "outputs": [],
   "source": [
    "Original_s[2] = np.NaN"
   ]
  },
  {
   "cell_type": "code",
   "execution_count": 17,
   "metadata": {
    "ExecuteTime": {
     "end_time": "2021-07-06T03:54:02.589081Z",
     "start_time": "2021-07-06T03:54:02.575068Z"
    }
   },
   "outputs": [
    {
     "data": {
      "text/plain": [
       "0    100.00\n",
       "1    200.00\n",
       "2       NaN\n",
       "3    300.12\n",
       "4    400.00\n",
       "dtype: float64"
      ]
     },
     "execution_count": 17,
     "metadata": {},
     "output_type": "execute_result"
    }
   ],
   "source": [
    "New_s = pd.Series(Original_s, dtype='float64')\n",
    "New_s"
   ]
  },
  {
   "cell_type": "markdown",
   "metadata": {},
   "source": [
    "# 8. Write a Pandas program to convert the first column of a DataFrame as a Series.     \n",
    "\n",
    "Sample Output:    \n",
    "\n",
    "```\n",
    "Original DataFrame    \n",
    "col1 col2 col3    \n",
    "0 1 4 7    \n",
    "1 2 5 5    \n",
    "2 3 6 8    \n",
    "3 4 9 12    \n",
    "4 7 5 1    \n",
    "5 11 0 11    \n",
    "```\n",
    "\n",
    "```\n",
    "1st column as a Series:    \n",
    "0 1    \n",
    "1 2    \n",
    "2 3    \n",
    "3 4    \n",
    "4 7    \n",
    "5 11    \n",
    "Name: col1, dtype: int64    \n",
    "<class 'pandas.core.series.Series'>   \n",
    "```\n",
    "    "
   ]
  },
  {
   "cell_type": "code",
   "execution_count": 18,
   "metadata": {
    "ExecuteTime": {
     "end_time": "2021-07-06T03:54:02.604094Z",
     "start_time": "2021-07-06T03:54:02.590081Z"
    },
    "scrolled": true
   },
   "outputs": [
    {
     "data": {
      "text/html": [
       "<div>\n",
       "<style scoped>\n",
       "    .dataframe tbody tr th:only-of-type {\n",
       "        vertical-align: middle;\n",
       "    }\n",
       "\n",
       "    .dataframe tbody tr th {\n",
       "        vertical-align: top;\n",
       "    }\n",
       "\n",
       "    .dataframe thead th {\n",
       "        text-align: right;\n",
       "    }\n",
       "</style>\n",
       "<table border=\"1\" class=\"dataframe\">\n",
       "  <thead>\n",
       "    <tr style=\"text-align: right;\">\n",
       "      <th></th>\n",
       "      <th>col1</th>\n",
       "      <th>col2</th>\n",
       "      <th>col3</th>\n",
       "    </tr>\n",
       "  </thead>\n",
       "  <tbody>\n",
       "    <tr>\n",
       "      <th>0</th>\n",
       "      <td>1</td>\n",
       "      <td>4</td>\n",
       "      <td>7</td>\n",
       "    </tr>\n",
       "    <tr>\n",
       "      <th>1</th>\n",
       "      <td>2</td>\n",
       "      <td>5</td>\n",
       "      <td>5</td>\n",
       "    </tr>\n",
       "    <tr>\n",
       "      <th>2</th>\n",
       "      <td>3</td>\n",
       "      <td>6</td>\n",
       "      <td>8</td>\n",
       "    </tr>\n",
       "    <tr>\n",
       "      <th>3</th>\n",
       "      <td>4</td>\n",
       "      <td>9</td>\n",
       "      <td>12</td>\n",
       "    </tr>\n",
       "    <tr>\n",
       "      <th>4</th>\n",
       "      <td>7</td>\n",
       "      <td>5</td>\n",
       "      <td>1</td>\n",
       "    </tr>\n",
       "    <tr>\n",
       "      <th>5</th>\n",
       "      <td>11</td>\n",
       "      <td>0</td>\n",
       "      <td>11</td>\n",
       "    </tr>\n",
       "  </tbody>\n",
       "</table>\n",
       "</div>"
      ],
      "text/plain": [
       "   col1  col2  col3\n",
       "0     1     4     7\n",
       "1     2     5     5\n",
       "2     3     6     8\n",
       "3     4     9    12\n",
       "4     7     5     1\n",
       "5    11     0    11"
      ]
     },
     "execution_count": 18,
     "metadata": {},
     "output_type": "execute_result"
    }
   ],
   "source": [
    "n_l = [[ 1, 4, 7],\n",
    "       [ 2, 5, 5],\n",
    "       [ 3, 6, 8],\n",
    "       [ 4, 9, 12],\n",
    "       [ 7, 5, 1],\n",
    "       [ 11, 0, 11 ]]\n",
    "df =pd.DataFrame(n_l, columns=['col1','col2','col3'])\n",
    "df\n",
    "        \n"
   ]
  },
  {
   "cell_type": "code",
   "execution_count": 19,
   "metadata": {
    "ExecuteTime": {
     "end_time": "2021-07-06T03:54:02.619107Z",
     "start_time": "2021-07-06T03:54:02.605093Z"
    }
   },
   "outputs": [
    {
     "data": {
      "text/plain": [
       "0     1\n",
       "1     2\n",
       "2     3\n",
       "3     4\n",
       "4     7\n",
       "5    11\n",
       "Name: col1, dtype: int64"
      ]
     },
     "execution_count": 19,
     "metadata": {},
     "output_type": "execute_result"
    }
   ],
   "source": [
    "df.col1"
   ]
  },
  {
   "cell_type": "markdown",
   "metadata": {},
   "source": [
    "# 9. Write a Pandas program to convert a given Series to an array.     \n",
    "\n",
    "Sample Output:    \n",
    "\n",
    "```\n",
    "Original Data Series:    \n",
    "0 100    \n",
    "1 200    \n",
    "2 python    \n",
    "3 300.12    \n",
    "4 400    \n",
    "dtype: object\n",
    "```\n",
    "\n",
    "```\n",
    "Series to an array    \n",
    "['100' '200' 'python' '300.12' '400']    \n",
    "```"
   ]
  },
  {
   "cell_type": "code",
   "execution_count": 20,
   "metadata": {
    "ExecuteTime": {
     "end_time": "2021-07-06T03:54:02.634122Z",
     "start_time": "2021-07-06T03:54:02.620109Z"
    }
   },
   "outputs": [
    {
     "data": {
      "text/plain": [
       "array([100, 200, 'python', 300.12, 400], dtype=object)"
      ]
     },
     "execution_count": 20,
     "metadata": {},
     "output_type": "execute_result"
    }
   ],
   "source": [
    "s = pd.Series([100, 200, 'python', 300.12, 400])\n",
    "\n",
    "s_array = np.array(s)\n",
    "s_array"
   ]
  },
  {
   "cell_type": "markdown",
   "metadata": {},
   "source": [
    "# 10. Write a Pandas program to convert Series of lists to one Series.     \n",
    "\n",
    "Sample Output:    \n",
    "\n",
    "```\n",
    "Original Series of list    \n",
    "0 [Red, Green, White]    \n",
    "1 [Red, Black]    \n",
    "2 [Yellow]    \n",
    "dtype: object    \n",
    "\n",
    "```\n",
    "\n",
    "```\n",
    "One Series    \n",
    "0 Red    \n",
    "1 Green    \n",
    "2 White    \n",
    "3 Red    \n",
    "4 Black    \n",
    "5 Yellow    \n",
    "dtype: object    \n",
    "\n",
    "```"
   ]
  },
  {
   "cell_type": "code",
   "execution_count": 21,
   "metadata": {
    "ExecuteTime": {
     "end_time": "2021-07-06T03:54:02.649135Z",
     "start_time": "2021-07-06T03:54:02.635123Z"
    }
   },
   "outputs": [
    {
     "data": {
      "text/plain": [
       "0    [Red, Green, White]\n",
       "1           [Red, Black]\n",
       "2               [Yellow]\n",
       "dtype: object"
      ]
     },
     "execution_count": 21,
     "metadata": {},
     "output_type": "execute_result"
    }
   ],
   "source": [
    "s = pd.Series([['Red', 'Green', 'White'], ['Red', 'Black'], ['Yellow']])\n",
    "s\n"
   ]
  },
  {
   "cell_type": "code",
   "execution_count": 22,
   "metadata": {
    "ExecuteTime": {
     "end_time": "2021-07-06T03:54:02.664148Z",
     "start_time": "2021-07-06T03:54:02.650136Z"
    }
   },
   "outputs": [
    {
     "data": {
      "text/plain": [
       "0       Red\n",
       "1     Green\n",
       "2     White\n",
       "3       Red\n",
       "4     Black\n",
       "5    Yellow\n",
       "dtype: object"
      ]
     },
     "execution_count": 22,
     "metadata": {},
     "output_type": "execute_result"
    }
   ],
   "source": [
    "new_s = []\n",
    "for i in s:\n",
    "    for j in i:\n",
    "        new_s.append(j)\n",
    "        \n",
    "new_s = pd.Series(new_s)\n",
    "new_s"
   ]
  },
  {
   "cell_type": "markdown",
   "metadata": {},
   "source": [
    "# 11. Write a Pandas program to sort a given Series.     \n",
    "\n",
    "Sample Output: \n",
    "\n",
    "```\n",
    "Original Data Series:\n",
    "0 100    \n",
    "1 200    \n",
    "2 python    \n",
    "3 300.12    \n",
    "4 400    \n",
    "dtype: object   \n",
    "\n",
    "0 100    \n",
    "1 200    \n",
    "3 300.12    \n",
    "4 400    \n",
    "2 python    \n",
    "dtype: object   \n",
    "```\n",
    "    "
   ]
  },
  {
   "cell_type": "code",
   "execution_count": 23,
   "metadata": {
    "ExecuteTime": {
     "end_time": "2021-07-06T03:54:02.679162Z",
     "start_time": "2021-07-06T03:54:02.666151Z"
    },
    "scrolled": true
   },
   "outputs": [
    {
     "data": {
      "text/plain": [
       "0       100\n",
       "1       200\n",
       "2    python\n",
       "3    300.12\n",
       "4       400\n",
       "dtype: object"
      ]
     },
     "execution_count": 23,
     "metadata": {},
     "output_type": "execute_result"
    }
   ],
   "source": [
    "s = pd.Series(['100', '200', 'python', '300.12', '400'])\n",
    "s\n"
   ]
  },
  {
   "cell_type": "code",
   "execution_count": 24,
   "metadata": {
    "ExecuteTime": {
     "end_time": "2021-07-06T03:54:02.694175Z",
     "start_time": "2021-07-06T03:54:02.680161Z"
    }
   },
   "outputs": [
    {
     "data": {
      "text/plain": [
       "0       100\n",
       "1       200\n",
       "3    300.12\n",
       "4       400\n",
       "2    python\n",
       "dtype: object"
      ]
     },
     "execution_count": 24,
     "metadata": {},
     "output_type": "execute_result"
    }
   ],
   "source": [
    "s.sort_values()"
   ]
  },
  {
   "cell_type": "markdown",
   "metadata": {},
   "source": [
    "# 12. Write a Pandas program to add some data to an existing Series.     \n",
    "Sample Output:    \n",
    "\n",
    "```\n",
    "Original Data Series:    \n",
    "0 100    \n",
    "1 200    \n",
    "2 python    \n",
    "3 300.12    \n",
    "4 400    \n",
    "dtype: object    \n",
    "\n",
    "Data Series after adding some data:    \n",
    "0 100    \n",
    "1 200    \n",
    "2 python    \n",
    "3 300.12    \n",
    "4 400    \n",
    "0 500    \n",
    "1 php    \n",
    "dtype: object    \n",
    "```\n",
    "    "
   ]
  },
  {
   "cell_type": "code",
   "execution_count": 25,
   "metadata": {
    "ExecuteTime": {
     "end_time": "2021-07-06T03:54:02.709189Z",
     "start_time": "2021-07-06T03:54:02.695177Z"
    }
   },
   "outputs": [
    {
     "data": {
      "text/plain": [
       "0       100\n",
       "1       200\n",
       "2    python\n",
       "3    300.12\n",
       "4       400\n",
       "dtype: object"
      ]
     },
     "execution_count": 25,
     "metadata": {},
     "output_type": "execute_result"
    }
   ],
   "source": [
    "s = pd.Series(['100', '200', 'python', '300.12', '400'])\n",
    "s"
   ]
  },
  {
   "cell_type": "code",
   "execution_count": 26,
   "metadata": {
    "ExecuteTime": {
     "end_time": "2021-07-06T03:54:02.724202Z",
     "start_time": "2021-07-06T03:54:02.710190Z"
    }
   },
   "outputs": [
    {
     "data": {
      "text/plain": [
       "0       100\n",
       "1       200\n",
       "2    python\n",
       "3    300.12\n",
       "4       400\n",
       "0       500\n",
       "1       php\n",
       "dtype: object"
      ]
     },
     "execution_count": 26,
     "metadata": {},
     "output_type": "execute_result"
    }
   ],
   "source": [
    "s2 = pd.Series(['500', 'php'])\n",
    "s.append(s2)"
   ]
  },
  {
   "cell_type": "markdown",
   "metadata": {},
   "source": [
    "# 13. Write a Pandas program to create a subset of a given series based on value and condition.     \n",
    "Sample Output:   \n",
    "\n",
    "```\n",
    "Original Data Series:    \n",
    "0 0    \n",
    "1 1    \n",
    "2 2    \n",
    "3 3    \n",
    "4 4    \n",
    "5 5    \n",
    "6 6    \n",
    "7 7    \n",
    "8 8    \n",
    "9 9    \n",
    "10 10    \n",
    "dtype: int64    \n",
    "\n",
    "Subset of the above Data Series:    \n",
    "0 0    \n",
    "1 1    \n",
    "2 2    \n",
    "3 3    \n",
    "4 4    \n",
    "5 5    \n",
    "dtype: int64    \n",
    "```"
   ]
  },
  {
   "cell_type": "code",
   "execution_count": 27,
   "metadata": {
    "ExecuteTime": {
     "end_time": "2021-07-06T03:54:02.739216Z",
     "start_time": "2021-07-06T03:54:02.725202Z"
    }
   },
   "outputs": [
    {
     "data": {
      "text/plain": [
       "0      0\n",
       "1      1\n",
       "2      2\n",
       "3      3\n",
       "4      4\n",
       "5      5\n",
       "6      6\n",
       "7      7\n",
       "8      8\n",
       "9      9\n",
       "10    10\n",
       "dtype: int64"
      ]
     },
     "execution_count": 27,
     "metadata": {},
     "output_type": "execute_result"
    }
   ],
   "source": [
    "s = pd.Series(range(11))\n",
    "s"
   ]
  },
  {
   "cell_type": "code",
   "execution_count": 28,
   "metadata": {
    "ExecuteTime": {
     "end_time": "2021-07-06T03:54:02.754230Z",
     "start_time": "2021-07-06T03:54:02.740217Z"
    }
   },
   "outputs": [
    {
     "data": {
      "text/plain": [
       "0    0\n",
       "1    1\n",
       "2    2\n",
       "3    3\n",
       "4    4\n",
       "5    5\n",
       "dtype: int64"
      ]
     },
     "execution_count": 28,
     "metadata": {},
     "output_type": "execute_result"
    }
   ],
   "source": [
    "s[:6]"
   ]
  },
  {
   "cell_type": "markdown",
   "metadata": {},
   "source": [
    "# 14. Write a Pandas program to change the order of index of a given series.   \n",
    "\n",
    "Sample Output:    \n",
    "\n",
    "```\n",
    "Original Data Series:    \n",
    "A 1    \n",
    "B 2    \n",
    "C 3    \n",
    "D 4    \n",
    "E 5    \n",
    "dtype: int64    \n",
    "\n",
    "Data Series after changing the order of index:    \n",
    "B 2    \n",
    "A 1    \n",
    "C 3    \n",
    "D 4    \n",
    "E 5    \n",
    "dtype: int64    \n",
    "```"
   ]
  },
  {
   "cell_type": "code",
   "execution_count": 29,
   "metadata": {
    "ExecuteTime": {
     "end_time": "2021-07-06T03:54:02.769244Z",
     "start_time": "2021-07-06T03:54:02.755229Z"
    },
    "scrolled": true
   },
   "outputs": [
    {
     "data": {
      "text/plain": [
       "A    1\n",
       "B    2\n",
       "C    3\n",
       "D    4\n",
       "E    5\n",
       "dtype: int64"
      ]
     },
     "execution_count": 29,
     "metadata": {},
     "output_type": "execute_result"
    }
   ],
   "source": [
    "s = pd.Series(range(1,6), index=list('ABCDE'))\n",
    "s"
   ]
  },
  {
   "cell_type": "code",
   "execution_count": 30,
   "metadata": {
    "ExecuteTime": {
     "end_time": "2021-07-06T03:54:02.784257Z",
     "start_time": "2021-07-06T03:54:02.770243Z"
    }
   },
   "outputs": [
    {
     "data": {
      "text/plain": [
       "B    2\n",
       "A    1\n",
       "C    3\n",
       "D    4\n",
       "E    5\n",
       "dtype: int64"
      ]
     },
     "execution_count": 30,
     "metadata": {},
     "output_type": "execute_result"
    }
   ],
   "source": [
    "s[['B','A','C','D','E']]"
   ]
  },
  {
   "cell_type": "markdown",
   "metadata": {},
   "source": [
    "# 15. Write a Pandas program to create the mean and standard deviation of the data of a given Series.     \n",
    "\n",
    "```\n",
    "Sample Output:    \n",
    "Original Data Series:    \n",
    "0 1    \n",
    "1 2    \n",
    "2 3    \n",
    "3 4    \n",
    "4 5    \n",
    "5 6    \n",
    "6 7    \n",
    "7 8    \n",
    "8 9    \n",
    "9 5    \n",
    "10 3    \n",
    "dtype: int64    \n",
    "\n",
    "Mean of the said Data Series:    \n",
    "4.818181818181818    \n",
    "\n",
    "Standard deviation of the said Data Series:    \n",
    "2.522624895547565\n",
    "```"
   ]
  },
  {
   "cell_type": "code",
   "execution_count": 31,
   "metadata": {
    "ExecuteTime": {
     "end_time": "2021-07-06T03:54:02.799271Z",
     "start_time": "2021-07-06T03:54:02.785257Z"
    }
   },
   "outputs": [
    {
     "data": {
      "text/plain": [
       "0     1\n",
       "1     2\n",
       "2     3\n",
       "3     4\n",
       "4     5\n",
       "5     6\n",
       "6     7\n",
       "7     8\n",
       "8     9\n",
       "9     5\n",
       "10    3\n",
       "dtype: int64"
      ]
     },
     "execution_count": 31,
     "metadata": {},
     "output_type": "execute_result"
    }
   ],
   "source": [
    "s = pd.Series([1, 2, 3, 4, 5, 6, 7, 8, 9, 5, 3])\n",
    "s"
   ]
  },
  {
   "cell_type": "code",
   "execution_count": 32,
   "metadata": {
    "ExecuteTime": {
     "end_time": "2021-07-06T03:54:02.814285Z",
     "start_time": "2021-07-06T03:54:02.800271Z"
    }
   },
   "outputs": [
    {
     "data": {
      "text/plain": [
       "4.818181818181818"
      ]
     },
     "execution_count": 32,
     "metadata": {},
     "output_type": "execute_result"
    }
   ],
   "source": [
    "s.mean()"
   ]
  },
  {
   "cell_type": "code",
   "execution_count": 33,
   "metadata": {
    "ExecuteTime": {
     "end_time": "2021-07-06T03:54:02.829298Z",
     "start_time": "2021-07-06T03:54:02.815284Z"
    }
   },
   "outputs": [
    {
     "data": {
      "text/plain": [
       "2.522624895547565"
      ]
     },
     "execution_count": 33,
     "metadata": {},
     "output_type": "execute_result"
    }
   ],
   "source": [
    "s.std()"
   ]
  },
  {
   "cell_type": "markdown",
   "metadata": {},
   "source": [
    "# 16. Write a Pandas program to get the items of a given series not present in another given series.     \n",
    "\n",
    "Sample Output:    \n",
    "\n",
    "```\n",
    "Original Series:    \n",
    "sr1:    \n",
    "0 1    \n",
    "1 2    \n",
    "2 3    \n",
    "3 4    \n",
    "4 5    \n",
    "dtype: int64    \n",
    "\n",
    "sr2:    \n",
    "0 2    \n",
    "1 4    \n",
    "2 6    \n",
    "3 8    \n",
    "4 10    \n",
    "dtype: int64    \n",
    "\n",
    "Items of sr1 not present in sr2:    \n",
    "0 1    \n",
    "2 3    \n",
    "4 5    \n",
    "dtype: int64    \n",
    "```    "
   ]
  },
  {
   "cell_type": "code",
   "execution_count": 34,
   "metadata": {
    "ExecuteTime": {
     "end_time": "2021-07-06T03:54:02.844311Z",
     "start_time": "2021-07-06T03:54:02.830300Z"
    },
    "scrolled": true
   },
   "outputs": [
    {
     "data": {
      "text/plain": [
       "(0    1\n",
       " 1    2\n",
       " 2    3\n",
       " 3    4\n",
       " 4    5\n",
       " dtype: int64,\n",
       " 0     2\n",
       " 1     4\n",
       " 2     6\n",
       " 3     8\n",
       " 4    10\n",
       " dtype: int64)"
      ]
     },
     "execution_count": 34,
     "metadata": {},
     "output_type": "execute_result"
    }
   ],
   "source": [
    "sr1 = pd.Series(range(1,6))\n",
    "sr2 = sr1 * 2\n",
    "sr1, sr2"
   ]
  },
  {
   "cell_type": "code",
   "execution_count": 35,
   "metadata": {
    "ExecuteTime": {
     "end_time": "2021-07-06T03:54:02.859326Z",
     "start_time": "2021-07-06T03:54:02.846314Z"
    }
   },
   "outputs": [
    {
     "data": {
      "text/plain": [
       "0    1\n",
       "2    3\n",
       "4    5\n",
       "dtype: int64"
      ]
     },
     "execution_count": 35,
     "metadata": {},
     "output_type": "execute_result"
    }
   ],
   "source": [
    "sr1[~sr1.isin(sr2)]"
   ]
  },
  {
   "cell_type": "markdown",
   "metadata": {},
   "source": [
    "# ★ 17. Write a Pandas program to get the items which are not common of two given series.   \n",
    "\n",
    "Sample Output:   \n",
    "\n",
    "```\n",
    "Original Series:    \n",
    "sr1:    \n",
    "0 1    \n",
    "1 2    \n",
    "2 3    \n",
    "3 4    \n",
    "4 5    \n",
    "dtype: int64    \n",
    "\n",
    "sr2:    \n",
    "0 2    \n",
    "1 4    \n",
    "2 6    \n",
    "3 8    \n",
    "4 10    \n",
    "dtype: int64    \n",
    "\n",
    "Items of a given series not present in another given series:    \n",
    "0 1    \n",
    "2 3    \n",
    "4 5    \n",
    "5 6    \n",
    "6 8    \n",
    "7 10    \n",
    "dtype: int64    \n",
    "```"
   ]
  },
  {
   "cell_type": "code",
   "execution_count": 36,
   "metadata": {
    "ExecuteTime": {
     "end_time": "2021-07-06T03:54:02.874340Z",
     "start_time": "2021-07-06T03:54:02.860325Z"
    }
   },
   "outputs": [
    {
     "data": {
      "text/plain": [
       "(0    1\n",
       " 1    2\n",
       " 2    3\n",
       " 3    4\n",
       " 4    5\n",
       " dtype: int64,\n",
       " 0     2\n",
       " 1     4\n",
       " 2     6\n",
       " 3     8\n",
       " 4    10\n",
       " dtype: int64)"
      ]
     },
     "execution_count": 36,
     "metadata": {},
     "output_type": "execute_result"
    }
   ],
   "source": [
    "sr1 = pd.Series(range(1,6))\n",
    "sr2 = sr1 * 2\n",
    "sr1, sr2"
   ]
  },
  {
   "cell_type": "code",
   "execution_count": 37,
   "metadata": {
    "ExecuteTime": {
     "end_time": "2021-07-06T03:54:02.889353Z",
     "start_time": "2021-07-06T03:54:02.875341Z"
    }
   },
   "outputs": [
    {
     "data": {
      "text/plain": [
       "0     1\n",
       "2     3\n",
       "4     5\n",
       "2     6\n",
       "3     8\n",
       "4    10\n",
       "dtype: int64"
      ]
     },
     "execution_count": 37,
     "metadata": {},
     "output_type": "execute_result"
    }
   ],
   "source": [
    "s = sr1.append(sr2).sort_values()\n",
    "s[~(s.isin(sr1) & (s.isin(sr2)))]"
   ]
  },
  {
   "cell_type": "markdown",
   "metadata": {},
   "source": [
    "## 다른 답"
   ]
  },
  {
   "cell_type": "code",
   "execution_count": 47,
   "metadata": {
    "ExecuteTime": {
     "end_time": "2021-07-06T03:59:48.616374Z",
     "start_time": "2021-07-06T03:59:48.605367Z"
    }
   },
   "outputs": [
    {
     "data": {
      "text/plain": [
       "0     1\n",
       "2     3\n",
       "4     5\n",
       "5     6\n",
       "6     8\n",
       "7    10\n",
       "dtype: int64"
      ]
     },
     "execution_count": 47,
     "metadata": {},
     "output_type": "execute_result"
    }
   ],
   "source": [
    "sr1_union_sr2 = pd.Series(np.union1d(sr1, sr2))\n",
    "sr1_inter_sr2 = pd.Series(np.intersect1d(sr1, sr2))\n",
    "\n",
    "sr1_union_sr2[~sr1_union_sr2.isin(sr1_inter_sr2)]"
   ]
  },
  {
   "cell_type": "markdown",
   "metadata": {},
   "source": [
    "# 18. Write a Pandas program to compute the minimum, 25th percentile, median, 75th, and maximum of a given series.     \n",
    "\n",
    "Sample Output:    \n",
    "\n",
    "```\n",
    "Original Series:    \n",
    "0 3.000938    \n",
    "1 11.370722    \n",
    "2 14.612143    \n",
    "3 8.990256    \n",
    "4 13.925283    \n",
    "5 12.056875    \n",
    ".... 17 14.118931    \n",
    "18 8.247458    \n",
    "19 5.526727    \n",
    "dtype: float64   \n",
    "\n",
    "\n",
    "Minimum, 25th percentile, median, 75th, and maximum of a given series:    \n",
    "\n",
    "[ 3.00093811 8.09463867 10.23353705 12.21537733 14.61214321]  \n",
    "```\n",
    "    "
   ]
  },
  {
   "cell_type": "code",
   "execution_count": 38,
   "metadata": {
    "ExecuteTime": {
     "end_time": "2021-07-06T03:54:02.904367Z",
     "start_time": "2021-07-06T03:54:02.890353Z"
    },
    "scrolled": true
   },
   "outputs": [
    {
     "data": {
      "text/plain": [
       "0      7.176161\n",
       "1     12.923908\n",
       "2     16.156376\n",
       "3     12.556301\n",
       "4     14.944519\n",
       "5      6.057202\n",
       "6     18.291911\n",
       "7      7.369007\n",
       "8     14.122022\n",
       "9      7.823245\n",
       "10     5.671273\n",
       "11     7.385653\n",
       "12    11.842938\n",
       "13     7.741657\n",
       "14    16.888598\n",
       "15    12.855808\n",
       "16    18.132127\n",
       "17     7.040044\n",
       "18    13.854668\n",
       "19    16.192285\n",
       "dtype: float64"
      ]
     },
     "execution_count": 38,
     "metadata": {},
     "output_type": "execute_result"
    }
   ],
   "source": [
    "import numpy as np\n",
    "s1 = np.random.randint(3, 20, 20)\n",
    "s2 = np.random.randn(20)\n",
    "s = pd.Series(s1 + s2)\n",
    "s"
   ]
  },
  {
   "cell_type": "code",
   "execution_count": 39,
   "metadata": {
    "ExecuteTime": {
     "end_time": "2021-07-06T03:54:02.919379Z",
     "start_time": "2021-07-06T03:54:02.905368Z"
    }
   },
   "outputs": [
    {
     "data": {
      "text/plain": [
       "array([ 7.38149131, 12.70605442, 15.24748301, 18.29191083])"
      ]
     },
     "execution_count": 39,
     "metadata": {},
     "output_type": "execute_result"
    }
   ],
   "source": [
    "np.array(s.quantile([0.25, 0.5, 0.75, 1.]))"
   ]
  },
  {
   "cell_type": "markdown",
   "metadata": {},
   "source": [
    "## 다른답"
   ]
  },
  {
   "cell_type": "code",
   "execution_count": 49,
   "metadata": {
    "ExecuteTime": {
     "end_time": "2021-07-06T04:04:20.399125Z",
     "start_time": "2021-07-06T04:04:20.388107Z"
    }
   },
   "outputs": [
    {
     "name": "stdout",
     "output_type": "stream",
     "text": [
      "0      3.000938\n",
      "1     11.370722\n",
      "2     14.612143\n",
      "3      8.990256\n",
      "4     13.925283\n",
      "5     12.056875\n",
      "6     10.884719\n",
      "7      5.719827\n",
      "8      9.242017\n",
      "9     11.020006\n",
      "10     8.167892\n",
      "11    11.740654\n",
      "12     7.665620\n",
      "13    13.267388\n",
      "14    12.690883\n",
      "15     9.582355\n",
      "16     7.874878\n",
      "17    14.118931\n",
      "18     8.247458\n",
      "19     5.526727\n",
      "dtype: float64\n"
     ]
    },
    {
     "data": {
      "text/plain": [
       "array([ 3.00093811,  8.09463867, 10.23353705, 12.21537733, 14.61214321])"
      ]
     },
     "execution_count": 49,
     "metadata": {},
     "output_type": "execute_result"
    }
   ],
   "source": [
    "num_state = np.random.RandomState(100)\n",
    "num_series = pd.Series(num_state.normal(10, 4, 20))\n",
    "print(num_series)\n",
    "\n",
    "result = np.percentile(num_series, q=[0, 25, 50, 75, 100])\n",
    "result"
   ]
  },
  {
   "cell_type": "markdown",
   "metadata": {},
   "source": [
    "# 19. Write a Pandas program to calculate the frequency counts of each unique value of a given series.     \n",
    "\n",
    "\n",
    "Sample Output:    \n",
    "\n",
    "```\n",
    "Original Series:    \n",
    "0 1    \n",
    "1 7    \n",
    "2 1    \n",
    "3 6    \n",
    "4 9    \n",
    "5 1    \n",
    "... 29 2    \n",
    "30 9    \n",
    "31 1    \n",
    "32 2    \n",
    "33 9    \n",
    "34 2    \n",
    "35 9    \n",
    "36 0    \n",
    "37 0    \n",
    "38 4    \n",
    "39 8    \n",
    "dtype: object    \n",
    "\n",
    "Frequency of each unique value of the said series.    \n",
    "0 9    \n",
    "2 7    \n",
    "9 6    \n",
    "1 5    \n",
    "6 3    \n",
    "8 3    \n",
    "7 3    \n",
    "3 2    \n",
    "4 1    \n",
    "5 1    \n",
    "dtype: int64    \n",
    "```"
   ]
  },
  {
   "cell_type": "code",
   "execution_count": 40,
   "metadata": {
    "ExecuteTime": {
     "end_time": "2021-07-06T03:54:02.934394Z",
     "start_time": "2021-07-06T03:54:02.920379Z"
    },
    "scrolled": true
   },
   "outputs": [
    {
     "data": {
      "text/plain": [
       "0     5\n",
       "1     2\n",
       "2     9\n",
       "3     9\n",
       "4     8\n",
       "5     2\n",
       "6     4\n",
       "7     8\n",
       "8     7\n",
       "9     7\n",
       "10    2\n",
       "11    7\n",
       "12    7\n",
       "13    4\n",
       "14    8\n",
       "15    2\n",
       "16    2\n",
       "17    4\n",
       "18    4\n",
       "19    5\n",
       "20    3\n",
       "21    6\n",
       "22    2\n",
       "23    1\n",
       "24    7\n",
       "25    1\n",
       "26    4\n",
       "27    8\n",
       "28    2\n",
       "29    7\n",
       "30    4\n",
       "31    3\n",
       "32    2\n",
       "33    5\n",
       "34    5\n",
       "35    6\n",
       "36    4\n",
       "37    4\n",
       "38    5\n",
       "39    9\n",
       "dtype: int32"
      ]
     },
     "execution_count": 40,
     "metadata": {},
     "output_type": "execute_result"
    }
   ],
   "source": [
    "import numpy as np\n",
    "s = pd.Series(np.random.randint(1, 10, 40))\n",
    "s"
   ]
  },
  {
   "cell_type": "code",
   "execution_count": 41,
   "metadata": {
    "ExecuteTime": {
     "end_time": "2021-07-06T03:54:02.949407Z",
     "start_time": "2021-07-06T03:54:02.935395Z"
    }
   },
   "outputs": [
    {
     "data": {
      "text/plain": [
       "4    8\n",
       "2    8\n",
       "7    6\n",
       "5    5\n",
       "8    4\n",
       "9    3\n",
       "6    2\n",
       "3    2\n",
       "1    2\n",
       "dtype: int64"
      ]
     },
     "execution_count": 41,
     "metadata": {},
     "output_type": "execute_result"
    }
   ],
   "source": [
    "s.value_counts()"
   ]
  },
  {
   "cell_type": "markdown",
   "metadata": {},
   "source": [
    "# 20. Write a Pandas program to display most frequent value in a given series and replace everything else as 'Other' in the series.  \n",
    "\n",
    "Sample Output:    \n",
    "\n",
    "```\n",
    "Original Series:    \n",
    "0 3    \n",
    "1 1    \n",
    "2 1    \n",
    "3 3    \n",
    "4 2    \n",
    "5 2    \n",
    "6 1    \n",
    "7 2    \n",
    "8 3    \n",
    "9 1    \n",
    "10 2    \n",
    "11 2    \n",
    "12 2    \n",
    "13 3    \n",
    "14 3    \n",
    "dtype: int64    \n",
    "\n",
    "Top 2 Freq: \n",
    "2 6    \n",
    "3 5    \n",
    "1 4    \n",
    "dtype: int64    \n",
    "0 Other    \n",
    "1 Other    \n",
    "2 Other    \n",
    "3 Other    \n",
    "4 2    \n",
    "5 2    \n",
    "6 Other    \n",
    "7 2    \n",
    "8 Other    \n",
    "9 Other    \n",
    "10 2    \n",
    "11 2    \n",
    "12 2    \n",
    "13 Other    \n",
    "14 Other    \n",
    "dtype: object    \n",
    "```"
   ]
  },
  {
   "cell_type": "code",
   "execution_count": 42,
   "metadata": {
    "ExecuteTime": {
     "end_time": "2021-07-06T03:54:02.964422Z",
     "start_time": "2021-07-06T03:54:02.950410Z"
    }
   },
   "outputs": [
    {
     "data": {
      "text/plain": [
       "0     3\n",
       "1     6\n",
       "2     3\n",
       "3     1\n",
       "4     7\n",
       "5     1\n",
       "6     8\n",
       "7     1\n",
       "8     1\n",
       "9     9\n",
       "10    4\n",
       "11    1\n",
       "12    3\n",
       "13    9\n",
       "14    8\n",
       "dtype: int32"
      ]
     },
     "execution_count": 42,
     "metadata": {},
     "output_type": "execute_result"
    }
   ],
   "source": [
    "s = pd.Series(np.random.randint(1, 10, 15))\n",
    "s"
   ]
  },
  {
   "cell_type": "code",
   "execution_count": 43,
   "metadata": {
    "ExecuteTime": {
     "end_time": "2021-07-06T03:54:02.979435Z",
     "start_time": "2021-07-06T03:54:02.965425Z"
    }
   },
   "outputs": [
    {
     "data": {
      "text/plain": [
       "1    5\n",
       "3    3\n",
       "9    2\n",
       "8    2\n",
       "7    1\n",
       "6    1\n",
       "4    1\n",
       "dtype: int64"
      ]
     },
     "execution_count": 43,
     "metadata": {},
     "output_type": "execute_result"
    }
   ],
   "source": [
    "s.value_counts()"
   ]
  },
  {
   "cell_type": "code",
   "execution_count": 44,
   "metadata": {
    "ExecuteTime": {
     "end_time": "2021-07-06T03:54:02.994442Z",
     "start_time": "2021-07-06T03:54:02.980436Z"
    }
   },
   "outputs": [
    {
     "data": {
      "text/plain": [
       "1"
      ]
     },
     "execution_count": 44,
     "metadata": {},
     "output_type": "execute_result"
    }
   ],
   "source": [
    "s.value_counts().idxmax()"
   ]
  },
  {
   "cell_type": "code",
   "execution_count": 45,
   "metadata": {
    "ExecuteTime": {
     "end_time": "2021-07-06T03:54:03.009694Z",
     "start_time": "2021-07-06T03:54:02.995442Z"
    }
   },
   "outputs": [
    {
     "data": {
      "text/plain": [
       "0     Other\n",
       "1     Other\n",
       "2     Other\n",
       "3         1\n",
       "4     Other\n",
       "5         1\n",
       "6     Other\n",
       "7         1\n",
       "8         1\n",
       "9     Other\n",
       "10    Other\n",
       "11        1\n",
       "12    Other\n",
       "13    Other\n",
       "14    Other\n",
       "dtype: object"
      ]
     },
     "execution_count": 45,
     "metadata": {},
     "output_type": "execute_result"
    }
   ],
   "source": [
    "s[~(s == s.value_counts().idxmax())] ='Other'\n",
    "s\n",
    "\n"
   ]
  }
 ],
 "metadata": {
  "kernelspec": {
   "display_name": "Python 3",
   "language": "python",
   "name": "python3"
  },
  "language_info": {
   "codemirror_mode": {
    "name": "ipython",
    "version": 3
   },
   "file_extension": ".py",
   "mimetype": "text/x-python",
   "name": "python",
   "nbconvert_exporter": "python",
   "pygments_lexer": "ipython3",
   "version": "3.8.5"
  },
  "toc": {
   "base_numbering": 1,
   "nav_menu": {},
   "number_sections": false,
   "sideBar": true,
   "skip_h1_title": false,
   "title_cell": "Table of Contents",
   "title_sidebar": "Contents",
   "toc_cell": false,
   "toc_position": {},
   "toc_section_display": true,
   "toc_window_display": true
  }
 },
 "nbformat": 4,
 "nbformat_minor": 4
}
