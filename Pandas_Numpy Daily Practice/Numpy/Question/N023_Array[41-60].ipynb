{
 "cells": [
  {
   "cell_type": "markdown",
   "metadata": {},
   "source": [
    "<a href='https://github.com/SeWonKwon' ><div> <img src ='https://slid-capture.s3.ap-northeast-2.amazonaws.com/public/image_upload/6556674324ed41a289a354258718280d/964e5a8b-75ad-41fc-ae75-0ca66d06fbc7.png' align='left' /> </div></a>\n"
   ]
  },
  {
   "cell_type": "markdown",
   "metadata": {},
   "source": [
    "출처: https://www.w3resource.com/python-exercises/numpy/index-array.php"
   ]
  },
  {
   "cell_type": "markdown",
   "metadata": {},
   "source": [
    "# 41. Write a NumPy program to create an array of 10's with the same shape and type of a given array.    \n",
    "\n",
    "Sample array: x = np.arange(4, dtype=np.int64)    \n",
    "```\n",
    "Expected Output:    \n",
    "[10 10 10 10]    \n",
    "```\n",
    "    \n",
    "   "
   ]
  },
  {
   "cell_type": "code",
   "execution_count": null,
   "metadata": {},
   "outputs": [],
   "source": []
  },
  {
   "cell_type": "markdown",
   "metadata": {},
   "source": [
    "# 42. Write a NumPy program to create a 3-D array with ones on a diagonal and zeros elsewhere.     \n",
    "\n",
    "```\n",
    "Expected Output:    \n",
    "\n",
    "[[ 1. 0. 0.]    \n",
    "[ 0. 1. 0.]    \n",
    "[ 0. 0. 1.]]\n",
    "```\n",
    "    \n",
    "    "
   ]
  },
  {
   "cell_type": "code",
   "execution_count": null,
   "metadata": {},
   "outputs": [],
   "source": []
  },
  {
   "cell_type": "markdown",
   "metadata": {},
   "source": [
    "# 43. Write a NumPy program to create a 2-D array whose diagonal equals [4, 5, 6, 8] and 0's elsewhere. \n",
    "\n",
    "```\n",
    "Expected Output:    \n",
    "\n",
    "[[4 0 0 0]    \n",
    "[0 5 0 0]    \n",
    "[0 0 6 0]    \n",
    "[0 0 0 8]]    \n",
    "```\n",
    "    \n",
    "    "
   ]
  },
  {
   "cell_type": "code",
   "execution_count": null,
   "metadata": {},
   "outputs": [],
   "source": []
  },
  {
   "cell_type": "markdown",
   "metadata": {},
   "source": [
    "# 44. Write a NumPy program to create a 1-D array going from 0 to 50 and an array from 10 to 50.     \n",
    "\n",
    "```\n",
    "Expected Output:    \n",
    "\n",
    "Array from 0 to 50:    \n",
    "[ 0 1 2 3 4 5 6 7 8 9 10 11 12 13 14 15 16 17 18 19 20 21 22 23 24    \n",
    "25 26 27 28 29 30 31 32 33 34 35 36 37 38 39 40 41 42 43 44 45 46 47 48 49]    \n",
    "\n",
    "Array from 10 to 50:    \n",
    "[10 11 12 13 14 15 16 17 18 19 20 21 22 23 24 25 26 27 28 29 30 31 32 33 34    \n",
    "35 36 37 38 39 40 41 42 43 44 45 46 47 48 49]\n",
    "```\n",
    "    \n",
    "    "
   ]
  },
  {
   "cell_type": "code",
   "execution_count": null,
   "metadata": {},
   "outputs": [],
   "source": []
  },
  {
   "cell_type": "markdown",
   "metadata": {},
   "source": [
    "# 45. Write a NumPy program to Create a 1-D array of 30 evenly spaced elements between 2.5. and 6.5, inclusive.     \n",
    "\n",
    "```\n",
    "Expected Output:    \n",
    "[ 2.5 2.63793103 2.77586207 2.9137931 3.05172414 3.18965517    \n",
    ".................    \n",
    "5.81034483 5.94827586 6.0862069 6.22413793 6.36206897 6.5 ]\n",
    "```\n",
    "    \n",
    "    "
   ]
  },
  {
   "cell_type": "code",
   "execution_count": null,
   "metadata": {},
   "outputs": [],
   "source": []
  },
  {
   "cell_type": "markdown",
   "metadata": {},
   "source": [
    "# 46. Write a NumPy program to create a 1-D array of 20 element spaced evenly on a log scale between 2. and 5., exclusive.     \n",
    "Expected Output:    \n",
    "[ 100. 141.25375446 199.5262315 281.83829313    \n",
    "......................    \n",
    "25118.8643151 35481.33892336 50118.72336273 70794.57843841]    \n",
    "    \n",
    "    "
   ]
  },
  {
   "cell_type": "code",
   "execution_count": null,
   "metadata": {},
   "outputs": [],
   "source": []
  },
  {
   "cell_type": "markdown",
   "metadata": {},
   "source": [
    "# 47. Write a NumPy program to create an array which looks like below array.     \n",
    "Expected Output:    \n",
    "[[ 0. 0. 0.]    \n",
    "...........    \n",
    "[ 1. 1. 1.]]    \n",
    "    \n",
    "    "
   ]
  },
  {
   "cell_type": "code",
   "execution_count": null,
   "metadata": {},
   "outputs": [],
   "source": []
  },
  {
   "cell_type": "markdown",
   "metadata": {},
   "source": [
    "# 48. Write a NumPy program to create an array which looks like below array.     \n",
    "Expected Output:    \n",
    "[[ 2 3 4]    \n",
    "[ 5 6 7]    \n",
    "[ 0 9 10]    \n",
    "[ 0 0 13]]    \n",
    "    \n",
    "    "
   ]
  },
  {
   "cell_type": "code",
   "execution_count": null,
   "metadata": {},
   "outputs": [],
   "source": []
  },
  {
   "cell_type": "markdown",
   "metadata": {},
   "source": [
    "# 49. Write a NumPy program to collapse a 3-D array into one dimension array.     \n",
    "Expected Output:    \n",
    "3-D array:    \n",
    "[[ 1. 0. 0.]    \n",
    "[ 0. 1. 0.]    \n",
    "[ 0. 0. 1.]]    \n",
    "One dimension array:    \n",
    "[ 1. 0. 0. 0. 1. 0. 0. 0. 1.]    \n",
    "    \n",
    "    "
   ]
  },
  {
   "cell_type": "code",
   "execution_count": null,
   "metadata": {},
   "outputs": [],
   "source": []
  },
  {
   "cell_type": "markdown",
   "metadata": {},
   "source": [
    "# 50. Write a NumPy program to find the 4th element of a specified array.     \n",
    "Expected Output:    \n",
    "[[ 2 4 6]    \n",
    "[ 6 8 10]]    \n",
    "Forth e1ement of the array:    \n",
    "6    \n",
    "    \n",
    "    "
   ]
  },
  {
   "cell_type": "code",
   "execution_count": null,
   "metadata": {},
   "outputs": [],
   "source": []
  },
  {
   "cell_type": "markdown",
   "metadata": {},
   "source": [
    "# 51. Write a NumPy program to interchange two axes of an array.     \n",
    "Sample array: [[1 2 3]]    \n",
    "Expected Output:    \n",
    "[[1]    \n",
    "[2]    \n",
    "[3]]    \n",
    "    \n",
    "    "
   ]
  },
  {
   "cell_type": "code",
   "execution_count": null,
   "metadata": {},
   "outputs": [],
   "source": []
  },
  {
   "cell_type": "markdown",
   "metadata": {},
   "source": [
    "# 52. Write a NumPy program to move axes of an array to new positions. Other axes remain in their original order.     \n",
    "\n",
    "```\n",
    "Expected Output:    \n",
    "\n",
    "(3, 4, 2)    \n",
    "(4, 2, 3)\n",
    "```\n",
    "    \n",
    "    "
   ]
  },
  {
   "cell_type": "code",
   "execution_count": null,
   "metadata": {},
   "outputs": [],
   "source": []
  },
  {
   "cell_type": "markdown",
   "metadata": {},
   "source": [
    "# 53. Write a NumPy program to move the specified axis backwards, until it lies in a given position.  \n",
    "\n",
    "```\n",
    "Move the following 3rd array axes to first position.    \n",
    "(2,3,4,5)    \n",
    "\n",
    "Sample Expected Output:    \n",
    "(2, 5, 3, 4)\n",
    "```\n",
    "    \n",
    "    "
   ]
  },
  {
   "cell_type": "code",
   "execution_count": null,
   "metadata": {},
   "outputs": [],
   "source": []
  },
  {
   "cell_type": "markdown",
   "metadata": {},
   "source": [
    "# 54. Write a NumPy program to convert specified inputs to arrays with at least one dimension.  \n",
    "\n",
    "```\n",
    "Expected Output:    \n",
    "\n",
    "[ 12.]    \n",
    "[[ 0. 1. 2.]    \n",
    "[ 3. 4. 5.]]    \n",
    "[array([1]), array([3, 4])]    \n",
    "```\n",
    "    \n",
    "    "
   ]
  },
  {
   "cell_type": "code",
   "execution_count": null,
   "metadata": {},
   "outputs": [],
   "source": []
  },
  {
   "cell_type": "markdown",
   "metadata": {},
   "source": [
    "# 55. Write a NumPy program to view inputs as arrays with at least two dimensions, three dimensions.     \n",
    "\n",
    "```\n",
    "Expected Output:    \n",
    "\n",
    "View inputs as arrays with at least two dimensions:    \n",
    "[10]    \n",
    "[[ 0. 1.]    \n",
    "[ 2. 3.]]    \n",
    "\n",
    "View inputs as arrays with at least three dimensions:    \n",
    "[[[15]]]    \n",
    "[[[ 0.]    \n",
    "[ 1.]    \n",
    "[ 2.]]]\n",
    "```\n",
    "    \n",
    "    "
   ]
  },
  {
   "cell_type": "code",
   "execution_count": null,
   "metadata": {},
   "outputs": [],
   "source": []
  },
  {
   "cell_type": "markdown",
   "metadata": {},
   "source": [
    "# 56. Write a NumPy program to insert a new axis within a 2-D array. \n",
    "\n",
    "\n",
    "2-D array of shape (3, 4).    \n",
    "\n",
    "```\n",
    "Expected Output:    \n",
    "New shape will be will be (3, 1, 4).    \n",
    "```\n",
    "    \n",
    "    "
   ]
  },
  {
   "cell_type": "code",
   "execution_count": null,
   "metadata": {},
   "outputs": [],
   "source": []
  },
  {
   "cell_type": "markdown",
   "metadata": {},
   "source": [
    "# 57. Write a NumPy program to remove single-dimensional entries from a specified shape.     \n",
    "\n",
    "```\n",
    "Specified shape: (3, 1, 4)    \n",
    "\n",
    "Expected Output: (3, 4)    \n",
    "```\n",
    "    \n",
    "    "
   ]
  },
  {
   "cell_type": "code",
   "execution_count": null,
   "metadata": {},
   "outputs": [],
   "source": []
  },
  {
   "cell_type": "markdown",
   "metadata": {},
   "source": [
    "# 58. Write a NumPy program to concatenate two 2-dimensional arrays.    \n",
    "\n",
    "```\n",
    "Expected Output:    \n",
    "\n",
    "Sample arrays: ([[0, 1, 3], [5, 7, 9]], [[0, 2, 4], [6, 8, 10]]   \n",
    "\n",
    "Expected Output:    \n",
    "[[ 0 1 3 0 2 4]    \n",
    "[ 5 7 9 6 8 10]]    \n",
    "```\n",
    "    \n",
    "    "
   ]
  },
  {
   "cell_type": "code",
   "execution_count": null,
   "metadata": {},
   "outputs": [],
   "source": []
  },
  {
   "cell_type": "markdown",
   "metadata": {},
   "source": [
    "# 59. Write a NumPy program to convert 1-D arrays as columns into a 2-D array.     \n",
    "\n",
    "```\n",
    "Sample array: (10,20,30), (40,50,60)   \n",
    "\n",
    "Expected Output:    \n",
    "[[10 40]    \n",
    "[20 50]    \n",
    "[30 60]]  \n",
    "```\n",
    "    \n",
    "    "
   ]
  },
  {
   "cell_type": "code",
   "execution_count": null,
   "metadata": {},
   "outputs": [],
   "source": []
  },
  {
   "cell_type": "markdown",
   "metadata": {},
   "source": [
    "# 60. Write a NumPy program to convert (in sequence depth wise (along third axis)) two 1-D arrays into a 2-D array.     \n",
    "\n",
    "```\n",
    "Sample array: (10,20,30), (40,50,60)    \n",
    "\n",
    "Expected Output:    \n",
    "[[[10 40]]    \n",
    "[[20 50]]    \n",
    "[[30 60]]]    \n",
    "```\n",
    "    "
   ]
  },
  {
   "cell_type": "code",
   "execution_count": null,
   "metadata": {},
   "outputs": [],
   "source": []
  }
 ],
 "metadata": {
  "kernelspec": {
   "display_name": "Python 3",
   "language": "python",
   "name": "python3"
  },
  "language_info": {
   "codemirror_mode": {
    "name": "ipython",
    "version": 3
   },
   "file_extension": ".py",
   "mimetype": "text/x-python",
   "name": "python",
   "nbconvert_exporter": "python",
   "pygments_lexer": "ipython3",
   "version": "3.8.5"
  },
  "toc": {
   "base_numbering": 1,
   "nav_menu": {},
   "number_sections": true,
   "sideBar": true,
   "skip_h1_title": false,
   "title_cell": "Table of Contents",
   "title_sidebar": "Contents",
   "toc_cell": false,
   "toc_position": {},
   "toc_section_display": true,
   "toc_window_display": false
  }
 },
 "nbformat": 4,
 "nbformat_minor": 4
}
