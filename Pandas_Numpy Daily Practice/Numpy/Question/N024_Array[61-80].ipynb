{
 "cells": [
  {
   "cell_type": "markdown",
   "metadata": {},
   "source": [
    "<a href='https://github.com/SeWonKwon' ><div> <img src ='https://slid-capture.s3.ap-northeast-2.amazonaws.com/public/image_upload/6556674324ed41a289a354258718280d/964e5a8b-75ad-41fc-ae75-0ca66d06fbc7.png' align='left' /> </div></a>\n"
   ]
  },
  {
   "cell_type": "markdown",
   "metadata": {},
   "source": [
    "출처: https://www.w3resource.com/python-exercises/numpy/index-array.php"
   ]
  },
  {
   "cell_type": "markdown",
   "metadata": {},
   "source": [
    "# 61. Write a NumPy program to split an array of 14 elements into 3 arrays, each of which has 2, 4, and 8 elements in the original order.   \n",
    "\n",
    "Expected Output:    \n",
    "\n",
    "```\n",
    "Original array: [ 1 2 3 4 5 6 7 8 9 10 11 12 13 14]    \n",
    "\n",
    "After splitting:    \n",
    "[array([1, 2]), array([3, 4, 5, 6]), array([ 7, 8, 9, 10, 11, 12, 13, 14])]    \n",
    "```\n",
    "    \n",
    "    "
   ]
  },
  {
   "cell_type": "code",
   "execution_count": null,
   "metadata": {},
   "outputs": [],
   "source": []
  },
  {
   "cell_type": "markdown",
   "metadata": {},
   "source": [
    "# 62. Write a NumPy program to split of an array of shape 4x4 it into two arrays along the second axis.     \n",
    "\n",
    "```\n",
    "Sample array :    \n",
    "[[ 0 1 2 3]    \n",
    "........    \n",
    "[12 13 14 15]]    \n",
    "\n",
    "Expected Output:    \n",
    "[array([[ 0, 1],    \n",
    "[ 4, 5],    \n",
    "[ 8, 9],    \n",
    "[12, 13]]), array([[ 2, 3],    \n",
    "[ 6, 7],    \n",
    "[10, 11],    \n",
    "[14, 15]]), array([], shape=(4, 0), dtype=int64)]    \n",
    "```\n",
    "    \n",
    "    "
   ]
  },
  {
   "cell_type": "code",
   "execution_count": null,
   "metadata": {},
   "outputs": [],
   "source": []
  },
  {
   "cell_type": "markdown",
   "metadata": {},
   "source": [
    "# 63. Write a NumPy program to get the number of nonzero elements in an array.     \n",
    "\n",
    "\n",
    "Expected Output:    \n",
    "\n",
    "```\n",
    "Original array:    \n",
    "[[ 0 10 20]    \n",
    "[20 30 40]]    \n",
    "\n",
    "Number of non zero elements in the above array:    \n",
    "5    \n",
    "```\n",
    "    \n",
    "    "
   ]
  },
  {
   "cell_type": "code",
   "execution_count": null,
   "metadata": {},
   "outputs": [],
   "source": []
  },
  {
   "cell_type": "markdown",
   "metadata": {},
   "source": [
    "# 64. Write a NumPy program to create a 5x5 matrix with row values ranging from 0 to 4.     \n",
    "\n",
    "```\n",
    "Original array:    \n",
    "[[ 0. 0. 0. 0. 0.]    \n",
    ".........    \n",
    "[ 0. 0. 0. 0. 0.]]    \n",
    "\n",
    "Row values ranging from 0 to 4.    \n",
    "[[ 0. 1. 2. 3. 4.]    \n",
    "..........    \n",
    "[ 0. 1. 2. 3. 4.]]    \n",
    "```\n",
    "    \n",
    "    "
   ]
  },
  {
   "cell_type": "code",
   "execution_count": null,
   "metadata": {},
   "outputs": [],
   "source": []
  },
  {
   "cell_type": "markdown",
   "metadata": {},
   "source": [
    "# 65. Write a NumPy program to test whether specified values are present in an array.     \n",
    "\n",
    "Expected Output:    \n",
    "\n",
    "```\n",
    "Original array:    \n",
    "[[ 1.12 2. 3.45]    \n",
    "[ 2.33 5.12 6. ]]    \n",
    "True    \n",
    "False    \n",
    "True    \n",
    "False    \n",
    "True    \n",
    "```\n",
    "    \n",
    "    \n",
    "    "
   ]
  },
  {
   "cell_type": "code",
   "execution_count": null,
   "metadata": {},
   "outputs": [],
   "source": []
  },
  {
   "cell_type": "markdown",
   "metadata": {},
   "source": [
    "# 66. Write a NumPy program to create a vector of size 10 with values ranging from 0 to 1, both excluded.     \n",
    "\n",
    "Expected Output:    \n",
    "```\n",
    "[ 0.09090909 0.18181818 0.27272727 0.36363636 0.45454545 0.54545455    \n",
    "0.63636364 0.72727273 0.81818182 0.90909091]    \n",
    "```\n",
    "    \n",
    "    "
   ]
  },
  {
   "cell_type": "code",
   "execution_count": null,
   "metadata": {},
   "outputs": [],
   "source": []
  },
  {
   "cell_type": "markdown",
   "metadata": {},
   "source": [
    "# 67. Write a NumPy program to make an array immutable (read-only).     \n",
    "\n",
    "\n",
    "Expected Output:    \n",
    "\n",
    "```\n",
    "Test the array is read-only or not:    \n",
    "Try to change the value of the first element:    \n",
    "Traceback (most recent call last):    \n",
    "File \"19236bd0-0bd9-11e7-a232-c706d0968eb6.py\", line 6, in    \n",
    "x[0] = 1    \n",
    "ValueError: assignment destination is read-only    \n",
    "    \n",
    "```\n",
    "    "
   ]
  },
  {
   "cell_type": "code",
   "execution_count": null,
   "metadata": {},
   "outputs": [],
   "source": []
  },
  {
   "cell_type": "markdown",
   "metadata": {},
   "source": [
    "# 68. Write a NumPy program (using NumPy) to sum of all the multiples of 3 or 5 below 100.     \n",
    "\n",
    "```\n",
    "Expected Output:    \n",
    "[ 3 5 6 9 10 12 15 18 20 21 24 25 27 30 33 35 36 39 40 42 45 48 50 51 54    \n",
    "55 57 60 63 65 66 69 70 72 75 78 80 81 84 85 87 90 93 95 96 99]    \n",
    "2318    \n",
    "```\n",
    "    \n",
    "    "
   ]
  },
  {
   "cell_type": "code",
   "execution_count": null,
   "metadata": {},
   "outputs": [],
   "source": []
  },
  {
   "cell_type": "markdown",
   "metadata": {},
   "source": [
    "# 69. Write a NumPy program to create an array with 10^3 elements.     \n",
    "\n",
    "```\n",
    "Expected Output:    \n",
    "[ 0. 1. 2. 3. 4. 5. 6. 7. 8. 9. 10. 11.    \n",
    "12. 13. 14. 15. 16. 17. 18. 19. 20. 21. 22. 23.    \n",
    "24. 25. 26. 27. 28. 29. 30. 31. 32. 33. 34. 35.    \n",
    "- - - - - - - - - - - - - - - - -    \n",
    "972. 973. 974. 975. 976. 977. 978. 979. 980. 981. 982. 983.    \n",
    "984. 985. 986. 987. 988. 989. 990. 991. 992. 993. 994. 995.    \n",
    "996. 997. 998. 999.]    \n",
    "```\n",
    "    \n",
    "    "
   ]
  },
  {
   "cell_type": "code",
   "execution_count": null,
   "metadata": {},
   "outputs": [],
   "source": []
  },
  {
   "cell_type": "markdown",
   "metadata": {},
   "source": [
    "# 70. Write a NumPy program to create display every element of a NumPy array.     \n",
    "\n",
    "```\n",
    "Expected Output:    \n",
    "0 1 2 3 4 5 6 7 8 9 10 11    \n",
    "```\n",
    "    \n",
    "    \n",
    "    "
   ]
  },
  {
   "cell_type": "code",
   "execution_count": null,
   "metadata": {},
   "outputs": [],
   "source": []
  },
  {
   "cell_type": "markdown",
   "metadata": {},
   "source": [
    "# 71. Write a NumPy program to create and display every element of a NumPy array in Fortran order.     \n",
    "\n",
    "```\n",
    "Expected Output:    \n",
    "\n",
    "Elements of the array in Fortan array:    \n",
    "0 4 8 1 5 9 2 6 10 3 7 11    \n",
    "    \n",
    "```    \n",
    "    \n",
    "    "
   ]
  },
  {
   "cell_type": "code",
   "execution_count": null,
   "metadata": {},
   "outputs": [],
   "source": []
  },
  {
   "cell_type": "markdown",
   "metadata": {},
   "source": [
    "# 72. Write a NumPy program to create a 5x5x5 cube of 1's.     \n",
    "\n",
    "```\n",
    "Expected Output:    \n",
    "\n",
    "[[[1 1 1 1 1]    \n",
    "[1 1 1 1 1]    \n",
    "[1 1 1 1 1]    \n",
    "[1 1 1 1 1]    \n",
    "[1 1 1 1 1]]    \n",
    "............    \n",
    "[[1 1 1 1 1]    \n",
    "[1 1 1 1 1]    \n",
    "[1 1 1 1 1]    \n",
    "[1 1 1 1 1]    \n",
    "[1 1 1 1 1]]]    \n",
    "```\n",
    "    \n",
    "    "
   ]
  },
  {
   "cell_type": "code",
   "execution_count": null,
   "metadata": {},
   "outputs": [],
   "source": []
  },
  {
   "cell_type": "markdown",
   "metadata": {},
   "source": [
    "# 73. Write a NumPy program to create an array of (3, 4) shape, multiply every element value by 3 and display the new array.     \n",
    "\n",
    "```\n",
    "Expected Output:    \n",
    "\n",
    "Original array elements:    \n",
    "[[ 0 1 2 3]    \n",
    "[ 4 5 6 7]    \n",
    "[ 8 9 10 11]]    \n",
    "\n",
    "New array elements:    \n",
    "[[ 0 3 6 9]    \n",
    "[12 15 18 21]    \n",
    "[24 27 30 33]]    \n",
    "```\n",
    "    \n",
    "    "
   ]
  },
  {
   "cell_type": "code",
   "execution_count": null,
   "metadata": {},
   "outputs": [],
   "source": []
  },
  {
   "cell_type": "markdown",
   "metadata": {},
   "source": [
    "74. Write a NumPy program to combine a one and a two dimensional array together and display their elements.     \n",
    "\n",
    "```\n",
    "Expected Output:    \n",
    "\n",
    "One dimensional array:    \n",
    "[0 1 2 3]    \n",
    "\n",
    "Two dimensional array:    \n",
    "[[0 1 2 3]    \n",
    "[4 5 6 7]]    \n",
    "0:0    \n",
    "1:1    \n",
    "2:2    \n",
    "3:3    \n",
    "0:4    \n",
    "1:5    \n",
    "2:6    \n",
    "3:7    \n",
    "```\n",
    "    \n",
    "    "
   ]
  },
  {
   "cell_type": "markdown",
   "metadata": {},
   "source": [
    "# 75. Write a NumPy program to create an array of zeros and three column types (integer, float, character).     \n",
    "\n",
    "```\n",
    "Expected Output:    \n",
    "\n",
    "[(1, 2., b'Albert Einstein') (2, 2., b'Edmond Halley')    \n",
    "(3, 3., b'Gertrude B. Elion')]    \n",
    "```\n",
    "    \n",
    "    "
   ]
  },
  {
   "cell_type": "code",
   "execution_count": null,
   "metadata": {},
   "outputs": [],
   "source": []
  },
  {
   "cell_type": "markdown",
   "metadata": {},
   "source": [
    "# 76. Write a NumPy program to create a function cube which cubes all the elements of an array.     \n",
    "\n",
    "```\n",
    "Expected Output:    \n",
    "[ 1 8 27]    \n",
    "```\n",
    "    \n",
    "    "
   ]
  },
  {
   "cell_type": "code",
   "execution_count": null,
   "metadata": {},
   "outputs": [],
   "source": []
  },
  {
   "cell_type": "markdown",
   "metadata": {},
   "source": [
    "# 77. Write a NumPy program to create an array of (3, 4) shape and convert the array elements in smaller chunks.     \n",
    "\n",
    "```\n",
    "Expected Output:    \n",
    "\n",
    "Original array elements:    \n",
    "[[ 0 1 2 3]    \n",
    "[ 4 5 6 7]    \n",
    "[ 8 9 10 11]]    \n",
    "[0 4 8]    \n",
    "[1 5 9]    \n",
    "[ 2 6 10]    \n",
    "[ 3 7 11]    \n",
    "```\n",
    "    \n",
    "    "
   ]
  },
  {
   "cell_type": "code",
   "execution_count": null,
   "metadata": {},
   "outputs": [],
   "source": []
  },
  {
   "cell_type": "markdown",
   "metadata": {},
   "source": [
    "# 78. Write a NumPy program to create a record array from a (flat) list of arrays.     \n",
    "\n",
    "```\n",
    "Sample arrays: [1,2,3,4], ['Red', 'Green', 'White', 'Orange'], [12.20,15,20,40]    \n",
    "\n",
    "Expected Output:    \n",
    "(1, 'Red', 12.2)    \n",
    "(2, 'Green', 15.0)    \n",
    "(3, 'White', 20.0)    \n",
    "```\n",
    "    \n",
    "    "
   ]
  },
  {
   "cell_type": "code",
   "execution_count": null,
   "metadata": {},
   "outputs": [],
   "source": []
  },
  {
   "cell_type": "markdown",
   "metadata": {},
   "source": [
    "# 79. Write a NumPy program to generate a generic 2D Gaussian-like array.    \n",
    "```\n",
    "Expected Output:    \n",
    "\n",
    "2D Gaussian-like array:    \n",
    "[[ 0.36787944 0.44822088 0.51979489 0.57375342 0.60279818 0.60279818    \n",
    "0.57375342 0.51979489 0.44822088 0.36787944]    \n",
    "..........    \n",
    "[ 0.36787944 0.44822088 0.51979489 0.57375342 0.60279818 0.60279818    \n",
    "0.57375342 0.51979489 0.44822088 0.36787944]]    \n",
    "```\n",
    "    \n",
    "    \n",
    "    "
   ]
  },
  {
   "cell_type": "code",
   "execution_count": null,
   "metadata": {},
   "outputs": [],
   "source": []
  },
  {
   "cell_type": "markdown",
   "metadata": {},
   "source": [
    "# 80. Write a NumPy program to convert a NumPy array into Python list structure.     \n",
    "\n",
    "```\n",
    "Expected Output:    \n",
    "\n",
    "Original array elements:    \n",
    "[[0 1]    \n",
    "[2 3]    \n",
    "[4 5]]    \n",
    "Array to list:    \n",
    "[[0, 1], [2, 3], [4, 5]]    \n",
    "```\n",
    "    "
   ]
  },
  {
   "cell_type": "code",
   "execution_count": null,
   "metadata": {},
   "outputs": [],
   "source": []
  }
 ],
 "metadata": {
  "kernelspec": {
   "display_name": "Python 3",
   "language": "python",
   "name": "python3"
  },
  "language_info": {
   "codemirror_mode": {
    "name": "ipython",
    "version": 3
   },
   "file_extension": ".py",
   "mimetype": "text/x-python",
   "name": "python",
   "nbconvert_exporter": "python",
   "pygments_lexer": "ipython3",
   "version": "3.8.5"
  },
  "toc": {
   "base_numbering": 1,
   "nav_menu": {},
   "number_sections": true,
   "sideBar": true,
   "skip_h1_title": false,
   "title_cell": "Table of Contents",
   "title_sidebar": "Contents",
   "toc_cell": false,
   "toc_position": {},
   "toc_section_display": true,
   "toc_window_display": false
  }
 },
 "nbformat": 4,
 "nbformat_minor": 4
}
