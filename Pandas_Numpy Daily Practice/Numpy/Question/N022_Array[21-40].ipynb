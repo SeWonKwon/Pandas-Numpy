{
 "cells": [
  {
   "cell_type": "markdown",
   "metadata": {},
   "source": [
    "<a href='https://github.com/SeWonKwon' ><div> <img src ='https://slid-capture.s3.ap-northeast-2.amazonaws.com/public/image_upload/6556674324ed41a289a354258718280d/964e5a8b-75ad-41fc-ae75-0ca66d06fbc7.png' align='left' /> </div></a>\n"
   ]
  },
  {
   "cell_type": "markdown",
   "metadata": {},
   "source": [
    "출처: https://www.w3resource.com/python-exercises/numpy/index-array.php"
   ]
  },
  {
   "cell_type": "markdown",
   "metadata": {},
   "source": [
    "#    \n",
    "21. Write a NumPy program to find the set exclusive-or of two arrays. Set exclusive-or will return the sorted, unique values that are in only one (not both) of the input arrays.     \n",
    "\n",
    "```\n",
    "Array1: [ 0 10 20 40 60 80]    \n",
    "Array2: [10, 30, 40, 50, 70]    \n",
    "\n",
    "Unique values that are in only one (not both) of the input arrays:    \n",
    "[ 0 20 30 50 60 70 80]    \n",
    "```\n",
    "    \n",
    "    "
   ]
  },
  {
   "cell_type": "code",
   "execution_count": null,
   "metadata": {},
   "outputs": [],
   "source": []
  },
  {
   "cell_type": "markdown",
   "metadata": {},
   "source": [
    "# 22. Write a NumPy program to find the union of two arrays. Union will return the unique, sorted array of values that are in either of the two input arrays.     \n",
    "\n",
    "```\n",
    "Array1: [ 0 10 20 40 60 80]    \n",
    "Array2: [10, 30, 40, 50, 70]    \n",
    "\n",
    "Unique sorted array of values that are in either of the two input arrays:    \n",
    "[ 0 10 20 30 40 50 60 70 80]    \n",
    "```\n",
    "    "
   ]
  },
  {
   "cell_type": "code",
   "execution_count": null,
   "metadata": {},
   "outputs": [],
   "source": []
  },
  {
   "cell_type": "markdown",
   "metadata": {},
   "source": [
    "# 23. Write a NumPy program to test whether all elements in an array evaluate to True.     \n",
    "Note: 0 evaluates to False in NumPy.    \n",
    "    "
   ]
  },
  {
   "cell_type": "code",
   "execution_count": null,
   "metadata": {},
   "outputs": [],
   "source": []
  },
  {
   "cell_type": "markdown",
   "metadata": {},
   "source": [
    "# 24. Write a NumPy program to test whether any array element along a given axis evaluates to True.     \n",
    "Note: 0 evaluates to False in NumPy.    "
   ]
  },
  {
   "cell_type": "code",
   "execution_count": null,
   "metadata": {},
   "outputs": [],
   "source": []
  },
  {
   "cell_type": "markdown",
   "metadata": {},
   "source": [
    "# 25. Write a NumPy program to construct an array by repeating.     \n",
    "\n",
    "```\n",
    "Sample array: [1, 2, 3, 4]    \n",
    "\n",
    "Expected Output:    \n",
    "Original array    \n",
    "[1, 2, 3, 4]    \n",
    "Repeating 2 times    \n",
    "[1 2 3 4 1 2 3 4]    \n",
    "Repeating 3 times    \n",
    "[1 2 3 4 1 2 3 4 1 2 3 4]    \n",
    "    \n",
    "```    \n",
    "    \n"
   ]
  },
  {
   "cell_type": "code",
   "execution_count": null,
   "metadata": {},
   "outputs": [],
   "source": []
  },
  {
   "cell_type": "markdown",
   "metadata": {},
   "source": [
    "# 16. Write a NumPy program to repeat elements of an array.     \n",
    "\n",
    "\n",
    "```\n",
    "Expected Output:    \n",
    "[3 3 3 3]    \n",
    "[1 1 2 2 3 3 4 4]    \n",
    "```    \n",
    "    "
   ]
  },
  {
   "cell_type": "code",
   "execution_count": null,
   "metadata": {},
   "outputs": [],
   "source": []
  },
  {
   "cell_type": "markdown",
   "metadata": {},
   "source": [
    "# 27. Write a NumPy program to find the indices of the maximum and minimum values along the given axis of an array.     \n",
    "\n",
    "```\n",
    "Original array: [1 2 3 4 5 6]    \n",
    "Maximum Values: 5    \n",
    "Minimum Values: 0    \n",
    "```    \n",
    "    "
   ]
  },
  {
   "cell_type": "code",
   "execution_count": null,
   "metadata": {},
   "outputs": [],
   "source": []
  },
  {
   "cell_type": "markdown",
   "metadata": {},
   "source": [
    "# 28. Write a NumPy program compare two given arrays.     \n",
    "\n",
    "```\n",
    "Array a: [1 2]    \n",
    "Array b: [4 5]    \n",
    "a > b    \n",
    "[False False]    \n",
    "a >= b    \n",
    "[False False]    \n",
    "a < b    \n",
    "[ True True]    \n",
    "a <= b    \n",
    "[ True True]    \n",
    "```    \n",
    "    "
   ]
  },
  {
   "cell_type": "code",
   "execution_count": null,
   "metadata": {},
   "outputs": [],
   "source": []
  },
  {
   "cell_type": "markdown",
   "metadata": {},
   "source": [
    "# 29. Write a NumPy program to sort an along the first, last axis of an array.     \n",
    "\n",
    "```\n",
    "Sample array: [[2,5],[4,4]]    \n",
    "\n",
    "Expected Output:    \n",
    "Original array:    \n",
    "[[4 6]    \n",
    "[2 1]]    \n",
    "Sort along the first axis:    \n",
    "[[2 1]    \n",
    "[4 6]]    \n",
    "Sort along the last axis:    \n",
    "[[1 2]    \n",
    "[4 6]]    \n",
    "    \n",
    "```"
   ]
  },
  {
   "cell_type": "code",
   "execution_count": null,
   "metadata": {},
   "outputs": [],
   "source": []
  },
  {
   "cell_type": "markdown",
   "metadata": {},
   "source": [
    "# 30. Write a NumPy program to sort pairs of first name and last name return their indices. (first by last name, then by first name).     \n",
    "\n",
    "```\n",
    "first_names = (Betsey, Shelley, Lanell, Genesis, Margery)    \n",
    "last_names = (Battle, Brien, Plotner, Stahl, Woolum)    \n",
    "\n",
    "Expected Output:    \n",
    "[1 3 2 4 0]    \n",
    "```    \n",
    "    "
   ]
  },
  {
   "cell_type": "code",
   "execution_count": null,
   "metadata": {},
   "outputs": [],
   "source": []
  },
  {
   "cell_type": "markdown",
   "metadata": {},
   "source": [
    "# 31. Write a NumPy program to get the values and indices of the elements that are bigger than 10 in a given array.     \n",
    "\n",
    "```\n",
    "Original array:    \n",
    "[[ 0 10 20]    \n",
    "[20 30 40]]    \n",
    "Values bigger than 10 = [20 20 30 40]    \n",
    "Their indices are (array([0, 1, 1, 1]), array([2, 0, 1, 2]))    \n",
    "```"
   ]
  },
  {
   "cell_type": "code",
   "execution_count": null,
   "metadata": {},
   "outputs": [],
   "source": []
  },
  {
   "cell_type": "markdown",
   "metadata": {},
   "source": [
    "# 32. Write a NumPy program to save a NumPy array to a text file.     \n",
    "    \n",
    "    "
   ]
  },
  {
   "cell_type": "markdown",
   "metadata": {},
   "source": [
    "# 33. Write a NumPy program to find the memory size of a NumPy array.     \n",
    "\n",
    "Expected Output:    \n",
    "128 bytes    \n",
    "    \n",
    "    "
   ]
  },
  {
   "cell_type": "markdown",
   "metadata": {},
   "source": [
    "# 34. Write a NumPy program to create an array of ones and an array of zeros.     \n",
    "\n",
    "\n",
    "```\n",
    "Expected Output:    \n",
    "Create an array of zeros    \n",
    "Default type is float    \n",
    "[[ 0. 0.]]    \n",
    "Type changes to int    \n",
    "[[0 0]]    \n",
    "Create an array of ones    \n",
    "Default type is float    \n",
    "[[ 1. 1.]]    \n",
    "Type changes to int    \n",
    "[[1 1]]    \n",
    "``` \n",
    "    "
   ]
  },
  {
   "cell_type": "markdown",
   "metadata": {},
   "source": [
    "# 35. Write a NumPy program to change the dimension of an array.     \n",
    "\n",
    "\n",
    "```\n",
    "Expected Output:    \n",
    "6 rows and 0 columns    \n",
    "(6,)    \n",
    "(3, 3) -> 3 rows and 3 columns    \n",
    "[[1 2 3]    \n",
    "[4 5 6]    \n",
    "[7 8 9]]    \n",
    "Change array shape to (3, 3) -> 3 rows and 3 columns    \n",
    "[[1 2 3]    \n",
    "[4 5 6]    \n",
    "[7 8 9]]    \n",
    "```    \n",
    "    "
   ]
  },
  {
   "cell_type": "markdown",
   "metadata": {},
   "source": [
    "# 36. Write a NumPy program to create a contiguous flattened array.     \n",
    "\n",
    "\n",
    "```\n",
    "Original array:    \n",
    "[[10 20 30]    \n",
    "[20 40 50]]    \n",
    "New flattened array:    \n",
    "[10 20 30 20 40 50]    \n",
    "```\n",
    "\n",
    "    "
   ]
  },
  {
   "cell_type": "markdown",
   "metadata": {},
   "source": [
    "# 37. Write a NumPy program to create a 2-dimensional array of size 2 x 3 (composed of 4-byte integer elements), also print the shape, type and data type of the array.     \n",
    "\n",
    "\n",
    "```\n",
    "Expected Output:    \n",
    "    \n",
    "(2, 3)    \n",
    "int32    \n",
    "    \n",
    "```"
   ]
  },
  {
   "cell_type": "markdown",
   "metadata": {},
   "source": [
    "# 38. Write a NumPy program to create a new shape to an array without changing its data.     \n",
    "\n",
    "```\n",
    "Reshape 3x2:    \n",
    "[[1 2]    \n",
    "[3 4]    \n",
    "[5 6]]    \n",
    "\n",
    "Reshape 2x3:    \n",
    "[[1 2 3]    \n",
    "[4 5 6]]    \n",
    "``` \n",
    "    "
   ]
  },
  {
   "cell_type": "markdown",
   "metadata": {},
   "source": [
    "# 39. Write a NumPy program to change the data type of an array.     \n",
    "\n",
    "```\n",
    "Expected Output:    \n",
    "[[ 2 4 6]    \n",
    "[ 6 8 10]]    \n",
    "Data type of the array x is: int32    \n",
    "New Type: float64    \n",
    "[[ 2. 4. 6.]    \n",
    "[ 6. 8. 10.]]    \n",
    "```    \n",
    "    \n"
   ]
  },
  {
   "cell_type": "markdown",
   "metadata": {},
   "source": [
    "# 40. Write a NumPy program to create a new array of 3*5, filled with 2.     \n",
    "\n",
    "Expected Output:    \n",
    "[[2 2 2 2 2]    \n",
    "[2 2 2 2 2]    \n",
    "[2 2 2 2 2]]    \n",
    "[[2 2 2 2 2]    \n",
    "[2 2 2 2 2]    \n",
    "[2 2 2 2 2]]    \n",
    "    \n",
    "    "
   ]
  }
 ],
 "metadata": {
  "kernelspec": {
   "display_name": "Python 3",
   "language": "python",
   "name": "python3"
  },
  "language_info": {
   "codemirror_mode": {
    "name": "ipython",
    "version": 3
   },
   "file_extension": ".py",
   "mimetype": "text/x-python",
   "name": "python",
   "nbconvert_exporter": "python",
   "pygments_lexer": "ipython3",
   "version": "3.8.5"
  },
  "toc": {
   "base_numbering": 1,
   "nav_menu": {},
   "number_sections": true,
   "sideBar": true,
   "skip_h1_title": false,
   "title_cell": "Table of Contents",
   "title_sidebar": "Contents",
   "toc_cell": false,
   "toc_position": {},
   "toc_section_display": true,
   "toc_window_display": false
  }
 },
 "nbformat": 4,
 "nbformat_minor": 4
}
