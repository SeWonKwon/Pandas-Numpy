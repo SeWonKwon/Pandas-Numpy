{
 "cells": [
  {
   "cell_type": "markdown",
   "metadata": {},
   "source": [
    "<a href='https://github.com/SeWonKwon' ><div> <img src ='https://slid-capture.s3.ap-northeast-2.amazonaws.com/public/image_upload/6556674324ed41a289a354258718280d/964e5a8b-75ad-41fc-ae75-0ca66d06fbc7.png' align='left' /> </div></a>\n"
   ]
  },
  {
   "cell_type": "markdown",
   "metadata": {},
   "source": [
    "출처: https://www.w3resource.com/python-exercises/numpy/index-array.php"
   ]
  },
  {
   "cell_type": "code",
   "execution_count": 1,
   "metadata": {
    "ExecuteTime": {
     "end_time": "2021-07-24T02:31:12.684764Z",
     "start_time": "2021-07-24T02:31:12.534741Z"
    }
   },
   "outputs": [],
   "source": [
    "import numpy as np"
   ]
  },
  {
   "cell_type": "markdown",
   "metadata": {},
   "source": [
    "# 21. Write a NumPy program to find the set exclusive-or of two arrays. Set exclusive-or will return the sorted, unique values that are in only one (not both) of the input arrays.     \n",
    "\n",
    "```\n",
    "Array1: [ 0 10 20 40 60 80]    \n",
    "Array2: [10, 30, 40, 50, 70]    \n",
    "\n",
    "Unique values that are in only one (not both) of the input arrays:    \n",
    "[ 0 20 30 50 60 70 80]    \n",
    "```\n",
    "    \n",
    "    "
   ]
  },
  {
   "cell_type": "code",
   "execution_count": 2,
   "metadata": {
    "ExecuteTime": {
     "end_time": "2021-07-24T02:31:12.699767Z",
     "start_time": "2021-07-24T02:31:12.688767Z"
    }
   },
   "outputs": [],
   "source": [
    "array1 = np.array([0, 10, 20, 40, 60, 80])\n",
    "array2 = np.array([10, 30, 40, 50, 70])\n"
   ]
  },
  {
   "cell_type": "code",
   "execution_count": 3,
   "metadata": {
    "ExecuteTime": {
     "end_time": "2021-07-24T02:31:12.714599Z",
     "start_time": "2021-07-24T02:31:12.704770Z"
    }
   },
   "outputs": [],
   "source": [
    "arr_uni = np.union1d(array1, array2) "
   ]
  },
  {
   "cell_type": "code",
   "execution_count": 4,
   "metadata": {
    "ExecuteTime": {
     "end_time": "2021-07-24T02:31:12.729642Z",
     "start_time": "2021-07-24T02:31:12.717603Z"
    }
   },
   "outputs": [],
   "source": [
    "arr_inter = np.intersect1d(array1, array2)"
   ]
  },
  {
   "cell_type": "code",
   "execution_count": 5,
   "metadata": {
    "ExecuteTime": {
     "end_time": "2021-07-24T02:31:12.744667Z",
     "start_time": "2021-07-24T02:31:12.731651Z"
    }
   },
   "outputs": [
    {
     "data": {
      "text/plain": [
       "array([ 0, 20, 30, 50, 60, 70, 80])"
      ]
     },
     "execution_count": 5,
     "metadata": {},
     "output_type": "execute_result"
    }
   ],
   "source": [
    "np.setdiff1d(arr_uni, arr_inter)"
   ]
  },
  {
   "cell_type": "markdown",
   "metadata": {},
   "source": [
    "다른 답안"
   ]
  },
  {
   "cell_type": "code",
   "execution_count": 6,
   "metadata": {
    "ExecuteTime": {
     "end_time": "2021-07-24T02:31:12.759670Z",
     "start_time": "2021-07-24T02:31:12.746661Z"
    }
   },
   "outputs": [
    {
     "data": {
      "text/plain": [
       "array([ 0, 20, 30, 50, 60, 70, 80])"
      ]
     },
     "execution_count": 6,
     "metadata": {},
     "output_type": "execute_result"
    }
   ],
   "source": [
    "np.setxor1d(array1, array2)"
   ]
  },
  {
   "cell_type": "markdown",
   "metadata": {},
   "source": [
    "# 22. Write a NumPy program to find the union of two arrays. Union will return the unique, sorted array of values that are in either of the two input arrays.     \n",
    "\n",
    "```\n",
    "Array1: [ 0 10 20 40 60 80]    \n",
    "Array2: [10, 30, 40, 50, 70]    \n",
    "\n",
    "Unique sorted array of values that are in either of the two input arrays:    \n",
    "[ 0 10 20 30 40 50 60 70 80]    \n",
    "```\n",
    "    "
   ]
  },
  {
   "cell_type": "code",
   "execution_count": 7,
   "metadata": {
    "ExecuteTime": {
     "end_time": "2021-07-24T02:31:12.774673Z",
     "start_time": "2021-07-24T02:31:12.762659Z"
    }
   },
   "outputs": [],
   "source": [
    "array1 = np.array([0, 10, 20, 40, 60, 80])\n",
    "array2 = np.array([10, 30, 40, 50, 70])"
   ]
  },
  {
   "cell_type": "code",
   "execution_count": 8,
   "metadata": {
    "ExecuteTime": {
     "end_time": "2021-07-24T02:31:12.789677Z",
     "start_time": "2021-07-24T02:31:12.777664Z"
    }
   },
   "outputs": [
    {
     "data": {
      "text/plain": [
       "array([ 0, 10, 20, 30, 40, 50, 60, 70, 80])"
      ]
     },
     "execution_count": 8,
     "metadata": {},
     "output_type": "execute_result"
    }
   ],
   "source": [
    "np.union1d(array1, array2)"
   ]
  },
  {
   "cell_type": "markdown",
   "metadata": {},
   "source": [
    "# ★ 23. Write a NumPy program to test whether all elements in an array evaluate to True.     \n",
    "Note: 0 evaluates to False in NumPy.    \n",
    "    "
   ]
  },
  {
   "cell_type": "markdown",
   "metadata": {},
   "source": [
    "<img src='https://www.w3resource.com/w3r_images/python-numpy-image-exercise-23.png' width='600' />"
   ]
  },
  {
   "cell_type": "code",
   "execution_count": 9,
   "metadata": {
    "ExecuteTime": {
     "end_time": "2021-07-24T02:31:12.804664Z",
     "start_time": "2021-07-24T02:31:12.791665Z"
    }
   },
   "outputs": [
    {
     "name": "stdout",
     "output_type": "stream",
     "text": [
      "False\n",
      "True\n",
      "False\n",
      "True\n"
     ]
    }
   ],
   "source": [
    "import numpy as np\n",
    "print(np.all([[True,False],[True,True]]))\n",
    "print(np.all([[True,True],[True,True]]))\n",
    "print(np.all([10, 20, 0, -50]))\n",
    "print(np.all([10, 20, -50]))"
   ]
  },
  {
   "cell_type": "markdown",
   "metadata": {},
   "source": [
    "# 24. Write a NumPy program to test whether any array element along a given axis evaluates to True.     \n",
    "Note: 0 evaluates to False in NumPy.    "
   ]
  },
  {
   "cell_type": "code",
   "execution_count": 10,
   "metadata": {
    "ExecuteTime": {
     "end_time": "2021-07-24T02:31:12.819672Z",
     "start_time": "2021-07-24T02:31:12.807676Z"
    }
   },
   "outputs": [
    {
     "data": {
      "text/plain": [
       "array([[ True, False,  True],\n",
       "       [ True,  True,  True]])"
      ]
     },
     "execution_count": 10,
     "metadata": {},
     "output_type": "execute_result"
    }
   ],
   "source": [
    "array = np.array([[True,False,True],[True,True,True]])\n",
    "array"
   ]
  },
  {
   "cell_type": "code",
   "execution_count": 11,
   "metadata": {
    "ExecuteTime": {
     "end_time": "2021-07-24T02:31:12.834669Z",
     "start_time": "2021-07-24T02:31:12.822680Z"
    }
   },
   "outputs": [
    {
     "name": "stdout",
     "output_type": "stream",
     "text": [
      "[False  True]\n"
     ]
    }
   ],
   "source": [
    "print(np.all(array, axis=1))"
   ]
  },
  {
   "cell_type": "code",
   "execution_count": 12,
   "metadata": {
    "ExecuteTime": {
     "end_time": "2021-07-24T02:31:12.849690Z",
     "start_time": "2021-07-24T02:31:12.837682Z"
    }
   },
   "outputs": [
    {
     "name": "stdout",
     "output_type": "stream",
     "text": [
      "[ True False  True]\n"
     ]
    }
   ],
   "source": [
    "print(np.all(array, axis=0))"
   ]
  },
  {
   "cell_type": "code",
   "execution_count": 13,
   "metadata": {
    "ExecuteTime": {
     "end_time": "2021-07-24T02:31:12.864688Z",
     "start_time": "2021-07-24T02:31:12.852685Z"
    }
   },
   "outputs": [
    {
     "data": {
      "text/plain": [
       "array([ True,  True])"
      ]
     },
     "execution_count": 13,
     "metadata": {},
     "output_type": "execute_result"
    }
   ],
   "source": [
    "np.any(array, axis=1)"
   ]
  },
  {
   "cell_type": "markdown",
   "metadata": {},
   "source": [
    "# 25. Write a NumPy program to construct an array by repeating.     \n",
    "\n",
    "```\n",
    "Sample array: [1, 2, 3, 4]    \n",
    "\n",
    "Expected Output:    \n",
    "Original array    \n",
    "[1, 2, 3, 4]    \n",
    "Repeating 2 times    \n",
    "[1 2 3 4 1 2 3 4]    \n",
    "Repeating 3 times    \n",
    "[1 2 3 4 1 2 3 4 1 2 3 4]    \n",
    "    \n",
    "```    \n",
    "    \n"
   ]
  },
  {
   "cell_type": "markdown",
   "metadata": {},
   "source": [
    "<img src='https://www.w3resource.com/w3r_images/python-numpy-image-exercise-25.png' width='400' />"
   ]
  },
  {
   "cell_type": "code",
   "execution_count": 14,
   "metadata": {
    "ExecuteTime": {
     "end_time": "2021-07-24T02:31:12.879697Z",
     "start_time": "2021-07-24T02:31:12.865688Z"
    }
   },
   "outputs": [
    {
     "data": {
      "text/plain": [
       "array([1, 2, 3, 4])"
      ]
     },
     "execution_count": 14,
     "metadata": {},
     "output_type": "execute_result"
    }
   ],
   "source": [
    "array = np.array([1, 2, 3, 4])\n",
    "array"
   ]
  },
  {
   "cell_type": "code",
   "execution_count": 15,
   "metadata": {
    "ExecuteTime": {
     "end_time": "2021-07-24T02:31:12.894683Z",
     "start_time": "2021-07-24T02:31:12.881687Z"
    }
   },
   "outputs": [
    {
     "data": {
      "text/plain": [
       "array([1, 2, 3, 4, 1, 2, 3, 4])"
      ]
     },
     "execution_count": 15,
     "metadata": {},
     "output_type": "execute_result"
    }
   ],
   "source": [
    "np.tile(array, 2)"
   ]
  },
  {
   "cell_type": "code",
   "execution_count": 16,
   "metadata": {
    "ExecuteTime": {
     "end_time": "2021-07-24T02:31:12.909686Z",
     "start_time": "2021-07-24T02:31:12.897684Z"
    }
   },
   "outputs": [
    {
     "data": {
      "text/plain": [
       "array([1, 2, 3, 4, 1, 2, 3, 4, 1, 2, 3, 4])"
      ]
     },
     "execution_count": 16,
     "metadata": {},
     "output_type": "execute_result"
    }
   ],
   "source": [
    "np.tile(array, 3)"
   ]
  },
  {
   "cell_type": "markdown",
   "metadata": {},
   "source": [
    "# 16. Write a NumPy program to repeat elements of an array.     \n",
    "\n",
    "\n",
    "```\n",
    "Expected Output:    \n",
    "[3 3 3 3]    \n",
    "[1 1 2 2 3 3 4 4]    \n",
    "```    \n",
    "    "
   ]
  },
  {
   "cell_type": "code",
   "execution_count": 17,
   "metadata": {
    "ExecuteTime": {
     "end_time": "2021-07-24T02:31:12.924689Z",
     "start_time": "2021-07-24T02:31:12.911687Z"
    }
   },
   "outputs": [
    {
     "name": "stdout",
     "output_type": "stream",
     "text": [
      "[3 3 3 3]\n",
      "[1 1 2 2 3 3 4 4]\n"
     ]
    }
   ],
   "source": [
    "x = np.repeat(3, 4)\n",
    "print(x)\n",
    "x = np.array([[1,2],[3,4]])\n",
    "print(np.repeat(x, 2))"
   ]
  },
  {
   "cell_type": "markdown",
   "metadata": {},
   "source": [
    "# ★ 27. Write a NumPy program to find the indices of the maximum and minimum values along the given axis of an array.     \n",
    "\n",
    "```\n",
    "Original array: [1 2 3 4 5 6]    \n",
    "Maximum Values: 5    \n",
    "Minimum Values: 0    \n",
    "```    \n",
    "    "
   ]
  },
  {
   "cell_type": "markdown",
   "metadata": {},
   "source": [
    "<img src='https://www.w3resource.com/w3r_images/python-numpy-image-exercise-27.png'/>"
   ]
  },
  {
   "cell_type": "code",
   "execution_count": 18,
   "metadata": {
    "ExecuteTime": {
     "end_time": "2021-07-24T02:31:12.939692Z",
     "start_time": "2021-07-24T02:31:12.926690Z"
    }
   },
   "outputs": [
    {
     "data": {
      "text/plain": [
       "array([1, 2, 3, 4, 5, 6])"
      ]
     },
     "execution_count": 18,
     "metadata": {},
     "output_type": "execute_result"
    }
   ],
   "source": [
    "array = np.array(range(1,7))\n",
    "array"
   ]
  },
  {
   "cell_type": "code",
   "execution_count": 19,
   "metadata": {
    "ExecuteTime": {
     "end_time": "2021-07-24T02:31:12.954695Z",
     "start_time": "2021-07-24T02:31:12.941692Z"
    }
   },
   "outputs": [
    {
     "data": {
      "text/plain": [
       "5"
      ]
     },
     "execution_count": 19,
     "metadata": {},
     "output_type": "execute_result"
    }
   ],
   "source": [
    "np.argmax(array)"
   ]
  },
  {
   "cell_type": "code",
   "execution_count": 20,
   "metadata": {
    "ExecuteTime": {
     "end_time": "2021-07-24T02:31:12.969705Z",
     "start_time": "2021-07-24T02:31:12.957696Z"
    }
   },
   "outputs": [
    {
     "data": {
      "text/plain": [
       "0"
      ]
     },
     "execution_count": 20,
     "metadata": {},
     "output_type": "execute_result"
    }
   ],
   "source": [
    "np.argmin(array)"
   ]
  },
  {
   "cell_type": "markdown",
   "metadata": {},
   "source": [
    "# 28. Write a NumPy program compare two given arrays.     \n",
    "\n",
    "```\n",
    "Array a: [1 2]    \n",
    "Array b: [4 5]    \n",
    "a > b    \n",
    "[False False]    \n",
    "a >= b    \n",
    "[False False]    \n",
    "a < b    \n",
    "[ True True]    \n",
    "a <= b    \n",
    "[ True True]    \n",
    "```    \n",
    "    "
   ]
  },
  {
   "cell_type": "code",
   "execution_count": 21,
   "metadata": {
    "ExecuteTime": {
     "end_time": "2021-07-24T02:31:12.984703Z",
     "start_time": "2021-07-24T02:31:12.971699Z"
    }
   },
   "outputs": [],
   "source": [
    "array_a = np.array([1, 2])\n",
    "array_b = np.array([4, 5])"
   ]
  },
  {
   "cell_type": "code",
   "execution_count": 22,
   "metadata": {
    "ExecuteTime": {
     "end_time": "2021-07-24T02:31:12.999718Z",
     "start_time": "2021-07-24T02:31:12.988702Z"
    }
   },
   "outputs": [
    {
     "data": {
      "text/plain": [
       "array([False, False])"
      ]
     },
     "execution_count": 22,
     "metadata": {},
     "output_type": "execute_result"
    }
   ],
   "source": [
    "array_a > array_b"
   ]
  },
  {
   "cell_type": "code",
   "execution_count": 23,
   "metadata": {
    "ExecuteTime": {
     "end_time": "2021-07-24T02:31:13.014709Z",
     "start_time": "2021-07-24T02:31:13.002707Z"
    }
   },
   "outputs": [
    {
     "data": {
      "text/plain": [
       "array([False, False])"
      ]
     },
     "execution_count": 23,
     "metadata": {},
     "output_type": "execute_result"
    }
   ],
   "source": [
    "np.greater(array_a, array_b)"
   ]
  },
  {
   "cell_type": "code",
   "execution_count": 24,
   "metadata": {
    "ExecuteTime": {
     "end_time": "2021-07-24T02:31:13.029715Z",
     "start_time": "2021-07-24T02:31:13.016716Z"
    }
   },
   "outputs": [
    {
     "data": {
      "text/plain": [
       "array([False, False])"
      ]
     },
     "execution_count": 24,
     "metadata": {},
     "output_type": "execute_result"
    }
   ],
   "source": [
    "array_a >= array_b"
   ]
  },
  {
   "cell_type": "code",
   "execution_count": 25,
   "metadata": {
    "ExecuteTime": {
     "end_time": "2021-07-24T02:31:13.044734Z",
     "start_time": "2021-07-24T02:31:13.032714Z"
    }
   },
   "outputs": [
    {
     "data": {
      "text/plain": [
       "array([False, False])"
      ]
     },
     "execution_count": 25,
     "metadata": {},
     "output_type": "execute_result"
    }
   ],
   "source": [
    "np.greater_equal(array_a, array_b)"
   ]
  },
  {
   "cell_type": "code",
   "execution_count": 26,
   "metadata": {
    "ExecuteTime": {
     "end_time": "2021-07-24T02:31:13.059722Z",
     "start_time": "2021-07-24T02:31:13.046730Z"
    }
   },
   "outputs": [
    {
     "data": {
      "text/plain": [
       "array([ True,  True])"
      ]
     },
     "execution_count": 26,
     "metadata": {},
     "output_type": "execute_result"
    }
   ],
   "source": [
    "array_a < array_b"
   ]
  },
  {
   "cell_type": "code",
   "execution_count": 27,
   "metadata": {
    "ExecuteTime": {
     "end_time": "2021-07-24T02:31:13.074741Z",
     "start_time": "2021-07-24T02:31:13.061723Z"
    }
   },
   "outputs": [
    {
     "data": {
      "text/plain": [
       "array([ True,  True])"
      ]
     },
     "execution_count": 27,
     "metadata": {},
     "output_type": "execute_result"
    }
   ],
   "source": [
    "np.less(array_a, array_b)"
   ]
  },
  {
   "cell_type": "code",
   "execution_count": 28,
   "metadata": {
    "ExecuteTime": {
     "end_time": "2021-07-24T02:31:13.089744Z",
     "start_time": "2021-07-24T02:31:13.077725Z"
    }
   },
   "outputs": [
    {
     "data": {
      "text/plain": [
       "array([ True,  True])"
      ]
     },
     "execution_count": 28,
     "metadata": {},
     "output_type": "execute_result"
    }
   ],
   "source": [
    "array_a <= array_b"
   ]
  },
  {
   "cell_type": "code",
   "execution_count": 29,
   "metadata": {
    "ExecuteTime": {
     "end_time": "2021-07-24T02:31:13.104749Z",
     "start_time": "2021-07-24T02:31:13.091736Z"
    }
   },
   "outputs": [
    {
     "data": {
      "text/plain": [
       "array([ True,  True])"
      ]
     },
     "execution_count": 29,
     "metadata": {},
     "output_type": "execute_result"
    }
   ],
   "source": [
    "np.less_equal(array_a, array_b)"
   ]
  },
  {
   "cell_type": "markdown",
   "metadata": {},
   "source": [
    "# 29. Write a NumPy program to sort an along the first, last axis of an array.     \n",
    "\n",
    "```\n",
    "Sample array: [[4, 6], [2, 1]]   \n",
    "\n",
    "Expected Output:    \n",
    "Original array:    \n",
    "[[4 6]    \n",
    "[2 1]]    \n",
    "Sort along the first axis:    \n",
    "[[2 1]    \n",
    "[4 6]]    \n",
    "Sort along the last axis:    \n",
    "[[1 2]    \n",
    "[4 6]]    \n",
    "    \n",
    "```"
   ]
  },
  {
   "cell_type": "code",
   "execution_count": 30,
   "metadata": {
    "ExecuteTime": {
     "end_time": "2021-07-24T02:31:13.119739Z",
     "start_time": "2021-07-24T02:31:13.106743Z"
    }
   },
   "outputs": [
    {
     "data": {
      "text/plain": [
       "array([[4, 6],\n",
       "       [2, 1]])"
      ]
     },
     "execution_count": 30,
     "metadata": {},
     "output_type": "execute_result"
    }
   ],
   "source": [
    "array = np.array([[4, 6], [2, 1]])\n",
    "array"
   ]
  },
  {
   "cell_type": "code",
   "execution_count": 31,
   "metadata": {
    "ExecuteTime": {
     "end_time": "2021-07-24T02:31:13.134736Z",
     "start_time": "2021-07-24T02:31:13.122748Z"
    }
   },
   "outputs": [],
   "source": [
    "array.sort()"
   ]
  },
  {
   "cell_type": "code",
   "execution_count": 32,
   "metadata": {
    "ExecuteTime": {
     "end_time": "2021-07-24T02:31:13.149752Z",
     "start_time": "2021-07-24T02:31:13.136744Z"
    }
   },
   "outputs": [
    {
     "data": {
      "text/plain": [
       "array([[4, 6],\n",
       "       [1, 2]])"
      ]
     },
     "execution_count": 32,
     "metadata": {},
     "output_type": "execute_result"
    }
   ],
   "source": [
    "array"
   ]
  },
  {
   "cell_type": "code",
   "execution_count": 33,
   "metadata": {
    "ExecuteTime": {
     "end_time": "2021-07-24T02:31:13.164761Z",
     "start_time": "2021-07-24T02:31:13.152748Z"
    }
   },
   "outputs": [],
   "source": [
    "array.sort(axis=0)"
   ]
  },
  {
   "cell_type": "code",
   "execution_count": 34,
   "metadata": {
    "ExecuteTime": {
     "end_time": "2021-07-24T02:31:13.180028Z",
     "start_time": "2021-07-24T02:31:13.166756Z"
    }
   },
   "outputs": [
    {
     "data": {
      "text/plain": [
       "array([[1, 2],\n",
       "       [4, 6]])"
      ]
     },
     "execution_count": 34,
     "metadata": {},
     "output_type": "execute_result"
    }
   ],
   "source": [
    "array"
   ]
  },
  {
   "cell_type": "markdown",
   "metadata": {},
   "source": [
    "# 30. Write a NumPy program to sort pairs of first name and last name return their indices. (first by last name, then by first name).     \n",
    "\n",
    "```\n",
    "first_names = (Betsey, Shelley, Lanell, Genesis, Margery)    \n",
    "last_names = (Battle, Brien, Plotner, Stahl, Woolum)    \n",
    "\n",
    "Expected Output:    \n",
    "[1 3 2 4 0]    \n",
    "```    \n",
    "    "
   ]
  },
  {
   "cell_type": "code",
   "execution_count": 35,
   "metadata": {
    "ExecuteTime": {
     "end_time": "2021-07-24T02:31:13.195757Z",
     "start_time": "2021-07-24T02:31:13.181753Z"
    }
   },
   "outputs": [
    {
     "name": "stdout",
     "output_type": "stream",
     "text": [
      "[1 3 2 4 0]\n"
     ]
    }
   ],
   "source": [
    "first_names =    ('Margery', 'Betsey', 'Shelley', 'Lanell', 'Genesis')\n",
    "last_names = ('Woolum', 'Battle', 'Plotner', 'Brien', 'Stahl')\n",
    "x = np.lexsort((first_names, last_names))\n",
    "print(x)"
   ]
  },
  {
   "cell_type": "code",
   "execution_count": 36,
   "metadata": {
    "ExecuteTime": {
     "end_time": "2021-07-24T02:31:13.210760Z",
     "start_time": "2021-07-24T02:31:13.197757Z"
    }
   },
   "outputs": [
    {
     "name": "stdout",
     "output_type": "stream",
     "text": [
      "['Betsey Battle', 'Lanell Brien', 'Shelley Plotner', 'Genesis Stahl', 'Margery Woolum']\n"
     ]
    }
   ],
   "source": [
    "print([first_names[i]+' '+last_names[i] for i in x])"
   ]
  },
  {
   "cell_type": "markdown",
   "metadata": {},
   "source": [
    "# 31. Write a NumPy program to get the values and indices of the elements that are bigger than 10 in a given array.     \n",
    "\n",
    "```\n",
    "Original array:    \n",
    "[[ 0 10 20]    \n",
    "[20 30 40]]    \n",
    "Values bigger than 10 = [20 20 30 40]    \n",
    "Their indices are (array([0, 1, 1, 1]), array([2, 0, 1, 2]))    \n",
    "```"
   ]
  },
  {
   "cell_type": "code",
   "execution_count": 37,
   "metadata": {
    "ExecuteTime": {
     "end_time": "2021-07-24T02:31:53.740900Z",
     "start_time": "2021-07-24T02:31:53.732899Z"
    }
   },
   "outputs": [
    {
     "data": {
      "text/plain": [
       "array([[ 0, 10, 20],\n",
       "       [20, 30, 40]])"
      ]
     },
     "execution_count": 37,
     "metadata": {},
     "output_type": "execute_result"
    }
   ],
   "source": [
    "array = np.array([[0, 10, 20], [20, 30, 40]])\n",
    "array"
   ]
  },
  {
   "cell_type": "code",
   "execution_count": 39,
   "metadata": {
    "ExecuteTime": {
     "end_time": "2021-07-24T02:32:28.241635Z",
     "start_time": "2021-07-24T02:32:28.223623Z"
    }
   },
   "outputs": [
    {
     "data": {
      "text/plain": [
       "(array([0, 1, 1, 1], dtype=int64), array([2, 0, 1, 2], dtype=int64))"
      ]
     },
     "execution_count": 39,
     "metadata": {},
     "output_type": "execute_result"
    }
   ],
   "source": [
    "np.where(array>10)"
   ]
  },
  {
   "cell_type": "code",
   "execution_count": 40,
   "metadata": {
    "ExecuteTime": {
     "end_time": "2021-07-24T02:32:45.783654Z",
     "start_time": "2021-07-24T02:32:45.766655Z"
    }
   },
   "outputs": [
    {
     "data": {
      "text/plain": [
       "array([20, 20, 30, 40])"
      ]
     },
     "execution_count": 40,
     "metadata": {},
     "output_type": "execute_result"
    }
   ],
   "source": [
    "array[np.where(array>10)]"
   ]
  },
  {
   "cell_type": "markdown",
   "metadata": {},
   "source": [
    "# 32. Write a NumPy program to save a NumPy array to a text file.     \n",
    "    \n",
    "    "
   ]
  },
  {
   "cell_type": "code",
   "execution_count": 45,
   "metadata": {
    "ExecuteTime": {
     "end_time": "2021-07-24T02:35:39.038167Z",
     "start_time": "2021-07-24T02:35:39.031165Z"
    }
   },
   "outputs": [],
   "source": [
    "np.savetxt('text.txt', array, delimiter=',')"
   ]
  },
  {
   "cell_type": "code",
   "execution_count": 46,
   "metadata": {
    "ExecuteTime": {
     "end_time": "2021-07-24T02:35:40.270501Z",
     "start_time": "2021-07-24T02:35:40.224393Z"
    }
   },
   "outputs": [
    {
     "name": "stdout",
     "output_type": "stream",
     "text": [
      " C 드라이브의 볼륨에는 이름이 없습니다.\n",
      " 볼륨 일련 번호: 50B4-87C1\n",
      "\n",
      " C:\\Users\\N\\OneDrive\\WorkJ\\Machine Learning\\Pandas_Numpy\\Pandas&Numpy Daily Practice\\Numpy 디렉터리\n",
      "\n",
      "2021-07-24  오전 11:35               152 text.txt\n",
      "               1개 파일                 152 바이트\n",
      "               0개 디렉터리  146,962,341,888 바이트 남음\n"
     ]
    }
   ],
   "source": [
    "!dir text.*"
   ]
  },
  {
   "cell_type": "code",
   "execution_count": 50,
   "metadata": {
    "ExecuteTime": {
     "end_time": "2021-07-24T02:37:06.634055Z",
     "start_time": "2021-07-24T02:37:06.593491Z"
    }
   },
   "outputs": [
    {
     "name": "stdout",
     "output_type": "stream",
     "text": [
      "0.000000000000000000e+00,1.000000000000000000e+01,2.000000000000000000e+01\n",
      "2.000000000000000000e+01,3.000000000000000000e+01,4.000000000000000000e+01\n"
     ]
    }
   ],
   "source": [
    "!type text.txt"
   ]
  },
  {
   "cell_type": "code",
   "execution_count": 48,
   "metadata": {
    "ExecuteTime": {
     "end_time": "2021-07-24T02:36:22.713591Z",
     "start_time": "2021-07-24T02:36:22.698599Z"
    }
   },
   "outputs": [
    {
     "data": {
      "text/plain": [
       "array([[ 0., 10., 20.],\n",
       "       [20., 30., 40.]])"
      ]
     },
     "execution_count": 48,
     "metadata": {},
     "output_type": "execute_result"
    }
   ],
   "source": [
    "new_array = np.loadtxt('text.txt',delimiter=',')\n",
    "new_array"
   ]
  },
  {
   "cell_type": "markdown",
   "metadata": {},
   "source": [
    "# 33. Write a NumPy program to find the memory size of a NumPy array.     \n",
    "\n",
    "Expected Output:    \n",
    "128 bytes    \n",
    "    \n",
    "    "
   ]
  },
  {
   "cell_type": "code",
   "execution_count": 51,
   "metadata": {
    "ExecuteTime": {
     "end_time": "2021-07-24T02:37:22.593581Z",
     "start_time": "2021-07-24T02:37:22.579588Z"
    }
   },
   "outputs": [
    {
     "data": {
      "text/plain": [
       "array([[ 0, 10, 20],\n",
       "       [20, 30, 40]])"
      ]
     },
     "execution_count": 51,
     "metadata": {},
     "output_type": "execute_result"
    }
   ],
   "source": [
    "array"
   ]
  },
  {
   "cell_type": "code",
   "execution_count": 53,
   "metadata": {
    "ExecuteTime": {
     "end_time": "2021-07-24T02:38:53.210560Z",
     "start_time": "2021-07-24T02:38:53.196563Z"
    }
   },
   "outputs": [
    {
     "data": {
      "text/plain": [
       "6"
      ]
     },
     "execution_count": 53,
     "metadata": {},
     "output_type": "execute_result"
    }
   ],
   "source": [
    "array.size"
   ]
  },
  {
   "cell_type": "code",
   "execution_count": 54,
   "metadata": {
    "ExecuteTime": {
     "end_time": "2021-07-24T02:38:58.587202Z",
     "start_time": "2021-07-24T02:38:58.572205Z"
    }
   },
   "outputs": [
    {
     "data": {
      "text/plain": [
       "4"
      ]
     },
     "execution_count": 54,
     "metadata": {},
     "output_type": "execute_result"
    }
   ],
   "source": [
    "array.itemsize"
   ]
  },
  {
   "cell_type": "code",
   "execution_count": 55,
   "metadata": {
    "ExecuteTime": {
     "end_time": "2021-07-24T02:39:35.396009Z",
     "start_time": "2021-07-24T02:39:35.391019Z"
    }
   },
   "outputs": [
    {
     "name": "stdout",
     "output_type": "stream",
     "text": [
      "24 bytes\n"
     ]
    }
   ],
   "source": [
    "print('%d bytes'%(array.size * array.itemsize))"
   ]
  },
  {
   "cell_type": "markdown",
   "metadata": {},
   "source": [
    "<img src='https://www.w3resource.com/w3r_images/python-numpy-image-exercise-33.png' width='300' />\n",
    "\n",
    "출처: https://www.w3resource.com/python-exercises/numpy/python-numpy-exercise-33.php"
   ]
  },
  {
   "cell_type": "markdown",
   "metadata": {},
   "source": [
    "# 34. Write a NumPy program to create an array of ones and an array of zeros.     \n",
    "\n",
    "\n",
    "```\n",
    "Expected Output:    \n",
    "Create an array of zeros    \n",
    "Default type is float    \n",
    "[[ 0. 0.]]    \n",
    "\n",
    "Type changes to int    \n",
    "[[0 0]]    \n",
    "\n",
    "Create an array of ones    \n",
    "Default type is float    \n",
    "[[ 1. 1.]]    \n",
    "\n",
    "Type changes to int    \n",
    "[[1 1]]    \n",
    "``` \n",
    "    "
   ]
  },
  {
   "cell_type": "code",
   "execution_count": 56,
   "metadata": {
    "ExecuteTime": {
     "end_time": "2021-07-24T02:40:45.383884Z",
     "start_time": "2021-07-24T02:40:45.376892Z"
    }
   },
   "outputs": [
    {
     "data": {
      "text/plain": [
       "array([[0.],\n",
       "       [0.]])"
      ]
     },
     "execution_count": 56,
     "metadata": {},
     "output_type": "execute_result"
    }
   ],
   "source": [
    "array_0 = np.zeros((2, 1))\n",
    "array_0"
   ]
  },
  {
   "cell_type": "code",
   "execution_count": 57,
   "metadata": {
    "ExecuteTime": {
     "end_time": "2021-07-24T02:40:59.463479Z",
     "start_time": "2021-07-24T02:40:59.454495Z"
    }
   },
   "outputs": [
    {
     "data": {
      "text/plain": [
       "array([[0],\n",
       "       [0]])"
      ]
     },
     "execution_count": 57,
     "metadata": {},
     "output_type": "execute_result"
    }
   ],
   "source": [
    "array_0.astype('int')"
   ]
  },
  {
   "cell_type": "code",
   "execution_count": 58,
   "metadata": {
    "ExecuteTime": {
     "end_time": "2021-07-24T02:41:22.661321Z",
     "start_time": "2021-07-24T02:41:22.642318Z"
    }
   },
   "outputs": [
    {
     "data": {
      "text/plain": [
       "array([[1.],\n",
       "       [1.]])"
      ]
     },
     "execution_count": 58,
     "metadata": {},
     "output_type": "execute_result"
    }
   ],
   "source": [
    "array_1 = np.ones((2, 1))\n",
    "array_1"
   ]
  },
  {
   "cell_type": "code",
   "execution_count": 59,
   "metadata": {
    "ExecuteTime": {
     "end_time": "2021-07-24T02:41:23.263682Z",
     "start_time": "2021-07-24T02:41:23.249679Z"
    }
   },
   "outputs": [
    {
     "data": {
      "text/plain": [
       "array([[1],\n",
       "       [1]])"
      ]
     },
     "execution_count": 59,
     "metadata": {},
     "output_type": "execute_result"
    }
   ],
   "source": [
    "array_1.astype('int')"
   ]
  },
  {
   "cell_type": "markdown",
   "metadata": {},
   "source": [
    "# 35. Write a NumPy program to change the dimension of an array.     \n",
    "\n",
    "\n",
    "```\n",
    "Expected Output:    \n",
    "6 rows and 0 columns    \n",
    "(6,)    \n",
    "(3, 3) -> 3 rows and 3 columns    \n",
    "[[1 2 3]    \n",
    "[4 5 6]    \n",
    "[7 8 9]]    \n",
    "Change array shape to (3, 3) -> 3 rows and 3 columns    \n",
    "[[1 2 3]    \n",
    "[4 5 6]    \n",
    "[7 8 9]]    \n",
    "```    \n",
    "    "
   ]
  },
  {
   "cell_type": "code",
   "execution_count": 60,
   "metadata": {
    "ExecuteTime": {
     "end_time": "2021-07-24T02:43:45.507325Z",
     "start_time": "2021-07-24T02:43:45.486315Z"
    }
   },
   "outputs": [
    {
     "name": "stdout",
     "output_type": "stream",
     "text": [
      "6 rows and 0 columns\n",
      "(6,)\n",
      "(3, 3) -> 3 rows and 3 columns \n",
      "[[1 2 3]\n",
      " [4 5 6]\n",
      " [7 8 9]]\n",
      "Change array shape to (3, 3) -> 3 rows and 3 columns \n",
      "[[1 2 3]\n",
      " [4 5 6]\n",
      " [7 8 9]]\n"
     ]
    }
   ],
   "source": [
    "import numpy as np\n",
    "x = np.array([1, 2, 3, 4, 5, 6])\n",
    "print(\"6 rows and 0 columns\")\n",
    "print(x.shape)\n",
    "\n",
    "y = np.array([[1, 2, 3],[4, 5, 6],[7,8,9]])\n",
    "print(\"(3, 3) -> 3 rows and 3 columns \")\n",
    "print(y)\n",
    "\n",
    "x = np.array([1,2,3,4,5,6,7,8,9])\n",
    "print(\"Change array shape to (3, 3) -> 3 rows and 3 columns \")\n",
    "x.shape = (3, 3)\n",
    "print(x)"
   ]
  },
  {
   "cell_type": "markdown",
   "metadata": {},
   "source": [
    "# 36. Write a NumPy program to create a contiguous flattened array.     \n",
    "\n",
    "\n",
    "```\n",
    "Original array:    \n",
    "[[10 20 30]    \n",
    "[20 40 50]]    \n",
    "New flattened array:    \n",
    "[10 20 30 20 40 50]    \n",
    "```\n",
    "\n",
    "    "
   ]
  },
  {
   "cell_type": "code",
   "execution_count": 61,
   "metadata": {
    "ExecuteTime": {
     "end_time": "2021-07-24T02:44:23.013228Z",
     "start_time": "2021-07-24T02:44:23.006215Z"
    }
   },
   "outputs": [
    {
     "data": {
      "text/plain": [
       "array([[10, 20, 30],\n",
       "       [20, 40, 50]])"
      ]
     },
     "execution_count": 61,
     "metadata": {},
     "output_type": "execute_result"
    }
   ],
   "source": [
    "array = np.array([[10, 20, 30], [20, 40, 50]])\n",
    "array"
   ]
  },
  {
   "cell_type": "code",
   "execution_count": 62,
   "metadata": {
    "ExecuteTime": {
     "end_time": "2021-07-24T02:44:33.929490Z",
     "start_time": "2021-07-24T02:44:33.914489Z"
    }
   },
   "outputs": [
    {
     "data": {
      "text/plain": [
       "array([10, 20, 30, 20, 40, 50])"
      ]
     },
     "execution_count": 62,
     "metadata": {},
     "output_type": "execute_result"
    }
   ],
   "source": [
    "array.flatten()"
   ]
  },
  {
   "cell_type": "code",
   "execution_count": 63,
   "metadata": {
    "ExecuteTime": {
     "end_time": "2021-07-24T02:44:38.528495Z",
     "start_time": "2021-07-24T02:44:38.514492Z"
    }
   },
   "outputs": [
    {
     "data": {
      "text/plain": [
       "array([10, 20, 30, 20, 40, 50])"
      ]
     },
     "execution_count": 63,
     "metadata": {},
     "output_type": "execute_result"
    }
   ],
   "source": [
    "array.ravel()"
   ]
  },
  {
   "cell_type": "markdown",
   "metadata": {},
   "source": [
    "# 37. Write a NumPy program to create a 2-dimensional array of size 2 x 3 (composed of 4-byte integer elements), also print the shape, type and data type of the array.     \n",
    "\n",
    "\n",
    "```\n",
    "Expected Output:    \n",
    "    \n",
    "(2, 3)    \n",
    "int32    \n",
    "    \n",
    "```"
   ]
  },
  {
   "cell_type": "code",
   "execution_count": 64,
   "metadata": {
    "ExecuteTime": {
     "end_time": "2021-07-24T02:45:51.072481Z",
     "start_time": "2021-07-24T02:45:51.058474Z"
    }
   },
   "outputs": [
    {
     "data": {
      "text/plain": [
       "array([[5, 3, 6],\n",
       "       [7, 9, 1]])"
      ]
     },
     "execution_count": 64,
     "metadata": {},
     "output_type": "execute_result"
    }
   ],
   "source": [
    "array = np.random.randint(1,10, (2, 3), dtype='int32')\n",
    "array"
   ]
  },
  {
   "cell_type": "code",
   "execution_count": 65,
   "metadata": {
    "ExecuteTime": {
     "end_time": "2021-07-24T02:45:58.540475Z",
     "start_time": "2021-07-24T02:45:58.528468Z"
    }
   },
   "outputs": [
    {
     "data": {
      "text/plain": [
       "(2, 3)"
      ]
     },
     "execution_count": 65,
     "metadata": {},
     "output_type": "execute_result"
    }
   ],
   "source": [
    "array.shape"
   ]
  },
  {
   "cell_type": "code",
   "execution_count": 67,
   "metadata": {
    "ExecuteTime": {
     "end_time": "2021-07-24T02:46:08.452471Z",
     "start_time": "2021-07-24T02:46:08.437469Z"
    }
   },
   "outputs": [
    {
     "data": {
      "text/plain": [
       "dtype('int32')"
      ]
     },
     "execution_count": 67,
     "metadata": {},
     "output_type": "execute_result"
    }
   ],
   "source": [
    "array.dtype"
   ]
  },
  {
   "cell_type": "markdown",
   "metadata": {},
   "source": [
    "# 38. Write a NumPy program to create a new shape to an array without changing its data.     \n",
    "\n",
    "```\n",
    "Reshape 3x2:    \n",
    "[[1 2]    \n",
    "[3 4]    \n",
    "[5 6]]    \n",
    "\n",
    "Reshape 2x3:    \n",
    "[[1 2 3]    \n",
    "[4 5 6]]    \n",
    "``` \n",
    "    "
   ]
  },
  {
   "cell_type": "code",
   "execution_count": 68,
   "metadata": {
    "ExecuteTime": {
     "end_time": "2021-07-24T02:46:37.665453Z",
     "start_time": "2021-07-24T02:46:37.647458Z"
    }
   },
   "outputs": [
    {
     "data": {
      "text/plain": [
       "array([1, 2, 3, 4, 5, 6])"
      ]
     },
     "execution_count": 68,
     "metadata": {},
     "output_type": "execute_result"
    }
   ],
   "source": [
    "array = np.arange(1, 7)\n",
    "array"
   ]
  },
  {
   "cell_type": "code",
   "execution_count": 69,
   "metadata": {
    "ExecuteTime": {
     "end_time": "2021-07-24T02:46:43.520461Z",
     "start_time": "2021-07-24T02:46:43.510459Z"
    }
   },
   "outputs": [
    {
     "data": {
      "text/plain": [
       "array([[1, 2],\n",
       "       [3, 4],\n",
       "       [5, 6]])"
      ]
     },
     "execution_count": 69,
     "metadata": {},
     "output_type": "execute_result"
    }
   ],
   "source": [
    "array.reshape(3, 2)"
   ]
  },
  {
   "cell_type": "code",
   "execution_count": 70,
   "metadata": {
    "ExecuteTime": {
     "end_time": "2021-07-24T02:46:49.863235Z",
     "start_time": "2021-07-24T02:46:49.856231Z"
    }
   },
   "outputs": [
    {
     "data": {
      "text/plain": [
       "array([[1, 2, 3],\n",
       "       [4, 5, 6]])"
      ]
     },
     "execution_count": 70,
     "metadata": {},
     "output_type": "execute_result"
    }
   ],
   "source": [
    "array.reshape(2, 3)"
   ]
  },
  {
   "cell_type": "markdown",
   "metadata": {},
   "source": [
    "# 39. Write a NumPy program to change the data type of an array.     \n",
    "\n",
    "```\n",
    "Expected Output:    \n",
    "[[ 2 4 6]    \n",
    "[ 6 8 10]]    \n",
    "Data type of the array x is: int32    \n",
    "New Type: float64    \n",
    "[[ 2. 4. 6.]    \n",
    "[ 6. 8. 10.]]    \n",
    "```    \n",
    "    \n"
   ]
  },
  {
   "cell_type": "code",
   "execution_count": 71,
   "metadata": {
    "ExecuteTime": {
     "end_time": "2021-07-24T02:47:22.655446Z",
     "start_time": "2021-07-24T02:47:22.641442Z"
    }
   },
   "outputs": [
    {
     "data": {
      "text/plain": [
       "array([[ 2,  4,  6],\n",
       "       [ 6,  8, 10]])"
      ]
     },
     "execution_count": 71,
     "metadata": {},
     "output_type": "execute_result"
    }
   ],
   "source": [
    "array = np.array([[2, 4, 6], [6, 8, 10]])\n",
    "array"
   ]
  },
  {
   "cell_type": "code",
   "execution_count": 72,
   "metadata": {
    "ExecuteTime": {
     "end_time": "2021-07-24T02:47:34.833887Z",
     "start_time": "2021-07-24T02:47:34.825886Z"
    }
   },
   "outputs": [
    {
     "data": {
      "text/plain": [
       "array([[ 2.,  4.,  6.],\n",
       "       [ 6.,  8., 10.]])"
      ]
     },
     "execution_count": 72,
     "metadata": {},
     "output_type": "execute_result"
    }
   ],
   "source": [
    "array.astype('float64')"
   ]
  },
  {
   "cell_type": "markdown",
   "metadata": {},
   "source": [
    "# 40. Write a NumPy program to create a new array of 3*5, filled with 2.     \n",
    "\n",
    "Expected Output:    \n",
    "[[2 2 2 2 2]    \n",
    "[2 2 2 2 2]    \n",
    "[2 2 2 2 2]]    \n",
    "[[2 2 2 2 2]    \n",
    "[2 2 2 2 2]    \n",
    "[2 2 2 2 2]]    \n",
    "    \n",
    "    "
   ]
  },
  {
   "cell_type": "code",
   "execution_count": 73,
   "metadata": {
    "ExecuteTime": {
     "end_time": "2021-07-24T02:49:09.670196Z",
     "start_time": "2021-07-24T02:49:09.665209Z"
    }
   },
   "outputs": [
    {
     "data": {
      "text/plain": [
       "array([[2, 2, 2, 2, 2],\n",
       "       [2, 2, 2, 2, 2],\n",
       "       [2, 2, 2, 2, 2]])"
      ]
     },
     "execution_count": 73,
     "metadata": {},
     "output_type": "execute_result"
    }
   ],
   "source": [
    "np.full((3, 5), 2)"
   ]
  }
 ],
 "metadata": {
  "kernelspec": {
   "display_name": "Python 3",
   "language": "python",
   "name": "python3"
  },
  "language_info": {
   "codemirror_mode": {
    "name": "ipython",
    "version": 3
   },
   "file_extension": ".py",
   "mimetype": "text/x-python",
   "name": "python",
   "nbconvert_exporter": "python",
   "pygments_lexer": "ipython3",
   "version": "3.8.5"
  },
  "toc": {
   "base_numbering": 1,
   "nav_menu": {},
   "number_sections": true,
   "sideBar": true,
   "skip_h1_title": false,
   "title_cell": "Table of Contents",
   "title_sidebar": "Contents",
   "toc_cell": false,
   "toc_position": {},
   "toc_section_display": true,
   "toc_window_display": false
  }
 },
 "nbformat": 4,
 "nbformat_minor": 4
}
