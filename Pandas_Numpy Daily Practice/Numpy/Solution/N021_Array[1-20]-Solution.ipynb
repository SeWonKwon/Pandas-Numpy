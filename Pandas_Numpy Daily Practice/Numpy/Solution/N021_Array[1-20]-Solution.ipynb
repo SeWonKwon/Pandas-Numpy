{
 "cells": [
  {
   "cell_type": "markdown",
   "metadata": {},
   "source": [
    "<a href='https://github.com/SeWonKwon' ><div> <img src ='https://slid-capture.s3.ap-northeast-2.amazonaws.com/public/image_upload/6556674324ed41a289a354258718280d/964e5a8b-75ad-41fc-ae75-0ca66d06fbc7.png' align='left' /> </div></a>\n"
   ]
  },
  {
   "cell_type": "markdown",
   "metadata": {},
   "source": [
    "출처: https://www.w3resource.com/python-exercises/numpy/index-array.php"
   ]
  },
  {
   "cell_type": "markdown",
   "metadata": {},
   "source": [
    "![array](https://www.w3resource.com/w3r_images/python-numpy-arrays-image.png)"
   ]
  },
  {
   "cell_type": "markdown",
   "metadata": {},
   "source": [
    "https://www.w3resource.com/w3r_images/python-numpy-arrays-image.png"
   ]
  },
  {
   "cell_type": "markdown",
   "metadata": {},
   "source": [
    "# 1. Write a NumPy program to print the NumPy version in your system.     \n",
    "    "
   ]
  },
  {
   "cell_type": "code",
   "execution_count": 1,
   "metadata": {
    "ExecuteTime": {
     "end_time": "2021-07-18T07:51:36.855420Z",
     "start_time": "2021-07-18T07:51:35.013535Z"
    }
   },
   "outputs": [
    {
     "data": {
      "text/plain": [
       "'1.19.2'"
      ]
     },
     "execution_count": 1,
     "metadata": {},
     "output_type": "execute_result"
    }
   ],
   "source": [
    "import numpy as np\n",
    "np.__version__"
   ]
  },
  {
   "cell_type": "markdown",
   "metadata": {},
   "source": [
    "# 2. Write a NumPy program to convert a list of numeric value into a one-dimensional NumPy array.     \n",
    "\n",
    "```\n",
    "Expected Output:    \n",
    "\n",
    "Original List: [12.23, 13.32, 100, 36.32]    \n",
    "One-dimensional NumPy array: [ 12.23 13.32 100. 36.32]    \n",
    "```\n",
    "    "
   ]
  },
  {
   "cell_type": "code",
   "execution_count": 2,
   "metadata": {
    "ExecuteTime": {
     "end_time": "2021-07-18T07:51:36.871424Z",
     "start_time": "2021-07-18T07:51:36.858421Z"
    }
   },
   "outputs": [
    {
     "data": {
      "text/plain": [
       "array([ 12.23,  13.32, 100.  ,  36.32])"
      ]
     },
     "execution_count": 2,
     "metadata": {},
     "output_type": "execute_result"
    }
   ],
   "source": [
    "l = [12.23, 13.32, 100, 36.32]\n",
    "array1 = np.array(l)\n",
    "array1"
   ]
  },
  {
   "cell_type": "markdown",
   "metadata": {},
   "source": [
    "# 3.Write a NumPy program to create a 3x3 matrix with values ranging from 2 to 10.     \n",
    "\n",
    "```\n",
    "Expected Output:   \n",
    "\n",
    "[[ 2 3 4]    \n",
    "[ 5 6 7]    \n",
    "[ 8 9 10]]    \n",
    "```    \n",
    "    "
   ]
  },
  {
   "cell_type": "code",
   "execution_count": 3,
   "metadata": {
    "ExecuteTime": {
     "end_time": "2021-07-18T07:51:36.887428Z",
     "start_time": "2021-07-18T07:51:36.873424Z"
    }
   },
   "outputs": [
    {
     "data": {
      "text/plain": [
       "array([[ 2,  3,  4],\n",
       "       [ 5,  6,  7],\n",
       "       [ 8,  9, 10]])"
      ]
     },
     "execution_count": 3,
     "metadata": {},
     "output_type": "execute_result"
    }
   ],
   "source": [
    "np.arange(2, 11).reshape(3, 3)"
   ]
  },
  {
   "cell_type": "code",
   "execution_count": 4,
   "metadata": {
    "ExecuteTime": {
     "end_time": "2021-07-18T07:51:36.903431Z",
     "start_time": "2021-07-18T07:51:36.890430Z"
    }
   },
   "outputs": [
    {
     "data": {
      "text/plain": [
       "array([[ 2,  3,  4],\n",
       "       [ 5,  6,  7],\n",
       "       [ 8,  9, 10]])"
      ]
     },
     "execution_count": 4,
     "metadata": {},
     "output_type": "execute_result"
    }
   ],
   "source": [
    "array1 = np.arange(2, 11).reshape(3, 3)\n",
    "array1"
   ]
  },
  {
   "cell_type": "code",
   "execution_count": 5,
   "metadata": {
    "ExecuteTime": {
     "end_time": "2021-07-18T07:51:36.919435Z",
     "start_time": "2021-07-18T07:51:36.906432Z"
    }
   },
   "outputs": [
    {
     "data": {
      "text/plain": [
       "array([[ 2,  5,  8],\n",
       "       [ 3,  6,  9],\n",
       "       [ 4,  7, 10]])"
      ]
     },
     "execution_count": 5,
     "metadata": {},
     "output_type": "execute_result"
    }
   ],
   "source": [
    "np.swapaxes(array1, axis1=1, axis2=0)"
   ]
  },
  {
   "cell_type": "markdown",
   "metadata": {},
   "source": [
    "# 4. Write a NumPy program to create a null vector of size 10 and update sixth value to 11.    \n",
    "\n",
    "```\n",
    "[ 0. 0. 0. 0. 0. 0. 0. 0. 0. 0.]    \n",
    "\n",
    "Update sixth value to 11    \n",
    "\n",
    "[ 0. 0. 0. 0. 0. 0. 11. 0. 0. 0.]    \n",
    "```    \n",
    "    "
   ]
  },
  {
   "cell_type": "code",
   "execution_count": 6,
   "metadata": {
    "ExecuteTime": {
     "end_time": "2021-07-18T07:51:36.935439Z",
     "start_time": "2021-07-18T07:51:36.922435Z"
    }
   },
   "outputs": [
    {
     "data": {
      "text/plain": [
       "array([0., 0., 0., 0., 0., 0., 0., 0., 0., 0.])"
      ]
     },
     "execution_count": 6,
     "metadata": {},
     "output_type": "execute_result"
    }
   ],
   "source": [
    "array1 = np.zeros(10)\n",
    "array1"
   ]
  },
  {
   "cell_type": "code",
   "execution_count": 7,
   "metadata": {
    "ExecuteTime": {
     "end_time": "2021-07-18T07:51:36.951441Z",
     "start_time": "2021-07-18T07:51:36.937439Z"
    }
   },
   "outputs": [
    {
     "data": {
      "text/plain": [
       "array([ 0.,  0.,  0.,  0.,  0.,  0., 11.,  0.,  0.,  0.])"
      ]
     },
     "execution_count": 7,
     "metadata": {},
     "output_type": "execute_result"
    }
   ],
   "source": [
    "array1[6] = 11\n",
    "array1"
   ]
  },
  {
   "cell_type": "markdown",
   "metadata": {},
   "source": [
    "# 5. Write a NumPy program to create an array with values ranging from 12 to 38.    \n",
    "\n",
    "```\n",
    "Expected Output:  \n",
    "\n",
    "[12 13 14 15 16 17 18 19 20 21 22 23 24 25 26 27 28 29 30 31 32 33 34 35 36 37]    \n",
    "    \n",
    "```    "
   ]
  },
  {
   "cell_type": "code",
   "execution_count": 8,
   "metadata": {
    "ExecuteTime": {
     "end_time": "2021-07-18T07:51:36.967546Z",
     "start_time": "2021-07-18T07:51:36.955444Z"
    }
   },
   "outputs": [
    {
     "data": {
      "text/plain": [
       "array([12, 13, 14, 15, 16, 17, 18, 19, 20, 21, 22, 23, 24, 25, 26, 27, 28,\n",
       "       29, 30, 31, 32, 33, 34, 35, 36, 37])"
      ]
     },
     "execution_count": 8,
     "metadata": {},
     "output_type": "execute_result"
    }
   ],
   "source": [
    "np.arange(12, 38)"
   ]
  },
  {
   "cell_type": "markdown",
   "metadata": {},
   "source": [
    "# 6. Write a NumPy program to reverse an array (first element becomes last).     \n",
    "```\n",
    "Original array:   \n",
    "[12 13 14 15 16 17 18 19 20 21 22 23 24 25 26 27 28 29 30 31 32 33 34 35 36 37]    \n",
    "\n",
    "Reverse array:    \n",
    "[37 36 35 34 33 32 31 30 29 28 27 26 25 24 23 22 21 20 19 18 17 16 15 14 13 12]   \n",
    "```\n",
    "    \n",
    "    "
   ]
  },
  {
   "cell_type": "code",
   "execution_count": 9,
   "metadata": {
    "ExecuteTime": {
     "end_time": "2021-07-18T07:51:36.983550Z",
     "start_time": "2021-07-18T07:51:36.970547Z"
    }
   },
   "outputs": [
    {
     "data": {
      "text/plain": [
       "array([37, 36, 35, 34, 33, 32, 31, 30, 29, 28, 27, 26, 25, 24, 23, 22, 21,\n",
       "       20, 19, 18, 17, 16, 15, 14, 13, 12])"
      ]
     },
     "execution_count": 9,
     "metadata": {},
     "output_type": "execute_result"
    }
   ],
   "source": [
    "np.arange(12, 38)[::-1]"
   ]
  },
  {
   "cell_type": "markdown",
   "metadata": {},
   "source": [
    "# 7. Write a NumPy program to convert an array to a float type.    \n",
    "\n",
    "```\n",
    "Sample output:    \n",
    "\n",
    "Original array    \n",
    "[1, 2, 3, 4]    \n",
    "\n",
    "Array converted to a float type:    \n",
    "[ 1. 2. 3. 4.]    \n",
    "```    \n",
    "    "
   ]
  },
  {
   "cell_type": "code",
   "execution_count": 10,
   "metadata": {
    "ExecuteTime": {
     "end_time": "2021-07-18T07:51:36.999547Z",
     "start_time": "2021-07-18T07:51:36.985552Z"
    }
   },
   "outputs": [
    {
     "data": {
      "text/plain": [
       "array([1, 2, 3, 4])"
      ]
     },
     "execution_count": 10,
     "metadata": {},
     "output_type": "execute_result"
    }
   ],
   "source": [
    "array1 = np.array([1, 2, 3, 4])\n",
    "array1"
   ]
  },
  {
   "cell_type": "code",
   "execution_count": 11,
   "metadata": {
    "ExecuteTime": {
     "end_time": "2021-07-18T07:51:37.015563Z",
     "start_time": "2021-07-18T07:51:37.001554Z"
    }
   },
   "outputs": [
    {
     "data": {
      "text/plain": [
       "array([1., 2., 3., 4.], dtype=float16)"
      ]
     },
     "execution_count": 11,
     "metadata": {},
     "output_type": "execute_result"
    }
   ],
   "source": [
    "array1.astype(np.float16)"
   ]
  },
  {
   "cell_type": "markdown",
   "metadata": {},
   "source": [
    "# ★ 8. Write a NumPy program to create a 2d array with 1 on the border and 0 inside.    \n",
    "\n",
    "```\n",
    "Expected Output:   \n",
    "\n",
    "Original array:    \n",
    "[[ 1. 1. 1. 1. 1.]    \n",
    "...................    \n",
    "[ 1. 1. 1. 1. 1.]]   \n",
    "\n",
    "1 on the border and 0 inside in the array    \n",
    "[[ 1. 1. 1. 1. 1.]    \n",
    "...................    \n",
    "[ 1. 1. 1. 1. 1.]]    \n",
    "```\n",
    "    \n",
    "    "
   ]
  },
  {
   "cell_type": "code",
   "execution_count": 12,
   "metadata": {
    "ExecuteTime": {
     "end_time": "2021-07-18T07:51:37.031555Z",
     "start_time": "2021-07-18T07:51:37.017558Z"
    }
   },
   "outputs": [
    {
     "data": {
      "text/plain": [
       "array([[0., 0., 0., 0., 0.],\n",
       "       [0., 0., 0., 0., 0.],\n",
       "       [0., 0., 0., 0., 0.],\n",
       "       [0., 0., 0., 0., 0.],\n",
       "       [0., 0., 0., 0., 0.]])"
      ]
     },
     "execution_count": 12,
     "metadata": {},
     "output_type": "execute_result"
    }
   ],
   "source": [
    "array1 = np.zeros((5,5))\n",
    "array1"
   ]
  },
  {
   "cell_type": "code",
   "execution_count": 13,
   "metadata": {
    "ExecuteTime": {
     "end_time": "2021-07-18T07:51:37.047571Z",
     "start_time": "2021-07-18T07:51:37.033563Z"
    }
   },
   "outputs": [
    {
     "data": {
      "text/plain": [
       "array([[1., 1., 1., 1., 1.],\n",
       "       [1., 0., 0., 0., 1.],\n",
       "       [1., 0., 0., 0., 1.],\n",
       "       [1., 0., 0., 0., 1.],\n",
       "       [1., 1., 1., 1., 1.]])"
      ]
     },
     "execution_count": 13,
     "metadata": {},
     "output_type": "execute_result"
    }
   ],
   "source": [
    "array1[:,0]= 1\n",
    "array1[:, -1] = 1\n",
    "array1[0, :] = 1\n",
    "array1[-1, :] = 1\n",
    "array1"
   ]
  },
  {
   "cell_type": "markdown",
   "metadata": {},
   "source": [
    "다른 정답"
   ]
  },
  {
   "cell_type": "code",
   "execution_count": 14,
   "metadata": {
    "ExecuteTime": {
     "end_time": "2021-07-18T07:51:37.063563Z",
     "start_time": "2021-07-18T07:51:37.049565Z"
    }
   },
   "outputs": [
    {
     "name": "stdout",
     "output_type": "stream",
     "text": [
      "Original array:\n",
      "[[1. 1. 1. 1. 1.]\n",
      " [1. 1. 1. 1. 1.]\n",
      " [1. 1. 1. 1. 1.]\n",
      " [1. 1. 1. 1. 1.]\n",
      " [1. 1. 1. 1. 1.]]\n",
      "1 on the border and 0 inside in the array\n",
      "[[1. 1. 1. 1. 1.]\n",
      " [1. 0. 0. 0. 1.]\n",
      " [1. 0. 0. 0. 1.]\n",
      " [1. 0. 0. 0. 1.]\n",
      " [1. 1. 1. 1. 1.]]\n"
     ]
    }
   ],
   "source": [
    "import numpy as np\n",
    "x = np.ones((5,5))\n",
    "print(\"Original array:\")\n",
    "print(x)\n",
    "print(\"1 on the border and 0 inside in the array\")\n",
    "x[1:-1,1:-1] = 0\n",
    "print(x)\n"
   ]
  },
  {
   "cell_type": "markdown",
   "metadata": {},
   "source": [
    "# ★ 9. Write a NumPy program to add a border (filled with 0's) around an existing array.     \n",
    "\n",
    "```\n",
    "Expected Output:    \n",
    "\n",
    "Original array:    \n",
    "[[ 1. 1. 1.]    \n",
    "[ 1. 1. 1.]    \n",
    "[ 1. 1. 1.]]    \n",
    "\n",
    "1 on the border and 0 inside in the array    \n",
    "[[ 0. 0. 0. 0. 0.]    \n",
    "...........    \n",
    "[ 0. 0. 0. 0. 0.]] \n",
    "```\n",
    "    \n",
    "    "
   ]
  },
  {
   "cell_type": "code",
   "execution_count": 15,
   "metadata": {
    "ExecuteTime": {
     "end_time": "2021-07-18T07:51:37.078565Z",
     "start_time": "2021-07-18T07:51:37.065563Z"
    }
   },
   "outputs": [
    {
     "data": {
      "text/plain": [
       "array([[1., 1., 1.],\n",
       "       [1., 1., 1.],\n",
       "       [1., 1., 1.]])"
      ]
     },
     "execution_count": 15,
     "metadata": {},
     "output_type": "execute_result"
    }
   ],
   "source": [
    "array1 = np.ones((3, 3))\n",
    "array1"
   ]
  },
  {
   "cell_type": "code",
   "execution_count": 16,
   "metadata": {
    "ExecuteTime": {
     "end_time": "2021-07-18T07:51:37.094578Z",
     "start_time": "2021-07-18T07:51:37.080573Z"
    },
    "scrolled": true
   },
   "outputs": [
    {
     "data": {
      "text/plain": [
       "array([[0., 0., 0., 0., 0.],\n",
       "       [0., 1., 1., 1., 0.],\n",
       "       [0., 1., 1., 1., 0.],\n",
       "       [0., 1., 1., 1., 0.],\n",
       "       [0., 0., 0., 0., 0.]])"
      ]
     },
     "execution_count": 16,
     "metadata": {},
     "output_type": "execute_result"
    }
   ],
   "source": [
    " np.pad(array1, pad_width=1, mode='constant', constant_values=0)"
   ]
  },
  {
   "cell_type": "code",
   "execution_count": 17,
   "metadata": {
    "ExecuteTime": {
     "end_time": "2021-07-18T07:51:37.114573Z",
     "start_time": "2021-07-18T07:51:37.096582Z"
    }
   },
   "outputs": [
    {
     "data": {
      "text/plain": [
       "array([[1., 1., 1., 1., 1.],\n",
       "       [1., 1., 1., 1., 1.],\n",
       "       [1., 1., 1., 1., 1.],\n",
       "       [1., 1., 1., 1., 1.],\n",
       "       [1., 1., 1., 1., 1.]])"
      ]
     },
     "execution_count": 17,
     "metadata": {},
     "output_type": "execute_result"
    }
   ],
   "source": [
    " np.pad(array1, pad_width=1, mode='edge')"
   ]
  },
  {
   "cell_type": "markdown",
   "metadata": {},
   "source": [
    "# 10. Write a NumPy program to create a 8x8 matrix and fill it with a checkerboard pattern.    \n",
    "\n",
    "```\n",
    "Checkerboard pattern:    \n",
    "\n",
    "[[0 1 0 1 0 1 0 1]    \n",
    "..........    \n",
    "[0 1 0 1 0 1 0 1]    \n",
    "[1 0 1 0 1 0 1 0]]    \n",
    "```\n",
    "    \n",
    "    "
   ]
  },
  {
   "cell_type": "code",
   "execution_count": 18,
   "metadata": {
    "ExecuteTime": {
     "end_time": "2021-07-18T07:51:37.124575Z",
     "start_time": "2021-07-18T07:51:37.116581Z"
    }
   },
   "outputs": [
    {
     "data": {
      "text/plain": [
       "array([[1., 1., 1., 1., 1., 1., 1., 1.],\n",
       "       [1., 1., 1., 1., 1., 1., 1., 1.],\n",
       "       [1., 1., 1., 1., 1., 1., 1., 1.],\n",
       "       [1., 1., 1., 1., 1., 1., 1., 1.],\n",
       "       [1., 1., 1., 1., 1., 1., 1., 1.],\n",
       "       [1., 1., 1., 1., 1., 1., 1., 1.],\n",
       "       [1., 1., 1., 1., 1., 1., 1., 1.],\n",
       "       [1., 1., 1., 1., 1., 1., 1., 1.]])"
      ]
     },
     "execution_count": 18,
     "metadata": {},
     "output_type": "execute_result"
    }
   ],
   "source": [
    "array1 = np.ones((8, 8))\n",
    "array1"
   ]
  },
  {
   "cell_type": "code",
   "execution_count": 19,
   "metadata": {
    "ExecuteTime": {
     "end_time": "2021-07-18T07:51:37.139580Z",
     "start_time": "2021-07-18T07:51:37.126576Z"
    }
   },
   "outputs": [
    {
     "data": {
      "text/plain": [
       "array([[0., 1., 0., 1., 0., 1., 0., 1.],\n",
       "       [1., 0., 1., 0., 1., 0., 1., 0.],\n",
       "       [0., 1., 0., 1., 0., 1., 0., 1.],\n",
       "       [1., 0., 1., 0., 1., 0., 1., 0.],\n",
       "       [0., 1., 0., 1., 0., 1., 0., 1.],\n",
       "       [1., 0., 1., 0., 1., 0., 1., 0.],\n",
       "       [0., 1., 0., 1., 0., 1., 0., 1.],\n",
       "       [1., 0., 1., 0., 1., 0., 1., 0.]])"
      ]
     },
     "execution_count": 19,
     "metadata": {},
     "output_type": "execute_result"
    }
   ],
   "source": [
    "array1[::2,::2]=0\n",
    "array1[1::2,1::2]=0\n",
    "array1"
   ]
  },
  {
   "cell_type": "markdown",
   "metadata": {},
   "source": [
    "# 11. Write a NumPy program to convert a list and tuple into arrays.     \n",
    "\n",
    "```\n",
    "List to array:    \n",
    "[1 2 3 4 5 6 7 8]    \n",
    "\n",
    "Tuple to array:    \n",
    "[[8 4 6]    \n",
    "[1 2 3]]    \n",
    "```\n",
    "    \n",
    "    \n",
    "    "
   ]
  },
  {
   "cell_type": "code",
   "execution_count": 20,
   "metadata": {
    "ExecuteTime": {
     "end_time": "2021-07-18T07:54:57.254034Z",
     "start_time": "2021-07-18T07:54:57.243033Z"
    }
   },
   "outputs": [
    {
     "data": {
      "text/plain": [
       "([1, 2, 3, 4, 5, 6, 7, 8], (8, 4, 6, 1, 2, 3))"
      ]
     },
     "execution_count": 20,
     "metadata": {},
     "output_type": "execute_result"
    }
   ],
   "source": [
    "l = [1,2,3,4,5,6,7,8]\n",
    "t = 8, 4, 6, 1, 2, 3\n",
    "l,t"
   ]
  },
  {
   "cell_type": "code",
   "execution_count": 21,
   "metadata": {
    "ExecuteTime": {
     "end_time": "2021-07-18T07:55:29.272724Z",
     "start_time": "2021-07-18T07:55:29.267724Z"
    }
   },
   "outputs": [],
   "source": [
    "array_l = np.array(l)\n",
    "array_t = np.array(t).reshape(2,3)"
   ]
  },
  {
   "cell_type": "code",
   "execution_count": 22,
   "metadata": {
    "ExecuteTime": {
     "end_time": "2021-07-18T07:55:35.054439Z",
     "start_time": "2021-07-18T07:55:35.040438Z"
    }
   },
   "outputs": [
    {
     "data": {
      "text/plain": [
       "(array([1, 2, 3, 4, 5, 6, 7, 8]),\n",
       " array([[8, 4, 6],\n",
       "        [1, 2, 3]]))"
      ]
     },
     "execution_count": 22,
     "metadata": {},
     "output_type": "execute_result"
    }
   ],
   "source": [
    "array_l, array_t"
   ]
  },
  {
   "cell_type": "markdown",
   "metadata": {},
   "source": [
    "# 12. Write a NumPy program to append values to the end of an array.    \n",
    "\n",
    "```\n",
    "Expected Output:    \n",
    "\n",
    "Original array:    \n",
    "[10, 20, 30]    \n",
    "\n",
    "After append values to the end of the array:    \n",
    "[10 20 30 40 50 60 70 80 90]    \n",
    "```\n",
    "    \n",
    "    "
   ]
  },
  {
   "cell_type": "code",
   "execution_count": 23,
   "metadata": {
    "ExecuteTime": {
     "end_time": "2021-07-18T07:56:04.859614Z",
     "start_time": "2021-07-18T07:56:04.844622Z"
    }
   },
   "outputs": [
    {
     "data": {
      "text/plain": [
       "array([10, 20, 30])"
      ]
     },
     "execution_count": 23,
     "metadata": {},
     "output_type": "execute_result"
    }
   ],
   "source": [
    "array1 = np.array([10, 20, 30])\n",
    "array1"
   ]
  },
  {
   "cell_type": "code",
   "execution_count": 24,
   "metadata": {
    "ExecuteTime": {
     "end_time": "2021-07-18T07:56:25.433344Z",
     "start_time": "2021-07-18T07:56:25.424355Z"
    }
   },
   "outputs": [
    {
     "data": {
      "text/plain": [
       "array([10, 20, 30])"
      ]
     },
     "execution_count": 24,
     "metadata": {},
     "output_type": "execute_result"
    }
   ],
   "source": [
    "array1"
   ]
  },
  {
   "cell_type": "code",
   "execution_count": 26,
   "metadata": {
    "ExecuteTime": {
     "end_time": "2021-07-18T07:57:53.698322Z",
     "start_time": "2021-07-18T07:57:53.685330Z"
    }
   },
   "outputs": [
    {
     "data": {
      "text/plain": [
       "array([10, 20, 30, 40, 50, 60, 70, 80, 90])"
      ]
     },
     "execution_count": 26,
     "metadata": {},
     "output_type": "execute_result"
    }
   ],
   "source": [
    "np.append(array1,[40,50,60,70,80,90])"
   ]
  },
  {
   "cell_type": "code",
   "execution_count": 28,
   "metadata": {
    "ExecuteTime": {
     "end_time": "2021-07-18T07:58:20.027260Z",
     "start_time": "2021-07-18T07:58:20.011574Z"
    }
   },
   "outputs": [
    {
     "data": {
      "text/plain": [
       "array([10, 20, 30, 40, 50, 60, 70, 80, 90])"
      ]
     },
     "execution_count": 28,
     "metadata": {},
     "output_type": "execute_result"
    }
   ],
   "source": [
    "np.append(array1,[[40,50,60],[70,80,90]])"
   ]
  },
  {
   "cell_type": "markdown",
   "metadata": {},
   "source": [
    "# ★ 13. Write a NumPy program to create an empty and a full array.     \n",
    "\n",
    "```\n",
    "Expected Output:    \n",
    "\n",
    "[ 6.93270651e-310 1.59262180e-316 6.93270559e-310 6.93270665e-310]    \n",
    "[ 6.93270667e-310 6.93270671e-310 6.93270668e-310 6.93270483e-310]    \n",
    "[ 6.93270668e-310 6.93270671e-310 6.93270370e-310 6.93270488e-310]]    \n",
    "[[6 6 6]    \n",
    "[6 6 6]    \n",
    "[6 6 6]]    \n",
    "```\n",
    "    \n",
    "    "
   ]
  },
  {
   "cell_type": "code",
   "execution_count": 32,
   "metadata": {
    "ExecuteTime": {
     "end_time": "2021-07-18T08:00:20.990232Z",
     "start_time": "2021-07-18T08:00:20.971223Z"
    }
   },
   "outputs": [
    {
     "data": {
      "text/plain": [
       "array([[0.20043299, 0.20043299, 0.20043299, 0.20043299],\n",
       "       [0.20043299, 0.20043299, 0.20043299, 0.20043299],\n",
       "       [0.20043299, 0.20043299, 0.20043299, 0.20043299]])"
      ]
     },
     "execution_count": 32,
     "metadata": {},
     "output_type": "execute_result"
    }
   ],
   "source": [
    "np.empty((3, 4))"
   ]
  },
  {
   "cell_type": "code",
   "execution_count": 31,
   "metadata": {
    "ExecuteTime": {
     "end_time": "2021-07-18T07:59:35.810754Z",
     "start_time": "2021-07-18T07:59:35.791757Z"
    }
   },
   "outputs": [
    {
     "data": {
      "text/plain": [
       "array([[6, 6, 6],\n",
       "       [6, 6, 6],\n",
       "       [6, 6, 6]])"
      ]
     },
     "execution_count": 31,
     "metadata": {},
     "output_type": "execute_result"
    }
   ],
   "source": [
    "np.full((3, 3), 6)"
   ]
  },
  {
   "cell_type": "markdown",
   "metadata": {},
   "source": [
    "# 14. Write a NumPy program to convert the values of Centigrade degrees into Fahrenheit degrees. Centigrade values are stored into a NumPy array. \n",
    "\n",
    "```\n",
    "Sample Array [0, 12, 45.21 ,34, 99.91]    \n",
    "\n",
    "Expected Output:    \n",
    "Values in Fahrenheit degrees:    \n",
    "[ 0. 12. 45.21 34. 99.91]    \n",
    "\n",
    "Values in Centigrade degrees:    \n",
    "[-17.77777778 -11.11111111 7.33888889 1.11111111 37.72777778]    \n",
    "```\n",
    "    \n",
    "    "
   ]
  },
  {
   "cell_type": "markdown",
   "metadata": {},
   "source": [
    "![Temp](https://www.w3resource.com/w3r_images/python-numpy-image-exercise-14.png)"
   ]
  },
  {
   "cell_type": "code",
   "execution_count": 35,
   "metadata": {
    "ExecuteTime": {
     "end_time": "2021-07-18T08:05:46.071058Z",
     "start_time": "2021-07-18T08:05:46.052048Z"
    }
   },
   "outputs": [
    {
     "data": {
      "text/plain": [
       "array([-17.77777778, -11.11111111,   7.22222222,  -6.11111111,\n",
       "         1.11111111,  37.22222222,  32.77777778])"
      ]
     },
     "execution_count": 35,
     "metadata": {},
     "output_type": "execute_result"
    }
   ],
   "source": [
    "array_F = np.array([0, 12, 45,21, 34, 99,91])\n",
    "\n",
    "(5/9)*(array_F-32)"
   ]
  },
  {
   "cell_type": "markdown",
   "metadata": {},
   "source": [
    "# 15. Write a NumPy program to find the real and imaginary parts of an array of complex numbers.     \n",
    "\n",
    "```\n",
    "Expected Output:    \n",
    "\n",
    "Original array [ 1.00000000+0.j 0.70710678+0.70710678j]    \n",
    "\n",
    "Real part of the array:    \n",
    "[ 1. 0.70710678]    \n",
    "\n",
    "Imaginary part of the array:    \n",
    "[ 0. 0.70710678]    \n",
    "```\n",
    "    \n",
    "    "
   ]
  },
  {
   "cell_type": "code",
   "execution_count": 42,
   "metadata": {
    "ExecuteTime": {
     "end_time": "2021-07-18T08:08:08.986245Z",
     "start_time": "2021-07-18T08:08:08.975240Z"
    }
   },
   "outputs": [
    {
     "data": {
      "text/plain": [
       "array([1.        +0.j        , 0.70710678+0.70710678j])"
      ]
     },
     "execution_count": 42,
     "metadata": {},
     "output_type": "execute_result"
    }
   ],
   "source": [
    "array = np.array([1.+0.j, 0.70710678 + 0.70710678j])\n",
    "array"
   ]
  },
  {
   "cell_type": "code",
   "execution_count": 43,
   "metadata": {
    "ExecuteTime": {
     "end_time": "2021-07-18T08:08:09.143871Z",
     "start_time": "2021-07-18T08:08:09.123864Z"
    }
   },
   "outputs": [
    {
     "data": {
      "text/plain": [
       "array([1.        , 0.70710678])"
      ]
     },
     "execution_count": 43,
     "metadata": {},
     "output_type": "execute_result"
    }
   ],
   "source": [
    "np.real(array)"
   ]
  },
  {
   "cell_type": "code",
   "execution_count": 44,
   "metadata": {
    "ExecuteTime": {
     "end_time": "2021-07-18T08:08:09.222216Z",
     "start_time": "2021-07-18T08:08:09.215216Z"
    }
   },
   "outputs": [
    {
     "data": {
      "text/plain": [
       "array([0.        , 0.70710678])"
      ]
     },
     "execution_count": 44,
     "metadata": {},
     "output_type": "execute_result"
    }
   ],
   "source": [
    "np.imag(array)"
   ]
  },
  {
   "cell_type": "markdown",
   "metadata": {},
   "source": [
    "# 16. Write a NumPy program to find the number of elements of an array, length of one array element in bytes and total bytes consumed by the elements.     \n",
    "\n",
    "```\n",
    "Expected Output:    \n",
    "\n",
    "Size of the array: 3    \n",
    "\n",
    "Length of one array element in bytes: 8    \n",
    "\n",
    "Total bytes consumed by the elements of the array: 24    \n",
    "```\n",
    "    \n",
    "    "
   ]
  },
  {
   "cell_type": "markdown",
   "metadata": {},
   "source": [
    "![array_inf](https://www.w3resource.com/w3r_images/python-numpy-image-exercise-16.png)"
   ]
  },
  {
   "cell_type": "code",
   "execution_count": 45,
   "metadata": {
    "ExecuteTime": {
     "end_time": "2021-07-18T08:09:25.413506Z",
     "start_time": "2021-07-18T08:09:25.400503Z"
    }
   },
   "outputs": [
    {
     "data": {
      "text/plain": [
       "2"
      ]
     },
     "execution_count": 45,
     "metadata": {},
     "output_type": "execute_result"
    }
   ],
   "source": [
    "array.size"
   ]
  },
  {
   "cell_type": "code",
   "execution_count": 47,
   "metadata": {
    "ExecuteTime": {
     "end_time": "2021-07-18T08:10:44.976071Z",
     "start_time": "2021-07-18T08:10:44.960063Z"
    }
   },
   "outputs": [
    {
     "data": {
      "text/plain": [
       "16"
      ]
     },
     "execution_count": 47,
     "metadata": {},
     "output_type": "execute_result"
    }
   ],
   "source": [
    "array.itemsize"
   ]
  },
  {
   "cell_type": "code",
   "execution_count": 46,
   "metadata": {
    "ExecuteTime": {
     "end_time": "2021-07-18T08:09:38.454772Z",
     "start_time": "2021-07-18T08:09:38.436761Z"
    }
   },
   "outputs": [
    {
     "data": {
      "text/plain": [
       "32"
      ]
     },
     "execution_count": 46,
     "metadata": {},
     "output_type": "execute_result"
    }
   ],
   "source": [
    "array.nbytes"
   ]
  },
  {
   "cell_type": "markdown",
   "metadata": {},
   "source": [
    "# 17. Write a NumPy program to test whether each element of a 1-D array is also present in a second array.     \n",
    "\n",
    "```\n",
    "Expected Output:    \n",
    "\n",
    "Array1: [ 0 10 20 40 60]    \n",
    "\n",
    "Array2: [0, 40]    \n",
    "\n",
    "Compare each element of array1 and array2    \n",
    "[ True False False True False]    \n",
    "```\n",
    "    \n",
    "    "
   ]
  },
  {
   "cell_type": "code",
   "execution_count": 50,
   "metadata": {
    "ExecuteTime": {
     "end_time": "2021-07-18T08:12:25.570339Z",
     "start_time": "2021-07-18T08:12:25.552348Z"
    }
   },
   "outputs": [],
   "source": [
    "array1 = np.array([0, 10, 20, 40, 60])\n",
    "array2 = np.array([0, 40])"
   ]
  },
  {
   "cell_type": "code",
   "execution_count": 51,
   "metadata": {
    "ExecuteTime": {
     "end_time": "2021-07-18T08:12:52.350889Z",
     "start_time": "2021-07-18T08:12:52.341887Z"
    }
   },
   "outputs": [
    {
     "data": {
      "text/plain": [
       "array([ True, False, False,  True, False])"
      ]
     },
     "execution_count": 51,
     "metadata": {},
     "output_type": "execute_result"
    }
   ],
   "source": [
    "np.isin(array1, array2)"
   ]
  },
  {
   "cell_type": "markdown",
   "metadata": {},
   "source": [
    "# 18. Write a NumPy program to find common values between two arrays. \n",
    "\n",
    "```\n",
    "Expected Output:    \n",
    "\n",
    "Array1: [ 0 10 20 40 60]    \n",
    "\n",
    "Array2: [10, 30, 40]    \n",
    "\n",
    "Common values between two arrays:    \n",
    "[10 40]    \n",
    "```\n",
    "    "
   ]
  },
  {
   "cell_type": "code",
   "execution_count": 52,
   "metadata": {
    "ExecuteTime": {
     "end_time": "2021-07-18T08:13:49.559473Z",
     "start_time": "2021-07-18T08:13:49.537471Z"
    }
   },
   "outputs": [
    {
     "data": {
      "text/plain": [
       "array([10, 40])"
      ]
     },
     "execution_count": 52,
     "metadata": {},
     "output_type": "execute_result"
    }
   ],
   "source": [
    "array1 = np.array([0, 10, 20, 40, 60])\n",
    "array2 = np.array([10, 30, 40])\n",
    "\n",
    "np.intersect1d(array1, array2)"
   ]
  },
  {
   "cell_type": "markdown",
   "metadata": {},
   "source": [
    "# 19. Write a NumPy program to get the unique elements of an array.    \n",
    "\n",
    "```\n",
    "Expected Output:    \n",
    "\n",
    "Original array:    \n",
    "[10 10 20 20 30 30]    \n",
    "\n",
    "Unique elements of the above array:    \n",
    "[10 20 30]    \n",
    "\n",
    "Original array:    \n",
    "[[1 1]    \n",
    "[2 3]]    \n",
    "\n",
    "Unique elements of the above array:    \n",
    "[1 2 3]    \n",
    "```\n",
    "    \n",
    "    "
   ]
  },
  {
   "cell_type": "code",
   "execution_count": 53,
   "metadata": {
    "ExecuteTime": {
     "end_time": "2021-07-18T08:15:04.045722Z",
     "start_time": "2021-07-18T08:15:04.027718Z"
    }
   },
   "outputs": [],
   "source": [
    "array1 = np.array([10, 10, 20, 30, 30])\n",
    "array2 = np.array([[1, 1],[2, 3]])\n"
   ]
  },
  {
   "cell_type": "code",
   "execution_count": 54,
   "metadata": {
    "ExecuteTime": {
     "end_time": "2021-07-18T08:15:27.155951Z",
     "start_time": "2021-07-18T08:15:27.141935Z"
    }
   },
   "outputs": [
    {
     "data": {
      "text/plain": [
       "array([10, 20, 30])"
      ]
     },
     "execution_count": 54,
     "metadata": {},
     "output_type": "execute_result"
    }
   ],
   "source": [
    "np.unique(array1)"
   ]
  },
  {
   "cell_type": "code",
   "execution_count": 55,
   "metadata": {
    "ExecuteTime": {
     "end_time": "2021-07-18T08:15:42.427229Z",
     "start_time": "2021-07-18T08:15:42.413233Z"
    }
   },
   "outputs": [
    {
     "data": {
      "text/plain": [
       "array([1, 2, 3])"
      ]
     },
     "execution_count": 55,
     "metadata": {},
     "output_type": "execute_result"
    }
   ],
   "source": [
    "np.unique(array2)"
   ]
  },
  {
   "cell_type": "markdown",
   "metadata": {},
   "source": [
    "# 20. Write a NumPy program to find the set difference of two arrays. The set difference will return the sorted, unique values in array1 that are not in array2.     \n",
    "\n",
    "```\n",
    "Expected Output:    \n",
    "\n",
    "Array1: [ 0 10 20 40 60 80]    \n",
    "\n",
    "Array2: [10, 30, 40, 50, 70, 90]   \n",
    "\n",
    "Set difference between two arrays:    \n",
    "[ 0 20 60 80]    \n",
    "```\n",
    "    "
   ]
  },
  {
   "cell_type": "code",
   "execution_count": 56,
   "metadata": {
    "ExecuteTime": {
     "end_time": "2021-07-18T08:17:14.748327Z",
     "start_time": "2021-07-18T08:17:14.738321Z"
    }
   },
   "outputs": [],
   "source": [
    "array1 = np.array([0, 10, 20, 40, 60, 80])\n",
    "array2 = np.array([10, 30, 40, 50, 70, 90])"
   ]
  },
  {
   "cell_type": "code",
   "execution_count": 57,
   "metadata": {
    "ExecuteTime": {
     "end_time": "2021-07-18T08:17:33.101011Z",
     "start_time": "2021-07-18T08:17:33.083994Z"
    }
   },
   "outputs": [
    {
     "data": {
      "text/plain": [
       "array([ 0, 20, 60, 80])"
      ]
     },
     "execution_count": 57,
     "metadata": {},
     "output_type": "execute_result"
    }
   ],
   "source": [
    "np.setdiff1d(array1, array2)"
   ]
  }
 ],
 "metadata": {
  "kernelspec": {
   "display_name": "Python 3",
   "language": "python",
   "name": "python3"
  },
  "language_info": {
   "codemirror_mode": {
    "name": "ipython",
    "version": 3
   },
   "file_extension": ".py",
   "mimetype": "text/x-python",
   "name": "python",
   "nbconvert_exporter": "python",
   "pygments_lexer": "ipython3",
   "version": "3.8.5"
  },
  "toc": {
   "base_numbering": 1,
   "nav_menu": {},
   "number_sections": true,
   "sideBar": true,
   "skip_h1_title": false,
   "title_cell": "Table of Contents",
   "title_sidebar": "Contents",
   "toc_cell": false,
   "toc_position": {},
   "toc_section_display": true,
   "toc_window_display": false
  }
 },
 "nbformat": 4,
 "nbformat_minor": 4
}
