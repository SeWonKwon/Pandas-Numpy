{
 "cells": [
  {
   "cell_type": "markdown",
   "metadata": {},
   "source": [
    "<a href='https://github.com/SeWonKwon' ><div> <img src ='https://slid-capture.s3.ap-northeast-2.amazonaws.com/public/image_upload/6556674324ed41a289a354258718280d/964e5a8b-75ad-41fc-ae75-0ca66d06fbc7.png' align='left' /> </div></a>\n"
   ]
  },
  {
   "cell_type": "markdown",
   "metadata": {},
   "source": [
    "출처:https://www.w3resource.com/python-exercises/numpy/basic/index.php"
   ]
  },
  {
   "cell_type": "code",
   "execution_count": 1,
   "metadata": {
    "ExecuteTime": {
     "end_time": "2021-07-14T02:18:36.071414Z",
     "start_time": "2021-07-14T02:18:35.940181Z"
    }
   },
   "outputs": [],
   "source": [
    "import numpy as np"
   ]
  },
  {
   "cell_type": "markdown",
   "metadata": {},
   "source": [
    "# 41. Write a NumPy program to convert numpy dtypes to native python types.     \n",
    "    "
   ]
  },
  {
   "cell_type": "code",
   "execution_count": 2,
   "metadata": {
    "ExecuteTime": {
     "end_time": "2021-07-14T02:18:36.086428Z",
     "start_time": "2021-07-14T02:18:36.073430Z"
    }
   },
   "outputs": [
    {
     "name": "stdout",
     "output_type": "stream",
     "text": [
      "numpy.float32 to python float\n",
      "<class 'numpy.float32'>\n",
      "<class 'float'>\n"
     ]
    }
   ],
   "source": [
    "print(\"numpy.float32 to python float\")\n",
    "x = np.float32(0)\n",
    "print(type(x))\n",
    "pyval = x.item()\n",
    "print(type(pyval))"
   ]
  },
  {
   "cell_type": "markdown",
   "metadata": {},
   "source": [
    "# 42. Write a NumPy program to add elements in a matrix. If an element in the matrix is 0, we will not add the element below this element.     \n",
    "    "
   ]
  },
  {
   "cell_type": "code",
   "execution_count": 3,
   "metadata": {
    "ExecuteTime": {
     "end_time": "2021-07-14T02:18:36.101906Z",
     "start_time": "2021-07-14T02:18:36.087429Z"
    }
   },
   "outputs": [],
   "source": [
    "def special_sum_0(array_o):\n",
    "    array = array_o.copy()\n",
    "    result = 0 \n",
    "    p_, q_ = array.shape\n",
    "    for p in range(p_):\n",
    "        for q in range(q_):\n",
    "            if array_o[p][q] == 0 :\n",
    "                try:\n",
    "                    array[p+1][q] = 0 \n",
    "                except:\n",
    "                    pass\n",
    "                \n",
    "            result += array[p][q]\n",
    "            \n",
    "    return result"
   ]
  },
  {
   "cell_type": "code",
   "execution_count": 4,
   "metadata": {
    "ExecuteTime": {
     "end_time": "2021-07-14T02:18:36.116904Z",
     "start_time": "2021-07-14T02:18:36.103895Z"
    }
   },
   "outputs": [
    {
     "data": {
      "text/plain": [
       "array([[3, 5, 2, 3],\n",
       "       [3, 7, 2, 4],\n",
       "       [4, 1, 7, 3]])"
      ]
     },
     "execution_count": 4,
     "metadata": {},
     "output_type": "execute_result"
    }
   ],
   "source": [
    "ar=np.random.randint(0,10,(3,4))\n",
    "ar"
   ]
  },
  {
   "cell_type": "code",
   "execution_count": 5,
   "metadata": {
    "ExecuteTime": {
     "end_time": "2021-07-14T02:18:36.131912Z",
     "start_time": "2021-07-14T02:18:36.119897Z"
    }
   },
   "outputs": [
    {
     "data": {
      "text/plain": [
       "44"
      ]
     },
     "execution_count": 5,
     "metadata": {},
     "output_type": "execute_result"
    }
   ],
   "source": [
    "np.sum(ar)"
   ]
  },
  {
   "cell_type": "code",
   "execution_count": 6,
   "metadata": {
    "ExecuteTime": {
     "end_time": "2021-07-14T02:18:36.146911Z",
     "start_time": "2021-07-14T02:18:36.134901Z"
    }
   },
   "outputs": [
    {
     "data": {
      "text/plain": [
       "44"
      ]
     },
     "execution_count": 6,
     "metadata": {},
     "output_type": "execute_result"
    }
   ],
   "source": [
    "special_sum_0(ar)"
   ]
  },
  {
   "cell_type": "markdown",
   "metadata": {},
   "source": [
    "제시한 정답 및 수정\n",
    "\n",
    "* 문제에서 제시한 정답대로 실행 할 시에는 바로 밑에 있는 숫자만 더하지 않은 것이 아니라 모든 아래에 있는 숫자를 더하지 않게된다. \n",
    "\n",
    "* 영어로 인한 해석?!의 이해도가 떨ㅇㅓ져서 무엇이 원하는 것인지는 생각해보기를~"
   ]
  },
  {
   "cell_type": "code",
   "execution_count": 7,
   "metadata": {
    "ExecuteTime": {
     "end_time": "2021-07-14T02:18:36.161906Z",
     "start_time": "2021-07-14T02:18:36.148905Z"
    }
   },
   "outputs": [
    {
     "name": "stdout",
     "output_type": "stream",
     "text": [
      "Original matrix:\n",
      "[[1, 1, 0, 2], [0, 3, 0, 3], [1, 0, 4, 4]]\n",
      "Sum:\n",
      "14\n"
     ]
    }
   ],
   "source": [
    "import numpy as np\n",
    "def sum_matrix_Elements(m):\n",
    "    arra = np.array(m)   \n",
    "    element_sum = 0  \n",
    "    for p in range(len(arra)):  \n",
    "        for q in range(len(arra[p])):  \n",
    "            if arra[p][q] == 0 and p < len(arra)-1: \n",
    "                arra[p+1][q] = 0  \n",
    "            element_sum += arra[p][q]  \n",
    "    return element_sum\n",
    "m = [[1, 1, 0, 2],\n",
    "     [0, 3, 0, 3], \n",
    "     [1, 0, 4, 4]]\n",
    "print(\"Original matrix:\")\n",
    "print(m)\n",
    "print(\"Sum:\")\n",
    "print(sum_matrix_Elements(m))"
   ]
  },
  {
   "cell_type": "markdown",
   "metadata": {},
   "source": [
    "# 43. Write a NumPy program to find the missing data in a given array.        \n",
    "    "
   ]
  },
  {
   "cell_type": "code",
   "execution_count": 8,
   "metadata": {
    "ExecuteTime": {
     "end_time": "2021-07-14T02:18:36.176911Z",
     "start_time": "2021-07-14T02:18:36.165908Z"
    }
   },
   "outputs": [
    {
     "data": {
      "text/plain": [
       "array([False, False,  True, False,  True])"
      ]
     },
     "execution_count": 8,
     "metadata": {},
     "output_type": "execute_result"
    }
   ],
   "source": [
    "array1 = np.array([1, 3, np.nan, 5, np.nan])\n",
    "np.isnan(array1)"
   ]
  },
  {
   "cell_type": "markdown",
   "metadata": {},
   "source": [
    "# 44. Write a NumPy program to check whether two arrays are equal (element wise) or not.     \n",
    "    \n",
    "    "
   ]
  },
  {
   "cell_type": "code",
   "execution_count": 9,
   "metadata": {
    "ExecuteTime": {
     "end_time": "2021-07-14T02:18:36.192915Z",
     "start_time": "2021-07-14T02:18:36.179914Z"
    }
   },
   "outputs": [
    {
     "data": {
      "text/plain": [
       "array([False, False, False, False, False])"
      ]
     },
     "execution_count": 9,
     "metadata": {},
     "output_type": "execute_result"
    }
   ],
   "source": [
    "array1 = np.random.randint(1, 4, 5)\n",
    "array2 = np.random.randint(1, 4, 5)\n",
    "\n",
    "np.equal(array1, array2)"
   ]
  },
  {
   "cell_type": "markdown",
   "metadata": {},
   "source": [
    "# 45. Write a NumPy program to create one-dimensional array of single, two and three digit numbers.     \n",
    "    \n",
    "    "
   ]
  },
  {
   "cell_type": "code",
   "execution_count": 10,
   "metadata": {
    "ExecuteTime": {
     "end_time": "2021-07-14T02:18:36.207919Z",
     "start_time": "2021-07-14T02:18:36.194918Z"
    }
   },
   "outputs": [
    {
     "name": "stdout",
     "output_type": "stream",
     "text": [
      "One-dimensional array of single digit numbers:\n",
      "[ 1  2  3  4  5  6  7  8  9 10 11 12 13 14 15 16 17 18 19 20]\n",
      "\n",
      "One-dimensional array of two digit numbers:\n",
      "[10 11 12 13 14 15 16 17 18 19 20]\n",
      "\n",
      "One-dimensional array of three digit numbers:\n",
      "[100 101 102 103 104 105 106 107 108 109 110 111 112 113 114 115 116 117\n",
      " 118 119 120 121 122 123 124 125 126 127 128 129 130 131 132 133 134 135\n",
      " 136 137 138 139 140 141 142 143 144 145 146 147 148 149 150 151 152 153\n",
      " 154 155 156 157 158 159 160 161 162 163 164 165 166 167 168 169 170 171\n",
      " 172 173 174 175 176 177 178 179 180 181 182 183 184 185 186 187 188 189\n",
      " 190 191 192 193 194 195 196 197 198 199 200]\n"
     ]
    }
   ],
   "source": [
    "nums = np.arange(1, 21)\n",
    "print(\"One-dimensional array of single digit numbers:\") \n",
    "print(nums)\n",
    "nums = np.arange(10, 21)\n",
    "print(\"\\nOne-dimensional array of two digit numbers:\") \n",
    "print(nums)\n",
    "nums = np.arange(100, 201)\n",
    "print(\"\\nOne-dimensional array of three digit numbers:\") \n",
    "print(nums)"
   ]
  },
  {
   "cell_type": "markdown",
   "metadata": {},
   "source": [
    "# 46. Write a NumPy program to create a two-dimensional array of specified format.     \n",
    "    \n",
    "    "
   ]
  },
  {
   "cell_type": "code",
   "execution_count": 11,
   "metadata": {
    "ExecuteTime": {
     "end_time": "2021-07-14T02:18:36.222920Z",
     "start_time": "2021-07-14T02:18:36.209920Z"
    }
   },
   "outputs": [
    {
     "data": {
      "text/plain": [
       "array([[ 0,  1,  2,  3,  4],\n",
       "       [ 5,  6,  7,  8,  9],\n",
       "       [10, 11, 12, 13, 14],\n",
       "       [15, 16, 17, 18, 19],\n",
       "       [20, 21, 22, 23, 24],\n",
       "       [25, 26, 27, 28, 29]])"
      ]
     },
     "execution_count": 11,
     "metadata": {},
     "output_type": "execute_result"
    }
   ],
   "source": [
    "array1 = np.arange(30)\n",
    "array1.reshape(-2,5)"
   ]
  },
  {
   "cell_type": "markdown",
   "metadata": {},
   "source": [
    "# 47. Write a NumPy program to create a one dimensional array of forty pseudo-randomly generated values. Select random numbers from a uniform distribution between 0 and 1.     \n",
    "    \n",
    "    "
   ]
  },
  {
   "cell_type": "code",
   "execution_count": 12,
   "metadata": {
    "ExecuteTime": {
     "end_time": "2021-07-14T02:18:36.238924Z",
     "start_time": "2021-07-14T02:18:36.225922Z"
    }
   },
   "outputs": [
    {
     "data": {
      "text/plain": [
       "array([0.53959861, 0.95910247, 0.91453042, 0.23844271, 0.43198143,\n",
       "       0.50571382, 0.49129441, 0.18748923, 0.11948501, 0.04500097])"
      ]
     },
     "execution_count": 12,
     "metadata": {},
     "output_type": "execute_result"
    }
   ],
   "source": [
    "array1 = np.random.uniform(0,1, 10)\n",
    "array1"
   ]
  },
  {
   "cell_type": "code",
   "execution_count": 13,
   "metadata": {
    "ExecuteTime": {
     "end_time": "2021-07-14T02:18:36.253928Z",
     "start_time": "2021-07-14T02:18:36.240926Z"
    }
   },
   "outputs": [
    {
     "data": {
      "text/plain": [
       "array([0.37802429, 0.60212192, 0.70897184, 0.70089349, 0.9846612 ,\n",
       "       0.58257225, 0.30072078, 0.47384179, 0.06055251, 0.84763251])"
      ]
     },
     "execution_count": 13,
     "metadata": {},
     "output_type": "execute_result"
    }
   ],
   "source": [
    "# or\n",
    "\n",
    "np.random.rand(10)"
   ]
  },
  {
   "cell_type": "markdown",
   "metadata": {},
   "source": [
    "# 48. Write a NumPy program to create a two-dimensional array with shape (8,5) of random numbers. Select random numbers from a normal distribution (200,7).     \n",
    "    \n",
    "    "
   ]
  },
  {
   "cell_type": "code",
   "execution_count": 14,
   "metadata": {
    "ExecuteTime": {
     "end_time": "2021-07-14T02:18:36.269930Z",
     "start_time": "2021-07-14T02:18:36.256929Z"
    }
   },
   "outputs": [
    {
     "data": {
      "text/plain": [
       "array([[209.15228754, 194.93889455, 199.60426269, 195.50146262,\n",
       "        191.98004561],\n",
       "       [209.89313647, 199.93447579, 189.33172583, 198.36841426,\n",
       "        188.61307018],\n",
       "       [194.7269509 , 210.55687222, 201.8547239 , 194.98275517,\n",
       "        205.5105515 ],\n",
       "       [199.64513369, 191.8582671 , 187.45722841, 199.51776778,\n",
       "        195.67616539],\n",
       "       [197.95855906, 187.92765583, 208.44365881, 201.19088899,\n",
       "        199.72802829],\n",
       "       [196.1122765 , 209.34979482, 199.68032768, 202.64762988,\n",
       "        202.64948277],\n",
       "       [189.38615134, 195.4753215 , 203.29693133, 200.8310544 ,\n",
       "        203.05831976],\n",
       "       [191.24247893, 198.73378555, 192.54390967, 198.18455217,\n",
       "        205.3454285 ]])"
      ]
     },
     "execution_count": 14,
     "metadata": {},
     "output_type": "execute_result"
    }
   ],
   "source": [
    "np.random.normal(200, 7,(8,5))"
   ]
  },
  {
   "cell_type": "markdown",
   "metadata": {},
   "source": [
    "다른 답안"
   ]
  },
  {
   "cell_type": "code",
   "execution_count": 15,
   "metadata": {
    "ExecuteTime": {
     "end_time": "2021-07-14T02:18:36.284934Z",
     "start_time": "2021-07-14T02:18:36.271933Z"
    },
    "scrolled": true
   },
   "outputs": [
    {
     "name": "stdout",
     "output_type": "stream",
     "text": [
      "[[201.6908267  200.37467631 200.68394275 195.51750123]\n",
      " [197.92478992 201.07066048 201.79714021 198.1282331 ]\n",
      " [200.96238963 200.77744291 200.61875865 199.05613894]\n",
      " [198.48492638 198.38860811 197.55239946 200.47003621]\n",
      " [199.91545839 202.99877319 202.01069857 200.77735483]\n",
      " [199.67739161 193.89831807 202.14273593 202.54951299]\n",
      " [199.53450969 199.7512602  199.79145727 202.97687757]\n",
      " [200.24634413 196.04606934 198.30611253 197.88701546]\n",
      " [201.78450912 203.94032834 198.21152803 196.91446071]\n",
      " [201.0082481  197.03285104 200.63052763 197.82590294]]\n"
     ]
    }
   ],
   "source": [
    "import numpy as np \n",
    "np.random.seed(20) \n",
    "cbrt = np.cbrt(7)\n",
    "nd1 = 200 \n",
    "print(cbrt * np.random.randn(10, 4) + nd1) "
   ]
  },
  {
   "cell_type": "code",
   "execution_count": 16,
   "metadata": {
    "ExecuteTime": {
     "end_time": "2021-07-14T02:18:36.299936Z",
     "start_time": "2021-07-14T02:18:36.286935Z"
    }
   },
   "outputs": [
    {
     "data": {
      "text/plain": [
       "1.9129311827723892"
      ]
     },
     "execution_count": 16,
     "metadata": {},
     "output_type": "execute_result"
    }
   ],
   "source": [
    "cbrt"
   ]
  },
  {
   "cell_type": "code",
   "execution_count": 17,
   "metadata": {
    "ExecuteTime": {
     "end_time": "2021-07-14T02:18:36.314954Z",
     "start_time": "2021-07-14T02:18:36.301937Z"
    }
   },
   "outputs": [
    {
     "name": "stdout",
     "output_type": "stream",
     "text": [
      "cbrt(x, /, out=None, *, where=True, casting='same_kind', order='K', dtype=None, subok=True[, signature, extobj])\n",
      "\n",
      "Return the cube-root of an array, element-wise.\n",
      "\n",
      ".. versionadded:: 1.10.0\n",
      "\n",
      "Parameters\n",
      "----------\n",
      "x : array_like\n",
      "    The values whose cube-roots are required.\n",
      "out : ndarray, None, or tuple of ndarray and None, optional\n",
      "    A location into which the result is stored. If provided, it must have\n",
      "    a shape that the inputs broadcast to. If not provided or None,\n",
      "    a freshly-allocated array is returned. A tuple (possible only as a\n",
      "    keyword argument) must have length equal to the number of outputs.\n",
      "where : array_like, optional\n",
      "    This condition is broadcast over the input. At locations where the\n",
      "    condition is True, the `out` array will be set to the ufunc result.\n",
      "    Elsewhere, the `out` array will retain its original value.\n",
      "    Note that if an uninitialized `out` array is created via the default\n",
      "    ``out=None``, locations within it where the condition is False will\n",
      "    remain uninitialized.\n",
      "**kwargs\n",
      "    For other keyword-only arguments, see the\n",
      "    :ref:`ufunc docs <ufuncs.kwargs>`.\n",
      "\n",
      "Returns\n",
      "-------\n",
      "y : ndarray\n",
      "    An array of the same shape as `x`, containing the cube\n",
      "    cube-root of each element in `x`.\n",
      "    If `out` was provided, `y` is a reference to it.\n",
      "    This is a scalar if `x` is a scalar.\n",
      "\n",
      "\n",
      "Examples\n",
      "--------\n",
      ">>> np.cbrt([1,8,27])\n",
      "array([ 1.,  2.,  3.])\n"
     ]
    }
   ],
   "source": [
    "np.info(np.cbrt)"
   ]
  },
  {
   "cell_type": "markdown",
   "metadata": {},
   "source": [
    "# ★ 49. Write a NumPy program to generate a uniform, non-uniform random sample from a given 1-D array with and without replacement.     \n",
    "    \n",
    "    "
   ]
  },
  {
   "cell_type": "code",
   "execution_count": 18,
   "metadata": {
    "ExecuteTime": {
     "end_time": "2021-07-14T02:18:36.329944Z",
     "start_time": "2021-07-14T02:18:36.317941Z"
    }
   },
   "outputs": [
    {
     "name": "stdout",
     "output_type": "stream",
     "text": [
      "Generate a uniform random sample with replacement:\n",
      "[2 2 1 5 2]\n",
      "\n",
      "Generate a uniform random sample without replacement:\n",
      "[6 3 5 4 2]\n",
      "\n",
      "Generate a non-uniform random sample with replacement:\n",
      "[6 1 6 0 1]\n",
      "\n",
      "Generate a uniform random sample without replacement:\n",
      "[1 6 4 3 0]\n"
     ]
    }
   ],
   "source": [
    "import numpy as np \n",
    "print(\"Generate a uniform random sample with replacement:\") \n",
    "print(np.random.choice(7, 5))\n",
    "print(\"\\nGenerate a uniform random sample without replacement:\") \n",
    "print(np.random.choice(7, 5, replace=False))\n",
    "print(\"\\nGenerate a non-uniform random sample with replacement:\") \n",
    "print(np.random.choice(7, 5, p=[0.1, 0.2, 0, 0.2, 0.4, 0, 0.1]))\n",
    "print(\"\\nGenerate a uniform random sample without replacement:\") \n",
    "print(np.random.choice(7, 5, replace=False, p=[0.1, 0.2, 0, 0.2, 0.4, 0, 0.1]))"
   ]
  },
  {
   "cell_type": "markdown",
   "metadata": {},
   "source": [
    "# ★ 50. Write a NumPy program to create a 4x4 array with random values, now create a new array from the said array swapping first and last rows.     \n",
    "    \n",
    "    "
   ]
  },
  {
   "cell_type": "code",
   "execution_count": 34,
   "metadata": {
    "ExecuteTime": {
     "end_time": "2021-07-14T02:25:06.216535Z",
     "start_time": "2021-07-14T02:25:06.203409Z"
    }
   },
   "outputs": [
    {
     "data": {
      "text/plain": [
       "array([[ 5.42604483e-01,  3.38330561e-01, -8.26689398e-02,\n",
       "        -1.51080365e-01],\n",
       "       [-4.11827634e-04, -3.75332448e-01,  1.19561982e+00,\n",
       "        -1.17478309e+00],\n",
       "       [-6.06727617e-02, -2.62649072e-01, -8.67849560e-01,\n",
       "         5.16497796e-01],\n",
       "       [-1.11674480e+00, -4.73567467e-01, -9.64601483e-01,\n",
       "         1.02543337e+00]])"
      ]
     },
     "execution_count": 34,
     "metadata": {},
     "output_type": "execute_result"
    }
   ],
   "source": [
    "array1 = np.random.randn(16).reshape(4,4)\n",
    "array1"
   ]
  },
  {
   "cell_type": "code",
   "execution_count": 35,
   "metadata": {
    "ExecuteTime": {
     "end_time": "2021-07-14T02:25:06.381902Z",
     "start_time": "2021-07-14T02:25:06.372911Z"
    }
   },
   "outputs": [
    {
     "data": {
      "text/plain": [
       "array([[-1.11674480e+00, -4.73567467e-01, -9.64601483e-01,\n",
       "         1.02543337e+00],\n",
       "       [-6.06727617e-02, -2.62649072e-01, -8.67849560e-01,\n",
       "         5.16497796e-01],\n",
       "       [-4.11827634e-04, -3.75332448e-01,  1.19561982e+00,\n",
       "        -1.17478309e+00],\n",
       "       [ 5.42604483e-01,  3.38330561e-01, -8.26689398e-02,\n",
       "        -1.51080365e-01]])"
      ]
     },
     "execution_count": 35,
     "metadata": {},
     "output_type": "execute_result"
    }
   ],
   "source": [
    "array1 = array1[::-1]\n",
    "array1"
   ]
  },
  {
   "cell_type": "code",
   "execution_count": 36,
   "metadata": {
    "ExecuteTime": {
     "end_time": "2021-07-14T02:25:06.547832Z",
     "start_time": "2021-07-14T02:25:06.537829Z"
    }
   },
   "outputs": [
    {
     "data": {
      "text/plain": [
       "array([[ 1.02543337e+00, -9.64601483e-01, -4.73567467e-01,\n",
       "        -1.11674480e+00],\n",
       "       [ 5.16497796e-01, -8.67849560e-01, -2.62649072e-01,\n",
       "        -6.06727617e-02],\n",
       "       [-1.17478309e+00,  1.19561982e+00, -3.75332448e-01,\n",
       "        -4.11827634e-04],\n",
       "       [-1.51080365e-01, -8.26689398e-02,  3.38330561e-01,\n",
       "         5.42604483e-01]])"
      ]
     },
     "execution_count": 36,
     "metadata": {},
     "output_type": "execute_result"
    }
   ],
   "source": [
    "array1 = array1[:,::-1]\n",
    "array1"
   ]
  },
  {
   "cell_type": "markdown",
   "metadata": {},
   "source": [
    "# 51. Write a NumPy program to create a new array of given shape (5,6) and type, filled with zeros.    "
   ]
  },
  {
   "cell_type": "code",
   "execution_count": 38,
   "metadata": {
    "ExecuteTime": {
     "end_time": "2021-07-14T02:27:27.388982Z",
     "start_time": "2021-07-14T02:27:27.379981Z"
    }
   },
   "outputs": [
    {
     "data": {
      "text/plain": [
       "array([[0, 0, 0, 0, 0, 0],\n",
       "       [0, 0, 0, 0, 0, 0],\n",
       "       [0, 0, 0, 0, 0, 0],\n",
       "       [0, 0, 0, 0, 0, 0],\n",
       "       [0, 0, 0, 0, 0, 0]])"
      ]
     },
     "execution_count": 38,
     "metadata": {},
     "output_type": "execute_result"
    }
   ],
   "source": [
    "np.zeros((5,6),dtype=np.int)"
   ]
  },
  {
   "cell_type": "markdown",
   "metadata": {},
   "source": [
    "# 52. Write a NumPy program to sort a given array by row and column in ascending order.     \n",
    "    \n",
    "    "
   ]
  },
  {
   "cell_type": "code",
   "execution_count": 47,
   "metadata": {
    "ExecuteTime": {
     "end_time": "2021-07-14T02:29:58.763370Z",
     "start_time": "2021-07-14T02:29:58.751350Z"
    }
   },
   "outputs": [
    {
     "data": {
      "text/plain": [
       "array([ 4, 11,  1, 12,  2,  9, 14,  0,  7, 10,  6, 15,  8, 13,  3,  5])"
      ]
     },
     "execution_count": 47,
     "metadata": {},
     "output_type": "execute_result"
    }
   ],
   "source": [
    "array1 = np.random.choice((np.arange(16)),16, replace=False)\n",
    "array1"
   ]
  },
  {
   "cell_type": "code",
   "execution_count": 40,
   "metadata": {
    "ExecuteTime": {
     "end_time": "2021-07-14T02:28:15.215731Z",
     "start_time": "2021-07-14T02:28:15.199726Z"
    }
   },
   "outputs": [
    {
     "data": {
      "text/plain": [
       "array([ 0,  1,  2,  3,  4,  5,  6,  7,  8,  9, 10, 11, 12, 13, 14, 15])"
      ]
     },
     "execution_count": 40,
     "metadata": {},
     "output_type": "execute_result"
    }
   ],
   "source": [
    "np.sort(array)"
   ]
  },
  {
   "cell_type": "code",
   "execution_count": 48,
   "metadata": {
    "ExecuteTime": {
     "end_time": "2021-07-14T02:30:29.987301Z",
     "start_time": "2021-07-14T02:30:29.969297Z"
    }
   },
   "outputs": [
    {
     "data": {
      "text/plain": [
       "array([[ 1, 11, 10,  2],\n",
       "       [14,  4, 12,  7],\n",
       "       [15,  0,  8,  6],\n",
       "       [ 5,  9,  3, 13]])"
      ]
     },
     "execution_count": 48,
     "metadata": {},
     "output_type": "execute_result"
    }
   ],
   "source": [
    "array2 = np.random.choice((np.arange(16)),16, replace=False).reshape(4,4)\n",
    "array2"
   ]
  },
  {
   "cell_type": "code",
   "execution_count": 49,
   "metadata": {
    "ExecuteTime": {
     "end_time": "2021-07-14T02:30:44.074583Z",
     "start_time": "2021-07-14T02:30:44.059574Z"
    }
   },
   "outputs": [
    {
     "data": {
      "text/plain": [
       "array([[ 1,  2, 10, 11],\n",
       "       [ 4,  7, 12, 14],\n",
       "       [ 0,  6,  8, 15],\n",
       "       [ 3,  5,  9, 13]])"
      ]
     },
     "execution_count": 49,
     "metadata": {},
     "output_type": "execute_result"
    }
   ],
   "source": [
    "np.sort(array2)"
   ]
  },
  {
   "cell_type": "code",
   "execution_count": 50,
   "metadata": {
    "ExecuteTime": {
     "end_time": "2021-07-14T02:31:00.114243Z",
     "start_time": "2021-07-14T02:31:00.097251Z"
    }
   },
   "outputs": [
    {
     "data": {
      "text/plain": [
       "array([[ 1,  0,  3,  2],\n",
       "       [ 5,  4,  8,  6],\n",
       "       [14,  9, 10,  7],\n",
       "       [15, 11, 12, 13]])"
      ]
     },
     "execution_count": 50,
     "metadata": {},
     "output_type": "execute_result"
    }
   ],
   "source": [
    "np.sort(array2,axis=0)"
   ]
  },
  {
   "cell_type": "markdown",
   "metadata": {},
   "source": [
    "# ★ 53. Write a NumPy program to extract all numbers from a given array which are less and greater than a specified number.     \n",
    "    \n",
    "    "
   ]
  },
  {
   "cell_type": "code",
   "execution_count": 57,
   "metadata": {
    "ExecuteTime": {
     "end_time": "2021-07-14T02:35:02.690236Z",
     "start_time": "2021-07-14T02:35:02.684233Z"
    }
   },
   "outputs": [
    {
     "data": {
      "text/plain": [
       "array([[12, 10,  1,  4],\n",
       "       [11,  9,  6,  8],\n",
       "       [ 5, 14,  7,  3],\n",
       "       [15,  2,  0, 13]])"
      ]
     },
     "execution_count": 57,
     "metadata": {},
     "output_type": "execute_result"
    }
   ],
   "source": [
    "array = np.random.choice((np.arange(16)),16, replace=False).reshape(4,4)\n",
    "array"
   ]
  },
  {
   "cell_type": "code",
   "execution_count": 60,
   "metadata": {
    "ExecuteTime": {
     "end_time": "2021-07-14T02:35:30.749733Z",
     "start_time": "2021-07-14T02:35:30.742726Z"
    }
   },
   "outputs": [
    {
     "data": {
      "text/plain": [
       "(array([0, 0, 0, 0, 1, 1, 1, 1, 2, 2, 3, 3], dtype=int64),\n",
       " array([0, 1, 2, 3, 0, 1, 2, 3, 0, 1, 2, 3], dtype=int64))"
      ]
     },
     "execution_count": 60,
     "metadata": {},
     "output_type": "execute_result"
    }
   ],
   "source": [
    "array = np.random.choice((np.arange(16)),16, replace=False).reshape(4,4)\n",
    "array\n",
    "np.where(array>3)"
   ]
  },
  {
   "cell_type": "code",
   "execution_count": 58,
   "metadata": {
    "ExecuteTime": {
     "end_time": "2021-07-14T02:35:02.900880Z",
     "start_time": "2021-07-14T02:35:02.892865Z"
    },
    "scrolled": true
   },
   "outputs": [
    {
     "data": {
      "text/plain": [
       "array([4, 6, 5])"
      ]
     },
     "execution_count": 58,
     "metadata": {},
     "output_type": "execute_result"
    }
   ],
   "source": [
    "array[np.where((array>3) & (array<7))]"
   ]
  },
  {
   "cell_type": "markdown",
   "metadata": {},
   "source": [
    "다른 답안"
   ]
  },
  {
   "cell_type": "code",
   "execution_count": 59,
   "metadata": {
    "ExecuteTime": {
     "end_time": "2021-07-14T02:35:03.159891Z",
     "start_time": "2021-07-14T02:35:03.146890Z"
    }
   },
   "outputs": [
    {
     "name": "stdout",
     "output_type": "stream",
     "text": [
      "Original array:\n",
      "[[5.54 3.38 7.99]\n",
      " [3.54 4.38 6.99]\n",
      " [1.54 2.39 9.29]]\n",
      "\n",
      "Elements of the said array greater than 5\n",
      "[5.54 7.99 6.99 9.29]\n",
      "\n",
      "Elements of the said array less than 6\n",
      "[5.54 3.38 3.54 4.38 1.54 2.39]\n"
     ]
    }
   ],
   "source": [
    "import numpy as np  \n",
    "nums = np.array([[5.54, 3.38, 7.99],\n",
    "              [3.54, 4.38, 6.99],\n",
    "              [1.54, 2.39, 9.29]])\n",
    "print(\"Original array:\")\n",
    "print(nums)\n",
    "n = 5\n",
    "print(\"\\nElements of the said array greater than\",n)\n",
    "print(nums[nums > n])\n",
    "n = 6\n",
    "print(\"\\nElements of the said array less than\",n)\n",
    "print(nums[nums < n])"
   ]
  },
  {
   "cell_type": "markdown",
   "metadata": {},
   "source": [
    "# ★ 54. Write a NumPy program to replace all numbers in a given array which is equal, less and greater to a given number.     \n",
    "    \n",
    "    "
   ]
  },
  {
   "cell_type": "code",
   "execution_count": 90,
   "metadata": {
    "ExecuteTime": {
     "end_time": "2021-07-14T02:57:02.571806Z",
     "start_time": "2021-07-14T02:57:02.560803Z"
    }
   },
   "outputs": [
    {
     "data": {
      "text/plain": [
       "array([[ 0,  4, 12,  5],\n",
       "       [ 2,  7, 13,  3],\n",
       "       [ 8,  1, 11, 10],\n",
       "       [14,  9, 15,  6]])"
      ]
     },
     "execution_count": 90,
     "metadata": {},
     "output_type": "execute_result"
    }
   ],
   "source": [
    "array = np.random.choice((np.arange(16)),16, replace=False).reshape(4,4)\n",
    "array"
   ]
  },
  {
   "cell_type": "code",
   "execution_count": 92,
   "metadata": {
    "ExecuteTime": {
     "end_time": "2021-07-14T02:57:19.241510Z",
     "start_time": "2021-07-14T02:57:19.223513Z"
    },
    "scrolled": true
   },
   "outputs": [
    {
     "data": {
      "text/plain": [
       "array([[ 0, 99, 12, 99],\n",
       "       [ 2,  7, 13,  3],\n",
       "       [ 8,  1, 11, 10],\n",
       "       [14,  9, 15, 99]])"
      ]
     },
     "execution_count": 92,
     "metadata": {},
     "output_type": "execute_result"
    }
   ],
   "source": [
    "array[np.where((array>3) & (array<7))]=99\n",
    "array"
   ]
  },
  {
   "cell_type": "markdown",
   "metadata": {},
   "source": [
    "다른 답안"
   ]
  },
  {
   "cell_type": "code",
   "execution_count": 93,
   "metadata": {
    "ExecuteTime": {
     "end_time": "2021-07-14T02:58:15.751965Z",
     "start_time": "2021-07-14T02:58:15.742978Z"
    }
   },
   "outputs": [
    {
     "name": "stdout",
     "output_type": "stream",
     "text": [
      "Original array:\n",
      "[[5.54 3.38 7.99]\n",
      " [3.54 8.32 6.99]\n",
      " [1.54 2.39 9.29]]\n",
      "\n",
      "Replace elements of the said array which are equal to  8.32 with 18.32\n",
      "[[ 5.54  3.38  7.99]\n",
      " [ 3.54 18.32  6.99]\n",
      " [ 1.54  2.39  9.29]]\n",
      "\n",
      "Replace elements with of the said array which are less than 8.32 with 18.32\n",
      "[[18.32 18.32 18.32]\n",
      " [18.32  8.32 18.32]\n",
      " [18.32 18.32  9.29]]\n",
      "\n",
      "Replace elements with of the said array which are greater than 8.32 with 18.32\n",
      "[[ 5.54  3.38  7.99]\n",
      " [ 3.54  8.32  6.99]\n",
      " [ 1.54  2.39 18.32]]\n"
     ]
    }
   ],
   "source": [
    "import numpy as np\n",
    "nums = np.array([[5.54, 3.38, 7.99],\n",
    "              [3.54, 8.32, 6.99],\n",
    "              [1.54, 2.39, 9.29]])\n",
    "print(\"Original array:\")\n",
    "print(nums)\n",
    "n = 8.32\n",
    "r = 18.32\n",
    "print(\"\\nReplace elements of the said array which are equal to \",n,\"with\",r)\n",
    "print(np.where(nums == n, r, nums))\n",
    "print(\"\\nReplace elements with of the said array which are less than\",n,\"with\",r)\n",
    "print(np.where(nums < n, r, nums))\n",
    "print(\"\\nReplace elements with of the said array which are greater than\",n,\"with\",r)\n",
    "print(np.where(nums > n, r, nums))"
   ]
  },
  {
   "cell_type": "markdown",
   "metadata": {},
   "source": [
    "# 55. Write a NumPy program to create an array of equal shape and data type of a given array.     \n",
    "    \n",
    "    "
   ]
  },
  {
   "cell_type": "code",
   "execution_count": null,
   "metadata": {},
   "outputs": [],
   "source": []
  },
  {
   "cell_type": "markdown",
   "metadata": {},
   "source": [
    "# 56. Write a NumPy program to create a three-dimension array with shape (3,5,4) and set to a variable.     \n",
    "    \n",
    "    "
   ]
  },
  {
   "cell_type": "code",
   "execution_count": null,
   "metadata": {},
   "outputs": [],
   "source": []
  },
  {
   "cell_type": "markdown",
   "metadata": {},
   "source": [
    "# 57. Write a NumPy program to create a 4x4 array, now create a new array from the said array swapping first and last, second and third columns.     \n",
    "    \n",
    "    "
   ]
  },
  {
   "cell_type": "code",
   "execution_count": null,
   "metadata": {},
   "outputs": [],
   "source": []
  },
  {
   "cell_type": "markdown",
   "metadata": {},
   "source": [
    "# 58. Write a NumPy program to swap rows and columns of a given array in reverse order.     \n",
    "    \n",
    "    "
   ]
  },
  {
   "cell_type": "code",
   "execution_count": null,
   "metadata": {},
   "outputs": [],
   "source": []
  },
  {
   "cell_type": "markdown",
   "metadata": {},
   "source": [
    "# 59. Write a NumPy program to multiply two given arrays of same size element-by-element.     "
   ]
  },
  {
   "cell_type": "code",
   "execution_count": null,
   "metadata": {},
   "outputs": [],
   "source": []
  }
 ],
 "metadata": {
  "kernelspec": {
   "display_name": "Python 3",
   "language": "python",
   "name": "python3"
  },
  "language_info": {
   "codemirror_mode": {
    "name": "ipython",
    "version": 3
   },
   "file_extension": ".py",
   "mimetype": "text/x-python",
   "name": "python",
   "nbconvert_exporter": "python",
   "pygments_lexer": "ipython3",
   "version": "3.8.5"
  },
  "toc": {
   "base_numbering": 1,
   "nav_menu": {},
   "number_sections": true,
   "sideBar": true,
   "skip_h1_title": false,
   "title_cell": "Table of Contents",
   "title_sidebar": "Contents",
   "toc_cell": false,
   "toc_position": {},
   "toc_section_display": true,
   "toc_window_display": false
  }
 },
 "nbformat": 4,
 "nbformat_minor": 4
}
