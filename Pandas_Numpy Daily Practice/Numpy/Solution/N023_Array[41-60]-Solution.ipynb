{
 "cells": [
  {
   "cell_type": "markdown",
   "metadata": {},
   "source": [
    "<a href='https://github.com/SeWonKwon' ><div> <img src ='https://slid-capture.s3.ap-northeast-2.amazonaws.com/public/image_upload/6556674324ed41a289a354258718280d/964e5a8b-75ad-41fc-ae75-0ca66d06fbc7.png' align='left' /> </div></a>\n"
   ]
  },
  {
   "cell_type": "code",
   "execution_count": 1,
   "metadata": {
    "ExecuteTime": {
     "end_time": "2021-07-26T01:02:00.003550Z",
     "start_time": "2021-07-26T01:01:59.890447Z"
    }
   },
   "outputs": [],
   "source": [
    "import numpy as np"
   ]
  },
  {
   "cell_type": "markdown",
   "metadata": {},
   "source": [
    "출처: https://www.w3resource.com/python-exercises/numpy/index-array.php"
   ]
  },
  {
   "cell_type": "markdown",
   "metadata": {},
   "source": [
    "# 41. Write a NumPy program to create an array of 10's with the same shape and type of a given array.    \n",
    "\n",
    "Sample array: x = np.arange(4, dtype=np.int64)    \n",
    "```\n",
    "Expected Output:    \n",
    "[10 10 10 10]    \n",
    "```\n",
    "    \n",
    "   "
   ]
  },
  {
   "cell_type": "code",
   "execution_count": 2,
   "metadata": {
    "ExecuteTime": {
     "end_time": "2021-07-26T01:02:00.018563Z",
     "start_time": "2021-07-26T01:02:00.004551Z"
    }
   },
   "outputs": [
    {
     "data": {
      "text/plain": [
       "array([10, 10, 10, 10], dtype=int64)"
      ]
     },
     "execution_count": 2,
     "metadata": {},
     "output_type": "execute_result"
    }
   ],
   "source": [
    "x = np.arange(4, dtype=np.int64)\n",
    "np.full_like(x, 10)"
   ]
  },
  {
   "cell_type": "markdown",
   "metadata": {},
   "source": [
    "# 42. Write a NumPy program to create a 3-D array with ones on a diagonal and zeros elsewhere.     \n",
    "\n",
    "```\n",
    "Expected Output:    \n",
    "\n",
    "[[ 1. 0. 0.]    \n",
    "[ 0. 1. 0.]    \n",
    "[ 0. 0. 1.]]\n",
    "```\n",
    "    \n",
    "    "
   ]
  },
  {
   "cell_type": "code",
   "execution_count": 3,
   "metadata": {
    "ExecuteTime": {
     "end_time": "2021-07-26T01:02:00.033577Z",
     "start_time": "2021-07-26T01:02:00.019565Z"
    }
   },
   "outputs": [
    {
     "data": {
      "text/plain": [
       "array([[1, 0, 0],\n",
       "       [0, 1, 0],\n",
       "       [0, 0, 1]])"
      ]
     },
     "execution_count": 3,
     "metadata": {},
     "output_type": "execute_result"
    }
   ],
   "source": [
    "np.diag([1,1,1])"
   ]
  },
  {
   "cell_type": "code",
   "execution_count": 4,
   "metadata": {
    "ExecuteTime": {
     "end_time": "2021-07-26T01:02:00.048591Z",
     "start_time": "2021-07-26T01:02:00.034578Z"
    }
   },
   "outputs": [
    {
     "data": {
      "text/plain": [
       "array([[1., 0., 0.],\n",
       "       [0., 1., 0.],\n",
       "       [0., 0., 1.]])"
      ]
     },
     "execution_count": 4,
     "metadata": {},
     "output_type": "execute_result"
    }
   ],
   "source": [
    "np.identity(3)"
   ]
  },
  {
   "cell_type": "markdown",
   "metadata": {},
   "source": [
    "# 43. Write a NumPy program to create a 2-D array whose diagonal equals [4, 5, 6, 8] and 0's elsewhere. \n",
    "\n",
    "```\n",
    "Expected Output:    \n",
    "\n",
    "[[4 0 0 0]    \n",
    "[0 5 0 0]    \n",
    "[0 0 6 0]    \n",
    "[0 0 0 8]]    \n",
    "```\n",
    "    \n",
    "    "
   ]
  },
  {
   "cell_type": "code",
   "execution_count": 5,
   "metadata": {
    "ExecuteTime": {
     "end_time": "2021-07-26T01:02:00.063605Z",
     "start_time": "2021-07-26T01:02:00.049592Z"
    }
   },
   "outputs": [
    {
     "data": {
      "text/plain": [
       "array([[4, 0, 0, 0],\n",
       "       [0, 5, 0, 0],\n",
       "       [0, 0, 6, 0],\n",
       "       [0, 0, 0, 8]])"
      ]
     },
     "execution_count": 5,
     "metadata": {},
     "output_type": "execute_result"
    }
   ],
   "source": [
    "np.diag([4, 5, 6, 8])"
   ]
  },
  {
   "cell_type": "markdown",
   "metadata": {},
   "source": [
    "# 44. Write a NumPy program to create a 1-D array going from 0 to 50 and an array from 10 to 50.     \n",
    "\n",
    "```\n",
    "Expected Output:    \n",
    "\n",
    "Array from 0 to 50:    \n",
    "[ 0 1 2 3 4 5 6 7 8 9 10 11 12 13 14 15 16 17 18 19 20 21 22 23 24    \n",
    "25 26 27 28 29 30 31 32 33 34 35 36 37 38 39 40 41 42 43 44 45 46 47 48 49]    \n",
    "\n",
    "Array from 10 to 50:    \n",
    "[10 11 12 13 14 15 16 17 18 19 20 21 22 23 24 25 26 27 28 29 30 31 32 33 34    \n",
    "35 36 37 38 39 40 41 42 43 44 45 46 47 48 49]\n",
    "```\n",
    "    \n",
    "    "
   ]
  },
  {
   "cell_type": "code",
   "execution_count": 6,
   "metadata": {
    "ExecuteTime": {
     "end_time": "2021-07-26T01:02:00.078620Z",
     "start_time": "2021-07-26T01:02:00.064605Z"
    }
   },
   "outputs": [
    {
     "data": {
      "text/plain": [
       "array([ 0,  1,  2,  3,  4,  5,  6,  7,  8,  9, 10, 11, 12, 13, 14, 15, 16,\n",
       "       17, 18, 19, 20, 21, 22, 23, 24, 25, 26, 27, 28, 29, 30, 31, 32, 33,\n",
       "       34, 35, 36, 37, 38, 39, 40, 41, 42, 43, 44, 45, 46, 47, 48, 49])"
      ]
     },
     "execution_count": 6,
     "metadata": {},
     "output_type": "execute_result"
    }
   ],
   "source": [
    "np.arange(0, 50)"
   ]
  },
  {
   "cell_type": "code",
   "execution_count": 7,
   "metadata": {
    "ExecuteTime": {
     "end_time": "2021-07-26T01:02:00.093634Z",
     "start_time": "2021-07-26T01:02:00.079621Z"
    }
   },
   "outputs": [
    {
     "data": {
      "text/plain": [
       "array([10, 11, 12, 13, 14, 15, 16, 17, 18, 19, 20, 21, 22, 23, 24, 25, 26,\n",
       "       27, 28, 29, 30, 31, 32, 33, 34, 35, 36, 37, 38, 39, 40, 41, 42, 43,\n",
       "       44, 45, 46, 47, 48, 49])"
      ]
     },
     "execution_count": 7,
     "metadata": {},
     "output_type": "execute_result"
    }
   ],
   "source": [
    "np.arange(10, 50)"
   ]
  },
  {
   "cell_type": "markdown",
   "metadata": {},
   "source": [
    "# 45. Write a NumPy program to Create a 1-D array of 30 evenly spaced elements between 2.5. and 6.5, inclusive.     \n",
    "\n",
    "```\n",
    "Expected Output:    \n",
    "[ 2.5 2.63793103 2.77586207 2.9137931 3.05172414 3.18965517    \n",
    ".................    \n",
    "5.81034483 5.94827586 6.0862069 6.22413793 6.36206897 6.5 ]\n",
    "```\n",
    "    \n",
    "    "
   ]
  },
  {
   "cell_type": "code",
   "execution_count": 8,
   "metadata": {
    "ExecuteTime": {
     "end_time": "2021-07-26T01:02:00.108648Z",
     "start_time": "2021-07-26T01:02:00.094635Z"
    }
   },
   "outputs": [
    {
     "data": {
      "text/plain": [
       "array([2.5       , 2.63793103, 2.77586207, 2.9137931 , 3.05172414,\n",
       "       3.18965517, 3.32758621, 3.46551724, 3.60344828, 3.74137931,\n",
       "       3.87931034, 4.01724138, 4.15517241, 4.29310345, 4.43103448,\n",
       "       4.56896552, 4.70689655, 4.84482759, 4.98275862, 5.12068966,\n",
       "       5.25862069, 5.39655172, 5.53448276, 5.67241379, 5.81034483,\n",
       "       5.94827586, 6.0862069 , 6.22413793, 6.36206897, 6.5       ])"
      ]
     },
     "execution_count": 8,
     "metadata": {},
     "output_type": "execute_result"
    }
   ],
   "source": [
    "np.linspace(2.5, 6.5, 30)"
   ]
  },
  {
   "cell_type": "markdown",
   "metadata": {},
   "source": [
    "# 46. Write a NumPy program to create a 1-D array of 20 element spaced evenly on a log scale between 2. and 5., exclusive.     \n",
    "Expected Output:    \n",
    "[ 100. 141.25375446 199.5262315 281.83829313    \n",
    "......................    \n",
    "25118.8643151 35481.33892336 50118.72336273 70794.57843841]    \n",
    "    \n",
    "    "
   ]
  },
  {
   "cell_type": "code",
   "execution_count": 9,
   "metadata": {
    "ExecuteTime": {
     "end_time": "2021-07-26T01:02:00.123661Z",
     "start_time": "2021-07-26T01:02:00.109648Z"
    }
   },
   "outputs": [
    {
     "data": {
      "text/plain": [
       "array([  100.        ,   141.25375446,   199.5262315 ,   281.83829313,\n",
       "         398.10717055,   562.34132519,   794.32823472,  1122.0184543 ,\n",
       "        1584.89319246,  2238.72113857,  3162.27766017,  4466.83592151,\n",
       "        6309.5734448 ,  8912.50938134, 12589.25411794, 17782.79410039,\n",
       "       25118.8643151 , 35481.33892336, 50118.72336273, 70794.57843841])"
      ]
     },
     "execution_count": 9,
     "metadata": {},
     "output_type": "execute_result"
    }
   ],
   "source": [
    "np.logspace(2., 5, 20, endpoint=False)"
   ]
  },
  {
   "cell_type": "markdown",
   "metadata": {},
   "source": [
    "# 47. Write a NumPy program to create an array which looks like below array.     \n",
    "\n",
    "Expected Output:    \n",
    "```\n",
    "[[ 0.  0.  0.]                                                         \n",
    " [ 1.  0.  0.]                                                         \n",
    " [ 1.  1.  0.]                                                         \n",
    " [ 1.  1.  1.]]\n",
    "```\n"
   ]
  },
  {
   "cell_type": "code",
   "execution_count": 10,
   "metadata": {
    "ExecuteTime": {
     "end_time": "2021-07-26T01:02:00.138675Z",
     "start_time": "2021-07-26T01:02:00.124660Z"
    }
   },
   "outputs": [
    {
     "data": {
      "text/plain": [
       "array([[0., 0., 0.],\n",
       "       [1., 0., 0.],\n",
       "       [1., 1., 0.],\n",
       "       [1., 1., 1.]])"
      ]
     },
     "execution_count": 10,
     "metadata": {},
     "output_type": "execute_result"
    }
   ],
   "source": [
    "np.tri(4, 3, k=-1)"
   ]
  },
  {
   "cell_type": "markdown",
   "metadata": {},
   "source": [
    "# 48. Write a NumPy program to create an array which looks like below array.     \n",
    "Expected Output:    \n",
    "[[ 2 3 4]    \n",
    "[ 5 6 7]    \n",
    "[ 0 9 10]    \n",
    "[ 0 0 13]]    \n",
    "    \n",
    "    "
   ]
  },
  {
   "cell_type": "code",
   "execution_count": 11,
   "metadata": {
    "ExecuteTime": {
     "end_time": "2021-07-26T01:02:00.153688Z",
     "start_time": "2021-07-26T01:02:00.139676Z"
    }
   },
   "outputs": [
    {
     "data": {
      "text/plain": [
       "array([[ 2,  3,  4],\n",
       "       [ 5,  6,  7],\n",
       "       [ 0,  9, 10],\n",
       "       [ 0,  0, 13]])"
      ]
     },
     "execution_count": 11,
     "metadata": {},
     "output_type": "execute_result"
    }
   ],
   "source": [
    "array = np.arange(2, 14).reshape(4, -1)\n",
    "array[2, 0] = 0\n",
    "array[3, :2] = 0\n",
    "array"
   ]
  },
  {
   "cell_type": "code",
   "execution_count": 12,
   "metadata": {
    "ExecuteTime": {
     "end_time": "2021-07-26T01:02:00.168701Z",
     "start_time": "2021-07-26T01:02:00.154689Z"
    }
   },
   "outputs": [
    {
     "data": {
      "text/plain": [
       "array([[ 2,  3,  4],\n",
       "       [ 5,  6,  7],\n",
       "       [ 0,  9, 10],\n",
       "       [ 0,  0, 13]])"
      ]
     },
     "execution_count": 12,
     "metadata": {},
     "output_type": "execute_result"
    }
   ],
   "source": [
    "np.triu(np.arange(2,14).reshape(4,3), -1)"
   ]
  },
  {
   "cell_type": "markdown",
   "metadata": {},
   "source": [
    "# 49. Write a NumPy program to collapse a 3-D array into one dimension array.     \n",
    "Expected Output:    \n",
    "3-D array:    \n",
    "[[ 1. 0. 0.]    \n",
    "[ 0. 1. 0.]    \n",
    "[ 0. 0. 1.]]    \n",
    "One dimension array:    \n",
    "[ 1. 0. 0. 0. 1. 0. 0. 0. 1.]    \n",
    "    \n",
    "    "
   ]
  },
  {
   "cell_type": "code",
   "execution_count": 14,
   "metadata": {
    "ExecuteTime": {
     "end_time": "2021-07-26T01:03:10.561920Z",
     "start_time": "2021-07-26T01:03:10.544904Z"
    }
   },
   "outputs": [
    {
     "data": {
      "text/plain": [
       "array([[1., 0., 0.],\n",
       "       [0., 1., 0.],\n",
       "       [0., 0., 1.]])"
      ]
     },
     "execution_count": 14,
     "metadata": {},
     "output_type": "execute_result"
    }
   ],
   "source": [
    "array = np.identity(3)\n",
    "array"
   ]
  },
  {
   "cell_type": "code",
   "execution_count": 15,
   "metadata": {
    "ExecuteTime": {
     "end_time": "2021-07-26T01:03:18.894628Z",
     "start_time": "2021-07-26T01:03:18.877612Z"
    }
   },
   "outputs": [
    {
     "data": {
      "text/plain": [
       "array([1., 0., 0., 0., 1., 0., 0., 0., 1.])"
      ]
     },
     "execution_count": 15,
     "metadata": {},
     "output_type": "execute_result"
    }
   ],
   "source": [
    "array.flatten()"
   ]
  },
  {
   "cell_type": "markdown",
   "metadata": {},
   "source": [
    "# 50. Write a NumPy program to find the 4th element of a specified array.     \n",
    "Expected Output:    \n",
    "[[ 2 4 6]    \n",
    "[ 6 8 10]]    \n",
    "Forth e1ement of the array:    \n",
    "6    \n",
    "    \n",
    "    "
   ]
  },
  {
   "cell_type": "code",
   "execution_count": 18,
   "metadata": {
    "ExecuteTime": {
     "end_time": "2021-07-26T01:04:13.321179Z",
     "start_time": "2021-07-26T01:04:13.307166Z"
    }
   },
   "outputs": [
    {
     "data": {
      "text/plain": [
       "6"
      ]
     },
     "execution_count": 18,
     "metadata": {},
     "output_type": "execute_result"
    }
   ],
   "source": [
    "array = np.array([[2, 4, 6], [6, 8, 10]])\n",
    "array.flatten()[3]"
   ]
  },
  {
   "cell_type": "markdown",
   "metadata": {},
   "source": [
    "# 51. Write a NumPy program to interchange two axes of an array.     \n",
    "Sample array: [[1 2 3]]    \n",
    "Expected Output:    \n",
    "[[1]    \n",
    "[2]    \n",
    "[3]]    \n",
    "    \n",
    "    "
   ]
  },
  {
   "cell_type": "code",
   "execution_count": 19,
   "metadata": {
    "ExecuteTime": {
     "end_time": "2021-07-26T01:04:32.251428Z",
     "start_time": "2021-07-26T01:04:32.240420Z"
    }
   },
   "outputs": [
    {
     "data": {
      "text/plain": [
       "array([1, 2, 3])"
      ]
     },
     "execution_count": 19,
     "metadata": {},
     "output_type": "execute_result"
    }
   ],
   "source": [
    "array = np.array([1, 2, 3])\n",
    "array"
   ]
  },
  {
   "cell_type": "code",
   "execution_count": 20,
   "metadata": {
    "ExecuteTime": {
     "end_time": "2021-07-26T01:04:46.971629Z",
     "start_time": "2021-07-26T01:04:46.963621Z"
    }
   },
   "outputs": [
    {
     "data": {
      "text/plain": [
       "array([[1],\n",
       "       [2],\n",
       "       [3]])"
      ]
     },
     "execution_count": 20,
     "metadata": {},
     "output_type": "execute_result"
    }
   ],
   "source": [
    "array[:, np.newaxis]"
   ]
  },
  {
   "cell_type": "markdown",
   "metadata": {},
   "source": [
    "# 52. Write a NumPy program to move axes of an array to new positions. Other axes remain in their original order.     \n",
    "\n",
    "```\n",
    "Expected Output:    \n",
    "\n",
    "(3, 4, 2)    \n",
    "(4, 2, 3)\n",
    "```\n",
    "    \n",
    "    "
   ]
  },
  {
   "cell_type": "code",
   "execution_count": 23,
   "metadata": {
    "ExecuteTime": {
     "end_time": "2021-07-26T01:06:50.612398Z",
     "start_time": "2021-07-26T01:06:50.599386Z"
    }
   },
   "outputs": [
    {
     "data": {
      "text/plain": [
       "(3, 4, 2)"
      ]
     },
     "execution_count": 23,
     "metadata": {},
     "output_type": "execute_result"
    }
   ],
   "source": [
    "array = np.random.randn(3, 4, 2)\n",
    "array.shape"
   ]
  },
  {
   "cell_type": "code",
   "execution_count": 25,
   "metadata": {
    "ExecuteTime": {
     "end_time": "2021-07-26T01:07:14.011650Z",
     "start_time": "2021-07-26T01:07:14.000640Z"
    }
   },
   "outputs": [
    {
     "data": {
      "text/plain": [
       "(4, 2, 3)"
      ]
     },
     "execution_count": 25,
     "metadata": {},
     "output_type": "execute_result"
    }
   ],
   "source": [
    "array = array.reshape(4, 2, -2)\n",
    "array.shape"
   ]
  },
  {
   "cell_type": "markdown",
   "metadata": {},
   "source": [
    "# 53. Write a NumPy program to move the specified axis backwards, until it lies in a given position.  \n",
    "\n",
    "```\n",
    "Move the following 3rd array axes to first position.    \n",
    "(2,3,4,5)    \n",
    "\n",
    "Sample Expected Output:    \n",
    "(2, 5, 3, 4)\n",
    "```\n",
    "    \n",
    "    "
   ]
  },
  {
   "cell_type": "code",
   "execution_count": 33,
   "metadata": {
    "ExecuteTime": {
     "end_time": "2021-07-26T01:08:54.932050Z",
     "start_time": "2021-07-26T01:08:54.918037Z"
    }
   },
   "outputs": [
    {
     "name": "stdout",
     "output_type": "stream",
     "text": [
      "(2, 3, 4, 5)\n"
     ]
    },
    {
     "data": {
      "text/plain": [
       "array([[[[ 0.70037843, -1.71672169,  0.22707499, -0.00324036,\n",
       "          -1.01524051],\n",
       "         [ 1.54393748,  0.86998006, -0.72325482,  0.2547817 ,\n",
       "          -0.0907239 ],\n",
       "         [ 0.05882129,  0.71095023, -0.41961498, -1.34090297,\n",
       "           0.33598358],\n",
       "         [-1.04755814,  1.40359159,  0.73611775,  0.11380312,\n",
       "           0.62240422]],\n",
       "\n",
       "        [[ 0.93147781, -1.21787683,  0.62693074,  0.5156263 ,\n",
       "           1.65327056],\n",
       "         [ 0.08127813,  0.63173796, -0.14454266,  1.61409595,\n",
       "          -0.73958553],\n",
       "         [ 0.50258097, -0.19677437,  0.28731995,  0.38939452,\n",
       "          -0.98903655],\n",
       "         [-0.95695294,  0.79809487, -1.46181055, -1.65450962,\n",
       "          -0.34324949]],\n",
       "\n",
       "        [[ 0.24122336, -0.30454582, -0.59563052,  0.6020165 ,\n",
       "          -0.5153001 ],\n",
       "         [ 0.00579827, -1.37679732,  0.77908091,  0.32221288,\n",
       "           0.64411437],\n",
       "         [ 1.65843982,  1.90516663, -0.05738901,  1.04245687,\n",
       "           1.20546131],\n",
       "         [ 1.00918175,  0.28402939, -2.15196077,  0.78458106,\n",
       "          -0.68574108]]],\n",
       "\n",
       "\n",
       "       [[[ 1.19177332,  0.15552209, -0.0984461 ,  1.41746197,\n",
       "           1.30667368],\n",
       "         [-0.93017391, -0.17375329,  1.85209174, -0.03932233,\n",
       "          -0.43373721],\n",
       "         [-1.0765226 , -0.72911705,  0.48858668, -0.44388622,\n",
       "           1.18509461],\n",
       "         [ 0.1334405 , -0.27824238, -0.51971454,  1.34123984,\n",
       "          -0.44124284]],\n",
       "\n",
       "        [[ 1.50369269, -0.35002074,  1.11275548,  0.15197289,\n",
       "          -0.83158664],\n",
       "         [-0.29933796, -0.86535406,  0.18185971,  1.77877106,\n",
       "           1.16157594],\n",
       "         [-1.71986455, -0.53056447,  1.17182486, -0.20062645,\n",
       "           0.75900501],\n",
       "         [-0.96591173,  1.39492539,  0.13114463, -1.47079285,\n",
       "          -0.04452227]],\n",
       "\n",
       "        [[ 1.27238107, -0.01668285, -0.17384992, -0.62167851,\n",
       "           0.87605144],\n",
       "         [-1.8712584 ,  1.29773798, -1.3603786 ,  0.38046577,\n",
       "           0.45182656],\n",
       "         [-2.71333867, -0.37775558, -0.28033876,  0.42525126,\n",
       "           0.32267698],\n",
       "         [ 1.54629983,  2.03431684, -1.3153994 ,  0.30808188,\n",
       "          -1.31434861]]]])"
      ]
     },
     "execution_count": 33,
     "metadata": {},
     "output_type": "execute_result"
    }
   ],
   "source": [
    "array = np.random.randn(2, 3, 4, 5)\n",
    "print(array.shape)\n",
    "array"
   ]
  },
  {
   "cell_type": "code",
   "execution_count": 34,
   "metadata": {
    "ExecuteTime": {
     "end_time": "2021-07-26T01:08:55.112032Z",
     "start_time": "2021-07-26T01:08:55.107028Z"
    }
   },
   "outputs": [
    {
     "data": {
      "text/plain": [
       "array([[[[ 0.70037843, -1.71672169,  0.22707499, -0.00324036],\n",
       "         [-1.01524051,  1.54393748,  0.86998006, -0.72325482],\n",
       "         [ 0.2547817 , -0.0907239 ,  0.05882129,  0.71095023]],\n",
       "\n",
       "        [[-0.41961498, -1.34090297,  0.33598358, -1.04755814],\n",
       "         [ 1.40359159,  0.73611775,  0.11380312,  0.62240422],\n",
       "         [ 0.93147781, -1.21787683,  0.62693074,  0.5156263 ]],\n",
       "\n",
       "        [[ 1.65327056,  0.08127813,  0.63173796, -0.14454266],\n",
       "         [ 1.61409595, -0.73958553,  0.50258097, -0.19677437],\n",
       "         [ 0.28731995,  0.38939452, -0.98903655, -0.95695294]],\n",
       "\n",
       "        [[ 0.79809487, -1.46181055, -1.65450962, -0.34324949],\n",
       "         [ 0.24122336, -0.30454582, -0.59563052,  0.6020165 ],\n",
       "         [-0.5153001 ,  0.00579827, -1.37679732,  0.77908091]],\n",
       "\n",
       "        [[ 0.32221288,  0.64411437,  1.65843982,  1.90516663],\n",
       "         [-0.05738901,  1.04245687,  1.20546131,  1.00918175],\n",
       "         [ 0.28402939, -2.15196077,  0.78458106, -0.68574108]]],\n",
       "\n",
       "\n",
       "       [[[ 1.19177332,  0.15552209, -0.0984461 ,  1.41746197],\n",
       "         [ 1.30667368, -0.93017391, -0.17375329,  1.85209174],\n",
       "         [-0.03932233, -0.43373721, -1.0765226 , -0.72911705]],\n",
       "\n",
       "        [[ 0.48858668, -0.44388622,  1.18509461,  0.1334405 ],\n",
       "         [-0.27824238, -0.51971454,  1.34123984, -0.44124284],\n",
       "         [ 1.50369269, -0.35002074,  1.11275548,  0.15197289]],\n",
       "\n",
       "        [[-0.83158664, -0.29933796, -0.86535406,  0.18185971],\n",
       "         [ 1.77877106,  1.16157594, -1.71986455, -0.53056447],\n",
       "         [ 1.17182486, -0.20062645,  0.75900501, -0.96591173]],\n",
       "\n",
       "        [[ 1.39492539,  0.13114463, -1.47079285, -0.04452227],\n",
       "         [ 1.27238107, -0.01668285, -0.17384992, -0.62167851],\n",
       "         [ 0.87605144, -1.8712584 ,  1.29773798, -1.3603786 ]],\n",
       "\n",
       "        [[ 0.38046577,  0.45182656, -2.71333867, -0.37775558],\n",
       "         [-0.28033876,  0.42525126,  0.32267698,  1.54629983],\n",
       "         [ 2.03431684, -1.3153994 ,  0.30808188, -1.31434861]]]])"
      ]
     },
     "execution_count": 34,
     "metadata": {},
     "output_type": "execute_result"
    }
   ],
   "source": [
    "array_trans = array.reshape(2, 5, 3, -1)\n",
    "array_trans"
   ]
  },
  {
   "cell_type": "markdown",
   "metadata": {},
   "source": [
    "# 54. Write a NumPy program to convert specified inputs to arrays with at least one dimension.  \n",
    "\n",
    "```\n",
    "Expected Output:    \n",
    "\n",
    "[ 12.]    \n",
    "[[ 0. 1. 2.]    \n",
    "[ 3. 4. 5.]]    \n",
    "[array([1]), array([3, 4])]    \n",
    "```\n",
    "    \n",
    "    "
   ]
  },
  {
   "cell_type": "code",
   "execution_count": 39,
   "metadata": {
    "ExecuteTime": {
     "end_time": "2021-07-26T01:17:27.139568Z",
     "start_time": "2021-07-26T01:17:27.129547Z"
    }
   },
   "outputs": [
    {
     "data": {
      "text/plain": [
       "array([12.])"
      ]
     },
     "execution_count": 39,
     "metadata": {},
     "output_type": "execute_result"
    }
   ],
   "source": [
    "np.atleast_1d(12.0)"
   ]
  },
  {
   "cell_type": "code",
   "execution_count": 41,
   "metadata": {
    "ExecuteTime": {
     "end_time": "2021-07-26T01:17:35.401060Z",
     "start_time": "2021-07-26T01:17:35.388057Z"
    }
   },
   "outputs": [
    {
     "data": {
      "text/plain": [
       "array([[0, 1, 2],\n",
       "       [3, 4, 5]])"
      ]
     },
     "execution_count": 41,
     "metadata": {},
     "output_type": "execute_result"
    }
   ],
   "source": [
    "np.atleast_2d([[0, 1, 2],[3, 4, 5]])"
   ]
  },
  {
   "cell_type": "code",
   "execution_count": 42,
   "metadata": {
    "ExecuteTime": {
     "end_time": "2021-07-26T01:18:04.052849Z",
     "start_time": "2021-07-26T01:18:04.035997Z"
    }
   },
   "outputs": [
    {
     "data": {
      "text/plain": [
       "[array([1]), array([3, 4])]"
      ]
     },
     "execution_count": 42,
     "metadata": {},
     "output_type": "execute_result"
    }
   ],
   "source": [
    "np.atleast_1d(np.array([1]), np.array([3, 4]))"
   ]
  },
  {
   "cell_type": "markdown",
   "metadata": {},
   "source": [
    "# 55. Write a NumPy program to view inputs as arrays with at least two dimensions, three dimensions.     \n",
    "\n",
    "```\n",
    "Expected Output:    \n",
    "\n",
    "View inputs as arrays with at least two dimensions:    \n",
    "[10]    \n",
    "[[ 0. 1.]    \n",
    "[ 2. 3.]]    \n",
    "\n",
    "View inputs as arrays with at least three dimensions:    \n",
    "[[[15]]]    \n",
    "[[[ 0.]    \n",
    "[ 1.]    \n",
    "[ 2.]]]\n",
    "```\n",
    "    \n",
    "    "
   ]
  },
  {
   "cell_type": "code",
   "execution_count": 43,
   "metadata": {
    "ExecuteTime": {
     "end_time": "2021-07-26T01:19:50.582868Z",
     "start_time": "2021-07-26T01:19:50.566862Z"
    }
   },
   "outputs": [
    {
     "name": "stdout",
     "output_type": "stream",
     "text": [
      "View inputs as arrays with at least two dimensions:\n",
      "[10]\n",
      "[[0. 1.]\n",
      " [2. 3.]]\n",
      "View inputs as arrays with at least three dimensions:\n",
      "[[[15]]]\n",
      "[[[0.]\n",
      "  [1.]\n",
      "  [2.]]]\n"
     ]
    }
   ],
   "source": [
    "x = 10\n",
    "print(\"View inputs as arrays with at least two dimensions:\")\n",
    "print(np.atleast_1d(x))\n",
    "x = np.arange(4.0).reshape(2, 2)\n",
    "print(np.atleast_1d(x))\n",
    "print(\"View inputs as arrays with at least three dimensions:\")\n",
    "x =15\n",
    "print(np.atleast_3d(x))\n",
    "x = np.arange(3.0)\n",
    "print(np.atleast_3d(x))"
   ]
  },
  {
   "cell_type": "markdown",
   "metadata": {},
   "source": [
    "# 56. Write a NumPy program to insert a new axis within a 2-D array. \n",
    "\n",
    "\n",
    "2-D array of shape (3, 4).    \n",
    "\n",
    "```\n",
    "Expected Output:    \n",
    "New shape will be will be (3, 1, 4).    \n",
    "```\n",
    "    \n",
    "    "
   ]
  },
  {
   "cell_type": "code",
   "execution_count": 50,
   "metadata": {
    "ExecuteTime": {
     "end_time": "2021-07-26T01:21:50.148686Z",
     "start_time": "2021-07-26T01:21:50.139688Z"
    }
   },
   "outputs": [
    {
     "name": "stdout",
     "output_type": "stream",
     "text": [
      "(3, 4)\n"
     ]
    },
    {
     "data": {
      "text/plain": [
       "array([[7, 3, 2, 8],\n",
       "       [8, 3, 7, 2],\n",
       "       [2, 9, 9, 1]])"
      ]
     },
     "execution_count": 50,
     "metadata": {},
     "output_type": "execute_result"
    }
   ],
   "source": [
    "array = np.atleast_2d(np.random.randint(1, 10, (3, 4)))\n",
    "print(array.shape)\n",
    "array"
   ]
  },
  {
   "cell_type": "code",
   "execution_count": 52,
   "metadata": {
    "ExecuteTime": {
     "end_time": "2021-07-26T01:21:59.321073Z",
     "start_time": "2021-07-26T01:21:59.314566Z"
    }
   },
   "outputs": [
    {
     "data": {
      "text/plain": [
       "array([[[7, 3, 2, 8]],\n",
       "\n",
       "       [[8, 3, 7, 2]],\n",
       "\n",
       "       [[2, 9, 9, 1]]])"
      ]
     },
     "execution_count": 52,
     "metadata": {},
     "output_type": "execute_result"
    }
   ],
   "source": [
    "array2 = array[:, np.newaxis,:]\n",
    "array2"
   ]
  },
  {
   "cell_type": "markdown",
   "metadata": {},
   "source": [
    "다른 답안"
   ]
  },
  {
   "cell_type": "code",
   "execution_count": 56,
   "metadata": {
    "ExecuteTime": {
     "end_time": "2021-07-26T01:23:05.259525Z",
     "start_time": "2021-07-26T01:23:05.248515Z"
    }
   },
   "outputs": [
    {
     "name": "stdout",
     "output_type": "stream",
     "text": [
      "(3, 1, 4)\n"
     ]
    }
   ],
   "source": [
    "x = np.zeros((3, 4))\n",
    "y = np.expand_dims(x, axis=1).shape\n",
    "print(y)"
   ]
  },
  {
   "cell_type": "markdown",
   "metadata": {},
   "source": [
    "# 57. Write a NumPy program to remove single-dimensional entries from a specified shape.     \n",
    "\n",
    "```\n",
    "Specified shape: (3, 1, 4)    \n",
    "\n",
    "Expected Output: (3, 4)    \n",
    "```\n",
    "    \n",
    "    "
   ]
  },
  {
   "cell_type": "code",
   "execution_count": 54,
   "metadata": {
    "ExecuteTime": {
     "end_time": "2021-07-26T01:22:27.917958Z",
     "start_time": "2021-07-26T01:22:27.906932Z"
    }
   },
   "outputs": [
    {
     "data": {
      "text/plain": [
       "(3, 1, 4)"
      ]
     },
     "execution_count": 54,
     "metadata": {},
     "output_type": "execute_result"
    }
   ],
   "source": [
    "array2.shape"
   ]
  },
  {
   "cell_type": "code",
   "execution_count": 55,
   "metadata": {
    "ExecuteTime": {
     "end_time": "2021-07-26T01:22:39.240065Z",
     "start_time": "2021-07-26T01:22:39.232059Z"
    }
   },
   "outputs": [
    {
     "data": {
      "text/plain": [
       "(3, 4)"
      ]
     },
     "execution_count": 55,
     "metadata": {},
     "output_type": "execute_result"
    }
   ],
   "source": [
    "array2.reshape(3, 4).shape"
   ]
  },
  {
   "cell_type": "markdown",
   "metadata": {},
   "source": [
    "다른 답안"
   ]
  },
  {
   "cell_type": "code",
   "execution_count": 59,
   "metadata": {
    "ExecuteTime": {
     "end_time": "2021-07-26T01:23:41.301895Z",
     "start_time": "2021-07-26T01:23:41.290894Z"
    }
   },
   "outputs": [
    {
     "name": "stdout",
     "output_type": "stream",
     "text": [
      "(3, 4)\n"
     ]
    },
    {
     "data": {
      "text/plain": [
       "array([[0., 0., 0., 0.],\n",
       "       [0., 0., 0., 0.],\n",
       "       [0., 0., 0., 0.]])"
      ]
     },
     "execution_count": 59,
     "metadata": {},
     "output_type": "execute_result"
    }
   ],
   "source": [
    "x = np.zeros((3, 1, 4))\n",
    "print(np.squeeze(x).shape)\n",
    "np.squeeze(x)"
   ]
  },
  {
   "cell_type": "markdown",
   "metadata": {},
   "source": [
    "# 58. Write a NumPy program to concatenate two 2-dimensional arrays.    \n",
    "\n",
    "```\n",
    "Expected Output:    \n",
    "\n",
    "Sample arrays: ([[0, 1, 3], [5, 7, 9]], [[0, 2, 4], [6, 8, 10]]   \n",
    "\n",
    "Expected Output:    \n",
    "[[ 0 1 3 0 2 4]    \n",
    "[ 5 7 9 6 8 10]]    \n",
    "```\n",
    "    \n",
    "    "
   ]
  },
  {
   "cell_type": "code",
   "execution_count": 63,
   "metadata": {
    "ExecuteTime": {
     "end_time": "2021-07-26T01:27:55.059209Z",
     "start_time": "2021-07-26T01:27:55.050210Z"
    }
   },
   "outputs": [
    {
     "data": {
      "text/plain": [
       "(array([[0, 1, 3],\n",
       "        [5, 7, 9]]),\n",
       " [[0, 2, 4], [6, 8, 10]])"
      ]
     },
     "execution_count": 63,
     "metadata": {},
     "output_type": "execute_result"
    }
   ],
   "source": [
    "array = np.array([[0, 1, 3], [5, 7, 9]])\n",
    "array2 = ([[0, 2, 4], [6, 8, 10]])\n",
    "array, array2 "
   ]
  },
  {
   "cell_type": "code",
   "execution_count": 67,
   "metadata": {
    "ExecuteTime": {
     "end_time": "2021-07-26T01:32:49.041546Z",
     "start_time": "2021-07-26T01:32:49.025531Z"
    }
   },
   "outputs": [
    {
     "data": {
      "text/plain": [
       "array([[ 0,  1,  3,  0,  2,  4],\n",
       "       [ 5,  7,  9,  6,  8, 10]])"
      ]
     },
     "execution_count": 67,
     "metadata": {},
     "output_type": "execute_result"
    }
   ],
   "source": [
    "np.concatenate([array, array2], axis=1)"
   ]
  },
  {
   "cell_type": "markdown",
   "metadata": {},
   "source": [
    "# 59. Write a NumPy program to convert 1-D arrays as columns into a 2-D array.     \n",
    "\n",
    "```\n",
    "Sample array: (10,20,30), (40,50,60)   \n",
    "\n",
    "Expected Output:    \n",
    "[[10 40]    \n",
    "[20 50]    \n",
    "[30 60]]  \n",
    "```\n",
    "    \n",
    "    "
   ]
  },
  {
   "cell_type": "code",
   "execution_count": 68,
   "metadata": {
    "ExecuteTime": {
     "end_time": "2021-07-26T01:35:10.165274Z",
     "start_time": "2021-07-26T01:35:10.148724Z"
    }
   },
   "outputs": [
    {
     "data": {
      "text/plain": [
       "(array([10, 20, 30]), array([40, 50, 60]))"
      ]
     },
     "execution_count": 68,
     "metadata": {},
     "output_type": "execute_result"
    }
   ],
   "source": [
    "array1 = np.array([10, 20, 30])\n",
    "array2 = np.array([40, 50, 60])\n",
    "array1, array2"
   ]
  },
  {
   "cell_type": "code",
   "execution_count": 73,
   "metadata": {
    "ExecuteTime": {
     "end_time": "2021-07-26T01:36:45.248196Z",
     "start_time": "2021-07-26T01:36:45.233191Z"
    }
   },
   "outputs": [
    {
     "data": {
      "text/plain": [
       "array([[10, 40],\n",
       "       [20, 50],\n",
       "       [30, 60]])"
      ]
     },
     "execution_count": 73,
     "metadata": {},
     "output_type": "execute_result"
    }
   ],
   "source": [
    "np.concatenate([array1.reshape(3,-1), array2.reshape(3, -1)], axis = 1)"
   ]
  },
  {
   "cell_type": "markdown",
   "metadata": {},
   "source": [
    "다른 방법"
   ]
  },
  {
   "cell_type": "code",
   "execution_count": 74,
   "metadata": {
    "ExecuteTime": {
     "end_time": "2021-07-26T01:37:19.977385Z",
     "start_time": "2021-07-26T01:37:19.967378Z"
    }
   },
   "outputs": [
    {
     "data": {
      "text/plain": [
       "array([[10, 40],\n",
       "       [20, 50],\n",
       "       [30, 60]])"
      ]
     },
     "execution_count": 74,
     "metadata": {},
     "output_type": "execute_result"
    }
   ],
   "source": [
    "np.column_stack((array1, array2))"
   ]
  },
  {
   "cell_type": "markdown",
   "metadata": {},
   "source": [
    "# 60. Write a NumPy program to convert (in sequence depth wise (along third axis)) two 1-D arrays into a 2-D array.     \n",
    "\n",
    "```\n",
    "Sample array: (10,20,30), (40,50,60)    \n",
    "\n",
    "Expected Output:    \n",
    "[[[10 40]]    \n",
    "[[20 50]]    \n",
    "[[30 60]]]    \n",
    "```\n",
    "    "
   ]
  },
  {
   "cell_type": "code",
   "execution_count": 75,
   "metadata": {
    "ExecuteTime": {
     "end_time": "2021-07-26T01:47:06.940094Z",
     "start_time": "2021-07-26T01:47:06.928082Z"
    }
   },
   "outputs": [
    {
     "data": {
      "text/plain": [
       "(array([[10, 20, 30]]), array([[40, 50, 60]]))"
      ]
     },
     "execution_count": 75,
     "metadata": {},
     "output_type": "execute_result"
    }
   ],
   "source": [
    "array1 = np.array([[10, 20, 30]])\n",
    "array2 = np.array([[40, 50, 60]])\n",
    "array1, array2"
   ]
  },
  {
   "cell_type": "code",
   "execution_count": 76,
   "metadata": {
    "ExecuteTime": {
     "end_time": "2021-07-26T01:47:22.946461Z",
     "start_time": "2021-07-26T01:47:22.938939Z"
    }
   },
   "outputs": [
    {
     "data": {
      "text/plain": [
       "array([[10],\n",
       "       [20],\n",
       "       [30]])"
      ]
     },
     "execution_count": 76,
     "metadata": {},
     "output_type": "execute_result"
    }
   ],
   "source": [
    "array1.reshape(3,-1)"
   ]
  },
  {
   "cell_type": "code",
   "execution_count": 78,
   "metadata": {
    "ExecuteTime": {
     "end_time": "2021-07-26T01:48:02.983443Z",
     "start_time": "2021-07-26T01:48:02.969430Z"
    }
   },
   "outputs": [
    {
     "data": {
      "text/plain": [
       "array([[[10, 40]],\n",
       "\n",
       "       [[20, 50]],\n",
       "\n",
       "       [[30, 60]]])"
      ]
     },
     "execution_count": 78,
     "metadata": {},
     "output_type": "execute_result"
    }
   ],
   "source": [
    "np.dstack((array1.reshape(3, -1), array2.reshape(3, -1)))"
   ]
  },
  {
   "cell_type": "code",
   "execution_count": 79,
   "metadata": {
    "ExecuteTime": {
     "end_time": "2021-07-26T01:48:18.274614Z",
     "start_time": "2021-07-26T01:48:18.264614Z"
    }
   },
   "outputs": [
    {
     "name": "stdout",
     "output_type": "stream",
     "text": [
      "[[10 40]\n",
      " [20 50]\n",
      " [30 60]]\n"
     ]
    }
   ],
   "source": [
    "a = np.array((10,20,30))\n",
    "b = np.array((40,50,60))\n",
    "c = np.column_stack((a, b))\n",
    "print(c)"
   ]
  }
 ],
 "metadata": {
  "kernelspec": {
   "display_name": "Python 3",
   "language": "python",
   "name": "python3"
  },
  "language_info": {
   "codemirror_mode": {
    "name": "ipython",
    "version": 3
   },
   "file_extension": ".py",
   "mimetype": "text/x-python",
   "name": "python",
   "nbconvert_exporter": "python",
   "pygments_lexer": "ipython3",
   "version": "3.8.5"
  },
  "toc": {
   "base_numbering": 1,
   "nav_menu": {},
   "number_sections": true,
   "sideBar": true,
   "skip_h1_title": false,
   "title_cell": "Table of Contents",
   "title_sidebar": "Contents",
   "toc_cell": false,
   "toc_position": {},
   "toc_section_display": true,
   "toc_window_display": false
  }
 },
 "nbformat": 4,
 "nbformat_minor": 4
}
