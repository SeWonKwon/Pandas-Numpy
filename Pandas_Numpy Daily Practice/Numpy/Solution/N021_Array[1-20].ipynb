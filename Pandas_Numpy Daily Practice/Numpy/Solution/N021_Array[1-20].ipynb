{
 "cells": [
  {
   "cell_type": "markdown",
   "metadata": {},
   "source": [
    "<a href='https://github.com/SeWonKwon' ><div> <img src ='https://slid-capture.s3.ap-northeast-2.amazonaws.com/public/image_upload/6556674324ed41a289a354258718280d/964e5a8b-75ad-41fc-ae75-0ca66d06fbc7.png' align='left' /> </div></a>\n"
   ]
  },
  {
   "cell_type": "markdown",
   "metadata": {},
   "source": [
    "출처: https://www.w3resource.com/python-exercises/numpy/index-array.php"
   ]
  },
  {
   "cell_type": "markdown",
   "metadata": {},
   "source": [
    "![array](https://www.w3resource.com/w3r_images/python-numpy-arrays-image.png)"
   ]
  },
  {
   "cell_type": "markdown",
   "metadata": {},
   "source": [
    "https://www.w3resource.com/w3r_images/python-numpy-arrays-image.png"
   ]
  },
  {
   "cell_type": "markdown",
   "metadata": {},
   "source": [
    "# 1. Write a NumPy program to print the NumPy version in your system.     \n",
    "    "
   ]
  },
  {
   "cell_type": "code",
   "execution_count": null,
   "metadata": {},
   "outputs": [],
   "source": []
  },
  {
   "cell_type": "markdown",
   "metadata": {},
   "source": [
    "# 2. Write a NumPy program to convert a list of numeric value into a one-dimensional NumPy array.     \n",
    "\n",
    "```\n",
    "Expected Output:    \n",
    "\n",
    "Original List: [12.23, 13.32, 100, 36.32]    \n",
    "One-dimensional NumPy array: [ 12.23 13.32 100. 36.32]    \n",
    "```\n",
    "    "
   ]
  },
  {
   "cell_type": "code",
   "execution_count": null,
   "metadata": {},
   "outputs": [],
   "source": []
  },
  {
   "cell_type": "markdown",
   "metadata": {},
   "source": [
    "# 3.Write a NumPy program to create a 3x3 matrix with values ranging from 2 to 10.     \n",
    "\n",
    "```\n",
    "Expected Output:   \n",
    "\n",
    "[[ 2 3 4]    \n",
    "[ 5 6 7]    \n",
    "[ 8 9 10]]    \n",
    "```    \n",
    "    "
   ]
  },
  {
   "cell_type": "code",
   "execution_count": null,
   "metadata": {},
   "outputs": [],
   "source": []
  },
  {
   "cell_type": "markdown",
   "metadata": {},
   "source": [
    "# 4. Write a NumPy program to create a null vector of size 10 and update sixth value to 11.    \n",
    "\n",
    "```\n",
    "[ 0. 0. 0. 0. 0. 0. 0. 0. 0. 0.]    \n",
    "\n",
    "Update sixth value to 11    \n",
    "\n",
    "[ 0. 0. 0. 0. 0. 0. 11. 0. 0. 0.]    \n",
    "```    \n",
    "    "
   ]
  },
  {
   "cell_type": "markdown",
   "metadata": {},
   "source": [
    "# 5. Write a NumPy program to create an array with values ranging from 12 to 38.    \n",
    "\n",
    "```\n",
    "Expected Output:  \n",
    "\n",
    "[12 13 14 15 16 17 18 19 20 21 22 23 24 25 26 27 28 29 30 31 32 33 34 35 36 37]    \n",
    "    \n",
    "```    "
   ]
  },
  {
   "cell_type": "markdown",
   "metadata": {},
   "source": [
    "# 6. Write a NumPy program to reverse an array (first element becomes last).     \n",
    "```\n",
    "Original array:   \n",
    "[12 13 14 15 16 17 18 19 20 21 22 23 24 25 26 27 28 29 30 31 32 33 34 35 36 37]    \n",
    "\n",
    "Reverse array:    \n",
    "[37 36 35 34 33 32 31 30 29 28 27 26 25 24 23 22 21 20 19 18 17 16 15 14 13 12]   \n",
    "```\n",
    "    \n",
    "    "
   ]
  },
  {
   "cell_type": "markdown",
   "metadata": {},
   "source": [
    "# 7. Write a NumPy program to convert an array to a float type.    \n",
    "\n",
    "```\n",
    "Sample output:    \n",
    "\n",
    "Original array    \n",
    "[1, 2, 3, 4]    \n",
    "\n",
    "Array converted to a float type:    \n",
    "[ 1. 2. 3. 4.]    \n",
    "```    \n",
    "    "
   ]
  },
  {
   "cell_type": "markdown",
   "metadata": {},
   "source": [
    "# 8. Write a NumPy program to create a 2d array with 1 on the border and 0 inside.    \n",
    "\n",
    "```\n",
    "Expected Output:   \n",
    "\n",
    "Original array:    \n",
    "[[ 1. 1. 1. 1. 1.]    \n",
    "...................    \n",
    "[ 1. 1. 1. 1. 1.]]   \n",
    "\n",
    "1 on the border and 0 inside in the array    \n",
    "[[ 1. 1. 1. 1. 1.]    \n",
    "...................    \n",
    "[ 1. 1. 1. 1. 1.]]    \n",
    "```\n",
    "    \n",
    "    "
   ]
  },
  {
   "cell_type": "markdown",
   "metadata": {},
   "source": [
    "# 9. Write a NumPy program to add a border (filled with 0's) around an existing array.     \n",
    "\n",
    "```\n",
    "Expected Output:    \n",
    "\n",
    "Original array:    \n",
    "[[ 1. 1. 1.]    \n",
    "[ 1. 1. 1.]    \n",
    "[ 1. 1. 1.]]    \n",
    "\n",
    "1 on the border and 0 inside in the array    \n",
    "[[ 0. 0. 0. 0. 0.]    \n",
    "...........    \n",
    "[ 0. 0. 0. 0. 0.]] \n",
    "```\n",
    "    \n",
    "    "
   ]
  },
  {
   "cell_type": "markdown",
   "metadata": {},
   "source": [
    "# 10. Write a NumPy program to create a 8x8 matrix and fill it with a checkerboard pattern.    \n",
    "\n",
    "```\n",
    "Checkerboard pattern:    \n",
    "\n",
    "[[0 1 0 1 0 1 0 1]    \n",
    "..........    \n",
    "[0 1 0 1 0 1 0 1]    \n",
    "[1 0 1 0 1 0 1 0]]    \n",
    "```\n",
    "    \n",
    "    "
   ]
  },
  {
   "cell_type": "markdown",
   "metadata": {},
   "source": [
    "# 11. Write a NumPy program to convert a list and tuple into arrays.     \n",
    "\n",
    "```\n",
    "List to array:    \n",
    "[1 2 3 4 5 6 7 8]    \n",
    "\n",
    "Tuple to array:    \n",
    "[[8 4 6]    \n",
    "[1 2 3]]    \n",
    "```\n",
    "    \n",
    "    \n",
    "    "
   ]
  },
  {
   "cell_type": "markdown",
   "metadata": {},
   "source": [
    "# 12. Write a NumPy program to append values to the end of an array.    \n",
    "\n",
    "```\n",
    "Expected Output:    \n",
    "\n",
    "Original array:    \n",
    "[10, 20, 30]    \n",
    "\n",
    "After append values to the end of the array:    \n",
    "[10 20 30 40 50 60 70 80 90]    \n",
    "```\n",
    "    \n",
    "    "
   ]
  },
  {
   "cell_type": "markdown",
   "metadata": {},
   "source": [
    "# 13. Write a NumPy program to create an empty and a full array.     \n",
    "\n",
    "```\n",
    "Expected Output:    \n",
    "\n",
    "[ 6.93270651e-310 1.59262180e-316 6.93270559e-310 6.93270665e-310]    \n",
    "[ 6.93270667e-310 6.93270671e-310 6.93270668e-310 6.93270483e-310]    \n",
    "[ 6.93270668e-310 6.93270671e-310 6.93270370e-310 6.93270488e-310]]    \n",
    "[[6 6 6]    \n",
    "[6 6 6]    \n",
    "[6 6 6]]    \n",
    "```\n",
    "    \n",
    "    "
   ]
  },
  {
   "cell_type": "markdown",
   "metadata": {},
   "source": [
    "# 14. Write a NumPy program to convert the values of Centigrade degrees into Fahrenheit degrees. Centigrade values are stored into a NumPy array. \n",
    "\n",
    "```\n",
    "Sample Array [0, 12, 45.21 ,34, 99.91]    \n",
    "\n",
    "Expected Output:    \n",
    "Values in Fahrenheit degrees:    \n",
    "[ 0. 12. 45.21 34. 99.91]    \n",
    "\n",
    "Values in Centigrade degrees:    \n",
    "[-17.77777778 -11.11111111 7.33888889 1.11111111 37.72777778]    \n",
    "```\n",
    "    \n",
    "    "
   ]
  },
  {
   "cell_type": "markdown",
   "metadata": {},
   "source": [
    "# 15. Write a NumPy program to find the real and imaginary parts of an array of complex numbers.     \n",
    "\n",
    "```\n",
    "Expected Output:    \n",
    "\n",
    "Original array [ 1.00000000+0.j 0.70710678+0.70710678j]    \n",
    "\n",
    "Real part of the array:    \n",
    "[ 1. 0.70710678]    \n",
    "\n",
    "Imaginary part of the array:    \n",
    "[ 0. 0.70710678]    \n",
    "```\n",
    "    \n",
    "    "
   ]
  },
  {
   "cell_type": "markdown",
   "metadata": {},
   "source": [
    "# 16. Write a NumPy program to find the number of elements of an array, length of one array element in bytes and total bytes consumed by the elements.     \n",
    "\n",
    "```\n",
    "Expected Output:    \n",
    "\n",
    "Size of the array: 3    \n",
    "\n",
    "Length of one array element in bytes: 8    \n",
    "\n",
    "Total bytes consumed by the elements of the array: 24    \n",
    "```\n",
    "    \n",
    "    "
   ]
  },
  {
   "cell_type": "markdown",
   "metadata": {},
   "source": [
    "# 17. Write a NumPy program to test whether each element of a 1-D array is also present in a second array.     \n",
    "\n",
    "```\n",
    "Expected Output:    \n",
    "\n",
    "Array1: [ 0 10 20 40 60]    \n",
    "\n",
    "Array2: [0, 40]    \n",
    "\n",
    "Compare each element of array1 and array2    \n",
    "[ True False False True False]    \n",
    "```\n",
    "    \n",
    "    "
   ]
  },
  {
   "cell_type": "markdown",
   "metadata": {},
   "source": [
    "# 18. Write a NumPy program to find common values between two arrays. \n",
    "\n",
    "```\n",
    "Expected Output:    \n",
    "\n",
    "Array1: [ 0 10 20 40 60]    \n",
    "\n",
    "Array2: [10, 30, 40]    \n",
    "\n",
    "Common values between two arrays:    \n",
    "[10 40]    \n",
    "```\n",
    "    "
   ]
  },
  {
   "cell_type": "markdown",
   "metadata": {},
   "source": [
    "# 19. Write a NumPy program to get the unique elements of an array.    \n",
    "\n",
    "```\n",
    "Expected Output:    \n",
    "\n",
    "Original array:    \n",
    "[10 10 20 20 30 30]    \n",
    "\n",
    "Unique elements of the above array:    \n",
    "[10 20 30]    \n",
    "\n",
    "Original array:    \n",
    "[[1 1]    \n",
    "[2 3]]    \n",
    "\n",
    "Unique elements of the above array:    \n",
    "[1 2 3]    \n",
    "```\n",
    "    \n",
    "    "
   ]
  },
  {
   "cell_type": "markdown",
   "metadata": {},
   "source": [
    "# 20. Write a NumPy program to find the set difference of two arrays. The set difference will return the sorted, unique values in array1 that are not in array2.     \n",
    "\n",
    "```\n",
    "Expected Output:    \n",
    "\n",
    "Array1: [ 0 10 20 40 60 80]    \n",
    "\n",
    "Array2: [10, 30, 40, 50, 70, 90]   \n",
    "\n",
    "Set difference between two arrays:    \n",
    "[ 0 20 60 80]    \n",
    "```\n",
    "    "
   ]
  }
 ],
 "metadata": {
  "kernelspec": {
   "display_name": "Python 3",
   "language": "python",
   "name": "python3"
  },
  "language_info": {
   "codemirror_mode": {
    "name": "ipython",
    "version": 3
   },
   "file_extension": ".py",
   "mimetype": "text/x-python",
   "name": "python",
   "nbconvert_exporter": "python",
   "pygments_lexer": "ipython3",
   "version": "3.8.5"
  },
  "toc": {
   "base_numbering": 1,
   "nav_menu": {},
   "number_sections": true,
   "sideBar": true,
   "skip_h1_title": false,
   "title_cell": "Table of Contents",
   "title_sidebar": "Contents",
   "toc_cell": false,
   "toc_position": {},
   "toc_section_display": true,
   "toc_window_display": false
  }
 },
 "nbformat": 4,
 "nbformat_minor": 4
}
