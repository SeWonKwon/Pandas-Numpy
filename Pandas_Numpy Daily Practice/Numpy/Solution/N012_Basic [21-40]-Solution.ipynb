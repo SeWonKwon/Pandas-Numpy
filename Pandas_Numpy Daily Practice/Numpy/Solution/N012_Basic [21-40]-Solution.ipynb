{
 "cells": [
  {
   "cell_type": "markdown",
   "metadata": {},
   "source": [
    "<a href='https://github.com/SeWonKwon' ><div> <img src ='https://slid-capture.s3.ap-northeast-2.amazonaws.com/public/image_upload/6556674324ed41a289a354258718280d/964e5a8b-75ad-41fc-ae75-0ca66d06fbc7.png' align='left' /> </div></a>\n"
   ]
  },
  {
   "cell_type": "markdown",
   "metadata": {},
   "source": [
    "출처:https://www.w3resource.com/python-exercises/numpy/basic/index.php"
   ]
  },
  {
   "cell_type": "code",
   "execution_count": 1,
   "metadata": {
    "ExecuteTime": {
     "end_time": "2021-07-09T02:07:36.978285Z",
     "start_time": "2021-07-09T02:07:34.921375Z"
    }
   },
   "outputs": [],
   "source": [
    "import numpy as np"
   ]
  },
  {
   "cell_type": "markdown",
   "metadata": {},
   "source": [
    "# 21. Write a NumPy program to create a vector of length 10 with values evenly distributed between 5 and 50.     \n",
    "    "
   ]
  },
  {
   "cell_type": "code",
   "execution_count": 2,
   "metadata": {
    "ExecuteTime": {
     "end_time": "2021-07-09T02:07:36.993268Z",
     "start_time": "2021-07-09T02:07:36.981267Z"
    }
   },
   "outputs": [
    {
     "data": {
      "text/plain": [
       "array([ 5, 10, 15, 20, 25, 30, 35, 40, 45, 50])"
      ]
     },
     "execution_count": 2,
     "metadata": {},
     "output_type": "execute_result"
    }
   ],
   "source": [
    "np.arange(5, 51, 5)"
   ]
  },
  {
   "cell_type": "markdown",
   "metadata": {},
   "source": [
    "# ★ 22. Write a NumPy program to create a vector with values from 0 to 20 and change the sign of the numbers in the range from 9 to 15.     "
   ]
  },
  {
   "cell_type": "code",
   "execution_count": 3,
   "metadata": {
    "ExecuteTime": {
     "end_time": "2021-07-09T02:07:37.008272Z",
     "start_time": "2021-07-09T02:07:36.995269Z"
    }
   },
   "outputs": [
    {
     "data": {
      "text/plain": [
       "array([ 0,  1,  2,  3,  4,  5,  6,  7,  8,  9, 10, 11, 12, 13, 14, 15, 16,\n",
       "       17, 18, 19, 20])"
      ]
     },
     "execution_count": 3,
     "metadata": {},
     "output_type": "execute_result"
    }
   ],
   "source": [
    "array1 = np.arange(0,21)\n",
    "array1"
   ]
  },
  {
   "cell_type": "code",
   "execution_count": 4,
   "metadata": {
    "ExecuteTime": {
     "end_time": "2021-07-09T02:07:37.023275Z",
     "start_time": "2021-07-09T02:07:37.010272Z"
    }
   },
   "outputs": [
    {
     "data": {
      "text/plain": [
       "array([ 1,  1,  1,  1,  1,  1,  1,  1,  1, -1, -1, -1, -1, -1, -1, -1,  1,\n",
       "        1,  1,  1,  1])"
      ]
     },
     "execution_count": 4,
     "metadata": {},
     "output_type": "execute_result"
    }
   ],
   "source": [
    "array2 = np.array([1]*9 + [-1]*7 + [1]*5)\n",
    "array2"
   ]
  },
  {
   "cell_type": "code",
   "execution_count": 5,
   "metadata": {
    "ExecuteTime": {
     "end_time": "2021-07-09T02:07:37.038280Z",
     "start_time": "2021-07-09T02:07:37.025277Z"
    }
   },
   "outputs": [
    {
     "data": {
      "text/plain": [
       "array([  0,   1,   2,   3,   4,   5,   6,   7,   8,  -9, -10, -11, -12,\n",
       "       -13, -14, -15,  16,  17,  18,  19,  20])"
      ]
     },
     "execution_count": 5,
     "metadata": {},
     "output_type": "execute_result"
    }
   ],
   "source": [
    "array1 * array2"
   ]
  },
  {
   "cell_type": "markdown",
   "metadata": {},
   "source": [
    "다른 답안"
   ]
  },
  {
   "cell_type": "code",
   "execution_count": 6,
   "metadata": {
    "ExecuteTime": {
     "end_time": "2021-07-09T02:07:37.054283Z",
     "start_time": "2021-07-09T02:07:37.042281Z"
    }
   },
   "outputs": [
    {
     "data": {
      "text/plain": [
       "array([  0,   1,   2,   3,   4,   5,   6,   7,   8,  -9, -10, -11, -12,\n",
       "       -13, -14, -15,  16,  17,  18,  19,  20])"
      ]
     },
     "execution_count": 6,
     "metadata": {},
     "output_type": "execute_result"
    }
   ],
   "source": [
    "x = np.arange(21)\n",
    "\n",
    "x[(x>=9) & (x <=15)] *= -1\n",
    "\n",
    "x"
   ]
  },
  {
   "cell_type": "markdown",
   "metadata": {},
   "source": [
    "# 23. Write a NumPy program to create a vector of length 5 filled with arbitrary integers from 0 to 10.     "
   ]
  },
  {
   "cell_type": "code",
   "execution_count": 7,
   "metadata": {
    "ExecuteTime": {
     "end_time": "2021-07-09T02:07:37.069285Z",
     "start_time": "2021-07-09T02:07:37.057282Z"
    }
   },
   "outputs": [
    {
     "data": {
      "text/plain": [
       "array([3, 2, 2, 7, 6])"
      ]
     },
     "execution_count": 7,
     "metadata": {},
     "output_type": "execute_result"
    }
   ],
   "source": [
    "np.random.randint(0,11, 5)"
   ]
  },
  {
   "cell_type": "markdown",
   "metadata": {},
   "source": [
    "# 24. Write a NumPy program to multiply the values of two given vectors.     "
   ]
  },
  {
   "cell_type": "code",
   "execution_count": 8,
   "metadata": {
    "ExecuteTime": {
     "end_time": "2021-07-09T02:07:37.084290Z",
     "start_time": "2021-07-09T02:07:37.071286Z"
    }
   },
   "outputs": [
    {
     "data": {
      "text/plain": [
       "array([64, 48, 21, 40,  7])"
      ]
     },
     "execution_count": 8,
     "metadata": {},
     "output_type": "execute_result"
    }
   ],
   "source": [
    "s1 = np.random.randint(0,11, 5)\n",
    "s2 = np.random.randint(0,11, 5)\n",
    "\n",
    "s1 * s2"
   ]
  },
  {
   "cell_type": "code",
   "execution_count": 9,
   "metadata": {
    "ExecuteTime": {
     "end_time": "2021-07-09T02:07:37.099296Z",
     "start_time": "2021-07-09T02:07:37.087290Z"
    }
   },
   "outputs": [
    {
     "data": {
      "text/plain": [
       "array([64, 48, 21, 40,  7])"
      ]
     },
     "execution_count": 9,
     "metadata": {},
     "output_type": "execute_result"
    }
   ],
   "source": [
    "np.multiply(s1, s2)"
   ]
  },
  {
   "cell_type": "markdown",
   "metadata": {},
   "source": [
    "# 25. Write a NumPy program to create a 3x4 matrix filled with values from 10 to 21.     "
   ]
  },
  {
   "cell_type": "code",
   "execution_count": 10,
   "metadata": {
    "ExecuteTime": {
     "end_time": "2021-07-09T02:07:37.114296Z",
     "start_time": "2021-07-09T02:07:37.103295Z"
    }
   },
   "outputs": [
    {
     "data": {
      "text/plain": [
       "array([[20, 19, 15, 21],\n",
       "       [15, 16, 19, 19],\n",
       "       [12, 10, 15, 13]])"
      ]
     },
     "execution_count": 10,
     "metadata": {},
     "output_type": "execute_result"
    }
   ],
   "source": [
    "np.random.randint(10,22, (3,4))"
   ]
  },
  {
   "cell_type": "markdown",
   "metadata": {},
   "source": [
    "# 26. Write a NumPy program to find the number of rows and columns of a given matrix.     \n",
    "    \n",
    "    "
   ]
  },
  {
   "cell_type": "code",
   "execution_count": 11,
   "metadata": {
    "ExecuteTime": {
     "end_time": "2021-07-09T02:07:37.129299Z",
     "start_time": "2021-07-09T02:07:37.119299Z"
    }
   },
   "outputs": [
    {
     "data": {
      "text/plain": [
       "array([[16, 16, 15, 16],\n",
       "       [12, 21, 10, 15],\n",
       "       [19, 18, 16, 13]])"
      ]
     },
     "execution_count": 11,
     "metadata": {},
     "output_type": "execute_result"
    }
   ],
   "source": [
    "array1 = np.random.randint(10,22, (3,4))\n",
    "array1"
   ]
  },
  {
   "cell_type": "code",
   "execution_count": 12,
   "metadata": {
    "ExecuteTime": {
     "end_time": "2021-07-09T02:07:37.144302Z",
     "start_time": "2021-07-09T02:07:37.131299Z"
    }
   },
   "outputs": [
    {
     "data": {
      "text/plain": [
       "(3, 4)"
      ]
     },
     "execution_count": 12,
     "metadata": {},
     "output_type": "execute_result"
    }
   ],
   "source": [
    "array1.shape"
   ]
  },
  {
   "cell_type": "markdown",
   "metadata": {},
   "source": [
    "# 27. Write a NumPy program to create a 3x3 identity matrix, i.e. diagonal elements are 1, the rest are 0.         \n",
    "    "
   ]
  },
  {
   "cell_type": "code",
   "execution_count": 13,
   "metadata": {
    "ExecuteTime": {
     "end_time": "2021-07-09T02:07:37.159306Z",
     "start_time": "2021-07-09T02:07:37.146304Z"
    }
   },
   "outputs": [
    {
     "data": {
      "text/plain": [
       "array([[1., 0., 0.],\n",
       "       [0., 1., 0.],\n",
       "       [0., 0., 1.]])"
      ]
     },
     "execution_count": 13,
     "metadata": {},
     "output_type": "execute_result"
    }
   ],
   "source": [
    "np.identity(3)"
   ]
  },
  {
   "cell_type": "markdown",
   "metadata": {},
   "source": [
    "# ★ 28. Write a NumPy program to create a 10x10 matrix, in which the elements on the borders will be equal to 1, and inside 0.     \n",
    "    \n",
    "    "
   ]
  },
  {
   "cell_type": "code",
   "execution_count": 14,
   "metadata": {
    "ExecuteTime": {
     "end_time": "2021-07-09T02:07:37.174309Z",
     "start_time": "2021-07-09T02:07:37.161307Z"
    }
   },
   "outputs": [
    {
     "data": {
      "text/plain": [
       "array([[1., 1., 1., 1., 1., 1., 1., 1., 1., 1.],\n",
       "       [1., 1., 1., 1., 1., 1., 1., 1., 1., 1.],\n",
       "       [1., 1., 1., 1., 1., 1., 1., 1., 1., 1.],\n",
       "       [1., 1., 1., 1., 1., 1., 1., 1., 1., 1.],\n",
       "       [1., 1., 1., 1., 1., 1., 1., 1., 1., 1.],\n",
       "       [1., 1., 1., 1., 1., 1., 1., 1., 1., 1.],\n",
       "       [1., 1., 1., 1., 1., 1., 1., 1., 1., 1.],\n",
       "       [1., 1., 1., 1., 1., 1., 1., 1., 1., 1.],\n",
       "       [1., 1., 1., 1., 1., 1., 1., 1., 1., 1.],\n",
       "       [1., 1., 1., 1., 1., 1., 1., 1., 1., 1.]])"
      ]
     },
     "execution_count": 14,
     "metadata": {},
     "output_type": "execute_result"
    }
   ],
   "source": [
    "array1 = np.ones((10,10))\n",
    "array1"
   ]
  },
  {
   "cell_type": "code",
   "execution_count": 15,
   "metadata": {
    "ExecuteTime": {
     "end_time": "2021-07-09T02:07:37.189331Z",
     "start_time": "2021-07-09T02:07:37.176309Z"
    }
   },
   "outputs": [
    {
     "data": {
      "text/plain": [
       "array([[1., 1., 1., 1., 1., 1., 1., 1., 1., 1.],\n",
       "       [1., 0., 0., 0., 0., 0., 0., 0., 0., 1.],\n",
       "       [1., 0., 0., 0., 0., 0., 0., 0., 0., 1.],\n",
       "       [1., 0., 0., 0., 0., 0., 0., 0., 0., 1.],\n",
       "       [1., 0., 0., 0., 0., 0., 0., 0., 0., 1.],\n",
       "       [1., 0., 0., 0., 0., 0., 0., 0., 0., 1.],\n",
       "       [1., 0., 0., 0., 0., 0., 0., 0., 0., 1.],\n",
       "       [1., 0., 0., 0., 0., 0., 0., 0., 0., 1.],\n",
       "       [1., 0., 0., 0., 0., 0., 0., 0., 0., 1.],\n",
       "       [1., 1., 1., 1., 1., 1., 1., 1., 1., 1.]])"
      ]
     },
     "execution_count": 15,
     "metadata": {},
     "output_type": "execute_result"
    }
   ],
   "source": [
    "array1[1:-1,1:-1] = 0 \n",
    "array1"
   ]
  },
  {
   "cell_type": "markdown",
   "metadata": {},
   "source": [
    "# ★29. Write a NumPy program to create a 5x5 zero matrix with elements on the main diagonal equal to 1, 2, 3, 4, 5.     \n",
    "    \n",
    "    "
   ]
  },
  {
   "cell_type": "code",
   "execution_count": 16,
   "metadata": {
    "ExecuteTime": {
     "end_time": "2021-07-09T02:07:37.204329Z",
     "start_time": "2021-07-09T02:07:37.192314Z"
    }
   },
   "outputs": [
    {
     "data": {
      "text/plain": [
       "array([[1, 0, 0, 0, 0],\n",
       "       [0, 2, 0, 0, 0],\n",
       "       [0, 0, 3, 0, 0],\n",
       "       [0, 0, 0, 4, 0],\n",
       "       [0, 0, 0, 0, 5]])"
      ]
     },
     "execution_count": 16,
     "metadata": {},
     "output_type": "execute_result"
    }
   ],
   "source": [
    "array1 = np.diag([1, 2, 3, 4, 5])\n",
    "array1"
   ]
  },
  {
   "cell_type": "markdown",
   "metadata": {},
   "source": [
    "# ★ 30. Write a NumPy program to create a 4x4 matrix in which 0 and 1 are staggered, with zeros on the main diagonal. "
   ]
  },
  {
   "cell_type": "markdown",
   "metadata": {},
   "source": [
    "![설명](https://www.w3resource.com/w3r_images/numpy-basic-image-exercise-30.png)"
   ]
  },
  {
   "cell_type": "code",
   "execution_count": 17,
   "metadata": {
    "ExecuteTime": {
     "end_time": "2021-07-09T02:07:37.219326Z",
     "start_time": "2021-07-09T02:07:37.206316Z"
    }
   },
   "outputs": [
    {
     "data": {
      "text/plain": [
       "array([[0., 1., 0., 1.],\n",
       "       [1., 0., 1., 0.],\n",
       "       [0., 1., 0., 1.],\n",
       "       [1., 0., 1., 0.]])"
      ]
     },
     "execution_count": 17,
     "metadata": {},
     "output_type": "execute_result"
    }
   ],
   "source": [
    "x = np.zeros((4,4))\n",
    "x[::2, 1::2] = 1\n",
    "x[1::2, ::2] = 1\n",
    "x"
   ]
  },
  {
   "cell_type": "markdown",
   "metadata": {},
   "source": [
    "# 31. Write a NumPy program to create a 3x3x3 array filled with arbitrary values.     \n",
    "    \n",
    "    "
   ]
  },
  {
   "cell_type": "code",
   "execution_count": 18,
   "metadata": {
    "ExecuteTime": {
     "end_time": "2021-07-09T02:07:37.234324Z",
     "start_time": "2021-07-09T02:07:37.221320Z"
    }
   },
   "outputs": [
    {
     "data": {
      "text/plain": [
       "array([[[0.40497812, 0.39038053, 0.61863002],\n",
       "        [0.41585512, 0.74117867, 0.03009629],\n",
       "        [0.86453134, 0.93875609, 0.82080294]],\n",
       "\n",
       "       [[0.84717965, 0.46550418, 0.09030124],\n",
       "        [0.79184364, 0.86151065, 0.10223145],\n",
       "        [0.31969148, 0.38042078, 0.20775382]],\n",
       "\n",
       "       [[0.94610448, 0.42346068, 0.80475669],\n",
       "        [0.15662954, 0.61514142, 0.03971333],\n",
       "        [0.10429275, 0.68032537, 0.53198245]]])"
      ]
     },
     "execution_count": 18,
     "metadata": {},
     "output_type": "execute_result"
    }
   ],
   "source": [
    "np.random.random((3,3,3))"
   ]
  },
  {
   "cell_type": "markdown",
   "metadata": {},
   "source": [
    "# 32. Write a NumPy program to compute sum of all elements, sum of each column and sum of each row of a given array.     \n",
    "    \n",
    "    "
   ]
  },
  {
   "cell_type": "code",
   "execution_count": 19,
   "metadata": {
    "ExecuteTime": {
     "end_time": "2021-07-09T02:07:37.249331Z",
     "start_time": "2021-07-09T02:07:37.237323Z"
    }
   },
   "outputs": [],
   "source": [
    "array1 = np.random.randn(3,3)"
   ]
  },
  {
   "cell_type": "code",
   "execution_count": 20,
   "metadata": {
    "ExecuteTime": {
     "end_time": "2021-07-09T02:07:37.264331Z",
     "start_time": "2021-07-09T02:07:37.252327Z"
    }
   },
   "outputs": [
    {
     "data": {
      "text/plain": [
       "-2.0142962526456283"
      ]
     },
     "execution_count": 20,
     "metadata": {},
     "output_type": "execute_result"
    }
   ],
   "source": [
    "np.sum(array1)"
   ]
  },
  {
   "cell_type": "code",
   "execution_count": 21,
   "metadata": {
    "ExecuteTime": {
     "end_time": "2021-07-09T02:07:37.279336Z",
     "start_time": "2021-07-09T02:07:37.267334Z"
    }
   },
   "outputs": [
    {
     "data": {
      "text/plain": [
       "array([-1.69450718,  0.17800013, -0.4977892 ])"
      ]
     },
     "execution_count": 21,
     "metadata": {},
     "output_type": "execute_result"
    }
   ],
   "source": [
    "np.sum(array1, axis=0)"
   ]
  },
  {
   "cell_type": "code",
   "execution_count": 22,
   "metadata": {
    "ExecuteTime": {
     "end_time": "2021-07-09T02:07:37.294336Z",
     "start_time": "2021-07-09T02:07:37.281341Z"
    }
   },
   "outputs": [
    {
     "data": {
      "text/plain": [
       "array([-0.54062686, -2.20231083,  0.72864144])"
      ]
     },
     "execution_count": 22,
     "metadata": {},
     "output_type": "execute_result"
    }
   ],
   "source": [
    "np.sum(array1, axis=1)"
   ]
  },
  {
   "cell_type": "markdown",
   "metadata": {},
   "source": [
    "# 33. Write a NumPy program to compute the inner product of two given vectors.     \n",
    "    \n",
    "    "
   ]
  },
  {
   "cell_type": "code",
   "execution_count": 23,
   "metadata": {
    "ExecuteTime": {
     "end_time": "2021-07-09T02:07:37.309341Z",
     "start_time": "2021-07-09T02:07:37.297336Z"
    }
   },
   "outputs": [
    {
     "data": {
      "text/plain": [
       "array([[0.05002416, 0.21090348],\n",
       "       [0.26829992, 0.37697751]])"
      ]
     },
     "execution_count": 23,
     "metadata": {},
     "output_type": "execute_result"
    }
   ],
   "source": [
    "array1 = np.random.random((2,2))\n",
    "array2 = np.random.random((2,2))\n",
    "\n",
    "array1.dot(array2)"
   ]
  },
  {
   "cell_type": "code",
   "execution_count": 24,
   "metadata": {
    "ExecuteTime": {
     "end_time": "2021-07-09T02:07:37.324343Z",
     "start_time": "2021-07-09T02:07:37.311341Z"
    }
   },
   "outputs": [
    {
     "data": {
      "text/plain": [
       "array([[0.05002416, 0.21090348],\n",
       "       [0.26829992, 0.37697751]])"
      ]
     },
     "execution_count": 24,
     "metadata": {},
     "output_type": "execute_result"
    }
   ],
   "source": [
    "np.dot(array1, array2)"
   ]
  },
  {
   "cell_type": "markdown",
   "metadata": {},
   "source": [
    "# 34. Write a NumPy program to add a vector to each row of a given matrix.     \n",
    "    \n",
    "    "
   ]
  },
  {
   "cell_type": "code",
   "execution_count": 25,
   "metadata": {
    "ExecuteTime": {
     "end_time": "2021-07-09T02:07:37.339347Z",
     "start_time": "2021-07-09T02:07:37.327343Z"
    },
    "scrolled": true
   },
   "outputs": [
    {
     "data": {
      "text/plain": [
       "(array([[3, 3, 6],\n",
       "        [3, 2, 1],\n",
       "        [3, 2, 5]]),\n",
       " array([2, 3, 5]))"
      ]
     },
     "execution_count": 25,
     "metadata": {},
     "output_type": "execute_result"
    }
   ],
   "source": [
    "array1 = np.random.randint(1,10,(3,3))\n",
    "array2 = np.random.randint(1,10,3)\n",
    "array1, array2"
   ]
  },
  {
   "cell_type": "code",
   "execution_count": 26,
   "metadata": {
    "ExecuteTime": {
     "end_time": "2021-07-09T02:07:37.354350Z",
     "start_time": "2021-07-09T02:07:37.341347Z"
    }
   },
   "outputs": [
    {
     "data": {
      "text/plain": [
       "array([[ 5,  6, 11],\n",
       "       [ 5,  5,  6],\n",
       "       [ 5,  5, 10]])"
      ]
     },
     "execution_count": 26,
     "metadata": {},
     "output_type": "execute_result"
    }
   ],
   "source": [
    "# broadcast\n",
    "array1 + array2"
   ]
  },
  {
   "cell_type": "markdown",
   "metadata": {},
   "source": [
    "다른 답안"
   ]
  },
  {
   "cell_type": "code",
   "execution_count": 27,
   "metadata": {
    "ExecuteTime": {
     "end_time": "2021-07-09T02:07:37.369353Z",
     "start_time": "2021-07-09T02:07:37.356351Z"
    }
   },
   "outputs": [
    {
     "name": "stdout",
     "output_type": "stream",
     "text": [
      "\n",
      "After adding the vector v to each row of the matrix m:\n",
      "[[ 5  6 11]\n",
      " [ 5  5  6]\n",
      " [ 5  5 10]]\n"
     ]
    }
   ],
   "source": [
    "result = np.empty_like(array1) \n",
    "for i in range(3):\n",
    "  result[i, :] = array1[i, :] + array2\n",
    "print(\"\\nAfter adding the vector v to each row of the matrix m:\")\n",
    "print(result)"
   ]
  },
  {
   "cell_type": "code",
   "execution_count": 28,
   "metadata": {
    "ExecuteTime": {
     "end_time": "2021-07-09T02:07:37.384364Z",
     "start_time": "2021-07-09T02:07:37.371354Z"
    }
   },
   "outputs": [
    {
     "data": {
      "text/plain": [
       "array([[ 5,  5,  8],\n",
       "       [ 6,  5,  4],\n",
       "       [ 8,  7, 10]])"
      ]
     },
     "execution_count": 28,
     "metadata": {},
     "output_type": "execute_result"
    }
   ],
   "source": [
    "# 세로로 broadcast\n",
    "array1 + array2.reshape(3,-1)"
   ]
  },
  {
   "cell_type": "markdown",
   "metadata": {},
   "source": [
    "# 35. Write a NumPy program to save a given array to a binary file .     \n",
    "    \n",
    "    "
   ]
  },
  {
   "cell_type": "code",
   "execution_count": 32,
   "metadata": {
    "ExecuteTime": {
     "end_time": "2021-07-09T02:09:09.131762Z",
     "start_time": "2021-07-09T02:09:09.121760Z"
    }
   },
   "outputs": [],
   "source": [
    "array1 = np.array([1,2,3])\n",
    "np.save('test',array1)"
   ]
  },
  {
   "cell_type": "code",
   "execution_count": 33,
   "metadata": {
    "ExecuteTime": {
     "end_time": "2021-07-09T02:09:09.616565Z",
     "start_time": "2021-07-09T02:09:09.583278Z"
    }
   },
   "outputs": [
    {
     "name": "stdout",
     "output_type": "stream",
     "text": [
      " C 드라이브의 볼륨에는 이름이 없습니다.\n",
      " 볼륨 일련 번호: 50B4-87C1\n",
      "\n",
      " C:\\Users\\N\\OneDrive\\WorkJ\\Pandas_Numpy\\Pandas&Numpy Daily Practice\\Numpy 디렉터리\n",
      "\n",
      "2021-07-09  오전 11:09               140 test.npy\n",
      "2021-07-09  오전 11:08               140 test.txt.npy\n",
      "               2개 파일                 280 바이트\n",
      "               0개 디렉터리  150,963,712,000 바이트 남음\n"
     ]
    }
   ],
   "source": [
    "!dir test.*"
   ]
  },
  {
   "cell_type": "markdown",
   "metadata": {},
   "source": [
    "답안"
   ]
  },
  {
   "cell_type": "code",
   "execution_count": 34,
   "metadata": {
    "ExecuteTime": {
     "end_time": "2021-07-09T02:09:53.707437Z",
     "start_time": "2021-07-09T02:09:53.687434Z"
    }
   },
   "outputs": [
    {
     "name": "stdout",
     "output_type": "stream",
     "text": [
      "Check if 'temp_arra.npy' exists or not?\n",
      "True\n"
     ]
    }
   ],
   "source": [
    "import numpy as np\n",
    "import os\n",
    "a = np.arange(20)\n",
    "np.save('temp_arra.npy', a)\n",
    "print(\"Check if 'temp_arra.npy' exists or not?\")\n",
    "if os.path.exists('temp_arra.npy'):\n",
    "    x2 = np.load('temp_arra.npy')\n",
    "    print(np.array_equal(a, x2))"
   ]
  },
  {
   "cell_type": "markdown",
   "metadata": {},
   "source": [
    "# 36. Write a NumPy program to save two given arrays into a single file in compressed format (.npz format) and load it.     \n",
    "    \n",
    "    "
   ]
  },
  {
   "cell_type": "code",
   "execution_count": 43,
   "metadata": {
    "ExecuteTime": {
     "end_time": "2021-07-09T02:17:23.128880Z",
     "start_time": "2021-07-09T02:17:23.108875Z"
    }
   },
   "outputs": [],
   "source": [
    "array1 = np.arange(20)\n",
    "array2 = np.arange(10)\n",
    "np.savez('temp_arrays.npz', x=array1, y=array2)"
   ]
  },
  {
   "cell_type": "code",
   "execution_count": 44,
   "metadata": {
    "ExecuteTime": {
     "end_time": "2021-07-09T02:17:23.613059Z",
     "start_time": "2021-07-09T02:17:23.569026Z"
    }
   },
   "outputs": [
    {
     "name": "stdout",
     "output_type": "stream",
     "text": [
      " C 드라이브의 볼륨에는 이름이 없습니다.\n",
      " 볼륨 일련 번호: 50B4-87C1\n",
      "\n",
      " C:\\Users\\N\\OneDrive\\WorkJ\\Pandas_Numpy\\Pandas&Numpy Daily Practice\\Numpy 디렉터리\n",
      "\n",
      "2021-07-09  오전 11:09               208 temp_arra.npy\n",
      "2021-07-09  오전 11:13               626 temp_arrays.npy.npz\n",
      "2021-07-09  오전 11:17               610 temp_arrays.npz\n",
      "               3개 파일               1,444 바이트\n",
      "               0개 디렉터리  151,008,743,424 바이트 남음\n"
     ]
    }
   ],
   "source": [
    "!dir temp*.*"
   ]
  },
  {
   "cell_type": "code",
   "execution_count": 45,
   "metadata": {
    "ExecuteTime": {
     "end_time": "2021-07-09T02:17:24.129118Z",
     "start_time": "2021-07-09T02:17:24.115112Z"
    }
   },
   "outputs": [
    {
     "name": "stdout",
     "output_type": "stream",
     "text": [
      "Yes, it is\n"
     ]
    }
   ],
   "source": [
    "import os\n",
    "if os.path.exists('temp_arrays.npz'):\n",
    "    print('Yes, it is')"
   ]
  },
  {
   "cell_type": "code",
   "execution_count": 47,
   "metadata": {
    "ExecuteTime": {
     "end_time": "2021-07-09T02:17:31.876097Z",
     "start_time": "2021-07-09T02:17:31.862100Z"
    }
   },
   "outputs": [
    {
     "name": "stdout",
     "output_type": "stream",
     "text": [
      "True\n",
      "True\n"
     ]
    }
   ],
   "source": [
    "with np.load('temp_arrays.npz') as data:\n",
    "    x2 = data['x']\n",
    "    y2 = data['y']\n",
    "\n",
    "print(np.array_equal(array1,x2))\n",
    "print(np.array_equal(array2,y2))"
   ]
  },
  {
   "cell_type": "markdown",
   "metadata": {},
   "source": [
    "# 37. Write a NumPy program to save a given array to a text file and load it.     \n",
    "    \n",
    "    "
   ]
  },
  {
   "cell_type": "code",
   "execution_count": 48,
   "metadata": {
    "ExecuteTime": {
     "end_time": "2021-07-09T02:18:35.845016Z",
     "start_time": "2021-07-09T02:18:35.824019Z"
    }
   },
   "outputs": [],
   "source": [
    "array = np.arange(5)\n",
    "\n",
    "np.savetxt('test.txt',array)\n"
   ]
  },
  {
   "cell_type": "code",
   "execution_count": 51,
   "metadata": {
    "ExecuteTime": {
     "end_time": "2021-07-09T02:19:58.003911Z",
     "start_time": "2021-07-09T02:19:57.994903Z"
    }
   },
   "outputs": [
    {
     "data": {
      "text/plain": [
       "array([0., 1., 2., 3., 4.])"
      ]
     },
     "execution_count": 51,
     "metadata": {},
     "output_type": "execute_result"
    }
   ],
   "source": [
    "loaded = np.loadtxt('test.txt')\n",
    "loaded"
   ]
  },
  {
   "cell_type": "markdown",
   "metadata": {},
   "source": [
    "답안"
   ]
  },
  {
   "cell_type": "code",
   "execution_count": 52,
   "metadata": {
    "ExecuteTime": {
     "end_time": "2021-07-09T02:20:09.421296Z",
     "start_time": "2021-07-09T02:20:09.404304Z"
    }
   },
   "outputs": [
    {
     "name": "stdout",
     "output_type": "stream",
     "text": [
      "Original array:\n",
      "[[ 0  1  2]\n",
      " [ 3  4  5]\n",
      " [ 6  7  8]\n",
      " [ 9 10 11]]\n",
      "After loading, content of the text file:\n",
      "[[ 0.  1.  2.]\n",
      " [ 3.  4.  5.]\n",
      " [ 6.  7.  8.]\n",
      " [ 9. 10. 11.]]\n"
     ]
    }
   ],
   "source": [
    "import numpy as np\n",
    "import os\n",
    "x = np.arange(12).reshape(4, 3)\n",
    "print(\"Original array:\")\n",
    "print(x)\n",
    "header = 'col1 col2 col3'\n",
    "np.savetxt('temp.txt', x, fmt=\"%d\", header=header) \n",
    "print(\"After loading, content of the text file:\")\n",
    "result = np.loadtxt('temp.txt')\n",
    "print(result)"
   ]
  },
  {
   "cell_type": "markdown",
   "metadata": {},
   "source": [
    "# 38. Write a NumPy program to convert a given array into bytes, and load it as array.     \n",
    "    \n",
    "    "
   ]
  },
  {
   "cell_type": "code",
   "execution_count": 53,
   "metadata": {
    "ExecuteTime": {
     "end_time": "2021-07-09T02:21:34.927284Z",
     "start_time": "2021-07-09T02:21:34.914779Z"
    }
   },
   "outputs": [
    {
     "name": "stdout",
     "output_type": "stream",
     "text": [
      "Original array:\n",
      "[1 2 3 4 5 6]\n",
      "After loading, content of the text file:\n",
      "[1 2 3 4 5 6]\n",
      "True\n"
     ]
    },
    {
     "name": "stderr",
     "output_type": "stream",
     "text": [
      "<ipython-input-53-d96519ba83a0>:6: DeprecationWarning: tostring() is deprecated. Use tobytes() instead.\n",
      "  a_bytes = a.tostring()\n",
      "<ipython-input-53-d96519ba83a0>:7: DeprecationWarning: The binary mode of fromstring is deprecated, as it behaves surprisingly on unicode inputs. Use frombuffer instead\n",
      "  a2 = np.fromstring(a_bytes, dtype=a.dtype)\n"
     ]
    }
   ],
   "source": [
    "import numpy as np\n",
    "import os\n",
    "a = np.array([1, 2, 3, 4, 5, 6])\n",
    "print(\"Original array:\")\n",
    "print(a)\n",
    "a_bytes = a.tostring()\n",
    "a2 = np.fromstring(a_bytes, dtype=a.dtype)\n",
    "print(\"After loading, content of the text file:\")\n",
    "print(a2)\n",
    "print(np.array_equal(a, a2))"
   ]
  },
  {
   "cell_type": "markdown",
   "metadata": {},
   "source": [
    "# 39. Write a NumPy program to convert a given list into an array, then again convert it into a list. Check initial list and final list are equal or not.     \n",
    "    \n",
    "    "
   ]
  },
  {
   "cell_type": "code",
   "execution_count": 55,
   "metadata": {
    "ExecuteTime": {
     "end_time": "2021-07-09T02:23:13.286639Z",
     "start_time": "2021-07-09T02:23:13.281644Z"
    }
   },
   "outputs": [
    {
     "name": "stdout",
     "output_type": "stream",
     "text": [
      "original [4, 5, 3, 2, 6, 7]\n",
      "transed [4, 5, 3, 2, 6, 7]\n",
      "True\n"
     ]
    }
   ],
   "source": [
    "l = [4, 5, 3, 2, 6, 7]\n",
    "print('original', l)\n",
    "array1 = np.array(l)\n",
    "l2 = array1.tolist()\n",
    "print('transed', l2)\n",
    "print(l == l2)"
   ]
  },
  {
   "cell_type": "markdown",
   "metadata": {},
   "source": [
    "# 40. Write a NumPy program to compute the x and y coordinates for points on a sine curve and plot the points using matplotlib.     \n",
    "    \n",
    "    "
   ]
  },
  {
   "cell_type": "code",
   "execution_count": 63,
   "metadata": {
    "ExecuteTime": {
     "end_time": "2021-07-09T02:27:01.722882Z",
     "start_time": "2021-07-09T02:27:01.586137Z"
    },
    "scrolled": true
   },
   "outputs": [
    {
     "data": {
      "image/png": "[encoded data removed]",
      "text/plain": [
       "<Figure size 432x288 with 1 Axes>"
      ]
     },
     "metadata": {
      "needs_background": "light"
     },
     "output_type": "display_data"
    }
   ],
   "source": [
    "import matplotlib.pyplot as plt\n",
    "\n",
    "array = np.linspace(1, 10, 100)\n",
    "\n",
    "plt.plot(array, np.sin(array*np.pi));"
   ]
  },
  {
   "cell_type": "markdown",
   "metadata": {},
   "source": [
    "답안"
   ]
  },
  {
   "cell_type": "code",
   "execution_count": 61,
   "metadata": {
    "ExecuteTime": {
     "end_time": "2021-07-09T02:26:38.992419Z",
     "start_time": "2021-07-09T02:26:38.839393Z"
    }
   },
   "outputs": [
    {
     "name": "stdout",
     "output_type": "stream",
     "text": [
      "Plot the points using matplotlib:\n"
     ]
    },
    {
     "data": {
      "image/png": "[encoded data removed]",
      "text/plain": [
       "<Figure size 432x288 with 1 Axes>"
      ]
     },
     "metadata": {
      "needs_background": "light"
     },
     "output_type": "display_data"
    }
   ],
   "source": [
    "import numpy as np\n",
    "import matplotlib.pyplot as plt\n",
    "# Compute the x and y coordinates for points on a sine curve\n",
    "x = np.arange(0, 3 * np.pi, 0.2)\n",
    "y = np.sin(x)\n",
    "print(\"Plot the points using matplotlib:\")\n",
    "plt.plot(x, y)\n",
    "plt.show()"
   ]
  }
 ],
 "metadata": {
  "kernelspec": {
   "display_name": "Python 3",
   "language": "python",
   "name": "python3"
  },
  "language_info": {
   "codemirror_mode": {
    "name": "ipython",
    "version": 3
   },
   "file_extension": ".py",
   "mimetype": "text/x-python",
   "name": "python",
   "nbconvert_exporter": "python",
   "pygments_lexer": "ipython3",
   "version": "3.8.5"
  },
  "toc": {
   "base_numbering": 1,
   "nav_menu": {},
   "number_sections": true,
   "sideBar": true,
   "skip_h1_title": false,
   "title_cell": "Table of Contents",
   "title_sidebar": "Contents",
   "toc_cell": false,
   "toc_position": {},
   "toc_section_display": true,
   "toc_window_display": false
  }
 },
 "nbformat": 4,
 "nbformat_minor": 4
}
