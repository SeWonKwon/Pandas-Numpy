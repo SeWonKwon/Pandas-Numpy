{
 "cells": [
  {
   "cell_type": "markdown",
   "metadata": {},
   "source": [
    "<a href='https://github.com/SeWonKwon' ><div> <img src ='https://slid-capture.s3.ap-northeast-2.amazonaws.com/public/image_upload/6556674324ed41a289a354258718280d/964e5a8b-75ad-41fc-ae75-0ca66d06fbc7.png' align='left' /> </div></a>"
   ]
  },
  {
   "cell_type": "code",
   "execution_count": 16,
   "metadata": {},
   "outputs": [
    {
     "data": {
      "text/plain": [
       "'1.19.2'"
      ]
     },
     "execution_count": 16,
     "metadata": {},
     "output_type": "execute_result"
    }
   ],
   "source": [
    "import numpy as np\n",
    "np.__version__"
   ]
  },
  {
   "cell_type": "markdown",
   "metadata": {
    "id": "77DSA72ML5cI"
   },
   "source": [
    "## 배열 입출력\n"
   ]
  },
  {
   "cell_type": "markdown",
   "metadata": {},
   "source": [
    "|함수|설명|파일 종류|\n",
    "|:--|:--|:--:|\n",
    "|`np.save()`|NumPy 배열 객체 1개를 파일에 저장|바이너리|\n",
    "|`np.savez()`|NumPy 배열 객체 여러개를 파일에 저장|바이너리|\n",
    "|`np.load()`|NumPy 배열 저장 파일로부터 객체 로딩|바이너리|\n",
    "|`mp.loadtxt()`|텍스트 파일로부터 배열 로딩|텍스트|\n",
    "|`np.savetxt()`|텍스트 파일에 NumPy 배열 객체 저장|텍스트|"
   ]
  },
  {
   "cell_type": "code",
   "execution_count": 17,
   "metadata": {
    "id": "da-Mm_gzIs7U"
   },
   "outputs": [
    {
     "name": "stdout",
     "output_type": "stream",
     "text": [
      "[[8 7 6 9 7]\n",
      " [3 8 9 3 3]\n",
      " [9 6 8 2 7]\n",
      " [6 2 8 7 1]\n",
      " [2 8 1 6 4]]\n"
     ]
    }
   ],
   "source": [
    "a2 = np.random.randint(1, 10, size=(5, 5))\n",
    "print(a2)\n",
    "np.save('a', a2)"
   ]
  },
  {
   "cell_type": "code",
   "execution_count": 18,
   "metadata": {
    "colab": {
     "base_uri": "https://localhost:8080/",
     "height": 34
    },
    "id": "pFOWyDvAsf11",
    "outputId": "8be0a298-07ab-4526-e9d4-2796faadee9a"
   },
   "outputs": [
    {
     "data": {
      "text/plain": [
       "['.ipynb_checkpoints',\n",
       " 'a.csv',\n",
       " 'a.npy',\n",
       " 'ab.npz',\n",
       " 'b.csv',\n",
       " 'L00_Numpy.ipynb',\n",
       " 'L01_Numpy Feature.ipynb',\n",
       " 'L02_Numpy ndarray.ipynb',\n",
       " 'L03_Numpy info &indexing & slicing.ipynb',\n",
       " 'L04_Numpy array_insert delete copy transe.ipynb',\n",
       " 'L05_Numpy Broadcasting & Arithmetic Operators.ipynb',\n",
       " 'L06_Numpy Aggregate Functions.ipynb',\n",
       " 'L07_Numpy Comparison Operators.ipynb',\n",
       " 'L08_Numpy sort & argsort & partition.ipynb',\n",
       " 'L09_Numpy load & save array.ipynb']"
      ]
     },
     "execution_count": 18,
     "metadata": {},
     "output_type": "execute_result"
    }
   ],
   "source": [
    "# COLAB\n",
    "# !ls \n",
    "\n",
    "# Local\n",
    "import os\n",
    "os.listdir()"
   ]
  },
  {
   "cell_type": "code",
   "execution_count": 19,
   "metadata": {
    "id": "Hvb_ilyisoIV"
   },
   "outputs": [
    {
     "name": "stdout",
     "output_type": "stream",
     "text": [
      "[[6 7 1 3 2]\n",
      " [1 9 4 2 3]\n",
      " [7 8 6 8 9]\n",
      " [4 7 7 4 1]\n",
      " [3 1 4 9 6]]\n"
     ]
    }
   ],
   "source": [
    "b2 = np.random.randint(1, 10, size=(5, 5))\n",
    "print(b2)\n",
    "np.savez(\"ab\", a2, b2)\n"
   ]
  },
  {
   "cell_type": "code",
   "execution_count": 20,
   "metadata": {
    "id": "ArWZfL31s1wU"
   },
   "outputs": [
    {
     "data": {
      "text/plain": [
       "['.ipynb_checkpoints',\n",
       " 'a.csv',\n",
       " 'a.npy',\n",
       " 'ab.npz',\n",
       " 'b.csv',\n",
       " 'L00_Numpy.ipynb',\n",
       " 'L01_Numpy Feature.ipynb',\n",
       " 'L02_Numpy ndarray.ipynb',\n",
       " 'L03_Numpy info &indexing & slicing.ipynb',\n",
       " 'L04_Numpy array_insert delete copy transe.ipynb',\n",
       " 'L05_Numpy Broadcasting & Arithmetic Operators.ipynb',\n",
       " 'L06_Numpy Aggregate Functions.ipynb',\n",
       " 'L07_Numpy Comparison Operators.ipynb',\n",
       " 'L08_Numpy sort & argsort & partition.ipynb',\n",
       " 'L09_Numpy load & save array.ipynb']"
      ]
     },
     "execution_count": 20,
     "metadata": {},
     "output_type": "execute_result"
    }
   ],
   "source": [
    "# COLAB\n",
    "# !ls \n",
    "\n",
    "# Local\n",
    "import os\n",
    "os.listdir()"
   ]
  },
  {
   "cell_type": "code",
   "execution_count": 21,
   "metadata": {
    "id": "che4cEJEs2Tr"
   },
   "outputs": [
    {
     "data": {
      "text/plain": [
       "array([[8, 7, 6, 9, 7],\n",
       "       [3, 8, 9, 3, 3],\n",
       "       [9, 6, 8, 2, 7],\n",
       "       [6, 2, 8, 7, 1],\n",
       "       [2, 8, 1, 6, 4]])"
      ]
     },
     "execution_count": 21,
     "metadata": {},
     "output_type": "execute_result"
    }
   ],
   "source": [
    "npy = np.load('a.npy')\n",
    "npy"
   ]
  },
  {
   "cell_type": "code",
   "execution_count": 22,
   "metadata": {
    "id": "X2yIUsYvtMj6"
   },
   "outputs": [
    {
     "name": "stdout",
     "output_type": "stream",
     "text": [
      "['arr_0', 'arr_1']\n"
     ]
    }
   ],
   "source": [
    "npz = np.load('ab.npz')\n",
    "print(npz.files)"
   ]
  },
  {
   "cell_type": "code",
   "execution_count": 23,
   "metadata": {
    "id": "Yj5ec-CYtaH1"
   },
   "outputs": [
    {
     "data": {
      "text/plain": [
       "array([[8, 7, 6, 9, 7],\n",
       "       [3, 8, 9, 3, 3],\n",
       "       [9, 6, 8, 2, 7],\n",
       "       [6, 2, 8, 7, 1],\n",
       "       [2, 8, 1, 6, 4]])"
      ]
     },
     "execution_count": 23,
     "metadata": {},
     "output_type": "execute_result"
    }
   ],
   "source": [
    "npz['arr_0']"
   ]
  },
  {
   "cell_type": "code",
   "execution_count": 24,
   "metadata": {
    "id": "_NIDrc-VuPmv"
   },
   "outputs": [
    {
     "name": "stdout",
     "output_type": "stream",
     "text": [
      "[[8 7 6 9 7]\n",
      " [3 8 9 3 3]\n",
      " [9 6 8 2 7]\n",
      " [6 2 8 7 1]\n",
      " [2 8 1 6 4]]\n"
     ]
    }
   ],
   "source": [
    "print(a2)\n",
    "np.savetxt(\"a.csv\", a2, delimiter=',') # csv 파일이니까 , 로 설정"
   ]
  },
  {
   "cell_type": "code",
   "execution_count": 25,
   "metadata": {
    "id": "bPhmIoVBuQMf"
   },
   "outputs": [
    {
     "data": {
      "text/plain": [
       "['.ipynb_checkpoints',\n",
       " 'a.csv',\n",
       " 'a.npy',\n",
       " 'ab.npz',\n",
       " 'b.csv',\n",
       " 'L00_Numpy.ipynb',\n",
       " 'L01_Numpy Feature.ipynb',\n",
       " 'L02_Numpy ndarray.ipynb',\n",
       " 'L03_Numpy info &indexing & slicing.ipynb',\n",
       " 'L04_Numpy array_insert delete copy transe.ipynb',\n",
       " 'L05_Numpy Broadcasting & Arithmetic Operators.ipynb',\n",
       " 'L06_Numpy Aggregate Functions.ipynb',\n",
       " 'L07_Numpy Comparison Operators.ipynb',\n",
       " 'L08_Numpy sort & argsort & partition.ipynb',\n",
       " 'L09_Numpy load & save array.ipynb']"
      ]
     },
     "execution_count": 25,
     "metadata": {},
     "output_type": "execute_result"
    }
   ],
   "source": [
    "# COLAB\n",
    "# !ls \n",
    "\n",
    "# Local\n",
    "import os\n",
    "os.listdir()"
   ]
  },
  {
   "cell_type": "code",
   "execution_count": 26,
   "metadata": {
    "id": "FeB2p4azuTDv"
   },
   "outputs": [
    {
     "name": "stdout",
     "output_type": "stream",
     "text": [
      "8.000000000000000000e+00,7.000000000000000000e+00,6.000000000000000000e+00,9.000000000000000000e+00,7.000000000000000000e+00\n",
      "\n",
      "3.000000000000000000e+00,8.000000000000000000e+00,9.000000000000000000e+00,3.000000000000000000e+00,3.000000000000000000e+00\n",
      "\n",
      "9.000000000000000000e+00,6.000000000000000000e+00,8.000000000000000000e+00,2.000000000000000000e+00,7.000000000000000000e+00\n",
      "\n",
      "6.000000000000000000e+00,2.000000000000000000e+00,8.000000000000000000e+00,7.000000000000000000e+00,1.000000000000000000e+00\n",
      "\n",
      "2.000000000000000000e+00,8.000000000000000000e+00,1.000000000000000000e+00,6.000000000000000000e+00,4.000000000000000000e+00\n",
      "\n"
     ]
    }
   ],
   "source": [
    "f = open(\"a.csv\", 'r')\n",
    "for i in f:\n",
    "    print(i)\n",
    "f.close()"
   ]
  },
  {
   "cell_type": "code",
   "execution_count": 27,
   "metadata": {
    "id": "IUg8Vg4fuxR5"
   },
   "outputs": [
    {
     "data": {
      "text/plain": [
       "array([[8., 7., 6., 9., 7.],\n",
       "       [3., 8., 9., 3., 3.],\n",
       "       [9., 6., 8., 2., 7.],\n",
       "       [6., 2., 8., 7., 1.],\n",
       "       [2., 8., 1., 6., 4.]])"
      ]
     },
     "execution_count": 27,
     "metadata": {},
     "output_type": "execute_result"
    }
   ],
   "source": [
    "csv = np.loadtxt('a.csv', delimiter=',')\n",
    "csv"
   ]
  },
  {
   "cell_type": "code",
   "execution_count": 28,
   "metadata": {
    "id": "lIK5dSv6vtm2"
   },
   "outputs": [
    {
     "name": "stdout",
     "output_type": "stream",
     "text": [
      "[[6 7 1 3 2]\n",
      " [1 9 4 2 3]\n",
      " [7 8 6 8 9]\n",
      " [4 7 7 4 1]\n",
      " [3 1 4 9 6]]\n"
     ]
    }
   ],
   "source": [
    "print(b2)\n",
    "np.savetxt(\"b.csv\", b2, delimiter=',', fmt='%.2e', header='c1, c2, c3, c4, c5') # fmt 소숫점 자릿수,"
   ]
  },
  {
   "cell_type": "code",
   "execution_count": 29,
   "metadata": {
    "id": "l4O-gVxdv8-d"
   },
   "outputs": [
    {
     "name": "stdout",
     "output_type": "stream",
     "text": [
      "# c1, c2, c3, c4, c5\n",
      "\n",
      "6.00e+00,7.00e+00,1.00e+00,3.00e+00,2.00e+00\n",
      "\n",
      "1.00e+00,9.00e+00,4.00e+00,2.00e+00,3.00e+00\n",
      "\n",
      "7.00e+00,8.00e+00,6.00e+00,8.00e+00,9.00e+00\n",
      "\n",
      "4.00e+00,7.00e+00,7.00e+00,4.00e+00,1.00e+00\n",
      "\n",
      "3.00e+00,1.00e+00,4.00e+00,9.00e+00,6.00e+00\n",
      "\n"
     ]
    }
   ],
   "source": [
    "f = open(\"b.csv\", 'r')\n",
    "for i in f:\n",
    "    print(i)\n",
    "f.close()"
   ]
  },
  {
   "cell_type": "code",
   "execution_count": 30,
   "metadata": {
    "scrolled": true
   },
   "outputs": [
    {
     "name": "stdout",
     "output_type": "stream",
     "text": [
      "[[6. 7. 1. 3. 2.]\n",
      " [1. 9. 4. 2. 3.]\n",
      " [7. 8. 6. 8. 9.]\n",
      " [4. 7. 7. 4. 1.]\n",
      " [3. 1. 4. 9. 6.]]\n"
     ]
    }
   ],
   "source": [
    "csv = np.loadtxt('b.csv', delimiter=',')\n",
    "print(csv)"
   ]
  },
  {
   "cell_type": "markdown",
   "metadata": {
    "id": "JM2Ghx2NGloN"
   },
   "source": [
    "\n",
    "\n",
    "---\n",
    "\n"
   ]
  },
  {
   "cell_type": "markdown",
   "metadata": {},
   "source": [
    "출처:\n",
    "\n",
    "* <a href='https://github.com/SeWonKwon' ><div> <img src ='https://slid-capture.s3.ap-northeast-2.amazonaws.com/public/image_upload/6556674324ed41a289a354258718280d/964e5a8b-75ad-41fc-ae75-0ca66d06fbc7.png' align='left' /> </div></a>\n",
    "\n",
    "\n",
    "<br>\n",
    "\n",
    "* [TeamLab](https://www.youtube.com/watch?v=aHthqCgsSFs&list=PLBHVuYlKEkULZLnKLzRq1CnNBOBlBTkqp)\n",
    "\n",
    "* [이수안컴퓨터연구소](https://www.youtube.com/watch?v=mirZPrWwvao&list=PL7ZVZgsnLwEEZcVusN-fV_sJhQHq833OS&index=1)"
   ]
  }
 ],
 "metadata": {
  "colab": {
   "collapsed_sections": [],
   "name": "_NumPy 한번에 제대로 배우기.ipynb",
   "provenance": [],
   "toc_visible": true
  },
  "kernelspec": {
   "display_name": "Python 3",
   "language": "python",
   "name": "python3"
  },
  "language_info": {
   "codemirror_mode": {
    "name": "ipython",
    "version": 3
   },
   "file_extension": ".py",
   "mimetype": "text/x-python",
   "name": "python",
   "nbconvert_exporter": "python",
   "pygments_lexer": "ipython3",
   "version": "3.8.5"
  },
  "toc": {
   "base_numbering": 1,
   "nav_menu": {},
   "number_sections": true,
   "sideBar": true,
   "skip_h1_title": false,
   "title_cell": "Table of Contents",
   "title_sidebar": "Contents",
   "toc_cell": false,
   "toc_position": {
    "height": "calc(100% - 180px)",
    "left": "10px",
    "top": "150px",
    "width": "197.167px"
   },
   "toc_section_display": true,
   "toc_window_display": true
  }
 },
 "nbformat": 4,
 "nbformat_minor": 1
}
