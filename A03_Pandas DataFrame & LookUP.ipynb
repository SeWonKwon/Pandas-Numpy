{
 "cells": [
  {
   "cell_type": "markdown",
   "metadata": {},
   "source": [
    "<a href='https://github.com/SeWonKwon' ><div> <img src ='https://slid-capture.s3.ap-northeast-2.amazonaws.com/public/image_upload/6556674324ed41a289a354258718280d/964e5a8b-75ad-41fc-ae75-0ca66d06fbc7.png' align='left' /> </div></a>\n",
    "\n"
   ]
  },
  {
   "cell_type": "code",
   "execution_count": 1,
   "metadata": {
    "ExecuteTime": {
     "end_time": "2021-08-02T03:49:53.473830Z",
     "start_time": "2021-08-02T03:49:53.126351Z"
    }
   },
   "outputs": [],
   "source": [
    "import numpy as np\n",
    "import pandas as pd"
   ]
  },
  {
   "cell_type": "markdown",
   "metadata": {},
   "source": [
    "DataFrame\n",
    "\n",
    "* 2차원 형태의 자료형이다.\n",
    "* 인덱스, 컬럼, value값으로 이루어져 있다. "
   ]
  },
  {
   "cell_type": "code",
   "execution_count": 2,
   "metadata": {
    "ExecuteTime": {
     "end_time": "2021-08-02T03:49:53.488843Z",
     "start_time": "2021-08-02T03:49:53.474831Z"
    }
   },
   "outputs": [],
   "source": [
    "import pandas as pd\n",
    "import numpy as np"
   ]
  },
  {
   "cell_type": "markdown",
   "metadata": {},
   "source": [
    "# 선언"
   ]
  },
  {
   "cell_type": "markdown",
   "metadata": {},
   "source": [
    "## from List"
   ]
  },
  {
   "cell_type": "markdown",
   "metadata": {},
   "source": [
    "- by List : 리스트1 + 리스트2 +... + 컬럼 이름 = 데이타 프레임"
   ]
  },
  {
   "cell_type": "code",
   "execution_count": 3,
   "metadata": {
    "ExecuteTime": {
     "end_time": "2021-08-02T03:49:53.503857Z",
     "start_time": "2021-08-02T03:49:53.489844Z"
    }
   },
   "outputs": [
    {
     "data": {
      "text/html": [
       "<div>\n",
       "<style scoped>\n",
       "    .dataframe tbody tr th:only-of-type {\n",
       "        vertical-align: middle;\n",
       "    }\n",
       "\n",
       "    .dataframe tbody tr th {\n",
       "        vertical-align: top;\n",
       "    }\n",
       "\n",
       "    .dataframe thead th {\n",
       "        text-align: right;\n",
       "    }\n",
       "</style>\n",
       "<table border=\"1\" class=\"dataframe\">\n",
       "  <thead>\n",
       "    <tr style=\"text-align: right;\">\n",
       "      <th></th>\n",
       "      <th>0</th>\n",
       "      <th>1</th>\n",
       "      <th>2</th>\n",
       "      <th>3</th>\n",
       "      <th>4</th>\n",
       "    </tr>\n",
       "  </thead>\n",
       "  <tbody>\n",
       "    <tr>\n",
       "      <th>0</th>\n",
       "      <td>1</td>\n",
       "      <td>3</td>\n",
       "      <td>4</td>\n",
       "      <td>5</td>\n",
       "      <td>6</td>\n",
       "    </tr>\n",
       "    <tr>\n",
       "      <th>1</th>\n",
       "      <td>3</td>\n",
       "      <td>2</td>\n",
       "      <td>1</td>\n",
       "      <td>1</td>\n",
       "      <td>1</td>\n",
       "    </tr>\n",
       "  </tbody>\n",
       "</table>\n",
       "</div>"
      ],
      "text/plain": [
       "   0  1  2  3  4\n",
       "0  1  3  4  5  6\n",
       "1  3  2  1  1  1"
      ]
     },
     "execution_count": 3,
     "metadata": {},
     "output_type": "execute_result"
    }
   ],
   "source": [
    "a = [1, 3, 4, 5, 6]\n",
    "b = [3, 2, 1, 1, 1]\n",
    "pd.DataFrame([a,b])"
   ]
  },
  {
   "cell_type": "code",
   "execution_count": 4,
   "metadata": {
    "ExecuteTime": {
     "end_time": "2021-08-02T03:49:53.518869Z",
     "start_time": "2021-08-02T03:49:53.504858Z"
    },
    "scrolled": true
   },
   "outputs": [
    {
     "data": {
      "text/html": [
       "<div>\n",
       "<style scoped>\n",
       "    .dataframe tbody tr th:only-of-type {\n",
       "        vertical-align: middle;\n",
       "    }\n",
       "\n",
       "    .dataframe tbody tr th {\n",
       "        vertical-align: top;\n",
       "    }\n",
       "\n",
       "    .dataframe thead th {\n",
       "        text-align: right;\n",
       "    }\n",
       "</style>\n",
       "<table border=\"1\" class=\"dataframe\">\n",
       "  <thead>\n",
       "    <tr style=\"text-align: right;\">\n",
       "      <th></th>\n",
       "      <th>a</th>\n",
       "      <th>b</th>\n",
       "    </tr>\n",
       "  </thead>\n",
       "  <tbody>\n",
       "    <tr>\n",
       "      <th>0</th>\n",
       "      <td>1</td>\n",
       "      <td>3</td>\n",
       "    </tr>\n",
       "    <tr>\n",
       "      <th>1</th>\n",
       "      <td>3</td>\n",
       "      <td>2</td>\n",
       "    </tr>\n",
       "    <tr>\n",
       "      <th>2</th>\n",
       "      <td>4</td>\n",
       "      <td>1</td>\n",
       "    </tr>\n",
       "    <tr>\n",
       "      <th>3</th>\n",
       "      <td>5</td>\n",
       "      <td>1</td>\n",
       "    </tr>\n",
       "    <tr>\n",
       "      <th>4</th>\n",
       "      <td>6</td>\n",
       "      <td>1</td>\n",
       "    </tr>\n",
       "  </tbody>\n",
       "</table>\n",
       "</div>"
      ],
      "text/plain": [
       "   a  b\n",
       "0  1  3\n",
       "1  3  2\n",
       "2  4  1\n",
       "3  5  1\n",
       "4  6  1"
      ]
     },
     "execution_count": 4,
     "metadata": {},
     "output_type": "execute_result"
    }
   ],
   "source": [
    "pd.DataFrame({'a':a, 'b':b})"
   ]
  },
  {
   "cell_type": "code",
   "execution_count": 5,
   "metadata": {
    "ExecuteTime": {
     "end_time": "2021-08-02T03:49:53.533884Z",
     "start_time": "2021-08-02T03:49:53.519870Z"
    }
   },
   "outputs": [
    {
     "data": {
      "text/html": [
       "<div>\n",
       "<style scoped>\n",
       "    .dataframe tbody tr th:only-of-type {\n",
       "        vertical-align: middle;\n",
       "    }\n",
       "\n",
       "    .dataframe tbody tr th {\n",
       "        vertical-align: top;\n",
       "    }\n",
       "\n",
       "    .dataframe thead th {\n",
       "        text-align: right;\n",
       "    }\n",
       "</style>\n",
       "<table border=\"1\" class=\"dataframe\">\n",
       "  <thead>\n",
       "    <tr style=\"text-align: right;\">\n",
       "      <th></th>\n",
       "      <th>0</th>\n",
       "      <th>1</th>\n",
       "      <th>2</th>\n",
       "    </tr>\n",
       "  </thead>\n",
       "  <tbody>\n",
       "    <tr>\n",
       "      <th>0</th>\n",
       "      <td>1</td>\n",
       "      <td>2</td>\n",
       "      <td>3</td>\n",
       "    </tr>\n",
       "    <tr>\n",
       "      <th>1</th>\n",
       "      <td>4</td>\n",
       "      <td>5</td>\n",
       "      <td>6</td>\n",
       "    </tr>\n",
       "    <tr>\n",
       "      <th>2</th>\n",
       "      <td>7</td>\n",
       "      <td>8</td>\n",
       "      <td>9</td>\n",
       "    </tr>\n",
       "    <tr>\n",
       "      <th>3</th>\n",
       "      <td>10</td>\n",
       "      <td>11</td>\n",
       "      <td>12</td>\n",
       "    </tr>\n",
       "    <tr>\n",
       "      <th>4</th>\n",
       "      <td>13</td>\n",
       "      <td>14</td>\n",
       "      <td>15</td>\n",
       "    </tr>\n",
       "  </tbody>\n",
       "</table>\n",
       "</div>"
      ],
      "text/plain": [
       "    0   1   2\n",
       "0   1   2   3\n",
       "1   4   5   6\n",
       "2   7   8   9\n",
       "3  10  11  12\n",
       "4  13  14  15"
      ]
     },
     "execution_count": 5,
     "metadata": {},
     "output_type": "execute_result"
    }
   ],
   "source": [
    "list_data = [[1,2,3],[4,5,6], [7,8,9],[10,11,12],[13,14,15]]\n",
    "pd.DataFrame(list_data)"
   ]
  },
  {
   "cell_type": "markdown",
   "metadata": {},
   "source": [
    "## from dict "
   ]
  },
  {
   "cell_type": "code",
   "execution_count": 6,
   "metadata": {
    "ExecuteTime": {
     "end_time": "2021-08-02T03:49:53.548898Z",
     "start_time": "2021-08-02T03:49:53.534885Z"
    },
    "scrolled": false
   },
   "outputs": [
    {
     "data": {
      "text/html": [
       "<div>\n",
       "<style scoped>\n",
       "    .dataframe tbody tr th:only-of-type {\n",
       "        vertical-align: middle;\n",
       "    }\n",
       "\n",
       "    .dataframe tbody tr th {\n",
       "        vertical-align: top;\n",
       "    }\n",
       "\n",
       "    .dataframe thead th {\n",
       "        text-align: right;\n",
       "    }\n",
       "</style>\n",
       "<table border=\"1\" class=\"dataframe\">\n",
       "  <thead>\n",
       "    <tr style=\"text-align: right;\">\n",
       "      <th></th>\n",
       "      <th>A</th>\n",
       "      <th>B</th>\n",
       "      <th>D</th>\n",
       "      <th>C</th>\n",
       "    </tr>\n",
       "  </thead>\n",
       "  <tbody>\n",
       "    <tr>\n",
       "      <th>0</th>\n",
       "      <td>2</td>\n",
       "      <td>4</td>\n",
       "      <td>3.0</td>\n",
       "      <td>NaN</td>\n",
       "    </tr>\n",
       "    <tr>\n",
       "      <th>1</th>\n",
       "      <td>4</td>\n",
       "      <td>5</td>\n",
       "      <td>NaN</td>\n",
       "      <td>7.0</td>\n",
       "    </tr>\n",
       "  </tbody>\n",
       "</table>\n",
       "</div>"
      ],
      "text/plain": [
       "   A  B    D    C\n",
       "0  2  4  3.0  NaN\n",
       "1  4  5  NaN  7.0"
      ]
     },
     "execution_count": 6,
     "metadata": {},
     "output_type": "execute_result"
    }
   ],
   "source": [
    "pd.DataFrame([{'A':2, 'B':4, 'D':3},{'A':4, 'B':5, 'C':7}]) "
   ]
  },
  {
   "cell_type": "code",
   "execution_count": 7,
   "metadata": {
    "ExecuteTime": {
     "end_time": "2021-08-02T03:49:53.563912Z",
     "start_time": "2021-08-02T03:49:53.549898Z"
    }
   },
   "outputs": [
    {
     "data": {
      "text/html": [
       "<div>\n",
       "<style scoped>\n",
       "    .dataframe tbody tr th:only-of-type {\n",
       "        vertical-align: middle;\n",
       "    }\n",
       "\n",
       "    .dataframe tbody tr th {\n",
       "        vertical-align: top;\n",
       "    }\n",
       "\n",
       "    .dataframe thead th {\n",
       "        text-align: right;\n",
       "    }\n",
       "</style>\n",
       "<table border=\"1\" class=\"dataframe\">\n",
       "  <thead>\n",
       "    <tr style=\"text-align: right;\">\n",
       "      <th></th>\n",
       "      <th>c0</th>\n",
       "      <th>c1</th>\n",
       "      <th>c2</th>\n",
       "      <th>c3</th>\n",
       "      <th>c4</th>\n",
       "    </tr>\n",
       "  </thead>\n",
       "  <tbody>\n",
       "    <tr>\n",
       "      <th>0</th>\n",
       "      <td>1</td>\n",
       "      <td>4</td>\n",
       "      <td>7</td>\n",
       "      <td>10</td>\n",
       "      <td>13</td>\n",
       "    </tr>\n",
       "    <tr>\n",
       "      <th>1</th>\n",
       "      <td>2</td>\n",
       "      <td>5</td>\n",
       "      <td>8</td>\n",
       "      <td>11</td>\n",
       "      <td>14</td>\n",
       "    </tr>\n",
       "    <tr>\n",
       "      <th>2</th>\n",
       "      <td>3</td>\n",
       "      <td>6</td>\n",
       "      <td>9</td>\n",
       "      <td>12</td>\n",
       "      <td>15</td>\n",
       "    </tr>\n",
       "  </tbody>\n",
       "</table>\n",
       "</div>"
      ],
      "text/plain": [
       "   c0  c1  c2  c3  c4\n",
       "0   1   4   7  10  13\n",
       "1   2   5   8  11  14\n",
       "2   3   6   9  12  15"
      ]
     },
     "execution_count": 7,
     "metadata": {},
     "output_type": "execute_result"
    }
   ],
   "source": [
    "dict_data = {'c0':[1,2,3],'c1':[4,5,6],'c2' : [7,8,9],'c3' : [10,11,12], 'c4':[13,14,15]}\n",
    "pd.DataFrame(dict_data)"
   ]
  },
  {
   "cell_type": "markdown",
   "metadata": {},
   "source": [
    "## Series 와 비교를 해보자면 "
   ]
  },
  {
   "cell_type": "markdown",
   "metadata": {},
   "source": [
    "* Series 는 1차원이기 때문에 key 값이 1개라면 Series가 된다. \n",
    "* DataFrame 은 2차원이기 때문에 key 값이 2개가 필요하다.\n",
    "    - 만약 키 값이 1개면, 그 키값은 column에 우선 할당되고, 인덱스는 자동 설정된다. "
   ]
  },
  {
   "cell_type": "code",
   "execution_count": 8,
   "metadata": {
    "ExecuteTime": {
     "end_time": "2021-08-02T03:49:53.578925Z",
     "start_time": "2021-08-02T03:49:53.564912Z"
    }
   },
   "outputs": [],
   "source": [
    "male_tuple = {'서울특별시': 4732275,\n",
    "              '부산광역시': 1668618,\n",
    "              '인천광역시': 1476813,\n",
    "              '대구광역시': 1198815,\n",
    "              '대전광역시': 734441,\n",
    "              '광주광역시': 720060}\n",
    "female_tuple = {'서울특별시': 4988571,\n",
    "                '부산광역시': 1735805,\n",
    "                '인천광역시': 1470404,\n",
    "                '대구광역시': 1229139,\n",
    "                '대전광역시': 736599,\n",
    "                '광주광역시': 734988}"
   ]
  },
  {
   "cell_type": "code",
   "execution_count": 9,
   "metadata": {
    "ExecuteTime": {
     "end_time": "2021-08-02T03:49:53.593939Z",
     "start_time": "2021-08-02T03:49:53.579926Z"
    }
   },
   "outputs": [
    {
     "data": {
      "text/plain": [
       "서울특별시    4732275\n",
       "부산광역시    1668618\n",
       "인천광역시    1476813\n",
       "대구광역시    1198815\n",
       "대전광역시     734441\n",
       "광주광역시     720060\n",
       "dtype: int64"
      ]
     },
     "execution_count": 9,
     "metadata": {},
     "output_type": "execute_result"
    }
   ],
   "source": [
    "pd.Series(male_tuple)"
   ]
  },
  {
   "cell_type": "code",
   "execution_count": 10,
   "metadata": {
    "ExecuteTime": {
     "end_time": "2021-08-02T03:49:53.608951Z",
     "start_time": "2021-08-02T03:49:53.594940Z"
    }
   },
   "outputs": [
    {
     "data": {
      "text/plain": [
       "Index(['서울특별시', '부산광역시', '인천광역시', '대구광역시', '대전광역시', '광주광역시'], dtype='object')"
      ]
     },
     "execution_count": 10,
     "metadata": {},
     "output_type": "execute_result"
    }
   ],
   "source": [
    "pd.Series(male_tuple).index"
   ]
  },
  {
   "cell_type": "code",
   "execution_count": 11,
   "metadata": {
    "ExecuteTime": {
     "end_time": "2021-08-02T03:49:53.623966Z",
     "start_time": "2021-08-02T03:49:53.609952Z"
    }
   },
   "outputs": [
    {
     "data": {
      "text/plain": [
       "0    {'서울특별시': 4732275, '부산광역시': 1668618, '인천광역시': ...\n",
       "1    {'서울특별시': 4988571, '부산광역시': 1735805, '인천광역시': ...\n",
       "dtype: object"
      ]
     },
     "execution_count": 11,
     "metadata": {},
     "output_type": "execute_result"
    }
   ],
   "source": [
    "pd.Series([male_tuple,female_tuple])"
   ]
  },
  {
   "cell_type": "code",
   "execution_count": 12,
   "metadata": {
    "ExecuteTime": {
     "end_time": "2021-08-02T03:49:53.638978Z",
     "start_time": "2021-08-02T03:49:53.624968Z"
    },
    "scrolled": true
   },
   "outputs": [
    {
     "data": {
      "text/plain": [
       "RangeIndex(start=0, stop=2, step=1)"
      ]
     },
     "execution_count": 12,
     "metadata": {},
     "output_type": "execute_result"
    }
   ],
   "source": [
    "pd.Series([male_tuple,female_tuple]).index"
   ]
  },
  {
   "cell_type": "code",
   "execution_count": 13,
   "metadata": {
    "ExecuteTime": {
     "end_time": "2021-08-02T03:49:53.653992Z",
     "start_time": "2021-08-02T03:49:53.639979Z"
    }
   },
   "outputs": [
    {
     "data": {
      "text/html": [
       "<div>\n",
       "<style scoped>\n",
       "    .dataframe tbody tr th:only-of-type {\n",
       "        vertical-align: middle;\n",
       "    }\n",
       "\n",
       "    .dataframe tbody tr th {\n",
       "        vertical-align: top;\n",
       "    }\n",
       "\n",
       "    .dataframe thead th {\n",
       "        text-align: right;\n",
       "    }\n",
       "</style>\n",
       "<table border=\"1\" class=\"dataframe\">\n",
       "  <thead>\n",
       "    <tr style=\"text-align: right;\">\n",
       "      <th></th>\n",
       "      <th>서울특별시</th>\n",
       "      <th>부산광역시</th>\n",
       "      <th>인천광역시</th>\n",
       "      <th>대구광역시</th>\n",
       "      <th>대전광역시</th>\n",
       "      <th>광주광역시</th>\n",
       "    </tr>\n",
       "  </thead>\n",
       "  <tbody>\n",
       "    <tr>\n",
       "      <th>0</th>\n",
       "      <td>4732275</td>\n",
       "      <td>1668618</td>\n",
       "      <td>1476813</td>\n",
       "      <td>1198815</td>\n",
       "      <td>734441</td>\n",
       "      <td>720060</td>\n",
       "    </tr>\n",
       "    <tr>\n",
       "      <th>1</th>\n",
       "      <td>4988571</td>\n",
       "      <td>1735805</td>\n",
       "      <td>1470404</td>\n",
       "      <td>1229139</td>\n",
       "      <td>736599</td>\n",
       "      <td>734988</td>\n",
       "    </tr>\n",
       "  </tbody>\n",
       "</table>\n",
       "</div>"
      ],
      "text/plain": [
       "     서울특별시    부산광역시    인천광역시    대구광역시   대전광역시   광주광역시\n",
       "0  4732275  1668618  1476813  1198815  734441  720060\n",
       "1  4988571  1735805  1470404  1229139  736599  734988"
      ]
     },
     "execution_count": 13,
     "metadata": {},
     "output_type": "execute_result"
    }
   ],
   "source": [
    "pd.DataFrame([male_tuple,female_tuple])"
   ]
  },
  {
   "cell_type": "code",
   "execution_count": 14,
   "metadata": {
    "ExecuteTime": {
     "end_time": "2021-08-02T03:49:53.669006Z",
     "start_time": "2021-08-02T03:49:53.654993Z"
    }
   },
   "outputs": [
    {
     "data": {
      "text/plain": [
       "RangeIndex(start=0, stop=2, step=1)"
      ]
     },
     "execution_count": 14,
     "metadata": {},
     "output_type": "execute_result"
    }
   ],
   "source": [
    "pd.DataFrame([male_tuple,female_tuple]).index"
   ]
  },
  {
   "cell_type": "markdown",
   "metadata": {},
   "source": [
    "## from Series"
   ]
  },
  {
   "cell_type": "markdown",
   "metadata": {},
   "source": [
    "- by Series :시리즈1 + 시리즈2 + 시리즈3 + 시리즈4 = 데이타프레임"
   ]
  },
  {
   "cell_type": "code",
   "execution_count": 15,
   "metadata": {
    "ExecuteTime": {
     "end_time": "2021-08-02T03:49:53.684020Z",
     "start_time": "2021-08-02T03:49:53.670008Z"
    }
   },
   "outputs": [],
   "source": [
    "male = pd.Series(male_tuple)\n",
    "female = pd.Series(female_tuple)"
   ]
  },
  {
   "cell_type": "markdown",
   "metadata": {},
   "source": [
    "* 아래와 같이 되는 이유는 각각의 value 값에 대응한 시리즈의 index가 컬럼으로 바뀌기 때문이다. \n",
    "    - 만약 키 값이 1개면, 그 키값은 column에 우선 할당되고, 인덱스는 자동 설정된다."
   ]
  },
  {
   "cell_type": "code",
   "execution_count": 16,
   "metadata": {
    "ExecuteTime": {
     "end_time": "2021-08-02T03:49:53.699042Z",
     "start_time": "2021-08-02T03:49:53.685021Z"
    }
   },
   "outputs": [
    {
     "data": {
      "text/html": [
       "<div>\n",
       "<style scoped>\n",
       "    .dataframe tbody tr th:only-of-type {\n",
       "        vertical-align: middle;\n",
       "    }\n",
       "\n",
       "    .dataframe tbody tr th {\n",
       "        vertical-align: top;\n",
       "    }\n",
       "\n",
       "    .dataframe thead th {\n",
       "        text-align: right;\n",
       "    }\n",
       "</style>\n",
       "<table border=\"1\" class=\"dataframe\">\n",
       "  <thead>\n",
       "    <tr style=\"text-align: right;\">\n",
       "      <th></th>\n",
       "      <th>서울특별시</th>\n",
       "      <th>부산광역시</th>\n",
       "      <th>인천광역시</th>\n",
       "      <th>대구광역시</th>\n",
       "      <th>대전광역시</th>\n",
       "      <th>광주광역시</th>\n",
       "    </tr>\n",
       "  </thead>\n",
       "  <tbody>\n",
       "    <tr>\n",
       "      <th>0</th>\n",
       "      <td>4732275</td>\n",
       "      <td>1668618</td>\n",
       "      <td>1476813</td>\n",
       "      <td>1198815</td>\n",
       "      <td>734441</td>\n",
       "      <td>720060</td>\n",
       "    </tr>\n",
       "    <tr>\n",
       "      <th>1</th>\n",
       "      <td>4988571</td>\n",
       "      <td>1735805</td>\n",
       "      <td>1470404</td>\n",
       "      <td>1229139</td>\n",
       "      <td>736599</td>\n",
       "      <td>734988</td>\n",
       "    </tr>\n",
       "  </tbody>\n",
       "</table>\n",
       "</div>"
      ],
      "text/plain": [
       "     서울특별시    부산광역시    인천광역시    대구광역시   대전광역시   광주광역시\n",
       "0  4732275  1668618  1476813  1198815  734441  720060\n",
       "1  4988571  1735805  1470404  1229139  736599  734988"
      ]
     },
     "execution_count": 16,
     "metadata": {},
     "output_type": "execute_result"
    }
   ],
   "source": [
    "pd.DataFrame([male, female])"
   ]
  },
  {
   "cell_type": "markdown",
   "metadata": {},
   "source": [
    "간단하게 전치를 해서 컬럼과 인덱스를 바꿀수도 있지만,"
   ]
  },
  {
   "cell_type": "code",
   "execution_count": 17,
   "metadata": {
    "ExecuteTime": {
     "end_time": "2021-08-02T03:49:53.714058Z",
     "start_time": "2021-08-02T03:49:53.700045Z"
    }
   },
   "outputs": [
    {
     "data": {
      "text/html": [
       "<div>\n",
       "<style scoped>\n",
       "    .dataframe tbody tr th:only-of-type {\n",
       "        vertical-align: middle;\n",
       "    }\n",
       "\n",
       "    .dataframe tbody tr th {\n",
       "        vertical-align: top;\n",
       "    }\n",
       "\n",
       "    .dataframe thead th {\n",
       "        text-align: right;\n",
       "    }\n",
       "</style>\n",
       "<table border=\"1\" class=\"dataframe\">\n",
       "  <thead>\n",
       "    <tr style=\"text-align: right;\">\n",
       "      <th></th>\n",
       "      <th>0</th>\n",
       "      <th>1</th>\n",
       "    </tr>\n",
       "  </thead>\n",
       "  <tbody>\n",
       "    <tr>\n",
       "      <th>서울특별시</th>\n",
       "      <td>4732275</td>\n",
       "      <td>4988571</td>\n",
       "    </tr>\n",
       "    <tr>\n",
       "      <th>부산광역시</th>\n",
       "      <td>1668618</td>\n",
       "      <td>1735805</td>\n",
       "    </tr>\n",
       "    <tr>\n",
       "      <th>인천광역시</th>\n",
       "      <td>1476813</td>\n",
       "      <td>1470404</td>\n",
       "    </tr>\n",
       "    <tr>\n",
       "      <th>대구광역시</th>\n",
       "      <td>1198815</td>\n",
       "      <td>1229139</td>\n",
       "    </tr>\n",
       "    <tr>\n",
       "      <th>대전광역시</th>\n",
       "      <td>734441</td>\n",
       "      <td>736599</td>\n",
       "    </tr>\n",
       "    <tr>\n",
       "      <th>광주광역시</th>\n",
       "      <td>720060</td>\n",
       "      <td>734988</td>\n",
       "    </tr>\n",
       "  </tbody>\n",
       "</table>\n",
       "</div>"
      ],
      "text/plain": [
       "             0        1\n",
       "서울특별시  4732275  4988571\n",
       "부산광역시  1668618  1735805\n",
       "인천광역시  1476813  1470404\n",
       "대구광역시  1198815  1229139\n",
       "대전광역시   734441   736599\n",
       "광주광역시   720060   734988"
      ]
     },
     "execution_count": 17,
     "metadata": {},
     "output_type": "execute_result"
    }
   ],
   "source": [
    "pd.DataFrame([male, female]).T"
   ]
  },
  {
   "cell_type": "markdown",
   "metadata": {},
   "source": [
    "### 아래와 같이 컬럼값을 지정해서 Series의 index를 DataFrame의 키값으로 변형할 수 있다. \n",
    "\n",
    "**DataFrame 생성시에 column을 적어주느냐와 안적어주느냐는 큰 차이가 있다.**"
   ]
  },
  {
   "cell_type": "code",
   "execution_count": 18,
   "metadata": {
    "ExecuteTime": {
     "end_time": "2021-08-02T03:49:53.729070Z",
     "start_time": "2021-08-02T03:49:53.715059Z"
    },
    "scrolled": true
   },
   "outputs": [
    {
     "data": {
      "text/html": [
       "<div>\n",
       "<style scoped>\n",
       "    .dataframe tbody tr th:only-of-type {\n",
       "        vertical-align: middle;\n",
       "    }\n",
       "\n",
       "    .dataframe tbody tr th {\n",
       "        vertical-align: top;\n",
       "    }\n",
       "\n",
       "    .dataframe thead th {\n",
       "        text-align: right;\n",
       "    }\n",
       "</style>\n",
       "<table border=\"1\" class=\"dataframe\">\n",
       "  <thead>\n",
       "    <tr style=\"text-align: right;\">\n",
       "      <th></th>\n",
       "      <th>남자인구수</th>\n",
       "      <th>여자인구수</th>\n",
       "    </tr>\n",
       "  </thead>\n",
       "  <tbody>\n",
       "    <tr>\n",
       "      <th>서울특별시</th>\n",
       "      <td>4732275</td>\n",
       "      <td>4988571</td>\n",
       "    </tr>\n",
       "    <tr>\n",
       "      <th>부산광역시</th>\n",
       "      <td>1668618</td>\n",
       "      <td>1735805</td>\n",
       "    </tr>\n",
       "    <tr>\n",
       "      <th>인천광역시</th>\n",
       "      <td>1476813</td>\n",
       "      <td>1470404</td>\n",
       "    </tr>\n",
       "    <tr>\n",
       "      <th>대구광역시</th>\n",
       "      <td>1198815</td>\n",
       "      <td>1229139</td>\n",
       "    </tr>\n",
       "    <tr>\n",
       "      <th>대전광역시</th>\n",
       "      <td>734441</td>\n",
       "      <td>736599</td>\n",
       "    </tr>\n",
       "    <tr>\n",
       "      <th>광주광역시</th>\n",
       "      <td>720060</td>\n",
       "      <td>734988</td>\n",
       "    </tr>\n",
       "  </tbody>\n",
       "</table>\n",
       "</div>"
      ],
      "text/plain": [
       "         남자인구수    여자인구수\n",
       "서울특별시  4732275  4988571\n",
       "부산광역시  1668618  1735805\n",
       "인천광역시  1476813  1470404\n",
       "대구광역시  1198815  1229139\n",
       "대전광역시   734441   736599\n",
       "광주광역시   720060   734988"
      ]
     },
     "execution_count": 18,
     "metadata": {},
     "output_type": "execute_result"
    }
   ],
   "source": [
    "pd.DataFrame({'남자인구수': male, '여자인구수':female})"
   ]
  },
  {
   "cell_type": "markdown",
   "metadata": {},
   "source": [
    "### Series 가 가지는 의미"
   ]
  },
  {
   "cell_type": "code",
   "execution_count": 19,
   "metadata": {
    "ExecuteTime": {
     "end_time": "2021-08-02T03:49:53.744086Z",
     "start_time": "2021-08-02T03:49:53.730071Z"
    }
   },
   "outputs": [
    {
     "data": {
      "text/plain": [
       "(0       php\n",
       " 1    python\n",
       " 2      java\n",
       " 3        c#\n",
       " 4       c++\n",
       " dtype: object,\n",
       " 0    1\n",
       " 1    2\n",
       " 2    3\n",
       " 3    4\n",
       " 4    5\n",
       " dtype: int32)"
      ]
     },
     "execution_count": 19,
     "metadata": {},
     "output_type": "execute_result"
    }
   ],
   "source": [
    "sr1 = sr1 = pd.Series(['php', 'python', 'java', 'c#', 'c++'])\n",
    "sr2 = pd.Series(np.arange(1, 6))\n",
    "sr1, sr2        "
   ]
  },
  {
   "cell_type": "markdown",
   "metadata": {},
   "source": [
    "위와 같이 2개의 시리즈를 생성하고, 아래와 같이 DataFrame을 생성하게 되면"
   ]
  },
  {
   "cell_type": "code",
   "execution_count": 20,
   "metadata": {
    "ExecuteTime": {
     "end_time": "2021-08-02T03:49:53.759099Z",
     "start_time": "2021-08-02T03:49:53.745086Z"
    },
    "scrolled": true
   },
   "outputs": [
    {
     "data": {
      "text/html": [
       "<div>\n",
       "<style scoped>\n",
       "    .dataframe tbody tr th:only-of-type {\n",
       "        vertical-align: middle;\n",
       "    }\n",
       "\n",
       "    .dataframe tbody tr th {\n",
       "        vertical-align: top;\n",
       "    }\n",
       "\n",
       "    .dataframe thead th {\n",
       "        text-align: right;\n",
       "    }\n",
       "</style>\n",
       "<table border=\"1\" class=\"dataframe\">\n",
       "  <thead>\n",
       "    <tr style=\"text-align: right;\">\n",
       "      <th></th>\n",
       "      <th>0</th>\n",
       "    </tr>\n",
       "  </thead>\n",
       "  <tbody>\n",
       "    <tr>\n",
       "      <th>1</th>\n",
       "      <td>python</td>\n",
       "    </tr>\n",
       "    <tr>\n",
       "      <th>2</th>\n",
       "      <td>java</td>\n",
       "    </tr>\n",
       "    <tr>\n",
       "      <th>3</th>\n",
       "      <td>c#</td>\n",
       "    </tr>\n",
       "    <tr>\n",
       "      <th>4</th>\n",
       "      <td>c++</td>\n",
       "    </tr>\n",
       "    <tr>\n",
       "      <th>5</th>\n",
       "      <td>NaN</td>\n",
       "    </tr>\n",
       "  </tbody>\n",
       "</table>\n",
       "</div>"
      ],
      "text/plain": [
       "        0\n",
       "1  python\n",
       "2    java\n",
       "3      c#\n",
       "4     c++\n",
       "5     NaN"
      ]
     },
     "execution_count": 20,
     "metadata": {},
     "output_type": "execute_result"
    }
   ],
   "source": [
    "ser_df = pd.DataFrame(sr1, sr2)\n",
    "ser_df"
   ]
  },
  {
   "cell_type": "markdown",
   "metadata": {},
   "source": [
    "`data = sr1, index=sr2` 가 되는데 sr2의 밸류값에 해당하는 것이 index가 되고 , data의 index가 sr2의 밸류값에 포함 되는것만 불러 오게 된다. "
   ]
  },
  {
   "cell_type": "markdown",
   "metadata": {},
   "source": [
    "## from np.random"
   ]
  },
  {
   "cell_type": "code",
   "execution_count": 21,
   "metadata": {
    "ExecuteTime": {
     "end_time": "2021-08-02T03:49:53.774113Z",
     "start_time": "2021-08-02T03:49:53.760099Z"
    }
   },
   "outputs": [
    {
     "data": {
      "text/html": [
       "<div>\n",
       "<style scoped>\n",
       "    .dataframe tbody tr th:only-of-type {\n",
       "        vertical-align: middle;\n",
       "    }\n",
       "\n",
       "    .dataframe tbody tr th {\n",
       "        vertical-align: top;\n",
       "    }\n",
       "\n",
       "    .dataframe thead th {\n",
       "        text-align: right;\n",
       "    }\n",
       "</style>\n",
       "<table border=\"1\" class=\"dataframe\">\n",
       "  <thead>\n",
       "    <tr style=\"text-align: right;\">\n",
       "      <th></th>\n",
       "      <th>0</th>\n",
       "      <th>1</th>\n",
       "      <th>2</th>\n",
       "      <th>3</th>\n",
       "    </tr>\n",
       "  </thead>\n",
       "  <tbody>\n",
       "    <tr>\n",
       "      <th>0</th>\n",
       "      <td>-1.984623</td>\n",
       "      <td>-0.392690</td>\n",
       "      <td>-0.359347</td>\n",
       "      <td>2.657029</td>\n",
       "    </tr>\n",
       "    <tr>\n",
       "      <th>1</th>\n",
       "      <td>0.550295</td>\n",
       "      <td>0.912160</td>\n",
       "      <td>0.440870</td>\n",
       "      <td>-2.015142</td>\n",
       "    </tr>\n",
       "    <tr>\n",
       "      <th>2</th>\n",
       "      <td>0.315918</td>\n",
       "      <td>0.643219</td>\n",
       "      <td>0.806273</td>\n",
       "      <td>-1.926822</td>\n",
       "    </tr>\n",
       "    <tr>\n",
       "      <th>3</th>\n",
       "      <td>-0.356346</td>\n",
       "      <td>-0.737883</td>\n",
       "      <td>1.966542</td>\n",
       "      <td>-0.773075</td>\n",
       "    </tr>\n",
       "  </tbody>\n",
       "</table>\n",
       "</div>"
      ],
      "text/plain": [
       "          0         1         2         3\n",
       "0 -1.984623 -0.392690 -0.359347  2.657029\n",
       "1  0.550295  0.912160  0.440870 -2.015142\n",
       "2  0.315918  0.643219  0.806273 -1.926822\n",
       "3 -0.356346 -0.737883  1.966542 -0.773075"
      ]
     },
     "execution_count": 21,
     "metadata": {},
     "output_type": "execute_result"
    }
   ],
   "source": [
    "pd.DataFrame(np.random.randn(4,4))"
   ]
  },
  {
   "cell_type": "code",
   "execution_count": 22,
   "metadata": {
    "ExecuteTime": {
     "end_time": "2021-08-02T03:49:53.789124Z",
     "start_time": "2021-08-02T03:49:53.775112Z"
    }
   },
   "outputs": [
    {
     "data": {
      "text/html": [
       "<div>\n",
       "<style scoped>\n",
       "    .dataframe tbody tr th:only-of-type {\n",
       "        vertical-align: middle;\n",
       "    }\n",
       "\n",
       "    .dataframe tbody tr th {\n",
       "        vertical-align: top;\n",
       "    }\n",
       "\n",
       "    .dataframe thead th {\n",
       "        text-align: right;\n",
       "    }\n",
       "</style>\n",
       "<table border=\"1\" class=\"dataframe\">\n",
       "  <thead>\n",
       "    <tr style=\"text-align: right;\">\n",
       "      <th></th>\n",
       "      <th>0</th>\n",
       "      <th>1</th>\n",
       "      <th>2</th>\n",
       "      <th>3</th>\n",
       "      <th>4</th>\n",
       "      <th>5</th>\n",
       "      <th>6</th>\n",
       "    </tr>\n",
       "  </thead>\n",
       "  <tbody>\n",
       "    <tr>\n",
       "      <th>0</th>\n",
       "      <td>2</td>\n",
       "      <td>1</td>\n",
       "      <td>4</td>\n",
       "      <td>1</td>\n",
       "      <td>5</td>\n",
       "      <td>2</td>\n",
       "      <td>4</td>\n",
       "    </tr>\n",
       "    <tr>\n",
       "      <th>1</th>\n",
       "      <td>2</td>\n",
       "      <td>3</td>\n",
       "      <td>6</td>\n",
       "      <td>5</td>\n",
       "      <td>2</td>\n",
       "      <td>2</td>\n",
       "      <td>6</td>\n",
       "    </tr>\n",
       "    <tr>\n",
       "      <th>2</th>\n",
       "      <td>2</td>\n",
       "      <td>4</td>\n",
       "      <td>5</td>\n",
       "      <td>3</td>\n",
       "      <td>6</td>\n",
       "      <td>5</td>\n",
       "      <td>1</td>\n",
       "    </tr>\n",
       "    <tr>\n",
       "      <th>3</th>\n",
       "      <td>1</td>\n",
       "      <td>3</td>\n",
       "      <td>3</td>\n",
       "      <td>2</td>\n",
       "      <td>1</td>\n",
       "      <td>3</td>\n",
       "      <td>3</td>\n",
       "    </tr>\n",
       "    <tr>\n",
       "      <th>4</th>\n",
       "      <td>1</td>\n",
       "      <td>2</td>\n",
       "      <td>5</td>\n",
       "      <td>4</td>\n",
       "      <td>6</td>\n",
       "      <td>5</td>\n",
       "      <td>2</td>\n",
       "    </tr>\n",
       "    <tr>\n",
       "      <th>5</th>\n",
       "      <td>2</td>\n",
       "      <td>4</td>\n",
       "      <td>2</td>\n",
       "      <td>4</td>\n",
       "      <td>2</td>\n",
       "      <td>5</td>\n",
       "      <td>3</td>\n",
       "    </tr>\n",
       "    <tr>\n",
       "      <th>6</th>\n",
       "      <td>1</td>\n",
       "      <td>3</td>\n",
       "      <td>4</td>\n",
       "      <td>1</td>\n",
       "      <td>2</td>\n",
       "      <td>3</td>\n",
       "      <td>2</td>\n",
       "    </tr>\n",
       "  </tbody>\n",
       "</table>\n",
       "</div>"
      ],
      "text/plain": [
       "   0  1  2  3  4  5  6\n",
       "0  2  1  4  1  5  2  4\n",
       "1  2  3  6  5  2  2  6\n",
       "2  2  4  5  3  6  5  1\n",
       "3  1  3  3  2  1  3  3\n",
       "4  1  2  5  4  6  5  2\n",
       "5  2  4  2  4  2  5  3\n",
       "6  1  3  4  1  2  3  2"
      ]
     },
     "execution_count": 22,
     "metadata": {},
     "output_type": "execute_result"
    }
   ],
   "source": [
    "pd.DataFrame(np.random.randint(1, 7, (7,7)))"
   ]
  },
  {
   "cell_type": "code",
   "execution_count": 23,
   "metadata": {
    "ExecuteTime": {
     "end_time": "2021-08-02T03:49:53.804140Z",
     "start_time": "2021-08-02T03:49:53.791126Z"
    },
    "scrolled": true
   },
   "outputs": [
    {
     "data": {
      "text/html": [
       "<div>\n",
       "<style scoped>\n",
       "    .dataframe tbody tr th:only-of-type {\n",
       "        vertical-align: middle;\n",
       "    }\n",
       "\n",
       "    .dataframe tbody tr th {\n",
       "        vertical-align: top;\n",
       "    }\n",
       "\n",
       "    .dataframe thead th {\n",
       "        text-align: right;\n",
       "    }\n",
       "</style>\n",
       "<table border=\"1\" class=\"dataframe\">\n",
       "  <thead>\n",
       "    <tr style=\"text-align: right;\">\n",
       "      <th></th>\n",
       "      <th>0</th>\n",
       "      <th>1</th>\n",
       "      <th>2</th>\n",
       "      <th>3</th>\n",
       "      <th>4</th>\n",
       "      <th>5</th>\n",
       "      <th>6</th>\n",
       "      <th>7</th>\n",
       "      <th>8</th>\n",
       "      <th>9</th>\n",
       "    </tr>\n",
       "  </thead>\n",
       "  <tbody>\n",
       "    <tr>\n",
       "      <th>0</th>\n",
       "      <td>0.419723</td>\n",
       "      <td>0.104804</td>\n",
       "      <td>0.684428</td>\n",
       "      <td>0.740170</td>\n",
       "      <td>0.657245</td>\n",
       "      <td>0.563143</td>\n",
       "      <td>0.419598</td>\n",
       "      <td>0.677526</td>\n",
       "      <td>0.742913</td>\n",
       "      <td>0.886233</td>\n",
       "    </tr>\n",
       "    <tr>\n",
       "      <th>1</th>\n",
       "      <td>0.989313</td>\n",
       "      <td>0.093138</td>\n",
       "      <td>0.262831</td>\n",
       "      <td>0.040905</td>\n",
       "      <td>0.197387</td>\n",
       "      <td>0.884418</td>\n",
       "      <td>0.527986</td>\n",
       "      <td>0.451369</td>\n",
       "      <td>0.201008</td>\n",
       "      <td>0.671032</td>\n",
       "    </tr>\n",
       "    <tr>\n",
       "      <th>2</th>\n",
       "      <td>0.729023</td>\n",
       "      <td>0.669467</td>\n",
       "      <td>0.833627</td>\n",
       "      <td>0.269516</td>\n",
       "      <td>0.866635</td>\n",
       "      <td>0.449915</td>\n",
       "      <td>0.971351</td>\n",
       "      <td>0.855615</td>\n",
       "      <td>0.857492</td>\n",
       "      <td>0.066653</td>\n",
       "    </tr>\n",
       "    <tr>\n",
       "      <th>3</th>\n",
       "      <td>0.496764</td>\n",
       "      <td>0.759909</td>\n",
       "      <td>0.044250</td>\n",
       "      <td>0.709952</td>\n",
       "      <td>0.489423</td>\n",
       "      <td>0.497301</td>\n",
       "      <td>0.315947</td>\n",
       "      <td>0.068404</td>\n",
       "      <td>0.880208</td>\n",
       "      <td>0.463121</td>\n",
       "    </tr>\n",
       "    <tr>\n",
       "      <th>4</th>\n",
       "      <td>0.001131</td>\n",
       "      <td>0.725085</td>\n",
       "      <td>0.375199</td>\n",
       "      <td>0.562328</td>\n",
       "      <td>0.883403</td>\n",
       "      <td>0.293638</td>\n",
       "      <td>0.244081</td>\n",
       "      <td>0.998120</td>\n",
       "      <td>0.455643</td>\n",
       "      <td>0.332824</td>\n",
       "    </tr>\n",
       "    <tr>\n",
       "      <th>5</th>\n",
       "      <td>0.060659</td>\n",
       "      <td>0.385292</td>\n",
       "      <td>0.882077</td>\n",
       "      <td>0.690713</td>\n",
       "      <td>0.717133</td>\n",
       "      <td>0.993262</td>\n",
       "      <td>0.018170</td>\n",
       "      <td>0.146279</td>\n",
       "      <td>0.934091</td>\n",
       "      <td>0.917872</td>\n",
       "    </tr>\n",
       "    <tr>\n",
       "      <th>6</th>\n",
       "      <td>0.681530</td>\n",
       "      <td>0.502894</td>\n",
       "      <td>0.031697</td>\n",
       "      <td>0.485955</td>\n",
       "      <td>0.718183</td>\n",
       "      <td>0.190619</td>\n",
       "      <td>0.002516</td>\n",
       "      <td>0.450647</td>\n",
       "      <td>0.998794</td>\n",
       "      <td>0.294609</td>\n",
       "    </tr>\n",
       "    <tr>\n",
       "      <th>7</th>\n",
       "      <td>0.947050</td>\n",
       "      <td>0.325948</td>\n",
       "      <td>0.106933</td>\n",
       "      <td>0.323214</td>\n",
       "      <td>0.958319</td>\n",
       "      <td>0.870060</td>\n",
       "      <td>0.228520</td>\n",
       "      <td>0.525892</td>\n",
       "      <td>0.510929</td>\n",
       "      <td>0.669550</td>\n",
       "    </tr>\n",
       "    <tr>\n",
       "      <th>8</th>\n",
       "      <td>0.433829</td>\n",
       "      <td>0.860680</td>\n",
       "      <td>0.903867</td>\n",
       "      <td>0.146177</td>\n",
       "      <td>0.502572</td>\n",
       "      <td>0.913498</td>\n",
       "      <td>0.341753</td>\n",
       "      <td>0.628326</td>\n",
       "      <td>0.355221</td>\n",
       "      <td>0.705441</td>\n",
       "    </tr>\n",
       "    <tr>\n",
       "      <th>9</th>\n",
       "      <td>0.213883</td>\n",
       "      <td>0.343974</td>\n",
       "      <td>0.117358</td>\n",
       "      <td>0.408066</td>\n",
       "      <td>0.981450</td>\n",
       "      <td>0.179939</td>\n",
       "      <td>0.404426</td>\n",
       "      <td>0.619486</td>\n",
       "      <td>0.927032</td>\n",
       "      <td>0.560670</td>\n",
       "    </tr>\n",
       "  </tbody>\n",
       "</table>\n",
       "</div>"
      ],
      "text/plain": [
       "          0         1         2         3         4         5         6  \\\n",
       "0  0.419723  0.104804  0.684428  0.740170  0.657245  0.563143  0.419598   \n",
       "1  0.989313  0.093138  0.262831  0.040905  0.197387  0.884418  0.527986   \n",
       "2  0.729023  0.669467  0.833627  0.269516  0.866635  0.449915  0.971351   \n",
       "3  0.496764  0.759909  0.044250  0.709952  0.489423  0.497301  0.315947   \n",
       "4  0.001131  0.725085  0.375199  0.562328  0.883403  0.293638  0.244081   \n",
       "5  0.060659  0.385292  0.882077  0.690713  0.717133  0.993262  0.018170   \n",
       "6  0.681530  0.502894  0.031697  0.485955  0.718183  0.190619  0.002516   \n",
       "7  0.947050  0.325948  0.106933  0.323214  0.958319  0.870060  0.228520   \n",
       "8  0.433829  0.860680  0.903867  0.146177  0.502572  0.913498  0.341753   \n",
       "9  0.213883  0.343974  0.117358  0.408066  0.981450  0.179939  0.404426   \n",
       "\n",
       "          7         8         9  \n",
       "0  0.677526  0.742913  0.886233  \n",
       "1  0.451369  0.201008  0.671032  \n",
       "2  0.855615  0.857492  0.066653  \n",
       "3  0.068404  0.880208  0.463121  \n",
       "4  0.998120  0.455643  0.332824  \n",
       "5  0.146279  0.934091  0.917872  \n",
       "6  0.450647  0.998794  0.294609  \n",
       "7  0.525892  0.510929  0.669550  \n",
       "8  0.628326  0.355221  0.705441  \n",
       "9  0.619486  0.927032  0.560670  "
      ]
     },
     "execution_count": 23,
     "metadata": {},
     "output_type": "execute_result"
    }
   ],
   "source": [
    "nrows, ncols = 10, 10\n",
    "df1, df2, df3, df4 = (pd.DataFrame(np.random.rand(nrows, ncols)) for i in range(4))\n",
    "df3"
   ]
  },
  {
   "cell_type": "markdown",
   "metadata": {},
   "source": [
    "## OrderedDict로 데이터프레임 생성하기\n",
    "OrderedDict 자료구조로 데이터프레임을 생성하면, 컬럼의 순서가 뒤바뀌지 않습니다."
   ]
  },
  {
   "cell_type": "code",
   "execution_count": 24,
   "metadata": {
    "ExecuteTime": {
     "end_time": "2021-08-02T03:49:53.819152Z",
     "start_time": "2021-08-02T03:49:53.805141Z"
    }
   },
   "outputs": [],
   "source": [
    "from collections import OrderedDict"
   ]
  },
  {
   "cell_type": "code",
   "execution_count": 25,
   "metadata": {
    "ExecuteTime": {
     "end_time": "2021-08-02T03:49:53.834167Z",
     "start_time": "2021-08-02T03:49:53.820153Z"
    }
   },
   "outputs": [
    {
     "data": {
      "text/html": [
       "<div>\n",
       "<style scoped>\n",
       "    .dataframe tbody tr th:only-of-type {\n",
       "        vertical-align: middle;\n",
       "    }\n",
       "\n",
       "    .dataframe tbody tr th {\n",
       "        vertical-align: top;\n",
       "    }\n",
       "\n",
       "    .dataframe thead th {\n",
       "        text-align: right;\n",
       "    }\n",
       "</style>\n",
       "<table border=\"1\" class=\"dataframe\">\n",
       "  <thead>\n",
       "    <tr style=\"text-align: right;\">\n",
       "      <th></th>\n",
       "      <th>name</th>\n",
       "      <th>age</th>\n",
       "      <th>job</th>\n",
       "    </tr>\n",
       "  </thead>\n",
       "  <tbody>\n",
       "    <tr>\n",
       "      <th>0</th>\n",
       "      <td>John</td>\n",
       "      <td>20</td>\n",
       "      <td>student</td>\n",
       "    </tr>\n",
       "    <tr>\n",
       "      <th>1</th>\n",
       "      <td>Jenny</td>\n",
       "      <td>30</td>\n",
       "      <td>developer</td>\n",
       "    </tr>\n",
       "    <tr>\n",
       "      <th>2</th>\n",
       "      <td>Nate</td>\n",
       "      <td>30</td>\n",
       "      <td>teacher</td>\n",
       "    </tr>\n",
       "  </tbody>\n",
       "</table>\n",
       "</div>"
      ],
      "text/plain": [
       "    name  age        job\n",
       "0   John   20    student\n",
       "1  Jenny   30  developer\n",
       "2   Nate   30    teacher"
      ]
     },
     "execution_count": 25,
     "metadata": {},
     "output_type": "execute_result"
    }
   ],
   "source": [
    "friend_ordered_dict = OrderedDict([ ('name', ['John', 'Jenny', 'Nate']),\n",
    "          ('age', [20, 30, 30]),\n",
    "          ('job', ['student', 'developer', 'teacher']) ] )\n",
    "df = pd.DataFrame.from_dict(friend_ordered_dict)\n",
    "df.head()"
   ]
  },
  {
   "cell_type": "markdown",
   "metadata": {},
   "source": [
    "## from other sauce\n",
    "\n",
    "* pd.read_csv 등등 수많은 sauce( html, json, 등등)"
   ]
  },
  {
   "cell_type": "markdown",
   "metadata": {},
   "source": [
    "## from other DataFrame"
   ]
  },
  {
   "cell_type": "markdown",
   "metadata": {},
   "source": [
    "- by other dataframe's columns : 컬럼1 + 컬럼2  +...= 데이타 프레임 \n",
    "- by other dataframe's columns : dfA 컬럼 1 + dfB 컬럼 2   +...= 데이타 프레임"
   ]
  },
  {
   "cell_type": "code",
   "execution_count": 26,
   "metadata": {
    "ExecuteTime": {
     "end_time": "2021-08-02T03:49:53.849181Z",
     "start_time": "2021-08-02T03:49:53.835168Z"
    }
   },
   "outputs": [],
   "source": [
    "df1 = pd.DataFrame(np.random.randn(5,3), index=pd.date_range('01/02/2014',periods=5,freq='D'), columns=['a','b','c'] )\n",
    "df2 = pd.DataFrame(np.random.randn(8,3), index=pd.date_range('01/01/2014',periods=8,freq='D'), columns=['a','b','c'] )"
   ]
  },
  {
   "cell_type": "code",
   "execution_count": 27,
   "metadata": {
    "ExecuteTime": {
     "end_time": "2021-08-02T03:49:53.864193Z",
     "start_time": "2021-08-02T03:49:53.850182Z"
    }
   },
   "outputs": [
    {
     "data": {
      "text/html": [
       "<div>\n",
       "<style scoped>\n",
       "    .dataframe tbody tr th:only-of-type {\n",
       "        vertical-align: middle;\n",
       "    }\n",
       "\n",
       "    .dataframe tbody tr th {\n",
       "        vertical-align: top;\n",
       "    }\n",
       "\n",
       "    .dataframe thead th {\n",
       "        text-align: right;\n",
       "    }\n",
       "</style>\n",
       "<table border=\"1\" class=\"dataframe\">\n",
       "  <thead>\n",
       "    <tr style=\"text-align: right;\">\n",
       "      <th></th>\n",
       "      <th>a</th>\n",
       "      <th>b</th>\n",
       "      <th>c</th>\n",
       "    </tr>\n",
       "  </thead>\n",
       "  <tbody>\n",
       "    <tr>\n",
       "      <th>2014-01-02</th>\n",
       "      <td>-0.637262</td>\n",
       "      <td>0.173798</td>\n",
       "      <td>1.095872</td>\n",
       "    </tr>\n",
       "    <tr>\n",
       "      <th>2014-01-03</th>\n",
       "      <td>0.067398</td>\n",
       "      <td>1.222855</td>\n",
       "      <td>-3.142215</td>\n",
       "    </tr>\n",
       "    <tr>\n",
       "      <th>2014-01-04</th>\n",
       "      <td>-0.288442</td>\n",
       "      <td>-0.755362</td>\n",
       "      <td>1.711627</td>\n",
       "    </tr>\n",
       "    <tr>\n",
       "      <th>2014-01-05</th>\n",
       "      <td>-0.013729</td>\n",
       "      <td>-2.050322</td>\n",
       "      <td>-0.776874</td>\n",
       "    </tr>\n",
       "    <tr>\n",
       "      <th>2014-01-06</th>\n",
       "      <td>1.098360</td>\n",
       "      <td>1.365967</td>\n",
       "      <td>0.014158</td>\n",
       "    </tr>\n",
       "  </tbody>\n",
       "</table>\n",
       "</div>"
      ],
      "text/plain": [
       "                   a         b         c\n",
       "2014-01-02 -0.637262  0.173798  1.095872\n",
       "2014-01-03  0.067398  1.222855 -3.142215\n",
       "2014-01-04 -0.288442 -0.755362  1.711627\n",
       "2014-01-05 -0.013729 -2.050322 -0.776874\n",
       "2014-01-06  1.098360  1.365967  0.014158"
      ]
     },
     "execution_count": 27,
     "metadata": {},
     "output_type": "execute_result"
    }
   ],
   "source": [
    "df1"
   ]
  },
  {
   "cell_type": "code",
   "execution_count": 28,
   "metadata": {
    "ExecuteTime": {
     "end_time": "2021-08-02T03:49:53.878918Z",
     "start_time": "2021-08-02T03:49:53.865193Z"
    }
   },
   "outputs": [
    {
     "data": {
      "text/plain": [
       "2014-01-02   -0.637262\n",
       "2014-01-03    0.067398\n",
       "2014-01-04   -0.288442\n",
       "2014-01-05   -0.013729\n",
       "2014-01-06    1.098360\n",
       "Freq: D, Name: a, dtype: float64"
      ]
     },
     "execution_count": 28,
     "metadata": {},
     "output_type": "execute_result"
    }
   ],
   "source": [
    "df1['a']"
   ]
  },
  {
   "cell_type": "code",
   "execution_count": 29,
   "metadata": {
    "ExecuteTime": {
     "end_time": "2021-08-02T03:49:53.894214Z",
     "start_time": "2021-08-02T03:49:53.880201Z"
    }
   },
   "outputs": [
    {
     "data": {
      "text/html": [
       "<div>\n",
       "<style scoped>\n",
       "    .dataframe tbody tr th:only-of-type {\n",
       "        vertical-align: middle;\n",
       "    }\n",
       "\n",
       "    .dataframe tbody tr th {\n",
       "        vertical-align: top;\n",
       "    }\n",
       "\n",
       "    .dataframe thead th {\n",
       "        text-align: right;\n",
       "    }\n",
       "</style>\n",
       "<table border=\"1\" class=\"dataframe\">\n",
       "  <thead>\n",
       "    <tr style=\"text-align: right;\">\n",
       "      <th></th>\n",
       "      <th>2014-01-01</th>\n",
       "      <th>2014-01-02</th>\n",
       "      <th>2014-01-03</th>\n",
       "      <th>2014-01-04</th>\n",
       "      <th>2014-01-05</th>\n",
       "      <th>2014-01-06</th>\n",
       "      <th>2014-01-07</th>\n",
       "      <th>2014-01-08</th>\n",
       "    </tr>\n",
       "  </thead>\n",
       "  <tbody>\n",
       "    <tr>\n",
       "      <th>a</th>\n",
       "      <td>NaN</td>\n",
       "      <td>-0.637262</td>\n",
       "      <td>0.067398</td>\n",
       "      <td>-0.288442</td>\n",
       "      <td>-0.013729</td>\n",
       "      <td>1.09836</td>\n",
       "      <td>NaN</td>\n",
       "      <td>NaN</td>\n",
       "    </tr>\n",
       "    <tr>\n",
       "      <th>b</th>\n",
       "      <td>-1.06095</td>\n",
       "      <td>-0.122652</td>\n",
       "      <td>0.328710</td>\n",
       "      <td>0.482223</td>\n",
       "      <td>0.814080</td>\n",
       "      <td>-0.42503</td>\n",
       "      <td>-0.155491</td>\n",
       "      <td>-0.721873</td>\n",
       "    </tr>\n",
       "  </tbody>\n",
       "</table>\n",
       "</div>"
      ],
      "text/plain": [
       "   2014-01-01  2014-01-02  2014-01-03  2014-01-04  2014-01-05  2014-01-06  \\\n",
       "a         NaN   -0.637262    0.067398   -0.288442   -0.013729     1.09836   \n",
       "b    -1.06095   -0.122652    0.328710    0.482223    0.814080    -0.42503   \n",
       "\n",
       "   2014-01-07  2014-01-08  \n",
       "a         NaN         NaN  \n",
       "b   -0.155491   -0.721873  "
      ]
     },
     "execution_count": 29,
     "metadata": {},
     "output_type": "execute_result"
    }
   ],
   "source": [
    "# 시리즈를 2개 묶은것\n",
    "pd.DataFrame([df1['a'],df2['b']])"
   ]
  },
  {
   "cell_type": "code",
   "execution_count": 30,
   "metadata": {
    "ExecuteTime": {
     "end_time": "2021-08-02T03:49:53.909228Z",
     "start_time": "2021-08-02T03:49:53.895215Z"
    }
   },
   "outputs": [
    {
     "data": {
      "text/html": [
       "<div>\n",
       "<style scoped>\n",
       "    .dataframe tbody tr th:only-of-type {\n",
       "        vertical-align: middle;\n",
       "    }\n",
       "\n",
       "    .dataframe tbody tr th {\n",
       "        vertical-align: top;\n",
       "    }\n",
       "\n",
       "    .dataframe thead th {\n",
       "        text-align: right;\n",
       "    }\n",
       "</style>\n",
       "<table border=\"1\" class=\"dataframe\">\n",
       "  <thead>\n",
       "    <tr style=\"text-align: right;\">\n",
       "      <th></th>\n",
       "      <th>a</th>\n",
       "      <th>b</th>\n",
       "    </tr>\n",
       "  </thead>\n",
       "  <tbody>\n",
       "    <tr>\n",
       "      <th>2014-01-01</th>\n",
       "      <td>NaN</td>\n",
       "      <td>-1.060950</td>\n",
       "    </tr>\n",
       "    <tr>\n",
       "      <th>2014-01-02</th>\n",
       "      <td>-0.637262</td>\n",
       "      <td>-0.122652</td>\n",
       "    </tr>\n",
       "    <tr>\n",
       "      <th>2014-01-03</th>\n",
       "      <td>0.067398</td>\n",
       "      <td>0.328710</td>\n",
       "    </tr>\n",
       "    <tr>\n",
       "      <th>2014-01-04</th>\n",
       "      <td>-0.288442</td>\n",
       "      <td>0.482223</td>\n",
       "    </tr>\n",
       "    <tr>\n",
       "      <th>2014-01-05</th>\n",
       "      <td>-0.013729</td>\n",
       "      <td>0.814080</td>\n",
       "    </tr>\n",
       "    <tr>\n",
       "      <th>2014-01-06</th>\n",
       "      <td>1.098360</td>\n",
       "      <td>-0.425030</td>\n",
       "    </tr>\n",
       "    <tr>\n",
       "      <th>2014-01-07</th>\n",
       "      <td>NaN</td>\n",
       "      <td>-0.155491</td>\n",
       "    </tr>\n",
       "    <tr>\n",
       "      <th>2014-01-08</th>\n",
       "      <td>NaN</td>\n",
       "      <td>-0.721873</td>\n",
       "    </tr>\n",
       "  </tbody>\n",
       "</table>\n",
       "</div>"
      ],
      "text/plain": [
       "                   a         b\n",
       "2014-01-01       NaN -1.060950\n",
       "2014-01-02 -0.637262 -0.122652\n",
       "2014-01-03  0.067398  0.328710\n",
       "2014-01-04 -0.288442  0.482223\n",
       "2014-01-05 -0.013729  0.814080\n",
       "2014-01-06  1.098360 -0.425030\n",
       "2014-01-07       NaN -0.155491\n",
       "2014-01-08       NaN -0.721873"
      ]
     },
     "execution_count": 30,
     "metadata": {},
     "output_type": "execute_result"
    }
   ],
   "source": [
    "pd.DataFrame({'a':df1['a'], 'b': df2['b']})"
   ]
  },
  {
   "cell_type": "code",
   "execution_count": 31,
   "metadata": {
    "ExecuteTime": {
     "end_time": "2021-08-02T03:49:53.924241Z",
     "start_time": "2021-08-02T03:49:53.910229Z"
    },
    "scrolled": true
   },
   "outputs": [
    {
     "data": {
      "text/html": [
       "<div>\n",
       "<style scoped>\n",
       "    .dataframe tbody tr th:only-of-type {\n",
       "        vertical-align: middle;\n",
       "    }\n",
       "\n",
       "    .dataframe tbody tr th {\n",
       "        vertical-align: top;\n",
       "    }\n",
       "\n",
       "    .dataframe thead th {\n",
       "        text-align: right;\n",
       "    }\n",
       "</style>\n",
       "<table border=\"1\" class=\"dataframe\">\n",
       "  <thead>\n",
       "    <tr style=\"text-align: right;\">\n",
       "      <th></th>\n",
       "      <th>a</th>\n",
       "      <th>b</th>\n",
       "    </tr>\n",
       "  </thead>\n",
       "  <tbody>\n",
       "    <tr>\n",
       "      <th>2014-01-02</th>\n",
       "      <td>-0.637262</td>\n",
       "      <td>0.173798</td>\n",
       "    </tr>\n",
       "    <tr>\n",
       "      <th>2014-01-03</th>\n",
       "      <td>0.067398</td>\n",
       "      <td>1.222855</td>\n",
       "    </tr>\n",
       "    <tr>\n",
       "      <th>2014-01-04</th>\n",
       "      <td>-0.288442</td>\n",
       "      <td>-0.755362</td>\n",
       "    </tr>\n",
       "    <tr>\n",
       "      <th>2014-01-05</th>\n",
       "      <td>-0.013729</td>\n",
       "      <td>-2.050322</td>\n",
       "    </tr>\n",
       "    <tr>\n",
       "      <th>2014-01-06</th>\n",
       "      <td>1.098360</td>\n",
       "      <td>1.365967</td>\n",
       "    </tr>\n",
       "  </tbody>\n",
       "</table>\n",
       "</div>"
      ],
      "text/plain": [
       "                   a         b\n",
       "2014-01-02 -0.637262  0.173798\n",
       "2014-01-03  0.067398  1.222855\n",
       "2014-01-04 -0.288442 -0.755362\n",
       "2014-01-05 -0.013729 -2.050322\n",
       "2014-01-06  1.098360  1.365967"
      ]
     },
     "execution_count": 31,
     "metadata": {},
     "output_type": "execute_result"
    }
   ],
   "source": [
    "pd.DataFrame(df1[['a','b']])    "
   ]
  },
  {
   "cell_type": "code",
   "execution_count": 32,
   "metadata": {
    "ExecuteTime": {
     "end_time": "2021-08-02T03:49:53.939255Z",
     "start_time": "2021-08-02T03:49:53.925242Z"
    },
    "scrolled": false
   },
   "outputs": [
    {
     "data": {
      "text/html": [
       "<div>\n",
       "<style scoped>\n",
       "    .dataframe tbody tr th:only-of-type {\n",
       "        vertical-align: middle;\n",
       "    }\n",
       "\n",
       "    .dataframe tbody tr th {\n",
       "        vertical-align: top;\n",
       "    }\n",
       "\n",
       "    .dataframe thead th {\n",
       "        text-align: right;\n",
       "    }\n",
       "</style>\n",
       "<table border=\"1\" class=\"dataframe\">\n",
       "  <thead>\n",
       "    <tr style=\"text-align: right;\">\n",
       "      <th></th>\n",
       "      <th>a</th>\n",
       "      <th>b</th>\n",
       "    </tr>\n",
       "  </thead>\n",
       "  <tbody>\n",
       "    <tr>\n",
       "      <th>2014-01-02</th>\n",
       "      <td>-0.637262</td>\n",
       "      <td>0.173798</td>\n",
       "    </tr>\n",
       "    <tr>\n",
       "      <th>2014-01-03</th>\n",
       "      <td>0.067398</td>\n",
       "      <td>1.222855</td>\n",
       "    </tr>\n",
       "    <tr>\n",
       "      <th>2014-01-04</th>\n",
       "      <td>-0.288442</td>\n",
       "      <td>-0.755362</td>\n",
       "    </tr>\n",
       "    <tr>\n",
       "      <th>2014-01-05</th>\n",
       "      <td>-0.013729</td>\n",
       "      <td>-2.050322</td>\n",
       "    </tr>\n",
       "    <tr>\n",
       "      <th>2014-01-06</th>\n",
       "      <td>1.098360</td>\n",
       "      <td>1.365967</td>\n",
       "    </tr>\n",
       "  </tbody>\n",
       "</table>\n",
       "</div>"
      ],
      "text/plain": [
       "                   a         b\n",
       "2014-01-02 -0.637262  0.173798\n",
       "2014-01-03  0.067398  1.222855\n",
       "2014-01-04 -0.288442 -0.755362\n",
       "2014-01-05 -0.013729 -2.050322\n",
       "2014-01-06  1.098360  1.365967"
      ]
     },
     "execution_count": 32,
     "metadata": {},
     "output_type": "execute_result"
    }
   ],
   "source": [
    "pd.DataFrame({'a':df1['a'], 'b':df1['b']})"
   ]
  },
  {
   "cell_type": "markdown",
   "metadata": {},
   "source": [
    "## from `pd.util.testing.`"
   ]
  },
  {
   "cell_type": "code",
   "execution_count": 33,
   "metadata": {
    "ExecuteTime": {
     "end_time": "2021-08-02T03:50:19.598552Z",
     "start_time": "2021-08-02T03:50:19.573528Z"
    },
    "scrolled": true
   },
   "outputs": [
    {
     "name": "stdout",
     "output_type": "stream",
     "text": [
      "DataFrame: Contains random values:\n",
      "                   A         B         C         D\n",
      "PBsMIvXcx0  0.243627 -0.665386  0.944920  0.993559\n",
      "jRERLcEjSQ  0.650476  0.161242 -1.361043  1.976693\n",
      "vN77i2yrhq -0.861248  1.544544  0.053481 -0.140764\n",
      "251KNTDfqz  1.233136 -1.032120  1.841870  0.373382\n",
      "u5urzfNyni  1.253370 -0.484688  0.793000 -0.197074\n",
      "0L3il9k3T1 -0.665207  0.107570  0.504116  0.107222\n",
      "keiPAcbnXG  1.403600  1.172421  0.794845  0.277757\n",
      "DuCeqx2vkC  0.337488 -2.758306  0.705180  0.397605\n",
      "luK4PvgEvP  0.080224  0.904530 -0.406527  0.147349\n",
      "Jj13dUa8cv  1.090477  2.023480 -0.613676  0.321621\n",
      "KBxFcTtQyN  1.427026 -0.556243 -0.329598 -0.774396\n",
      "vQXxd69RHi -1.525502  0.634009 -3.654458 -0.246885\n",
      "E1fm9DGy0H -0.122249  0.880252  2.127936  0.114722\n",
      "8fKOw2yJvM -1.850335 -0.989098 -1.407581  0.003031\n",
      "SUBlAxLkWS  0.212190 -0.299751  0.710796  2.423680\n",
      "naSkYz0Zks  0.762494 -0.318544  0.731610  0.298315\n",
      "kajWB0FiZX -0.683979  0.902372 -0.008842  1.339335\n",
      "yiGD35VO4B -0.506637  0.213086  0.150344 -0.327256\n",
      "R1DN1G3TXl  0.114655  1.452086 -0.624368 -0.354430\n",
      "MZFt69ENoM  0.396645  0.148328 -1.064080  0.056284\n",
      "vRLIjJTSeV -0.033111  1.547759  0.538082  0.690745\n",
      "Lm3TgXRGgL  2.304028  0.364532 -0.364080  0.334251\n",
      "JYJPboRgW5 -0.082905 -0.107334  0.638181  0.284313\n",
      "Ur6Ft82Svo  0.288644 -1.211365  1.368250  0.936985\n",
      "gbgA7cjrrf  1.789864 -0.204368  1.026313 -1.128327\n",
      "CpvmyxX6wW -0.933506  1.812371 -0.307731 -1.889681\n",
      "NTZVfuKrUA  0.334951 -0.995524  0.928217  0.164191\n",
      "q9kfVguRPv -1.114323 -0.915047 -0.981592  0.588442\n",
      "JkUDtDcoan -0.433859 -0.528856  1.210365 -0.811713\n",
      "NwGMYGAx62  0.699328  1.391211  1.873497 -0.383574\n",
      "\n",
      "DataFrame: Contains missing values:\n",
      "                   A         B         C         D\n",
      "UaWD0gj91T  0.056821  0.450309 -0.020261 -0.636505\n",
      "4QFmwzpyk7 -2.074572  0.380418       NaN -0.807626\n",
      "ZUGInzsV0C  0.091363  0.475641 -1.451837       NaN\n",
      "pEVF3OYP0w  1.302694 -1.937158 -1.568275 -0.314194\n",
      "v8OyDDqhiY       NaN  1.135981  0.982594  2.771936\n",
      "6djraXSeOr  0.130048  0.210132 -0.214254       NaN\n",
      "sk0WLclJ4N -1.074177  1.132053 -1.245528  1.870608\n",
      "HxNqAACylX -1.197497  0.771578  0.892277  0.055817\n",
      "PPuoV95Qgl  1.139841  1.231360  0.353041  1.715971\n",
      "EPZDB9cat2  1.732727 -1.083028       NaN  0.187599\n",
      "7SpauOL0vq -0.269874 -1.126712  0.051234  0.645866\n",
      "Q8V7iRkL2M  0.488684  0.149292 -0.016637  0.801734\n",
      "v7ehgev5qB  1.329087 -0.156674 -2.130538 -1.840629\n",
      "o1ZWg8MeXZ       NaN -1.531308 -0.077448       NaN\n",
      "8CfDTHeaDd  0.072626       NaN -1.467702  0.950542\n",
      "GBkeKmSH0n -0.188046 -0.096336 -0.083049 -0.890908\n",
      "XuX4PRF7Lt  1.645788  1.227766 -2.049384  1.480282\n",
      "6lGWcgAA8d  0.789760 -0.064591       NaN -1.040297\n",
      "2gjwX6G6TB -0.623218 -0.849421  0.020978 -0.087493\n",
      "FxtHplAWRa -1.401757  0.065553  1.480817 -0.698129\n",
      "qFJACjopt4 -0.390887 -0.254411       NaN -1.289702\n",
      "XDRBL6me3v -1.017376  0.338674 -0.287229  1.386692\n",
      "Dvif9EzgpY -0.702457  2.120879 -0.321732 -0.329233\n",
      "efmLuF0yzz  1.460761  0.998051       NaN  0.711998\n",
      "LCquwqwnpV -1.629006  0.028514  0.264862  0.850698\n",
      "4O601cQmmH  0.747899  0.301382 -1.493397 -0.189451\n",
      "HaQmbEGXtV -0.759138  0.898523  0.069190 -1.105267\n",
      "zmjBj2w7nE -0.774281  0.650304 -0.589305  1.671586\n",
      "f9FS9cGEMH -0.305281 -0.663850 -0.705554       NaN\n",
      "UCWXgKwUeM  2.409134  0.436679  1.412695 -1.299156\n",
      "\n",
      "DataFrame: Contains datetime values:\n",
      "                   A         B         C         D\n",
      "2000-01-03 -0.181388 -1.265366 -2.401960  2.846762\n",
      "2000-01-04  0.851737 -0.356823 -2.247427 -0.263575\n",
      "2000-01-05  0.361650  0.548242  0.472074  0.062334\n",
      "2000-01-06  0.511195  0.068806 -0.829526 -0.645694\n",
      "2000-01-07  1.568063  0.571319 -0.630788  0.443358\n",
      "2000-01-10  0.659130  1.067563 -0.692117  0.151195\n",
      "2000-01-11 -0.215267 -0.725875  0.585880  0.632636\n",
      "2000-01-12  0.378030  0.880746 -0.924090 -0.337134\n",
      "2000-01-13  0.770267 -0.654365  0.603034 -0.708441\n",
      "2000-01-14 -0.423511 -0.629019 -0.760332  0.099538\n",
      "2000-01-17 -0.854161 -0.413476 -0.634872 -0.084016\n",
      "2000-01-18 -0.273013  1.381453  1.526887 -0.159496\n",
      "2000-01-19 -0.511949  0.286884 -1.321529 -1.384781\n",
      "2000-01-20 -2.642429  0.068413  1.060781 -0.194916\n",
      "2000-01-21  1.551333  0.336273  0.619097 -1.240018\n",
      "2000-01-24 -1.834071  0.846415 -0.615169 -0.149979\n",
      "2000-01-25 -0.644217  1.145104  0.193516  0.412676\n",
      "2000-01-26  0.883369  0.044933  0.124269  1.532501\n",
      "2000-01-27  0.559446 -1.443984  0.911784 -0.903433\n",
      "2000-01-28 -0.171030 -0.629923 -0.559559 -0.493221\n",
      "2000-01-31  0.621452  0.221854  0.621822  0.599407\n",
      "2000-02-01 -0.483686  0.995627 -2.103064 -0.447249\n",
      "2000-02-02 -0.364743  0.334898 -0.438703 -1.330956\n",
      "2000-02-03  1.778728  0.283403  1.573774  1.449529\n",
      "2000-02-04 -0.318715 -1.436368  0.184484 -1.548028\n",
      "2000-02-07  0.029790  0.665037  2.133294  0.217615\n",
      "2000-02-08 -2.408884  1.201106 -0.459797 -0.751644\n",
      "2000-02-09 -0.695029  1.804044  1.357038 -0.638459\n",
      "2000-02-10 -1.863166 -0.160590 -2.477871  0.416075\n",
      "2000-02-11  0.556826  0.542493 -1.967254  0.264195\n",
      "\n",
      "DataFrame: Contains mixed values:\n",
      "     A    B     C          D\n",
      "0  0.0  0.0  foo1 2009-01-01\n",
      "1  1.0  1.0  foo2 2009-01-02\n",
      "2  2.0  0.0  foo3 2009-01-05\n",
      "3  3.0  1.0  foo4 2009-01-06\n",
      "4  4.0  0.0  foo5 2009-01-07\n"
     ]
    },
    {
     "name": "stderr",
     "output_type": "stream",
     "text": [
      "C:\\Users\\bigne\\anaconda3\\lib\\site-packages\\pandas\\util\\__init__.py:12: FutureWarning: pandas.util.testing is deprecated. Use the functions in the public API at pandas.testing instead.\n",
      "  import pandas.util.testing\n"
     ]
    }
   ],
   "source": [
    "print(\"DataFrame: Contains random values:\")\n",
    "df1 = pd.util.testing.makeDataFrame() # contains random values\n",
    "print(df1)\n",
    "print(\"\\nDataFrame: Contains missing values:\")\n",
    "df2 = pd.util.testing.makeMissingDataframe() # contains missing values\n",
    "print(df2)\n",
    "print(\"\\nDataFrame: Contains datetime values:\")\n",
    "df3 = pd.util.testing.makeTimeDataFrame() # contains datetime values\n",
    "print(df3)\n",
    "print(\"\\nDataFrame: Contains mixed values:\")\n",
    "df4 = pd.util.testing.makeMixedDataFrame() # contains mixed values\n",
    "print(df4)"
   ]
  },
  {
   "cell_type": "markdown",
   "metadata": {},
   "source": [
    "# 조회"
   ]
  },
  {
   "cell_type": "markdown",
   "metadata": {},
   "source": [
    "## `info()` & `describe()` "
   ]
  },
  {
   "cell_type": "markdown",
   "metadata": {},
   "source": [
    "## 조회 및 출력 `iterrows()`, `itertuples()`, `iteritems()`"
   ]
  },
  {
   "cell_type": "code",
   "execution_count": 31,
   "metadata": {
    "ExecuteTime": {
     "end_time": "2021-07-27T02:01:31.801519Z",
     "start_time": "2021-07-27T02:01:31.787507Z"
    }
   },
   "outputs": [],
   "source": [
    "import pandas as pd\n",
    "\n",
    "\n",
    "df = pd.DataFrame({'A': list('ABCDABCDAB'), 'num': range(10)})"
   ]
  },
  {
   "cell_type": "markdown",
   "metadata": {},
   "source": [
    "### `iterrows()`"
   ]
  },
  {
   "cell_type": "code",
   "execution_count": 32,
   "metadata": {
    "ExecuteTime": {
     "end_time": "2021-07-27T02:01:31.816533Z",
     "start_time": "2021-07-27T02:01:31.802519Z"
    }
   },
   "outputs": [
    {
     "name": "stdout",
     "output_type": "stream",
     "text": [
      "(0, A      A\n",
      "num    0\n",
      "Name: 0, dtype: object)\n"
     ]
    }
   ],
   "source": [
    "for row in df.iterrows():\n",
    "    print(row)\n",
    "    break"
   ]
  },
  {
   "cell_type": "code",
   "execution_count": 33,
   "metadata": {
    "ExecuteTime": {
     "end_time": "2021-07-27T02:01:31.831545Z",
     "start_time": "2021-07-27T02:01:31.817532Z"
    }
   },
   "outputs": [
    {
     "name": "stdout",
     "output_type": "stream",
     "text": [
      "key: 0 val: A      A\n",
      "num    0\n",
      "Name: 0, dtype: object\n"
     ]
    }
   ],
   "source": [
    "for row in df.iterrows():\n",
    "    print('key:', row[0], 'val:', row[1])\n",
    "    break"
   ]
  },
  {
   "cell_type": "code",
   "execution_count": 34,
   "metadata": {
    "ExecuteTime": {
     "end_time": "2021-07-27T02:01:31.847091Z",
     "start_time": "2021-07-27T02:01:31.832546Z"
    }
   },
   "outputs": [
    {
     "name": "stdout",
     "output_type": "stream",
     "text": [
      "0 A 0\n",
      "1 B 1\n",
      "2 C 2\n",
      "3 D 3\n",
      "4 A 4\n",
      "5 B 5\n",
      "6 C 6\n",
      "7 D 7\n",
      "8 A 8\n",
      "9 B 9\n"
     ]
    }
   ],
   "source": [
    "for k, v in df.iterrows():\n",
    "    print(k, v['A'],v['num'])"
   ]
  },
  {
   "cell_type": "markdown",
   "metadata": {},
   "source": [
    "### `itertuples()`"
   ]
  },
  {
   "cell_type": "code",
   "execution_count": 35,
   "metadata": {
    "ExecuteTime": {
     "end_time": "2021-07-27T02:01:31.862649Z",
     "start_time": "2021-07-27T02:01:31.848092Z"
    }
   },
   "outputs": [
    {
     "name": "stdout",
     "output_type": "stream",
     "text": [
      "tuple Pandas(Index=0, A='A', num=0)\n",
      "tuple Pandas(Index=1, A='B', num=1)\n",
      "tuple Pandas(Index=2, A='C', num=2)\n",
      "tuple Pandas(Index=3, A='D', num=3)\n",
      "tuple Pandas(Index=4, A='A', num=4)\n",
      "tuple Pandas(Index=5, A='B', num=5)\n",
      "tuple Pandas(Index=6, A='C', num=6)\n",
      "tuple Pandas(Index=7, A='D', num=7)\n",
      "tuple Pandas(Index=8, A='A', num=8)\n",
      "tuple Pandas(Index=9, A='B', num=9)\n"
     ]
    }
   ],
   "source": [
    "for t in df.itertuples():\n",
    "    print(\"tuple\", t)"
   ]
  },
  {
   "cell_type": "code",
   "execution_count": 36,
   "metadata": {
    "ExecuteTime": {
     "end_time": "2021-07-27T02:01:31.877645Z",
     "start_time": "2021-07-27T02:01:31.863649Z"
    }
   },
   "outputs": [
    {
     "name": "stdout",
     "output_type": "stream",
     "text": [
      "index:  0 A: A num: 0\n",
      "index:  1 A: B num: 1\n",
      "index:  2 A: C num: 2\n",
      "index:  3 A: D num: 3\n",
      "index:  4 A: A num: 4\n",
      "index:  5 A: B num: 5\n",
      "index:  6 A: C num: 6\n",
      "index:  7 A: D num: 7\n",
      "index:  8 A: A num: 8\n",
      "index:  9 A: B num: 9\n"
     ]
    }
   ],
   "source": [
    "for i, a, b in df.itertuples():\n",
    "    print('index: ', i, 'A:', a, 'num:', b)"
   ]
  },
  {
   "cell_type": "markdown",
   "metadata": {},
   "source": [
    "### `iteritems()`"
   ]
  },
  {
   "cell_type": "code",
   "execution_count": 37,
   "metadata": {
    "ExecuteTime": {
     "end_time": "2021-07-27T02:01:31.892645Z",
     "start_time": "2021-07-27T02:01:31.878646Z"
    }
   },
   "outputs": [
    {
     "name": "stdout",
     "output_type": "stream",
     "text": [
      "A: A num: 0    A\n",
      "1    B\n",
      "2    C\n",
      "3    D\n",
      "4    A\n",
      "5    B\n",
      "6    C\n",
      "7    D\n",
      "8    A\n",
      "9    B\n",
      "Name: A, dtype: object\n",
      "A: num num: 0    0\n",
      "1    1\n",
      "2    2\n",
      "3    3\n",
      "4    4\n",
      "5    5\n",
      "6    6\n",
      "7    7\n",
      "8    8\n",
      "9    9\n",
      "Name: num, dtype: int64\n"
     ]
    }
   ],
   "source": [
    "for  a, b in df.iteritems():\n",
    "    print( 'A:', a, 'num:', b)"
   ]
  },
  {
   "cell_type": "markdown",
   "metadata": {},
   "source": [
    "출처: \n",
    "* <a href='https://github.com/SeWonKwon' ><div> <img src ='https://slid-capture.s3.ap-northeast-2.amazonaws.com/public/image_upload/6556674324ed41a289a354258718280d/964e5a8b-75ad-41fc-ae75-0ca66d06fbc7.png' align='left' /> </div></a>\n",
    "\n",
    "\n",
    "<br>\n",
    "\n",
    "\n",
    "* [이수안컴퓨터연구소](https://www.youtube.com/channel/UCFfALXX0DOx7zv6VeR5U_Bg)\n",
    "* https://github.com/minsuk-heo/pandas"
   ]
  }
 ],
 "metadata": {
  "kernelspec": {
   "display_name": "Python 3",
   "language": "python",
   "name": "python3"
  },
  "language_info": {
   "codemirror_mode": {
    "name": "ipython",
    "version": 3
   },
   "file_extension": ".py",
   "mimetype": "text/x-python",
   "name": "python",
   "nbconvert_exporter": "python",
   "pygments_lexer": "ipython3",
   "version": "3.8.5"
  },
  "toc": {
   "base_numbering": 1,
   "nav_menu": {},
   "number_sections": true,
   "sideBar": true,
   "skip_h1_title": false,
   "title_cell": "Table of Contents",
   "title_sidebar": "Contents",
   "toc_cell": false,
   "toc_position": {
    "height": "calc(100% - 180px)",
    "left": "10px",
    "top": "150px",
    "width": "289.716px"
   },
   "toc_section_display": true,
   "toc_window_display": true
  }
 },
 "nbformat": 4,
 "nbformat_minor": 4
}
