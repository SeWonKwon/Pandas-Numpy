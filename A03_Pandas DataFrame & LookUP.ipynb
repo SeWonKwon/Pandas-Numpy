{
 "cells": [
  {
   "cell_type": "markdown",
   "metadata": {},
   "source": [
    "<a href='https://github.com/SeWonKwon' ><div> <img src ='https://slid-capture.s3.ap-northeast-2.amazonaws.com/public/image_upload/6556674324ed41a289a354258718280d/964e5a8b-75ad-41fc-ae75-0ca66d06fbc7.png' align='left' /> </div></a>\n",
    "\n"
   ]
  },
  {
   "cell_type": "code",
   "execution_count": 1,
   "metadata": {
    "ExecuteTime": {
     "end_time": "2021-07-14T02:01:40.729111Z",
     "start_time": "2021-07-14T02:01:40.297993Z"
    }
   },
   "outputs": [],
   "source": [
    "import numpy as np\n",
    "import pandas as pd"
   ]
  },
  {
   "cell_type": "markdown",
   "metadata": {},
   "source": [
    "DataFrame\n",
    "\n",
    "* 2차원 형태의 자료형이다.\n",
    "* 인덱스, 컬럼, value값으로 이루어져 있다. "
   ]
  },
  {
   "cell_type": "code",
   "execution_count": 2,
   "metadata": {
    "ExecuteTime": {
     "end_time": "2021-07-14T02:01:40.744123Z",
     "start_time": "2021-07-14T02:01:40.732114Z"
    }
   },
   "outputs": [],
   "source": [
    "import pandas as pd\n",
    "import numpy as np"
   ]
  },
  {
   "cell_type": "markdown",
   "metadata": {},
   "source": [
    "# 선언"
   ]
  },
  {
   "cell_type": "markdown",
   "metadata": {},
   "source": [
    "## from List"
   ]
  },
  {
   "cell_type": "markdown",
   "metadata": {},
   "source": [
    "- by List : 리스트1 + 리스트2 +... + 컬럼 이름 = 데이타 프레임"
   ]
  },
  {
   "cell_type": "code",
   "execution_count": 3,
   "metadata": {
    "ExecuteTime": {
     "end_time": "2021-07-14T02:01:40.774157Z",
     "start_time": "2021-07-14T02:01:40.746124Z"
    }
   },
   "outputs": [
    {
     "data": {
      "text/html": [
       "<div>\n",
       "<style scoped>\n",
       "    .dataframe tbody tr th:only-of-type {\n",
       "        vertical-align: middle;\n",
       "    }\n",
       "\n",
       "    .dataframe tbody tr th {\n",
       "        vertical-align: top;\n",
       "    }\n",
       "\n",
       "    .dataframe thead th {\n",
       "        text-align: right;\n",
       "    }\n",
       "</style>\n",
       "<table border=\"1\" class=\"dataframe\">\n",
       "  <thead>\n",
       "    <tr style=\"text-align: right;\">\n",
       "      <th></th>\n",
       "      <th>0</th>\n",
       "      <th>1</th>\n",
       "      <th>2</th>\n",
       "      <th>3</th>\n",
       "      <th>4</th>\n",
       "    </tr>\n",
       "  </thead>\n",
       "  <tbody>\n",
       "    <tr>\n",
       "      <th>0</th>\n",
       "      <td>1</td>\n",
       "      <td>3</td>\n",
       "      <td>4</td>\n",
       "      <td>5</td>\n",
       "      <td>6</td>\n",
       "    </tr>\n",
       "    <tr>\n",
       "      <th>1</th>\n",
       "      <td>3</td>\n",
       "      <td>2</td>\n",
       "      <td>1</td>\n",
       "      <td>1</td>\n",
       "      <td>1</td>\n",
       "    </tr>\n",
       "  </tbody>\n",
       "</table>\n",
       "</div>"
      ],
      "text/plain": [
       "   0  1  2  3  4\n",
       "0  1  3  4  5  6\n",
       "1  3  2  1  1  1"
      ]
     },
     "execution_count": 3,
     "metadata": {},
     "output_type": "execute_result"
    }
   ],
   "source": [
    "a = [1, 3, 4, 5, 6]\n",
    "b = [3, 2, 1, 1, 1]\n",
    "pd.DataFrame([a,b])"
   ]
  },
  {
   "cell_type": "code",
   "execution_count": 4,
   "metadata": {
    "ExecuteTime": {
     "end_time": "2021-07-14T02:01:40.789159Z",
     "start_time": "2021-07-14T02:01:40.777147Z"
    },
    "scrolled": true
   },
   "outputs": [
    {
     "data": {
      "text/html": [
       "<div>\n",
       "<style scoped>\n",
       "    .dataframe tbody tr th:only-of-type {\n",
       "        vertical-align: middle;\n",
       "    }\n",
       "\n",
       "    .dataframe tbody tr th {\n",
       "        vertical-align: top;\n",
       "    }\n",
       "\n",
       "    .dataframe thead th {\n",
       "        text-align: right;\n",
       "    }\n",
       "</style>\n",
       "<table border=\"1\" class=\"dataframe\">\n",
       "  <thead>\n",
       "    <tr style=\"text-align: right;\">\n",
       "      <th></th>\n",
       "      <th>a</th>\n",
       "      <th>b</th>\n",
       "    </tr>\n",
       "  </thead>\n",
       "  <tbody>\n",
       "    <tr>\n",
       "      <th>0</th>\n",
       "      <td>1</td>\n",
       "      <td>3</td>\n",
       "    </tr>\n",
       "    <tr>\n",
       "      <th>1</th>\n",
       "      <td>3</td>\n",
       "      <td>2</td>\n",
       "    </tr>\n",
       "    <tr>\n",
       "      <th>2</th>\n",
       "      <td>4</td>\n",
       "      <td>1</td>\n",
       "    </tr>\n",
       "    <tr>\n",
       "      <th>3</th>\n",
       "      <td>5</td>\n",
       "      <td>1</td>\n",
       "    </tr>\n",
       "    <tr>\n",
       "      <th>4</th>\n",
       "      <td>6</td>\n",
       "      <td>1</td>\n",
       "    </tr>\n",
       "  </tbody>\n",
       "</table>\n",
       "</div>"
      ],
      "text/plain": [
       "   a  b\n",
       "0  1  3\n",
       "1  3  2\n",
       "2  4  1\n",
       "3  5  1\n",
       "4  6  1"
      ]
     },
     "execution_count": 4,
     "metadata": {},
     "output_type": "execute_result"
    }
   ],
   "source": [
    "pd.DataFrame({'a':a, 'b':b})"
   ]
  },
  {
   "cell_type": "code",
   "execution_count": 5,
   "metadata": {
    "ExecuteTime": {
     "end_time": "2021-07-14T02:01:40.804149Z",
     "start_time": "2021-07-14T02:01:40.791148Z"
    }
   },
   "outputs": [
    {
     "data": {
      "text/html": [
       "<div>\n",
       "<style scoped>\n",
       "    .dataframe tbody tr th:only-of-type {\n",
       "        vertical-align: middle;\n",
       "    }\n",
       "\n",
       "    .dataframe tbody tr th {\n",
       "        vertical-align: top;\n",
       "    }\n",
       "\n",
       "    .dataframe thead th {\n",
       "        text-align: right;\n",
       "    }\n",
       "</style>\n",
       "<table border=\"1\" class=\"dataframe\">\n",
       "  <thead>\n",
       "    <tr style=\"text-align: right;\">\n",
       "      <th></th>\n",
       "      <th>0</th>\n",
       "      <th>1</th>\n",
       "      <th>2</th>\n",
       "    </tr>\n",
       "  </thead>\n",
       "  <tbody>\n",
       "    <tr>\n",
       "      <th>0</th>\n",
       "      <td>1</td>\n",
       "      <td>2</td>\n",
       "      <td>3</td>\n",
       "    </tr>\n",
       "    <tr>\n",
       "      <th>1</th>\n",
       "      <td>4</td>\n",
       "      <td>5</td>\n",
       "      <td>6</td>\n",
       "    </tr>\n",
       "    <tr>\n",
       "      <th>2</th>\n",
       "      <td>7</td>\n",
       "      <td>8</td>\n",
       "      <td>9</td>\n",
       "    </tr>\n",
       "    <tr>\n",
       "      <th>3</th>\n",
       "      <td>10</td>\n",
       "      <td>11</td>\n",
       "      <td>12</td>\n",
       "    </tr>\n",
       "    <tr>\n",
       "      <th>4</th>\n",
       "      <td>13</td>\n",
       "      <td>14</td>\n",
       "      <td>15</td>\n",
       "    </tr>\n",
       "  </tbody>\n",
       "</table>\n",
       "</div>"
      ],
      "text/plain": [
       "    0   1   2\n",
       "0   1   2   3\n",
       "1   4   5   6\n",
       "2   7   8   9\n",
       "3  10  11  12\n",
       "4  13  14  15"
      ]
     },
     "execution_count": 5,
     "metadata": {},
     "output_type": "execute_result"
    }
   ],
   "source": [
    "list_data = [[1,2,3],[4,5,6], [7,8,9],[10,11,12],[13,14,15]]\n",
    "pd.DataFrame(list_data)"
   ]
  },
  {
   "cell_type": "markdown",
   "metadata": {},
   "source": [
    "## from dict "
   ]
  },
  {
   "cell_type": "code",
   "execution_count": 6,
   "metadata": {
    "ExecuteTime": {
     "end_time": "2021-07-14T02:01:40.819159Z",
     "start_time": "2021-07-14T02:01:40.806151Z"
    },
    "scrolled": false
   },
   "outputs": [
    {
     "data": {
      "text/html": [
       "<div>\n",
       "<style scoped>\n",
       "    .dataframe tbody tr th:only-of-type {\n",
       "        vertical-align: middle;\n",
       "    }\n",
       "\n",
       "    .dataframe tbody tr th {\n",
       "        vertical-align: top;\n",
       "    }\n",
       "\n",
       "    .dataframe thead th {\n",
       "        text-align: right;\n",
       "    }\n",
       "</style>\n",
       "<table border=\"1\" class=\"dataframe\">\n",
       "  <thead>\n",
       "    <tr style=\"text-align: right;\">\n",
       "      <th></th>\n",
       "      <th>A</th>\n",
       "      <th>B</th>\n",
       "      <th>D</th>\n",
       "      <th>C</th>\n",
       "    </tr>\n",
       "  </thead>\n",
       "  <tbody>\n",
       "    <tr>\n",
       "      <th>0</th>\n",
       "      <td>2</td>\n",
       "      <td>4</td>\n",
       "      <td>3.0</td>\n",
       "      <td>NaN</td>\n",
       "    </tr>\n",
       "    <tr>\n",
       "      <th>1</th>\n",
       "      <td>4</td>\n",
       "      <td>5</td>\n",
       "      <td>NaN</td>\n",
       "      <td>7.0</td>\n",
       "    </tr>\n",
       "  </tbody>\n",
       "</table>\n",
       "</div>"
      ],
      "text/plain": [
       "   A  B    D    C\n",
       "0  2  4  3.0  NaN\n",
       "1  4  5  NaN  7.0"
      ]
     },
     "execution_count": 6,
     "metadata": {},
     "output_type": "execute_result"
    }
   ],
   "source": [
    "pd.DataFrame([{'A':2, 'B':4, 'D':3},{'A':4, 'B':5, 'C':7}]) "
   ]
  },
  {
   "cell_type": "code",
   "execution_count": 7,
   "metadata": {
    "ExecuteTime": {
     "end_time": "2021-07-14T02:01:40.834168Z",
     "start_time": "2021-07-14T02:01:40.821153Z"
    }
   },
   "outputs": [
    {
     "data": {
      "text/html": [
       "<div>\n",
       "<style scoped>\n",
       "    .dataframe tbody tr th:only-of-type {\n",
       "        vertical-align: middle;\n",
       "    }\n",
       "\n",
       "    .dataframe tbody tr th {\n",
       "        vertical-align: top;\n",
       "    }\n",
       "\n",
       "    .dataframe thead th {\n",
       "        text-align: right;\n",
       "    }\n",
       "</style>\n",
       "<table border=\"1\" class=\"dataframe\">\n",
       "  <thead>\n",
       "    <tr style=\"text-align: right;\">\n",
       "      <th></th>\n",
       "      <th>c0</th>\n",
       "      <th>c1</th>\n",
       "      <th>c2</th>\n",
       "      <th>c3</th>\n",
       "      <th>c4</th>\n",
       "    </tr>\n",
       "  </thead>\n",
       "  <tbody>\n",
       "    <tr>\n",
       "      <th>0</th>\n",
       "      <td>1</td>\n",
       "      <td>4</td>\n",
       "      <td>7</td>\n",
       "      <td>10</td>\n",
       "      <td>13</td>\n",
       "    </tr>\n",
       "    <tr>\n",
       "      <th>1</th>\n",
       "      <td>2</td>\n",
       "      <td>5</td>\n",
       "      <td>8</td>\n",
       "      <td>11</td>\n",
       "      <td>14</td>\n",
       "    </tr>\n",
       "    <tr>\n",
       "      <th>2</th>\n",
       "      <td>3</td>\n",
       "      <td>6</td>\n",
       "      <td>9</td>\n",
       "      <td>12</td>\n",
       "      <td>15</td>\n",
       "    </tr>\n",
       "  </tbody>\n",
       "</table>\n",
       "</div>"
      ],
      "text/plain": [
       "   c0  c1  c2  c3  c4\n",
       "0   1   4   7  10  13\n",
       "1   2   5   8  11  14\n",
       "2   3   6   9  12  15"
      ]
     },
     "execution_count": 7,
     "metadata": {},
     "output_type": "execute_result"
    }
   ],
   "source": [
    "dict_data = {'c0':[1,2,3],'c1':[4,5,6],'c2' : [7,8,9],'c3' : [10,11,12], 'c4':[13,14,15]}\n",
    "pd.DataFrame(dict_data)"
   ]
  },
  {
   "cell_type": "markdown",
   "metadata": {},
   "source": [
    "## Series 와 비교를 해보자면 "
   ]
  },
  {
   "cell_type": "markdown",
   "metadata": {},
   "source": [
    "* Series 는 1차원이기 때문에 key 값이 1개라면 Series가 된다. \n",
    "* DataFrame 은 2차원이기 때문에 key 값이 2개가 필요하다.\n",
    "    - 만약 키 값이 1개면, 그 키값은 column에 우선 할당되고, 인덱스는 자동 설정된다. "
   ]
  },
  {
   "cell_type": "code",
   "execution_count": 8,
   "metadata": {
    "ExecuteTime": {
     "end_time": "2021-07-14T02:01:40.849158Z",
     "start_time": "2021-07-14T02:01:40.838158Z"
    }
   },
   "outputs": [],
   "source": [
    "male_tuple = {'서울특별시': 4732275,\n",
    "              '부산광역시': 1668618,\n",
    "              '인천광역시': 1476813,\n",
    "              '대구광역시': 1198815,\n",
    "              '대전광역시': 734441,\n",
    "              '광주광역시': 720060}\n",
    "female_tuple = {'서울특별시': 4988571,\n",
    "                '부산광역시': 1735805,\n",
    "                '인천광역시': 1470404,\n",
    "                '대구광역시': 1229139,\n",
    "                '대전광역시': 736599,\n",
    "                '광주광역시': 734988}"
   ]
  },
  {
   "cell_type": "code",
   "execution_count": 9,
   "metadata": {
    "ExecuteTime": {
     "end_time": "2021-07-14T02:01:40.864161Z",
     "start_time": "2021-07-14T02:01:40.851160Z"
    }
   },
   "outputs": [
    {
     "data": {
      "text/plain": [
       "서울특별시    4732275\n",
       "부산광역시    1668618\n",
       "인천광역시    1476813\n",
       "대구광역시    1198815\n",
       "대전광역시     734441\n",
       "광주광역시     720060\n",
       "dtype: int64"
      ]
     },
     "execution_count": 9,
     "metadata": {},
     "output_type": "execute_result"
    }
   ],
   "source": [
    "pd.Series(male_tuple)"
   ]
  },
  {
   "cell_type": "code",
   "execution_count": 10,
   "metadata": {
    "ExecuteTime": {
     "end_time": "2021-07-14T02:01:40.879165Z",
     "start_time": "2021-07-14T02:01:40.866163Z"
    }
   },
   "outputs": [
    {
     "data": {
      "text/plain": [
       "Index(['서울특별시', '부산광역시', '인천광역시', '대구광역시', '대전광역시', '광주광역시'], dtype='object')"
      ]
     },
     "execution_count": 10,
     "metadata": {},
     "output_type": "execute_result"
    }
   ],
   "source": [
    "pd.Series(male_tuple).index"
   ]
  },
  {
   "cell_type": "code",
   "execution_count": 11,
   "metadata": {
    "ExecuteTime": {
     "end_time": "2021-07-14T02:01:40.894170Z",
     "start_time": "2021-07-14T02:01:40.881166Z"
    }
   },
   "outputs": [
    {
     "data": {
      "text/plain": [
       "0    {'서울특별시': 4732275, '부산광역시': 1668618, '인천광역시': ...\n",
       "1    {'서울특별시': 4988571, '부산광역시': 1735805, '인천광역시': ...\n",
       "dtype: object"
      ]
     },
     "execution_count": 11,
     "metadata": {},
     "output_type": "execute_result"
    }
   ],
   "source": [
    "pd.Series([male_tuple,female_tuple])"
   ]
  },
  {
   "cell_type": "code",
   "execution_count": 12,
   "metadata": {
    "ExecuteTime": {
     "end_time": "2021-07-14T02:01:40.909173Z",
     "start_time": "2021-07-14T02:01:40.896169Z"
    },
    "scrolled": true
   },
   "outputs": [
    {
     "data": {
      "text/plain": [
       "RangeIndex(start=0, stop=2, step=1)"
      ]
     },
     "execution_count": 12,
     "metadata": {},
     "output_type": "execute_result"
    }
   ],
   "source": [
    "pd.Series([male_tuple,female_tuple]).index"
   ]
  },
  {
   "cell_type": "code",
   "execution_count": 13,
   "metadata": {
    "ExecuteTime": {
     "end_time": "2021-07-14T02:01:40.924175Z",
     "start_time": "2021-07-14T02:01:40.911173Z"
    }
   },
   "outputs": [
    {
     "data": {
      "text/html": [
       "<div>\n",
       "<style scoped>\n",
       "    .dataframe tbody tr th:only-of-type {\n",
       "        vertical-align: middle;\n",
       "    }\n",
       "\n",
       "    .dataframe tbody tr th {\n",
       "        vertical-align: top;\n",
       "    }\n",
       "\n",
       "    .dataframe thead th {\n",
       "        text-align: right;\n",
       "    }\n",
       "</style>\n",
       "<table border=\"1\" class=\"dataframe\">\n",
       "  <thead>\n",
       "    <tr style=\"text-align: right;\">\n",
       "      <th></th>\n",
       "      <th>서울특별시</th>\n",
       "      <th>부산광역시</th>\n",
       "      <th>인천광역시</th>\n",
       "      <th>대구광역시</th>\n",
       "      <th>대전광역시</th>\n",
       "      <th>광주광역시</th>\n",
       "    </tr>\n",
       "  </thead>\n",
       "  <tbody>\n",
       "    <tr>\n",
       "      <th>0</th>\n",
       "      <td>4732275</td>\n",
       "      <td>1668618</td>\n",
       "      <td>1476813</td>\n",
       "      <td>1198815</td>\n",
       "      <td>734441</td>\n",
       "      <td>720060</td>\n",
       "    </tr>\n",
       "    <tr>\n",
       "      <th>1</th>\n",
       "      <td>4988571</td>\n",
       "      <td>1735805</td>\n",
       "      <td>1470404</td>\n",
       "      <td>1229139</td>\n",
       "      <td>736599</td>\n",
       "      <td>734988</td>\n",
       "    </tr>\n",
       "  </tbody>\n",
       "</table>\n",
       "</div>"
      ],
      "text/plain": [
       "     서울특별시    부산광역시    인천광역시    대구광역시   대전광역시   광주광역시\n",
       "0  4732275  1668618  1476813  1198815  734441  720060\n",
       "1  4988571  1735805  1470404  1229139  736599  734988"
      ]
     },
     "execution_count": 13,
     "metadata": {},
     "output_type": "execute_result"
    }
   ],
   "source": [
    "pd.DataFrame([male_tuple,female_tuple])"
   ]
  },
  {
   "cell_type": "code",
   "execution_count": 14,
   "metadata": {
    "ExecuteTime": {
     "end_time": "2021-07-14T02:01:40.939179Z",
     "start_time": "2021-07-14T02:01:40.926176Z"
    }
   },
   "outputs": [
    {
     "data": {
      "text/plain": [
       "RangeIndex(start=0, stop=2, step=1)"
      ]
     },
     "execution_count": 14,
     "metadata": {},
     "output_type": "execute_result"
    }
   ],
   "source": [
    "pd.DataFrame([male_tuple,female_tuple]).index"
   ]
  },
  {
   "cell_type": "markdown",
   "metadata": {},
   "source": [
    "## from Series"
   ]
  },
  {
   "cell_type": "markdown",
   "metadata": {},
   "source": [
    "- by Series :시리즈1 + 시리즈2 + 시리즈3 + 시리즈4 = 데이타프레임"
   ]
  },
  {
   "cell_type": "code",
   "execution_count": 15,
   "metadata": {
    "ExecuteTime": {
     "end_time": "2021-07-14T02:01:40.954196Z",
     "start_time": "2021-07-14T02:01:40.941181Z"
    }
   },
   "outputs": [],
   "source": [
    "male = pd.Series(male_tuple)\n",
    "female = pd.Series(female_tuple)"
   ]
  },
  {
   "cell_type": "markdown",
   "metadata": {},
   "source": [
    "* 아래와 같이 되는 이유는 각각의 value 값에 대응한 시리즈의 index가 컬럼으로 바뀌기 때문이다. \n",
    "    - 만약 키 값이 1개면, 그 키값은 column에 우선 할당되고, 인덱스는 자동 설정된다."
   ]
  },
  {
   "cell_type": "code",
   "execution_count": 16,
   "metadata": {
    "ExecuteTime": {
     "end_time": "2021-07-14T02:01:40.969186Z",
     "start_time": "2021-07-14T02:01:40.957184Z"
    }
   },
   "outputs": [
    {
     "data": {
      "text/html": [
       "<div>\n",
       "<style scoped>\n",
       "    .dataframe tbody tr th:only-of-type {\n",
       "        vertical-align: middle;\n",
       "    }\n",
       "\n",
       "    .dataframe tbody tr th {\n",
       "        vertical-align: top;\n",
       "    }\n",
       "\n",
       "    .dataframe thead th {\n",
       "        text-align: right;\n",
       "    }\n",
       "</style>\n",
       "<table border=\"1\" class=\"dataframe\">\n",
       "  <thead>\n",
       "    <tr style=\"text-align: right;\">\n",
       "      <th></th>\n",
       "      <th>서울특별시</th>\n",
       "      <th>부산광역시</th>\n",
       "      <th>인천광역시</th>\n",
       "      <th>대구광역시</th>\n",
       "      <th>대전광역시</th>\n",
       "      <th>광주광역시</th>\n",
       "    </tr>\n",
       "  </thead>\n",
       "  <tbody>\n",
       "    <tr>\n",
       "      <th>0</th>\n",
       "      <td>4732275</td>\n",
       "      <td>1668618</td>\n",
       "      <td>1476813</td>\n",
       "      <td>1198815</td>\n",
       "      <td>734441</td>\n",
       "      <td>720060</td>\n",
       "    </tr>\n",
       "    <tr>\n",
       "      <th>1</th>\n",
       "      <td>4988571</td>\n",
       "      <td>1735805</td>\n",
       "      <td>1470404</td>\n",
       "      <td>1229139</td>\n",
       "      <td>736599</td>\n",
       "      <td>734988</td>\n",
       "    </tr>\n",
       "  </tbody>\n",
       "</table>\n",
       "</div>"
      ],
      "text/plain": [
       "     서울특별시    부산광역시    인천광역시    대구광역시   대전광역시   광주광역시\n",
       "0  4732275  1668618  1476813  1198815  734441  720060\n",
       "1  4988571  1735805  1470404  1229139  736599  734988"
      ]
     },
     "execution_count": 16,
     "metadata": {},
     "output_type": "execute_result"
    }
   ],
   "source": [
    "pd.DataFrame([male, female])"
   ]
  },
  {
   "cell_type": "markdown",
   "metadata": {},
   "source": [
    "간단하게 전치를 해서 컬럼과 인덱스를 바꿀수도 있지만,"
   ]
  },
  {
   "cell_type": "code",
   "execution_count": 17,
   "metadata": {
    "ExecuteTime": {
     "end_time": "2021-07-14T02:01:40.984207Z",
     "start_time": "2021-07-14T02:01:40.971186Z"
    }
   },
   "outputs": [
    {
     "data": {
      "text/html": [
       "<div>\n",
       "<style scoped>\n",
       "    .dataframe tbody tr th:only-of-type {\n",
       "        vertical-align: middle;\n",
       "    }\n",
       "\n",
       "    .dataframe tbody tr th {\n",
       "        vertical-align: top;\n",
       "    }\n",
       "\n",
       "    .dataframe thead th {\n",
       "        text-align: right;\n",
       "    }\n",
       "</style>\n",
       "<table border=\"1\" class=\"dataframe\">\n",
       "  <thead>\n",
       "    <tr style=\"text-align: right;\">\n",
       "      <th></th>\n",
       "      <th>0</th>\n",
       "      <th>1</th>\n",
       "    </tr>\n",
       "  </thead>\n",
       "  <tbody>\n",
       "    <tr>\n",
       "      <th>서울특별시</th>\n",
       "      <td>4732275</td>\n",
       "      <td>4988571</td>\n",
       "    </tr>\n",
       "    <tr>\n",
       "      <th>부산광역시</th>\n",
       "      <td>1668618</td>\n",
       "      <td>1735805</td>\n",
       "    </tr>\n",
       "    <tr>\n",
       "      <th>인천광역시</th>\n",
       "      <td>1476813</td>\n",
       "      <td>1470404</td>\n",
       "    </tr>\n",
       "    <tr>\n",
       "      <th>대구광역시</th>\n",
       "      <td>1198815</td>\n",
       "      <td>1229139</td>\n",
       "    </tr>\n",
       "    <tr>\n",
       "      <th>대전광역시</th>\n",
       "      <td>734441</td>\n",
       "      <td>736599</td>\n",
       "    </tr>\n",
       "    <tr>\n",
       "      <th>광주광역시</th>\n",
       "      <td>720060</td>\n",
       "      <td>734988</td>\n",
       "    </tr>\n",
       "  </tbody>\n",
       "</table>\n",
       "</div>"
      ],
      "text/plain": [
       "             0        1\n",
       "서울특별시  4732275  4988571\n",
       "부산광역시  1668618  1735805\n",
       "인천광역시  1476813  1470404\n",
       "대구광역시  1198815  1229139\n",
       "대전광역시   734441   736599\n",
       "광주광역시   720060   734988"
      ]
     },
     "execution_count": 17,
     "metadata": {},
     "output_type": "execute_result"
    }
   ],
   "source": [
    "pd.DataFrame([male, female]).T"
   ]
  },
  {
   "cell_type": "markdown",
   "metadata": {},
   "source": [
    "### 아래와 같이 컬럼값을 지정해서 Series의 index를 DataFrame의 키값으로 변형할 수 있다. \n",
    "\n",
    "**DataFrame 생성시에 column을 적어주느냐와 안적어주느냐는 큰 차이가 있다.**"
   ]
  },
  {
   "cell_type": "code",
   "execution_count": 18,
   "metadata": {
    "ExecuteTime": {
     "end_time": "2021-07-14T02:01:40.999199Z",
     "start_time": "2021-07-14T02:01:40.987190Z"
    },
    "scrolled": true
   },
   "outputs": [
    {
     "data": {
      "text/html": [
       "<div>\n",
       "<style scoped>\n",
       "    .dataframe tbody tr th:only-of-type {\n",
       "        vertical-align: middle;\n",
       "    }\n",
       "\n",
       "    .dataframe tbody tr th {\n",
       "        vertical-align: top;\n",
       "    }\n",
       "\n",
       "    .dataframe thead th {\n",
       "        text-align: right;\n",
       "    }\n",
       "</style>\n",
       "<table border=\"1\" class=\"dataframe\">\n",
       "  <thead>\n",
       "    <tr style=\"text-align: right;\">\n",
       "      <th></th>\n",
       "      <th>남자인구수</th>\n",
       "      <th>여자인구수</th>\n",
       "    </tr>\n",
       "  </thead>\n",
       "  <tbody>\n",
       "    <tr>\n",
       "      <th>서울특별시</th>\n",
       "      <td>4732275</td>\n",
       "      <td>4988571</td>\n",
       "    </tr>\n",
       "    <tr>\n",
       "      <th>부산광역시</th>\n",
       "      <td>1668618</td>\n",
       "      <td>1735805</td>\n",
       "    </tr>\n",
       "    <tr>\n",
       "      <th>인천광역시</th>\n",
       "      <td>1476813</td>\n",
       "      <td>1470404</td>\n",
       "    </tr>\n",
       "    <tr>\n",
       "      <th>대구광역시</th>\n",
       "      <td>1198815</td>\n",
       "      <td>1229139</td>\n",
       "    </tr>\n",
       "    <tr>\n",
       "      <th>대전광역시</th>\n",
       "      <td>734441</td>\n",
       "      <td>736599</td>\n",
       "    </tr>\n",
       "    <tr>\n",
       "      <th>광주광역시</th>\n",
       "      <td>720060</td>\n",
       "      <td>734988</td>\n",
       "    </tr>\n",
       "  </tbody>\n",
       "</table>\n",
       "</div>"
      ],
      "text/plain": [
       "         남자인구수    여자인구수\n",
       "서울특별시  4732275  4988571\n",
       "부산광역시  1668618  1735805\n",
       "인천광역시  1476813  1470404\n",
       "대구광역시  1198815  1229139\n",
       "대전광역시   734441   736599\n",
       "광주광역시   720060   734988"
      ]
     },
     "execution_count": 18,
     "metadata": {},
     "output_type": "execute_result"
    }
   ],
   "source": [
    "pd.DataFrame({'남자인구수': male, '여자인구수':female})"
   ]
  },
  {
   "cell_type": "markdown",
   "metadata": {},
   "source": [
    "## from np.random"
   ]
  },
  {
   "cell_type": "code",
   "execution_count": 19,
   "metadata": {
    "ExecuteTime": {
     "end_time": "2021-07-14T02:01:41.014202Z",
     "start_time": "2021-07-14T02:01:41.001192Z"
    }
   },
   "outputs": [
    {
     "data": {
      "text/html": [
       "<div>\n",
       "<style scoped>\n",
       "    .dataframe tbody tr th:only-of-type {\n",
       "        vertical-align: middle;\n",
       "    }\n",
       "\n",
       "    .dataframe tbody tr th {\n",
       "        vertical-align: top;\n",
       "    }\n",
       "\n",
       "    .dataframe thead th {\n",
       "        text-align: right;\n",
       "    }\n",
       "</style>\n",
       "<table border=\"1\" class=\"dataframe\">\n",
       "  <thead>\n",
       "    <tr style=\"text-align: right;\">\n",
       "      <th></th>\n",
       "      <th>0</th>\n",
       "      <th>1</th>\n",
       "      <th>2</th>\n",
       "      <th>3</th>\n",
       "    </tr>\n",
       "  </thead>\n",
       "  <tbody>\n",
       "    <tr>\n",
       "      <th>0</th>\n",
       "      <td>-1.045313</td>\n",
       "      <td>0.481794</td>\n",
       "      <td>0.321574</td>\n",
       "      <td>-2.001203</td>\n",
       "    </tr>\n",
       "    <tr>\n",
       "      <th>1</th>\n",
       "      <td>-0.118450</td>\n",
       "      <td>0.524033</td>\n",
       "      <td>-1.156817</td>\n",
       "      <td>1.690314</td>\n",
       "    </tr>\n",
       "    <tr>\n",
       "      <th>2</th>\n",
       "      <td>0.444609</td>\n",
       "      <td>-0.086804</td>\n",
       "      <td>2.762558</td>\n",
       "      <td>2.597173</td>\n",
       "    </tr>\n",
       "    <tr>\n",
       "      <th>3</th>\n",
       "      <td>0.399464</td>\n",
       "      <td>-0.074743</td>\n",
       "      <td>-0.453328</td>\n",
       "      <td>-0.168515</td>\n",
       "    </tr>\n",
       "  </tbody>\n",
       "</table>\n",
       "</div>"
      ],
      "text/plain": [
       "          0         1         2         3\n",
       "0 -1.045313  0.481794  0.321574 -2.001203\n",
       "1 -0.118450  0.524033 -1.156817  1.690314\n",
       "2  0.444609 -0.086804  2.762558  2.597173\n",
       "3  0.399464 -0.074743 -0.453328 -0.168515"
      ]
     },
     "execution_count": 19,
     "metadata": {},
     "output_type": "execute_result"
    }
   ],
   "source": [
    "pd.DataFrame(np.random.randn(4,4))"
   ]
  },
  {
   "cell_type": "code",
   "execution_count": 20,
   "metadata": {
    "ExecuteTime": {
     "end_time": "2021-07-14T02:01:41.029218Z",
     "start_time": "2021-07-14T02:01:41.016200Z"
    }
   },
   "outputs": [
    {
     "data": {
      "text/html": [
       "<div>\n",
       "<style scoped>\n",
       "    .dataframe tbody tr th:only-of-type {\n",
       "        vertical-align: middle;\n",
       "    }\n",
       "\n",
       "    .dataframe tbody tr th {\n",
       "        vertical-align: top;\n",
       "    }\n",
       "\n",
       "    .dataframe thead th {\n",
       "        text-align: right;\n",
       "    }\n",
       "</style>\n",
       "<table border=\"1\" class=\"dataframe\">\n",
       "  <thead>\n",
       "    <tr style=\"text-align: right;\">\n",
       "      <th></th>\n",
       "      <th>0</th>\n",
       "      <th>1</th>\n",
       "      <th>2</th>\n",
       "      <th>3</th>\n",
       "      <th>4</th>\n",
       "      <th>5</th>\n",
       "      <th>6</th>\n",
       "    </tr>\n",
       "  </thead>\n",
       "  <tbody>\n",
       "    <tr>\n",
       "      <th>0</th>\n",
       "      <td>5</td>\n",
       "      <td>1</td>\n",
       "      <td>3</td>\n",
       "      <td>4</td>\n",
       "      <td>6</td>\n",
       "      <td>2</td>\n",
       "      <td>2</td>\n",
       "    </tr>\n",
       "    <tr>\n",
       "      <th>1</th>\n",
       "      <td>2</td>\n",
       "      <td>6</td>\n",
       "      <td>5</td>\n",
       "      <td>1</td>\n",
       "      <td>5</td>\n",
       "      <td>1</td>\n",
       "      <td>2</td>\n",
       "    </tr>\n",
       "    <tr>\n",
       "      <th>2</th>\n",
       "      <td>5</td>\n",
       "      <td>2</td>\n",
       "      <td>3</td>\n",
       "      <td>1</td>\n",
       "      <td>3</td>\n",
       "      <td>5</td>\n",
       "      <td>4</td>\n",
       "    </tr>\n",
       "    <tr>\n",
       "      <th>3</th>\n",
       "      <td>1</td>\n",
       "      <td>3</td>\n",
       "      <td>1</td>\n",
       "      <td>2</td>\n",
       "      <td>4</td>\n",
       "      <td>6</td>\n",
       "      <td>3</td>\n",
       "    </tr>\n",
       "    <tr>\n",
       "      <th>4</th>\n",
       "      <td>6</td>\n",
       "      <td>4</td>\n",
       "      <td>6</td>\n",
       "      <td>4</td>\n",
       "      <td>3</td>\n",
       "      <td>5</td>\n",
       "      <td>3</td>\n",
       "    </tr>\n",
       "    <tr>\n",
       "      <th>5</th>\n",
       "      <td>1</td>\n",
       "      <td>2</td>\n",
       "      <td>2</td>\n",
       "      <td>1</td>\n",
       "      <td>5</td>\n",
       "      <td>4</td>\n",
       "      <td>5</td>\n",
       "    </tr>\n",
       "    <tr>\n",
       "      <th>6</th>\n",
       "      <td>5</td>\n",
       "      <td>1</td>\n",
       "      <td>2</td>\n",
       "      <td>4</td>\n",
       "      <td>4</td>\n",
       "      <td>1</td>\n",
       "      <td>5</td>\n",
       "    </tr>\n",
       "  </tbody>\n",
       "</table>\n",
       "</div>"
      ],
      "text/plain": [
       "   0  1  2  3  4  5  6\n",
       "0  5  1  3  4  6  2  2\n",
       "1  2  6  5  1  5  1  2\n",
       "2  5  2  3  1  3  5  4\n",
       "3  1  3  1  2  4  6  3\n",
       "4  6  4  6  4  3  5  3\n",
       "5  1  2  2  1  5  4  5\n",
       "6  5  1  2  4  4  1  5"
      ]
     },
     "execution_count": 20,
     "metadata": {},
     "output_type": "execute_result"
    }
   ],
   "source": [
    "pd.DataFrame(np.random.randint(1, 7, (7,7)))"
   ]
  },
  {
   "cell_type": "code",
   "execution_count": 21,
   "metadata": {
    "ExecuteTime": {
     "end_time": "2021-07-14T02:01:41.044202Z",
     "start_time": "2021-07-14T02:01:41.031199Z"
    },
    "scrolled": true
   },
   "outputs": [
    {
     "data": {
      "text/html": [
       "<div>\n",
       "<style scoped>\n",
       "    .dataframe tbody tr th:only-of-type {\n",
       "        vertical-align: middle;\n",
       "    }\n",
       "\n",
       "    .dataframe tbody tr th {\n",
       "        vertical-align: top;\n",
       "    }\n",
       "\n",
       "    .dataframe thead th {\n",
       "        text-align: right;\n",
       "    }\n",
       "</style>\n",
       "<table border=\"1\" class=\"dataframe\">\n",
       "  <thead>\n",
       "    <tr style=\"text-align: right;\">\n",
       "      <th></th>\n",
       "      <th>0</th>\n",
       "      <th>1</th>\n",
       "      <th>2</th>\n",
       "      <th>3</th>\n",
       "      <th>4</th>\n",
       "      <th>5</th>\n",
       "      <th>6</th>\n",
       "      <th>7</th>\n",
       "      <th>8</th>\n",
       "      <th>9</th>\n",
       "    </tr>\n",
       "  </thead>\n",
       "  <tbody>\n",
       "    <tr>\n",
       "      <th>0</th>\n",
       "      <td>0.244114</td>\n",
       "      <td>0.929736</td>\n",
       "      <td>0.310150</td>\n",
       "      <td>0.924670</td>\n",
       "      <td>0.862529</td>\n",
       "      <td>0.855594</td>\n",
       "      <td>0.127457</td>\n",
       "      <td>0.687766</td>\n",
       "      <td>0.826255</td>\n",
       "      <td>0.365036</td>\n",
       "    </tr>\n",
       "    <tr>\n",
       "      <th>1</th>\n",
       "      <td>0.941885</td>\n",
       "      <td>0.513872</td>\n",
       "      <td>0.497796</td>\n",
       "      <td>0.899255</td>\n",
       "      <td>0.294325</td>\n",
       "      <td>0.616587</td>\n",
       "      <td>0.303041</td>\n",
       "      <td>0.915206</td>\n",
       "      <td>0.284539</td>\n",
       "      <td>0.908470</td>\n",
       "    </tr>\n",
       "    <tr>\n",
       "      <th>2</th>\n",
       "      <td>0.725219</td>\n",
       "      <td>0.893657</td>\n",
       "      <td>0.405087</td>\n",
       "      <td>0.633143</td>\n",
       "      <td>0.558671</td>\n",
       "      <td>0.475474</td>\n",
       "      <td>0.369561</td>\n",
       "      <td>0.120987</td>\n",
       "      <td>0.684223</td>\n",
       "      <td>0.641337</td>\n",
       "    </tr>\n",
       "    <tr>\n",
       "      <th>3</th>\n",
       "      <td>0.408985</td>\n",
       "      <td>0.227351</td>\n",
       "      <td>0.204302</td>\n",
       "      <td>0.631214</td>\n",
       "      <td>0.861625</td>\n",
       "      <td>0.121166</td>\n",
       "      <td>0.794413</td>\n",
       "      <td>0.534128</td>\n",
       "      <td>0.079771</td>\n",
       "      <td>0.046025</td>\n",
       "    </tr>\n",
       "    <tr>\n",
       "      <th>4</th>\n",
       "      <td>0.570377</td>\n",
       "      <td>0.188530</td>\n",
       "      <td>0.379692</td>\n",
       "      <td>0.120502</td>\n",
       "      <td>0.766641</td>\n",
       "      <td>0.275021</td>\n",
       "      <td>0.837355</td>\n",
       "      <td>0.909801</td>\n",
       "      <td>0.115160</td>\n",
       "      <td>0.842051</td>\n",
       "    </tr>\n",
       "    <tr>\n",
       "      <th>5</th>\n",
       "      <td>0.449671</td>\n",
       "      <td>0.770009</td>\n",
       "      <td>0.605920</td>\n",
       "      <td>0.393400</td>\n",
       "      <td>0.118885</td>\n",
       "      <td>0.684135</td>\n",
       "      <td>0.978289</td>\n",
       "      <td>0.380971</td>\n",
       "      <td>0.931651</td>\n",
       "      <td>0.283809</td>\n",
       "    </tr>\n",
       "    <tr>\n",
       "      <th>6</th>\n",
       "      <td>0.871976</td>\n",
       "      <td>0.506253</td>\n",
       "      <td>0.382094</td>\n",
       "      <td>0.464590</td>\n",
       "      <td>0.229783</td>\n",
       "      <td>0.676843</td>\n",
       "      <td>0.210797</td>\n",
       "      <td>0.027998</td>\n",
       "      <td>0.863209</td>\n",
       "      <td>0.879764</td>\n",
       "    </tr>\n",
       "    <tr>\n",
       "      <th>7</th>\n",
       "      <td>0.314996</td>\n",
       "      <td>0.729375</td>\n",
       "      <td>0.553457</td>\n",
       "      <td>0.571220</td>\n",
       "      <td>0.854100</td>\n",
       "      <td>0.869326</td>\n",
       "      <td>0.587867</td>\n",
       "      <td>0.947915</td>\n",
       "      <td>0.499601</td>\n",
       "      <td>0.182077</td>\n",
       "    </tr>\n",
       "    <tr>\n",
       "      <th>8</th>\n",
       "      <td>0.098656</td>\n",
       "      <td>0.985104</td>\n",
       "      <td>0.505245</td>\n",
       "      <td>0.541526</td>\n",
       "      <td>0.108020</td>\n",
       "      <td>0.108569</td>\n",
       "      <td>0.700664</td>\n",
       "      <td>0.364890</td>\n",
       "      <td>0.069772</td>\n",
       "      <td>0.675575</td>\n",
       "    </tr>\n",
       "    <tr>\n",
       "      <th>9</th>\n",
       "      <td>0.503971</td>\n",
       "      <td>0.407570</td>\n",
       "      <td>0.397817</td>\n",
       "      <td>0.781643</td>\n",
       "      <td>0.199184</td>\n",
       "      <td>0.865706</td>\n",
       "      <td>0.359719</td>\n",
       "      <td>0.764930</td>\n",
       "      <td>0.670105</td>\n",
       "      <td>0.820834</td>\n",
       "    </tr>\n",
       "  </tbody>\n",
       "</table>\n",
       "</div>"
      ],
      "text/plain": [
       "          0         1         2         3         4         5         6  \\\n",
       "0  0.244114  0.929736  0.310150  0.924670  0.862529  0.855594  0.127457   \n",
       "1  0.941885  0.513872  0.497796  0.899255  0.294325  0.616587  0.303041   \n",
       "2  0.725219  0.893657  0.405087  0.633143  0.558671  0.475474  0.369561   \n",
       "3  0.408985  0.227351  0.204302  0.631214  0.861625  0.121166  0.794413   \n",
       "4  0.570377  0.188530  0.379692  0.120502  0.766641  0.275021  0.837355   \n",
       "5  0.449671  0.770009  0.605920  0.393400  0.118885  0.684135  0.978289   \n",
       "6  0.871976  0.506253  0.382094  0.464590  0.229783  0.676843  0.210797   \n",
       "7  0.314996  0.729375  0.553457  0.571220  0.854100  0.869326  0.587867   \n",
       "8  0.098656  0.985104  0.505245  0.541526  0.108020  0.108569  0.700664   \n",
       "9  0.503971  0.407570  0.397817  0.781643  0.199184  0.865706  0.359719   \n",
       "\n",
       "          7         8         9  \n",
       "0  0.687766  0.826255  0.365036  \n",
       "1  0.915206  0.284539  0.908470  \n",
       "2  0.120987  0.684223  0.641337  \n",
       "3  0.534128  0.079771  0.046025  \n",
       "4  0.909801  0.115160  0.842051  \n",
       "5  0.380971  0.931651  0.283809  \n",
       "6  0.027998  0.863209  0.879764  \n",
       "7  0.947915  0.499601  0.182077  \n",
       "8  0.364890  0.069772  0.675575  \n",
       "9  0.764930  0.670105  0.820834  "
      ]
     },
     "execution_count": 21,
     "metadata": {},
     "output_type": "execute_result"
    }
   ],
   "source": [
    "nrows, ncols = 10, 10\n",
    "df1, df2, df3, df4 = (pd.DataFrame(np.random.rand(nrows, ncols)) for i in range(4))\n",
    "df3"
   ]
  },
  {
   "cell_type": "markdown",
   "metadata": {},
   "source": [
    "## OrderedDict로 데이터프레임 생성하기\n",
    "OrderedDict 자료구조로 데이터프레임을 생성하면, 컬럼의 순서가 뒤바뀌지 않습니다."
   ]
  },
  {
   "cell_type": "code",
   "execution_count": 22,
   "metadata": {
    "ExecuteTime": {
     "end_time": "2021-07-14T02:01:41.059205Z",
     "start_time": "2021-07-14T02:01:41.046203Z"
    }
   },
   "outputs": [],
   "source": [
    "from collections import OrderedDict"
   ]
  },
  {
   "cell_type": "code",
   "execution_count": 23,
   "metadata": {
    "ExecuteTime": {
     "end_time": "2021-07-14T02:01:41.074209Z",
     "start_time": "2021-07-14T02:01:41.063207Z"
    }
   },
   "outputs": [
    {
     "data": {
      "text/html": [
       "<div>\n",
       "<style scoped>\n",
       "    .dataframe tbody tr th:only-of-type {\n",
       "        vertical-align: middle;\n",
       "    }\n",
       "\n",
       "    .dataframe tbody tr th {\n",
       "        vertical-align: top;\n",
       "    }\n",
       "\n",
       "    .dataframe thead th {\n",
       "        text-align: right;\n",
       "    }\n",
       "</style>\n",
       "<table border=\"1\" class=\"dataframe\">\n",
       "  <thead>\n",
       "    <tr style=\"text-align: right;\">\n",
       "      <th></th>\n",
       "      <th>name</th>\n",
       "      <th>age</th>\n",
       "      <th>job</th>\n",
       "    </tr>\n",
       "  </thead>\n",
       "  <tbody>\n",
       "    <tr>\n",
       "      <th>0</th>\n",
       "      <td>John</td>\n",
       "      <td>20</td>\n",
       "      <td>student</td>\n",
       "    </tr>\n",
       "    <tr>\n",
       "      <th>1</th>\n",
       "      <td>Jenny</td>\n",
       "      <td>30</td>\n",
       "      <td>developer</td>\n",
       "    </tr>\n",
       "    <tr>\n",
       "      <th>2</th>\n",
       "      <td>Nate</td>\n",
       "      <td>30</td>\n",
       "      <td>teacher</td>\n",
       "    </tr>\n",
       "  </tbody>\n",
       "</table>\n",
       "</div>"
      ],
      "text/plain": [
       "    name  age        job\n",
       "0   John   20    student\n",
       "1  Jenny   30  developer\n",
       "2   Nate   30    teacher"
      ]
     },
     "execution_count": 23,
     "metadata": {},
     "output_type": "execute_result"
    }
   ],
   "source": [
    "friend_ordered_dict = OrderedDict([ ('name', ['John', 'Jenny', 'Nate']),\n",
    "          ('age', [20, 30, 30]),\n",
    "          ('job', ['student', 'developer', 'teacher']) ] )\n",
    "df = pd.DataFrame.from_dict(friend_ordered_dict)\n",
    "df.head()"
   ]
  },
  {
   "cell_type": "markdown",
   "metadata": {},
   "source": [
    "## from other sauce\n",
    "\n",
    "* pd.read_csv 등등 수많은 sauce( html, json, 등등)"
   ]
  },
  {
   "cell_type": "markdown",
   "metadata": {},
   "source": [
    "## from other DataFrame"
   ]
  },
  {
   "cell_type": "markdown",
   "metadata": {},
   "source": [
    "- by other dataframe's columns : 컬럼1 + 컬럼2  +...= 데이타 프레임 \n",
    "- by other dataframe's columns : dfA 컬럼 1 + dfB 컬럼 2   +...= 데이타 프레임"
   ]
  },
  {
   "cell_type": "code",
   "execution_count": 24,
   "metadata": {
    "ExecuteTime": {
     "end_time": "2021-07-14T02:01:41.089213Z",
     "start_time": "2021-07-14T02:01:41.076211Z"
    }
   },
   "outputs": [],
   "source": [
    "df1 = pd.DataFrame(np.random.randn(5,3), index=pd.date_range('01/02/2014',periods=5,freq='D'), columns=['a','b','c'] )\n",
    "df2 = pd.DataFrame(np.random.randn(8,3), index=pd.date_range('01/01/2014',periods=8,freq='D'), columns=['a','b','c'] )"
   ]
  },
  {
   "cell_type": "code",
   "execution_count": 25,
   "metadata": {
    "ExecuteTime": {
     "end_time": "2021-07-14T02:01:41.104215Z",
     "start_time": "2021-07-14T02:01:41.091213Z"
    }
   },
   "outputs": [
    {
     "data": {
      "text/html": [
       "<div>\n",
       "<style scoped>\n",
       "    .dataframe tbody tr th:only-of-type {\n",
       "        vertical-align: middle;\n",
       "    }\n",
       "\n",
       "    .dataframe tbody tr th {\n",
       "        vertical-align: top;\n",
       "    }\n",
       "\n",
       "    .dataframe thead th {\n",
       "        text-align: right;\n",
       "    }\n",
       "</style>\n",
       "<table border=\"1\" class=\"dataframe\">\n",
       "  <thead>\n",
       "    <tr style=\"text-align: right;\">\n",
       "      <th></th>\n",
       "      <th>a</th>\n",
       "      <th>b</th>\n",
       "      <th>c</th>\n",
       "    </tr>\n",
       "  </thead>\n",
       "  <tbody>\n",
       "    <tr>\n",
       "      <th>2014-01-02</th>\n",
       "      <td>-1.216909</td>\n",
       "      <td>-0.625671</td>\n",
       "      <td>-0.006455</td>\n",
       "    </tr>\n",
       "    <tr>\n",
       "      <th>2014-01-03</th>\n",
       "      <td>0.675490</td>\n",
       "      <td>1.063694</td>\n",
       "      <td>0.794528</td>\n",
       "    </tr>\n",
       "    <tr>\n",
       "      <th>2014-01-04</th>\n",
       "      <td>1.461711</td>\n",
       "      <td>-1.019393</td>\n",
       "      <td>0.327433</td>\n",
       "    </tr>\n",
       "    <tr>\n",
       "      <th>2014-01-05</th>\n",
       "      <td>-2.406654</td>\n",
       "      <td>0.525763</td>\n",
       "      <td>0.475469</td>\n",
       "    </tr>\n",
       "    <tr>\n",
       "      <th>2014-01-06</th>\n",
       "      <td>-0.922334</td>\n",
       "      <td>-0.382129</td>\n",
       "      <td>0.420474</td>\n",
       "    </tr>\n",
       "  </tbody>\n",
       "</table>\n",
       "</div>"
      ],
      "text/plain": [
       "                   a         b         c\n",
       "2014-01-02 -1.216909 -0.625671 -0.006455\n",
       "2014-01-03  0.675490  1.063694  0.794528\n",
       "2014-01-04  1.461711 -1.019393  0.327433\n",
       "2014-01-05 -2.406654  0.525763  0.475469\n",
       "2014-01-06 -0.922334 -0.382129  0.420474"
      ]
     },
     "execution_count": 25,
     "metadata": {},
     "output_type": "execute_result"
    }
   ],
   "source": [
    "df1"
   ]
  },
  {
   "cell_type": "code",
   "execution_count": 26,
   "metadata": {
    "ExecuteTime": {
     "end_time": "2021-07-14T02:01:41.119221Z",
     "start_time": "2021-07-14T02:01:41.106218Z"
    }
   },
   "outputs": [
    {
     "data": {
      "text/plain": [
       "2014-01-02   -1.216909\n",
       "2014-01-03    0.675490\n",
       "2014-01-04    1.461711\n",
       "2014-01-05   -2.406654\n",
       "2014-01-06   -0.922334\n",
       "Freq: D, Name: a, dtype: float64"
      ]
     },
     "execution_count": 26,
     "metadata": {},
     "output_type": "execute_result"
    }
   ],
   "source": [
    "df1['a']"
   ]
  },
  {
   "cell_type": "code",
   "execution_count": 27,
   "metadata": {
    "ExecuteTime": {
     "end_time": "2021-07-14T02:01:41.134222Z",
     "start_time": "2021-07-14T02:01:41.121219Z"
    }
   },
   "outputs": [
    {
     "data": {
      "text/html": [
       "<div>\n",
       "<style scoped>\n",
       "    .dataframe tbody tr th:only-of-type {\n",
       "        vertical-align: middle;\n",
       "    }\n",
       "\n",
       "    .dataframe tbody tr th {\n",
       "        vertical-align: top;\n",
       "    }\n",
       "\n",
       "    .dataframe thead th {\n",
       "        text-align: right;\n",
       "    }\n",
       "</style>\n",
       "<table border=\"1\" class=\"dataframe\">\n",
       "  <thead>\n",
       "    <tr style=\"text-align: right;\">\n",
       "      <th></th>\n",
       "      <th>2014-01-01</th>\n",
       "      <th>2014-01-02</th>\n",
       "      <th>2014-01-03</th>\n",
       "      <th>2014-01-04</th>\n",
       "      <th>2014-01-05</th>\n",
       "      <th>2014-01-06</th>\n",
       "      <th>2014-01-07</th>\n",
       "      <th>2014-01-08</th>\n",
       "    </tr>\n",
       "  </thead>\n",
       "  <tbody>\n",
       "    <tr>\n",
       "      <th>a</th>\n",
       "      <td>NaN</td>\n",
       "      <td>-1.216909</td>\n",
       "      <td>0.675490</td>\n",
       "      <td>1.461711</td>\n",
       "      <td>-2.406654</td>\n",
       "      <td>-0.922334</td>\n",
       "      <td>NaN</td>\n",
       "      <td>NaN</td>\n",
       "    </tr>\n",
       "    <tr>\n",
       "      <th>b</th>\n",
       "      <td>0.428775</td>\n",
       "      <td>1.091989</td>\n",
       "      <td>-0.322614</td>\n",
       "      <td>1.644812</td>\n",
       "      <td>1.323992</td>\n",
       "      <td>0.691642</td>\n",
       "      <td>-0.782043</td>\n",
       "      <td>-1.488231</td>\n",
       "    </tr>\n",
       "  </tbody>\n",
       "</table>\n",
       "</div>"
      ],
      "text/plain": [
       "   2014-01-01  2014-01-02  2014-01-03  2014-01-04  2014-01-05  2014-01-06  \\\n",
       "a         NaN   -1.216909    0.675490    1.461711   -2.406654   -0.922334   \n",
       "b    0.428775    1.091989   -0.322614    1.644812    1.323992    0.691642   \n",
       "\n",
       "   2014-01-07  2014-01-08  \n",
       "a         NaN         NaN  \n",
       "b   -0.782043   -1.488231  "
      ]
     },
     "execution_count": 27,
     "metadata": {},
     "output_type": "execute_result"
    }
   ],
   "source": [
    "# 시리즈를 2개 묶은것\n",
    "pd.DataFrame([df1['a'],df2['b']])"
   ]
  },
  {
   "cell_type": "code",
   "execution_count": 28,
   "metadata": {
    "ExecuteTime": {
     "end_time": "2021-07-14T02:01:41.149226Z",
     "start_time": "2021-07-14T02:01:41.136224Z"
    }
   },
   "outputs": [
    {
     "data": {
      "text/html": [
       "<div>\n",
       "<style scoped>\n",
       "    .dataframe tbody tr th:only-of-type {\n",
       "        vertical-align: middle;\n",
       "    }\n",
       "\n",
       "    .dataframe tbody tr th {\n",
       "        vertical-align: top;\n",
       "    }\n",
       "\n",
       "    .dataframe thead th {\n",
       "        text-align: right;\n",
       "    }\n",
       "</style>\n",
       "<table border=\"1\" class=\"dataframe\">\n",
       "  <thead>\n",
       "    <tr style=\"text-align: right;\">\n",
       "      <th></th>\n",
       "      <th>a</th>\n",
       "      <th>b</th>\n",
       "    </tr>\n",
       "  </thead>\n",
       "  <tbody>\n",
       "    <tr>\n",
       "      <th>2014-01-01</th>\n",
       "      <td>NaN</td>\n",
       "      <td>0.428775</td>\n",
       "    </tr>\n",
       "    <tr>\n",
       "      <th>2014-01-02</th>\n",
       "      <td>-1.216909</td>\n",
       "      <td>1.091989</td>\n",
       "    </tr>\n",
       "    <tr>\n",
       "      <th>2014-01-03</th>\n",
       "      <td>0.675490</td>\n",
       "      <td>-0.322614</td>\n",
       "    </tr>\n",
       "    <tr>\n",
       "      <th>2014-01-04</th>\n",
       "      <td>1.461711</td>\n",
       "      <td>1.644812</td>\n",
       "    </tr>\n",
       "    <tr>\n",
       "      <th>2014-01-05</th>\n",
       "      <td>-2.406654</td>\n",
       "      <td>1.323992</td>\n",
       "    </tr>\n",
       "    <tr>\n",
       "      <th>2014-01-06</th>\n",
       "      <td>-0.922334</td>\n",
       "      <td>0.691642</td>\n",
       "    </tr>\n",
       "    <tr>\n",
       "      <th>2014-01-07</th>\n",
       "      <td>NaN</td>\n",
       "      <td>-0.782043</td>\n",
       "    </tr>\n",
       "    <tr>\n",
       "      <th>2014-01-08</th>\n",
       "      <td>NaN</td>\n",
       "      <td>-1.488231</td>\n",
       "    </tr>\n",
       "  </tbody>\n",
       "</table>\n",
       "</div>"
      ],
      "text/plain": [
       "                   a         b\n",
       "2014-01-01       NaN  0.428775\n",
       "2014-01-02 -1.216909  1.091989\n",
       "2014-01-03  0.675490 -0.322614\n",
       "2014-01-04  1.461711  1.644812\n",
       "2014-01-05 -2.406654  1.323992\n",
       "2014-01-06 -0.922334  0.691642\n",
       "2014-01-07       NaN -0.782043\n",
       "2014-01-08       NaN -1.488231"
      ]
     },
     "execution_count": 28,
     "metadata": {},
     "output_type": "execute_result"
    }
   ],
   "source": [
    "pd.DataFrame({'a':df1['a'], 'b': df2['b']})"
   ]
  },
  {
   "cell_type": "code",
   "execution_count": 29,
   "metadata": {
    "ExecuteTime": {
     "end_time": "2021-07-14T02:01:41.164228Z",
     "start_time": "2021-07-14T02:01:41.151226Z"
    },
    "scrolled": true
   },
   "outputs": [
    {
     "data": {
      "text/html": [
       "<div>\n",
       "<style scoped>\n",
       "    .dataframe tbody tr th:only-of-type {\n",
       "        vertical-align: middle;\n",
       "    }\n",
       "\n",
       "    .dataframe tbody tr th {\n",
       "        vertical-align: top;\n",
       "    }\n",
       "\n",
       "    .dataframe thead th {\n",
       "        text-align: right;\n",
       "    }\n",
       "</style>\n",
       "<table border=\"1\" class=\"dataframe\">\n",
       "  <thead>\n",
       "    <tr style=\"text-align: right;\">\n",
       "      <th></th>\n",
       "      <th>a</th>\n",
       "      <th>b</th>\n",
       "    </tr>\n",
       "  </thead>\n",
       "  <tbody>\n",
       "    <tr>\n",
       "      <th>2014-01-02</th>\n",
       "      <td>-1.216909</td>\n",
       "      <td>-0.625671</td>\n",
       "    </tr>\n",
       "    <tr>\n",
       "      <th>2014-01-03</th>\n",
       "      <td>0.675490</td>\n",
       "      <td>1.063694</td>\n",
       "    </tr>\n",
       "    <tr>\n",
       "      <th>2014-01-04</th>\n",
       "      <td>1.461711</td>\n",
       "      <td>-1.019393</td>\n",
       "    </tr>\n",
       "    <tr>\n",
       "      <th>2014-01-05</th>\n",
       "      <td>-2.406654</td>\n",
       "      <td>0.525763</td>\n",
       "    </tr>\n",
       "    <tr>\n",
       "      <th>2014-01-06</th>\n",
       "      <td>-0.922334</td>\n",
       "      <td>-0.382129</td>\n",
       "    </tr>\n",
       "  </tbody>\n",
       "</table>\n",
       "</div>"
      ],
      "text/plain": [
       "                   a         b\n",
       "2014-01-02 -1.216909 -0.625671\n",
       "2014-01-03  0.675490  1.063694\n",
       "2014-01-04  1.461711 -1.019393\n",
       "2014-01-05 -2.406654  0.525763\n",
       "2014-01-06 -0.922334 -0.382129"
      ]
     },
     "execution_count": 29,
     "metadata": {},
     "output_type": "execute_result"
    }
   ],
   "source": [
    "pd.DataFrame(df1[['a','b']])    "
   ]
  },
  {
   "cell_type": "code",
   "execution_count": 30,
   "metadata": {
    "ExecuteTime": {
     "end_time": "2021-07-14T02:01:41.179235Z",
     "start_time": "2021-07-14T02:01:41.165230Z"
    },
    "scrolled": true
   },
   "outputs": [
    {
     "data": {
      "text/html": [
       "<div>\n",
       "<style scoped>\n",
       "    .dataframe tbody tr th:only-of-type {\n",
       "        vertical-align: middle;\n",
       "    }\n",
       "\n",
       "    .dataframe tbody tr th {\n",
       "        vertical-align: top;\n",
       "    }\n",
       "\n",
       "    .dataframe thead th {\n",
       "        text-align: right;\n",
       "    }\n",
       "</style>\n",
       "<table border=\"1\" class=\"dataframe\">\n",
       "  <thead>\n",
       "    <tr style=\"text-align: right;\">\n",
       "      <th></th>\n",
       "      <th>a</th>\n",
       "      <th>b</th>\n",
       "    </tr>\n",
       "  </thead>\n",
       "  <tbody>\n",
       "    <tr>\n",
       "      <th>2014-01-02</th>\n",
       "      <td>-1.216909</td>\n",
       "      <td>-0.625671</td>\n",
       "    </tr>\n",
       "    <tr>\n",
       "      <th>2014-01-03</th>\n",
       "      <td>0.675490</td>\n",
       "      <td>1.063694</td>\n",
       "    </tr>\n",
       "    <tr>\n",
       "      <th>2014-01-04</th>\n",
       "      <td>1.461711</td>\n",
       "      <td>-1.019393</td>\n",
       "    </tr>\n",
       "    <tr>\n",
       "      <th>2014-01-05</th>\n",
       "      <td>-2.406654</td>\n",
       "      <td>0.525763</td>\n",
       "    </tr>\n",
       "    <tr>\n",
       "      <th>2014-01-06</th>\n",
       "      <td>-0.922334</td>\n",
       "      <td>-0.382129</td>\n",
       "    </tr>\n",
       "  </tbody>\n",
       "</table>\n",
       "</div>"
      ],
      "text/plain": [
       "                   a         b\n",
       "2014-01-02 -1.216909 -0.625671\n",
       "2014-01-03  0.675490  1.063694\n",
       "2014-01-04  1.461711 -1.019393\n",
       "2014-01-05 -2.406654  0.525763\n",
       "2014-01-06 -0.922334 -0.382129"
      ]
     },
     "execution_count": 30,
     "metadata": {},
     "output_type": "execute_result"
    }
   ],
   "source": [
    "pd.DataFrame({'a':df1['a'], 'b':df1['b']})"
   ]
  },
  {
   "cell_type": "markdown",
   "metadata": {},
   "source": [
    "# 조회"
   ]
  },
  {
   "cell_type": "markdown",
   "metadata": {},
   "source": [
    "## `info()` & `describe()` "
   ]
  },
  {
   "cell_type": "markdown",
   "metadata": {},
   "source": [
    "## 조회 및 출력 `iterrows()`, `itertuples()`, `iteritems()`"
   ]
  },
  {
   "cell_type": "code",
   "execution_count": 31,
   "metadata": {
    "ExecuteTime": {
     "end_time": "2021-07-14T02:01:41.194236Z",
     "start_time": "2021-07-14T02:01:41.181234Z"
    }
   },
   "outputs": [],
   "source": [
    "import pandas as pd\n",
    "\n",
    "\n",
    "df = pd.DataFrame({'A': list('ABCDABCDAB'), 'num': range(10)})"
   ]
  },
  {
   "cell_type": "markdown",
   "metadata": {},
   "source": [
    "### `iterrows()`"
   ]
  },
  {
   "cell_type": "code",
   "execution_count": 32,
   "metadata": {
    "ExecuteTime": {
     "end_time": "2021-07-14T02:01:41.209239Z",
     "start_time": "2021-07-14T02:01:41.196236Z"
    }
   },
   "outputs": [
    {
     "name": "stdout",
     "output_type": "stream",
     "text": [
      "(0, A      A\n",
      "num    0\n",
      "Name: 0, dtype: object)\n"
     ]
    }
   ],
   "source": [
    "for row in df.iterrows():\n",
    "    print(row)\n",
    "    break"
   ]
  },
  {
   "cell_type": "code",
   "execution_count": 33,
   "metadata": {
    "ExecuteTime": {
     "end_time": "2021-07-14T02:01:41.224244Z",
     "start_time": "2021-07-14T02:01:41.211241Z"
    }
   },
   "outputs": [
    {
     "name": "stdout",
     "output_type": "stream",
     "text": [
      "key: 0 val: A      A\n",
      "num    0\n",
      "Name: 0, dtype: object\n"
     ]
    }
   ],
   "source": [
    "for row in df.iterrows():\n",
    "    print('key:', row[0], 'val:', row[1])\n",
    "    break"
   ]
  },
  {
   "cell_type": "code",
   "execution_count": 34,
   "metadata": {
    "ExecuteTime": {
     "end_time": "2021-07-14T02:01:41.239246Z",
     "start_time": "2021-07-14T02:01:41.226245Z"
    }
   },
   "outputs": [
    {
     "name": "stdout",
     "output_type": "stream",
     "text": [
      "0 A 0\n",
      "1 B 1\n",
      "2 C 2\n",
      "3 D 3\n",
      "4 A 4\n",
      "5 B 5\n",
      "6 C 6\n",
      "7 D 7\n",
      "8 A 8\n",
      "9 B 9\n"
     ]
    }
   ],
   "source": [
    "for k, v in df.iterrows():\n",
    "    print(k, v['A'],v['num'])"
   ]
  },
  {
   "cell_type": "markdown",
   "metadata": {},
   "source": [
    "### `itertuples()`"
   ]
  },
  {
   "cell_type": "code",
   "execution_count": 35,
   "metadata": {
    "ExecuteTime": {
     "end_time": "2021-07-14T02:01:41.254251Z",
     "start_time": "2021-07-14T02:01:41.241247Z"
    }
   },
   "outputs": [
    {
     "name": "stdout",
     "output_type": "stream",
     "text": [
      "tuple Pandas(Index=0, A='A', num=0)\n",
      "tuple Pandas(Index=1, A='B', num=1)\n",
      "tuple Pandas(Index=2, A='C', num=2)\n",
      "tuple Pandas(Index=3, A='D', num=3)\n",
      "tuple Pandas(Index=4, A='A', num=4)\n",
      "tuple Pandas(Index=5, A='B', num=5)\n",
      "tuple Pandas(Index=6, A='C', num=6)\n",
      "tuple Pandas(Index=7, A='D', num=7)\n",
      "tuple Pandas(Index=8, A='A', num=8)\n",
      "tuple Pandas(Index=9, A='B', num=9)\n"
     ]
    }
   ],
   "source": [
    "for t in df.itertuples():\n",
    "    print(\"tuple\", t)"
   ]
  },
  {
   "cell_type": "code",
   "execution_count": 36,
   "metadata": {
    "ExecuteTime": {
     "end_time": "2021-07-14T02:01:41.269252Z",
     "start_time": "2021-07-14T02:01:41.257253Z"
    }
   },
   "outputs": [
    {
     "name": "stdout",
     "output_type": "stream",
     "text": [
      "index:  0 A: A num: 0\n",
      "index:  1 A: B num: 1\n",
      "index:  2 A: C num: 2\n",
      "index:  3 A: D num: 3\n",
      "index:  4 A: A num: 4\n",
      "index:  5 A: B num: 5\n",
      "index:  6 A: C num: 6\n",
      "index:  7 A: D num: 7\n",
      "index:  8 A: A num: 8\n",
      "index:  9 A: B num: 9\n"
     ]
    }
   ],
   "source": [
    "for i, a, b in df.itertuples():\n",
    "    print('index: ', i, 'A:', a, 'num:', b)"
   ]
  },
  {
   "cell_type": "markdown",
   "metadata": {},
   "source": [
    "### `iteritems()`"
   ]
  },
  {
   "cell_type": "code",
   "execution_count": 37,
   "metadata": {
    "ExecuteTime": {
     "end_time": "2021-07-14T02:01:41.284256Z",
     "start_time": "2021-07-14T02:01:41.271256Z"
    }
   },
   "outputs": [
    {
     "name": "stdout",
     "output_type": "stream",
     "text": [
      "A: A num: 0    A\n",
      "1    B\n",
      "2    C\n",
      "3    D\n",
      "4    A\n",
      "5    B\n",
      "6    C\n",
      "7    D\n",
      "8    A\n",
      "9    B\n",
      "Name: A, dtype: object\n",
      "A: num num: 0    0\n",
      "1    1\n",
      "2    2\n",
      "3    3\n",
      "4    4\n",
      "5    5\n",
      "6    6\n",
      "7    7\n",
      "8    8\n",
      "9    9\n",
      "Name: num, dtype: int64\n"
     ]
    }
   ],
   "source": [
    "for  a, b in df.iteritems():\n",
    "    print( 'A:', a, 'num:', b)"
   ]
  },
  {
   "cell_type": "markdown",
   "metadata": {},
   "source": [
    "출처: \n",
    "* <a href='https://github.com/SeWonKwon' ><div> <img src ='https://slid-capture.s3.ap-northeast-2.amazonaws.com/public/image_upload/6556674324ed41a289a354258718280d/964e5a8b-75ad-41fc-ae75-0ca66d06fbc7.png' align='left' /> </div></a>\n",
    "\n",
    "\n",
    "<br>\n",
    "\n",
    "\n",
    "* [이수안컴퓨터연구소](https://www.youtube.com/channel/UCFfALXX0DOx7zv6VeR5U_Bg)\n",
    "* https://github.com/minsuk-heo/pandas"
   ]
  }
 ],
 "metadata": {
  "kernelspec": {
   "display_name": "Python 3",
   "language": "python",
   "name": "python3"
  },
  "language_info": {
   "codemirror_mode": {
    "name": "ipython",
    "version": 3
   },
   "file_extension": ".py",
   "mimetype": "text/x-python",
   "name": "python",
   "nbconvert_exporter": "python",
   "pygments_lexer": "ipython3",
   "version": "3.8.5"
  },
  "toc": {
   "base_numbering": 1,
   "nav_menu": {},
   "number_sections": true,
   "sideBar": true,
   "skip_h1_title": false,
   "title_cell": "Table of Contents",
   "title_sidebar": "Contents",
   "toc_cell": false,
   "toc_position": {
    "height": "calc(100% - 180px)",
    "left": "10px",
    "top": "150px",
    "width": "289.722px"
   },
   "toc_section_display": true,
   "toc_window_display": true
  }
 },
 "nbformat": 4,
 "nbformat_minor": 4
}
