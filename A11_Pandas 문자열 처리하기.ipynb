{
 "cells": [
  {
   "cell_type": "markdown",
   "metadata": {},
   "source": [
    "<a href='https://github.com/SeWonKwon' ><div> <img src ='https://slid-capture.s3.ap-northeast-2.amazonaws.com/public/image_upload/6556674324ed41a289a354258718280d/964e5a8b-75ad-41fc-ae75-0ca66d06fbc7.png' align='left' /> </div></a>\n",
    "\n"
   ]
  },
  {
   "cell_type": "code",
   "execution_count": 2,
   "metadata": {
    "ExecuteTime": {
     "end_time": "2021-07-02T15:54:15.821879Z",
     "start_time": "2021-07-02T15:54:14.180914Z"
    }
   },
   "outputs": [],
   "source": [
    "import pandas as pd"
   ]
  },
  {
   "cell_type": "markdown",
   "metadata": {},
   "source": [
    "# 문자열 연산"
   ]
  },
  {
   "cell_type": "markdown",
   "metadata": {},
   "source": [
    "- 파이썬의 문자열 연산자를 거의 모두 반영\n",
    "- 문자열 연산자를 쓰기 위해선 str.을 꼭 써줘야 한다."
   ]
  },
  {
   "cell_type": "markdown",
   "metadata": {},
   "source": [
    "##   문자열 연산자"
   ]
  },
  {
   "cell_type": "markdown",
   "metadata": {},
   "source": [
    "|함수|설명|\n",
    "|:---|:---|\n",
    "|```capitalize( )```|첫 문자를 대문자로 하고, 나머지 문자를 소문자로 하는 문자열 반환|\n",
    "|```casefold( )```|모든 대소문자 구분을 제거|\n",
    "|```count( sub, [, start[, end]] )```|[start, end] 범위에서 부분 문자열 sub의 중복되지 않은 수를 반환|\n",
    "|```find( sub, [, start[, end]] )```|[start, end] 범위에서 부분 문자열 sub가 문자열의 가장 작은 인덱스를 반환. sub가 발견되지 않는 경우는 -1 반환|\n",
    "|```rfind( sub, [, start[, end]] )```|[start, end] 범위에서 부분 문자열 sub가 문자열의 가장 큰 인덱스를 반환. sub가 발견되지 않는 경우는 -1 반환|\n",
    "|```index( sub, [, start[, end]] )```|find()와 유사하지만 부분 문자열 sub가 없으면 ValueError가 발생|\n",
    "|```rindex( sub, [, start[, end]] )```|rfind( )와 유사하지만 부분 문자열인 sub가 없으면 ValueError가 발생|\n",
    "|```isalnum( )```|문자열의 모든 문자가 영숫자로 1개 이상 있으면 True, 아니면 False 반환|\n",
    "|```isalpha( )```|문자열의 모든 문자가 영문자로 1개 이상 있으면 True, 아니면 False 반환|\n",
    "|```isdecimal( )```|문자열의 모든 문자가 10진수 문자이며 1개 이상 있을 때 True, 그렇지 않으면 False 반환|\n",
    "|```isdigit( )```|문자열의 모든 문자가 숫자미여 1개 이상 있을 때 True, 그렇지 않으면 False 반환|\n",
    "|```isnumeric( )```|문자열의 모든 문자가 수치형이며 1개 이상 있을 때 True, 그렇지 않으면 False 반환|\n",
    "|```isidentifier( )```|문자열이 유효한 식별자인 경우 True 반환|\n",
    "|```isspace( )```|문자열 내에 공백 문자만 있으면 True, 그렇지 않으면 False 반환|\n",
    "|```istitle( )```|문자열이 제목이 있는 문자열에 문자가 1개 이상 있으면 True, 그렇지 않으면 False 반환|\n",
    "|```islower( )```|문자열의 모든 문자가 소문자이며 1개 이상 있을 때 True, 그렇지 않으면 False 반환|\n",
    "|```isupper( )```|문자열의 문자가 모두 대문자에 문자가 1개 이상 있으면 True, 그렇지 않으면 False 반환|\n",
    "|```join( iterable )```|iterable에 있는 문자열에 연결된 문자열을 반환|\n",
    "|```center( width[, fillchar] )```|길이 너비민큼 중앙정렬된 문자열 반환|\n",
    "|```ljust( width[, fillchar] )```|너비만금의 문자열에서 왼쪽 정렬된 문자열을 반환|\n",
    "|```rjust( width[, fillchar] )```|너비만큼의 문자열에서 오른쪽 정렬된 문자열을 반환|\n",
    "|```lower( )```|모든 대소문자가 소문자로 변환된 문자열을 반환|\n",
    "|```upper( )```|문자열에서 모든 문자를 대문자로 변환된 문자열을 반환|\n",
    "|```title( )```|문자열에서 첫 글자만 대문자이고 나머지는 소문자인 문자열 반환|\n",
    "|```swapcase( )```|문자열에서 소문자를 대문자로 대문자를 소문자로 변원한 문자열 반환|\n",
    "|```strip( [chars] )```|문자열 앙쪽에 지정된 chars 또는 공백을 제거한 문자열을 반환|\n",
    "|```lstrip( [chars] )```|문자열 왼쪽에 지징된 chars 또는 공백을 제거한 문자열을 반환|\n",
    "|```rstrip( [chars] )```|문자열 오른쪽에 지정된 chars 또는 공백을 재거한 문자열을 반환|\n",
    "|```partition( sep )```|문자열에서 첫번째 sep를 기준으로 분할하여 3개의 튜플을 반환|\n",
    "|```rpartition( sep )```|문자열에서 미지막 sep를 기준으로 분할하여 3개의 튜플을 반환|\n",
    "|```replace( old, new[count] )```|문자열의 모든 old글 new로 교체한 문자열을 반환|\n",
    "|```split( sep=None, maxsplit=1 )```|sep를 구분자 문자열로 사용하여 문자열의 단어 목록을 반환|\n",
    "|```rsplit( sep=None, maxsplit=1 )```|sep를 구분자 문자열로 사용하여 문자열의 단어 목록을 반환|\n",
    "|```splitlines( [keepends] )```|문자열에서 라인 단위로 구분하여 리스트를 반환|\n",
    "|```startswith( prefix [, start[, end]] )```|[start, end] 범위에서 지정한 prefix로 시작하면 True, 아니면 False 반환|\n",
    "|```endswith( suffix [, start[, end]] )```|[start, end] 범위에서 지정한 suffix로 끝나면 True, 아니면 False 반환|\n",
    "|```zfill( width )```|너비 만큼 문자열에서 비어있는 부분에 '0'이 채워진 문자열 반환|"
   ]
  },
  {
   "cell_type": "code",
   "execution_count": 3,
   "metadata": {
    "ExecuteTime": {
     "end_time": "2021-07-02T15:54:15.836890Z",
     "start_time": "2021-07-02T15:54:15.822877Z"
    }
   },
   "outputs": [
    {
     "data": {
      "text/plain": [
       "0            Suan Lee\n",
       "1         Steven Jobs\n",
       "2          Larry Page\n",
       "3           Elon Musk\n",
       "4                None\n",
       "5          Bill Gates\n",
       "6    Mark Zuckerbuerg\n",
       "7          Jeff Bezos\n",
       "dtype: object"
      ]
     },
     "execution_count": 3,
     "metadata": {},
     "output_type": "execute_result"
    }
   ],
   "source": [
    "name_tuple = ['Suan Lee', 'Steven Jobs', 'Larry Page',\n",
    "              'Elon Musk', None, 'Bill Gates', \n",
    "              'Mark Zuckerbuerg', 'Jeff Bezos']\n",
    "names = pd.Series(name_tuple)\n",
    "names"
   ]
  },
  {
   "cell_type": "code",
   "execution_count": 4,
   "metadata": {
    "ExecuteTime": {
     "end_time": "2021-07-02T15:54:15.851903Z",
     "start_time": "2021-07-02T15:54:15.837890Z"
    }
   },
   "outputs": [
    {
     "data": {
      "text/plain": [
       "0            suan lee\n",
       "1         steven jobs\n",
       "2          larry page\n",
       "3           elon musk\n",
       "4                None\n",
       "5          bill gates\n",
       "6    mark zuckerbuerg\n",
       "7          jeff bezos\n",
       "dtype: object"
      ]
     },
     "execution_count": 4,
     "metadata": {},
     "output_type": "execute_result"
    }
   ],
   "source": [
    "names.str.lower()"
   ]
  },
  {
   "cell_type": "code",
   "execution_count": 5,
   "metadata": {
    "ExecuteTime": {
     "end_time": "2021-07-02T15:54:15.866920Z",
     "start_time": "2021-07-02T15:54:15.852904Z"
    }
   },
   "outputs": [
    {
     "data": {
      "text/plain": [
       "0     8.0\n",
       "1    11.0\n",
       "2    10.0\n",
       "3     9.0\n",
       "4     NaN\n",
       "5    10.0\n",
       "6    16.0\n",
       "7    10.0\n",
       "dtype: float64"
      ]
     },
     "execution_count": 5,
     "metadata": {},
     "output_type": "execute_result"
    }
   ],
   "source": [
    "names.str.len()"
   ]
  },
  {
   "cell_type": "code",
   "execution_count": 6,
   "metadata": {
    "ExecuteTime": {
     "end_time": "2021-07-02T15:54:15.881934Z",
     "start_time": "2021-07-02T15:54:15.867921Z"
    }
   },
   "outputs": [
    {
     "data": {
      "text/plain": [
       "0            [Suan, Lee]\n",
       "1         [Steven, Jobs]\n",
       "2          [Larry, Page]\n",
       "3           [Elon, Musk]\n",
       "4                   None\n",
       "5          [Bill, Gates]\n",
       "6    [Mark, Zuckerbuerg]\n",
       "7          [Jeff, Bezos]\n",
       "dtype: object"
      ]
     },
     "execution_count": 6,
     "metadata": {},
     "output_type": "execute_result"
    }
   ],
   "source": [
    "names.str.split()"
   ]
  },
  {
   "cell_type": "markdown",
   "metadata": {},
   "source": [
    "## 기타 연산자"
   ]
  },
  {
   "cell_type": "markdown",
   "metadata": {},
   "source": [
    "|메소드|설명|\n",
    "|:-|:-|\n",
    "|```get( )```|각 요소에 인덱스 지정|\n",
    "|```slice_replace( )```|각 요소의 슬라이스를 특정 값으로 대체|\n",
    "|```cat( )```|문자열 연결|\n",
    "|```recat( )```|값 반복|\n",
    "|```normalize( )```|문자열의 유니코드 형태로 반환|\n",
    "|```pad( )```|문자열 왼쪽, 오른쪽, 또는 양쪽 공백 추가|\n",
    "|```wrap( )```|긴 문자열을 주어진 너비보다 짧은 길이의 여러 줄로 나눔|\n",
    "|```join( )```|Series의 각 요소에 있는 문자열을 전달된 구분자와 결함|\n",
    "|```get_dummies( )```|DataFrame으로 가변수(dummy variable)추출|"
   ]
  },
  {
   "cell_type": "code",
   "execution_count": 7,
   "metadata": {
    "ExecuteTime": {
     "end_time": "2021-07-02T15:54:15.896950Z",
     "start_time": "2021-07-02T15:54:15.882935Z"
    }
   },
   "outputs": [
    {
     "data": {
      "text/plain": [
       "0    Suan\n",
       "1    Stev\n",
       "2    Larr\n",
       "3    Elon\n",
       "4    None\n",
       "5    Bill\n",
       "6    Mark\n",
       "7    Jeff\n",
       "dtype: object"
      ]
     },
     "execution_count": 7,
     "metadata": {},
     "output_type": "execute_result"
    }
   ],
   "source": [
    "names.str[0:4]"
   ]
  },
  {
   "cell_type": "code",
   "execution_count": 8,
   "metadata": {
    "ExecuteTime": {
     "end_time": "2021-07-02T15:54:15.911963Z",
     "start_time": "2021-07-02T15:54:15.897948Z"
    }
   },
   "outputs": [
    {
     "data": {
      "text/plain": [
       "0            Lee\n",
       "1           Jobs\n",
       "2           Page\n",
       "3           Musk\n",
       "4           None\n",
       "5          Gates\n",
       "6    Zuckerbuerg\n",
       "7          Bezos\n",
       "dtype: object"
      ]
     },
     "execution_count": 8,
     "metadata": {},
     "output_type": "execute_result"
    }
   ],
   "source": [
    "names.str.split().str.get(-1) # 성만 가져오기"
   ]
  },
  {
   "cell_type": "code",
   "execution_count": 9,
   "metadata": {
    "ExecuteTime": {
     "end_time": "2021-07-02T15:54:15.926976Z",
     "start_time": "2021-07-02T15:54:15.912964Z"
    }
   },
   "outputs": [
    {
     "data": {
      "text/plain": [
       "0                    Suan LeeSuan Lee\n",
       "1              Steven JobsSteven Jobs\n",
       "2                Larry PageLarry Page\n",
       "3                  Elon MuskElon Musk\n",
       "4                                None\n",
       "5                Bill GatesBill Gates\n",
       "6    Mark ZuckerbuergMark Zuckerbuerg\n",
       "7                Jeff BezosJeff Bezos\n",
       "dtype: object"
      ]
     },
     "execution_count": 9,
     "metadata": {},
     "output_type": "execute_result"
    }
   ],
   "source": [
    "names.str.repeat(2)"
   ]
  },
  {
   "cell_type": "code",
   "execution_count": 10,
   "metadata": {
    "ExecuteTime": {
     "end_time": "2021-07-02T15:54:15.941991Z",
     "start_time": "2021-07-02T15:54:15.927975Z"
    }
   },
   "outputs": [
    {
     "data": {
      "text/plain": [
       "0                    S*u*a*n* *L*e*e\n",
       "1              S*t*e*v*e*n* *J*o*b*s\n",
       "2                L*a*r*r*y* *P*a*g*e\n",
       "3                  E*l*o*n* *M*u*s*k\n",
       "4                               None\n",
       "5                B*i*l*l* *G*a*t*e*s\n",
       "6    M*a*r*k* *Z*u*c*k*e*r*b*u*e*r*g\n",
       "7                J*e*f*f* *B*e*z*o*s\n",
       "dtype: object"
      ]
     },
     "execution_count": 10,
     "metadata": {},
     "output_type": "execute_result"
    }
   ],
   "source": [
    "names.str.join('*')"
   ]
  },
  {
   "cell_type": "markdown",
   "metadata": {},
   "source": [
    "## 정규표현식"
   ]
  },
  {
   "cell_type": "markdown",
   "metadata": {},
   "source": [
    "\n",
    "|메소드|설명|\n",
    "|:-|:-|\n",
    "|```match( )```|각 요소에 ```re.match()``` 호출. 불리언값 반환|\n",
    "|```extract()```|각 요소에 ```re.match()``` 호출. 문자열로 매칭된 그룹 변환|\n",
    "|```findall()```|각 요소에 ```re.findall()``` 호출|\n",
    "|```replace()```|패턴이 발생힌 곳을 디른 문지열로 대체|\n",
    "|```contains()```| 각 요소에 ```re.search()``` 호출. 불리언 값 반환|\n",
    "|```count()```|패턴 발생 건수 집계|\n",
    "|```split()```|```str.split()``` 과 동일하시만 정규 표현식 사용|\n",
    "|```rsplit()```|```str.rsplit()``` 과동일하지만 정규 표현식 사용|"
   ]
  },
  {
   "cell_type": "code",
   "execution_count": 11,
   "metadata": {
    "ExecuteTime": {
     "end_time": "2021-07-02T15:54:15.957002Z",
     "start_time": "2021-07-02T15:54:15.942989Z"
    }
   },
   "outputs": [
    {
     "data": {
      "text/plain": [
       "0    True\n",
       "1    True\n",
       "2    True\n",
       "3    True\n",
       "4    None\n",
       "5    True\n",
       "6    True\n",
       "7    True\n",
       "dtype: object"
      ]
     },
     "execution_count": 11,
     "metadata": {},
     "output_type": "execute_result"
    }
   ],
   "source": [
    "names.str.match('([A-Za-z]+)')"
   ]
  },
  {
   "cell_type": "code",
   "execution_count": 12,
   "metadata": {
    "ExecuteTime": {
     "end_time": "2021-07-02T15:54:15.971757Z",
     "start_time": "2021-07-02T15:54:15.958002Z"
    }
   },
   "outputs": [
    {
     "data": {
      "text/plain": [
       "0            [Suan, Lee]\n",
       "1         [Steven, Jobs]\n",
       "2          [Larry, Page]\n",
       "3           [Elon, Musk]\n",
       "4                   None\n",
       "5          [Bill, Gates]\n",
       "6    [Mark, Zuckerbuerg]\n",
       "7          [Jeff, Bezos]\n",
       "dtype: object"
      ]
     },
     "execution_count": 12,
     "metadata": {},
     "output_type": "execute_result"
    }
   ],
   "source": [
    "names.str.findall('([A-Za-z]+)')"
   ]
  },
  {
   "cell_type": "markdown",
   "metadata": {},
   "source": [
    "## 참고문헌 및 출처\n",
    "\n",
    "* Pandas 사이트: https://pandas.pydata.org/\n",
    "* Jake VanderPlas, \"Python Data Science Handbook\", O'Reilly\n",
    "* Wes Mckinney, \"Python for Data Analysis\", O'Reilly\n",
    "\n",
    "\n",
    "* <a href='https://github.com/SeWonKwon' ><div> <img src ='https://slid-capture.s3.ap-northeast-2.amazonaws.com/public/image_upload/6556674324ed41a289a354258718280d/964e5a8b-75ad-41fc-ae75-0ca66d06fbc7.png' align='left' /> </div></a>\n",
    "\n",
    "\n",
    "<br>\n",
    "\n",
    "\n",
    "* [이수안컴퓨터연구소](https://www.youtube.com/channel/UCFfALXX0DOx7zv6VeR5U_Bg)\n",
    "* https://github.com/minsuk-heo/pandas"
   ]
  }
 ],
 "metadata": {
  "kernelspec": {
   "display_name": "Python 3",
   "language": "python",
   "name": "python3"
  },
  "language_info": {
   "codemirror_mode": {
    "name": "ipython",
    "version": 3
   },
   "file_extension": ".py",
   "mimetype": "text/x-python",
   "name": "python",
   "nbconvert_exporter": "python",
   "pygments_lexer": "ipython3",
   "version": "3.8.5"
  },
  "toc": {
   "base_numbering": 1,
   "nav_menu": {},
   "number_sections": true,
   "sideBar": true,
   "skip_h1_title": false,
   "title_cell": "Table of Contents",
   "title_sidebar": "Contents",
   "toc_cell": false,
   "toc_position": {},
   "toc_section_display": true,
   "toc_window_display": false
  }
 },
 "nbformat": 4,
 "nbformat_minor": 4
}
