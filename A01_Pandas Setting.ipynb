{
 "cells": [
  {
   "cell_type": "markdown",
   "metadata": {},
   "source": [
    "# Pandas"
   ]
  },
  {
   "cell_type": "markdown",
   "metadata": {},
   "source": [
    "* 부동 소수점이 아닌 데이터 뿐만 아니라 부동 소수점 데이터에서도 결측 데이터(NaN으로 표시됨)를 쉽게 처리\n",
    "* 크기 변이성(Size mutability): DataFrame 및 고차원 객체에서 열을 삽입 및 삭제 가능\n",
    "* 자동 및 명시적(explicit) 데이터 정렬: 객체를 라벨 집합에 명시적으로 정렬하거나, 사용자가 라벨을 무시하고 Series, DataFrame 등의 계산에서 자동으로 데이터 조정 가능\n",
    "* 데이터 세트에서 집계 및 변환을 위한 분할(split), 적용(apply), 결합(combine) 작업을 수행할 수 있는 강력하고 유연한 group-by 함수 제공\n",
    "* 누락된 데이터 또는 다른 Python 및 NumPy 데이터 구조에서 서로 다른 인덱싱 데이터를 DataFrame 개체로 쉽게 변환\n",
    "* 대용량 데이터 세트의 지능형 라벨 기반 슬라이싱, 고급 인덱싱 및 부분 집합 구하기 가능\n",
    "* 직관적인 데이터 세트 병합 및 결합\n",
    "* 데이터 세트의 유연한 재구성 및 피벗\n",
    "* 축의 계층적 라벨링 (눈금당 여러 개의 라벨을 가질 수 있음)\n",
    "* 플랫 파일(CSV 및 구분), Excel 파일, 데이터베이스 로딩 및 초고속 HDF5 형식의 데이터 저장/로드에 사용되는 강력한 IO도구\n",
    "* 시계열 특정 기능: 날짜 범위 생성 및 주파수 변환, 무방빙 윈도우(moving window) 통계, 날짜 이동 및 지연\n"
   ]
  },
  {
   "cell_type": "code",
   "execution_count": 3,
   "metadata": {},
   "outputs": [
    {
     "data": {
      "text/plain": [
       "'1.1.3'"
      ]
     },
     "execution_count": 3,
     "metadata": {},
     "output_type": "execute_result"
    }
   ],
   "source": [
    "import pandas as pd\n",
    "pd.__version__"
   ]
  },
  {
   "cell_type": "code",
   "execution_count": 14,
   "metadata": {},
   "outputs": [],
   "source": [
    "import numpy as np"
   ]
  },
  {
   "cell_type": "markdown",
   "metadata": {},
   "source": [
    "pd.set_option(pat, value)"
   ]
  },
  {
   "cell_type": "markdown",
   "metadata": {},
   "source": [
    "pd.reset_option(pat)"
   ]
  },
  {
   "cell_type": "markdown",
   "metadata": {},
   "source": [
    "# display 설정 변경"
   ]
  },
  {
   "cell_type": "markdown",
   "metadata": {},
   "source": [
    "[출처](https://pandas.pydata.org/pandas-docs/stable/user_guide/options.html) https://pandas.pydata.org/pandas-docs/stable/user_guide/options.html"
   ]
  },
  {
   "cell_type": "markdown",
   "metadata": {},
   "source": [
    "[출처](https://thispointer.com/python-pandas-how-to-display-full-dataframe-i-e-print-all-rows-columns-without-truncation/) https://thispointer.com/python-pandas-how-to-display-full-dataframe-i-e-print-all-rows-columns-without-truncation/"
   ]
  },
  {
   "cell_type": "markdown",
   "metadata": {},
   "source": [
    "pd.set_option('display.max_rows', None)\n",
    "pd.set_option('display.max_columns', None)\n",
    "pd.set_option('display.width', None)\n",
    "pd.set_option('display.max_colwidth', -1)"
   ]
  },
  {
   "cell_type": "markdown",
   "metadata": {},
   "source": [
    "## Set it None to display all rows in the dataframe"
   ]
  },
  {
   "cell_type": "code",
   "execution_count": 7,
   "metadata": {},
   "outputs": [],
   "source": [
    "pd.set_option('display.max_rows', None)"
   ]
  },
  {
   "cell_type": "markdown",
   "metadata": {},
   "source": [
    "## Set it to None to display all columns in the dataframe"
   ]
  },
  {
   "cell_type": "code",
   "execution_count": 8,
   "metadata": {},
   "outputs": [],
   "source": [
    "pd.set_option('display.max_columns', None)"
   ]
  },
  {
   "cell_type": "markdown",
   "metadata": {},
   "source": [
    "##  Setting to display Dataframe with full width i.e. all columns in a line\n",
    "Width of the display in characters. If set to None and pandas will correctly auto-detect the width."
   ]
  },
  {
   "cell_type": "code",
   "execution_count": 9,
   "metadata": {},
   "outputs": [],
   "source": [
    "pd.set_option('display.width', None)"
   ]
  },
  {
   "cell_type": "markdown",
   "metadata": {},
   "source": [
    "# display about truncated repr"
   ]
  },
  {
   "cell_type": "markdown",
   "metadata": {},
   "source": [
    "## Set it how many rows are shown in the truncated repr\n",
    "\n",
    "* max_rows : if exceeded, \n",
    "* min_rows : how many rows are shown\n"
   ]
  },
  {
   "cell_type": "code",
   "execution_count": 12,
   "metadata": {},
   "outputs": [],
   "source": [
    "pd.set_option('max_rows',10)"
   ]
  },
  {
   "cell_type": "code",
   "execution_count": 11,
   "metadata": {},
   "outputs": [],
   "source": [
    "pd.set_option('min_rows', 5)"
   ]
  },
  {
   "cell_type": "markdown",
   "metadata": {},
   "source": [
    "## display.large_repr lets you select whether to display dataframes that exceed max_columns or max_rows as a truncated frame, or as a summary."
   ]
  },
  {
   "cell_type": "code",
   "execution_count": 15,
   "metadata": {},
   "outputs": [
    {
     "data": {
      "text/html": [
       "<div>\n",
       "<style scoped>\n",
       "    .dataframe tbody tr th:only-of-type {\n",
       "        vertical-align: middle;\n",
       "    }\n",
       "\n",
       "    .dataframe tbody tr th {\n",
       "        vertical-align: top;\n",
       "    }\n",
       "\n",
       "    .dataframe thead th {\n",
       "        text-align: right;\n",
       "    }\n",
       "</style>\n",
       "<table border=\"1\" class=\"dataframe\">\n",
       "  <thead>\n",
       "    <tr style=\"text-align: right;\">\n",
       "      <th></th>\n",
       "      <th>0</th>\n",
       "      <th>1</th>\n",
       "      <th>2</th>\n",
       "      <th>3</th>\n",
       "      <th>4</th>\n",
       "      <th>5</th>\n",
       "      <th>6</th>\n",
       "      <th>7</th>\n",
       "      <th>8</th>\n",
       "      <th>9</th>\n",
       "    </tr>\n",
       "  </thead>\n",
       "  <tbody>\n",
       "    <tr>\n",
       "      <th>0</th>\n",
       "      <td>0.310238</td>\n",
       "      <td>0.440239</td>\n",
       "      <td>0.663064</td>\n",
       "      <td>-1.431080</td>\n",
       "      <td>-0.974292</td>\n",
       "      <td>-1.110292</td>\n",
       "      <td>-0.612976</td>\n",
       "      <td>-0.540382</td>\n",
       "      <td>0.028548</td>\n",
       "      <td>0.786684</td>\n",
       "    </tr>\n",
       "    <tr>\n",
       "      <th>1</th>\n",
       "      <td>-1.332949</td>\n",
       "      <td>0.900762</td>\n",
       "      <td>0.160542</td>\n",
       "      <td>-1.038523</td>\n",
       "      <td>0.097352</td>\n",
       "      <td>1.361564</td>\n",
       "      <td>-0.629901</td>\n",
       "      <td>0.064965</td>\n",
       "      <td>-0.358074</td>\n",
       "      <td>0.282542</td>\n",
       "    </tr>\n",
       "    <tr>\n",
       "      <th>...</th>\n",
       "      <td>...</td>\n",
       "      <td>...</td>\n",
       "      <td>...</td>\n",
       "      <td>...</td>\n",
       "      <td>...</td>\n",
       "      <td>...</td>\n",
       "      <td>...</td>\n",
       "      <td>...</td>\n",
       "      <td>...</td>\n",
       "      <td>...</td>\n",
       "    </tr>\n",
       "    <tr>\n",
       "      <th>8</th>\n",
       "      <td>-0.958146</td>\n",
       "      <td>0.340880</td>\n",
       "      <td>-1.774711</td>\n",
       "      <td>2.270104</td>\n",
       "      <td>-1.188920</td>\n",
       "      <td>0.560253</td>\n",
       "      <td>-0.416458</td>\n",
       "      <td>0.033689</td>\n",
       "      <td>-1.384995</td>\n",
       "      <td>0.620241</td>\n",
       "    </tr>\n",
       "    <tr>\n",
       "      <th>9</th>\n",
       "      <td>0.990672</td>\n",
       "      <td>-0.331459</td>\n",
       "      <td>0.102633</td>\n",
       "      <td>-1.667460</td>\n",
       "      <td>0.473548</td>\n",
       "      <td>0.480910</td>\n",
       "      <td>1.077748</td>\n",
       "      <td>0.407846</td>\n",
       "      <td>0.871772</td>\n",
       "      <td>2.869598</td>\n",
       "    </tr>\n",
       "  </tbody>\n",
       "</table>\n",
       "<p>10 rows × 10 columns</p>\n",
       "</div>"
      ],
      "text/plain": [
       "           0         1         2         3         4         5         6  \\\n",
       "0   0.310238  0.440239  0.663064 -1.431080 -0.974292 -1.110292 -0.612976   \n",
       "1  -1.332949  0.900762  0.160542 -1.038523  0.097352  1.361564 -0.629901   \n",
       "..       ...       ...       ...       ...       ...       ...       ...   \n",
       "8  -0.958146  0.340880 -1.774711  2.270104 -1.188920  0.560253 -0.416458   \n",
       "9   0.990672 -0.331459  0.102633 -1.667460  0.473548  0.480910  1.077748   \n",
       "\n",
       "           7         8         9  \n",
       "0  -0.540382  0.028548  0.786684  \n",
       "1   0.064965 -0.358074  0.282542  \n",
       "..       ...       ...       ...  \n",
       "8   0.033689 -1.384995  0.620241  \n",
       "9   0.407846  0.871772  2.869598  \n",
       "\n",
       "[10 rows x 10 columns]"
      ]
     },
     "execution_count": 15,
     "metadata": {},
     "output_type": "execute_result"
    }
   ],
   "source": [
    "df = pd.DataFrame(np.random.randn(10, 10))\n",
    "\n",
    "pd.set_option(\"max_rows\", 5)\n",
    "\n",
    "pd.set_option(\"large_repr\", \"truncate\")\n",
    "\n",
    "df"
   ]
  },
  {
   "cell_type": "markdown",
   "metadata": {},
   "source": [
    "## set info for large_repr"
   ]
  },
  {
   "cell_type": "code",
   "execution_count": 16,
   "metadata": {
    "scrolled": true
   },
   "outputs": [
    {
     "data": {
      "text/html": [
       "<pre>&lt;class 'pandas.core.frame.DataFrame'&gt;\n",
       "RangeIndex: 10 entries, 0 to 9\n",
       "Data columns (total 10 columns):\n",
       " #   Column  Non-Null Count  Dtype  \n",
       "---  ------  --------------  -----  \n",
       " 0   0       10 non-null     float64\n",
       " 1   1       10 non-null     float64\n",
       " 2   2       10 non-null     float64\n",
       " 3   3       10 non-null     float64\n",
       " 4   4       10 non-null     float64\n",
       " 5   5       10 non-null     float64\n",
       " 6   6       10 non-null     float64\n",
       " 7   7       10 non-null     float64\n",
       " 8   8       10 non-null     float64\n",
       " 9   9       10 non-null     float64\n",
       "dtypes: float64(10)\n",
       "memory usage: 928.0 bytes\n",
       "</pre>"
      ],
      "text/plain": [
       "<class 'pandas.core.frame.DataFrame'>\n",
       "RangeIndex: 10 entries, 0 to 9\n",
       "Data columns (total 10 columns):\n",
       " #   Column  Non-Null Count  Dtype  \n",
       "---  ------  --------------  -----  \n",
       " 0   0       10 non-null     float64\n",
       " 1   1       10 non-null     float64\n",
       " 2   2       10 non-null     float64\n",
       " 3   3       10 non-null     float64\n",
       " 4   4       10 non-null     float64\n",
       " 5   5       10 non-null     float64\n",
       " 6   6       10 non-null     float64\n",
       " 7   7       10 non-null     float64\n",
       " 8   8       10 non-null     float64\n",
       " 9   9       10 non-null     float64\n",
       "dtypes: float64(10)\n",
       "memory usage: 928.0 bytes"
      ]
     },
     "execution_count": 16,
     "metadata": {},
     "output_type": "execute_result"
    }
   ],
   "source": [
    "pd.set_option(\"large_repr\", \"info\")\n",
    "\n",
    "df"
   ]
  },
  {
   "cell_type": "code",
   "execution_count": 17,
   "metadata": {},
   "outputs": [],
   "source": [
    "pd.reset_option(\"large_repr\")"
   ]
  },
  {
   "cell_type": "markdown",
   "metadata": {},
   "source": [
    "## display.max_colwidth sets the maximum width of columns. Cells of this length or longer will be truncated with an ellipsis."
   ]
  },
  {
   "cell_type": "code",
   "execution_count": null,
   "metadata": {},
   "outputs": [],
   "source": [
    "pd.set_option(\"max_colwidth\", 40)"
   ]
  },
  {
   "cell_type": "markdown",
   "metadata": {},
   "source": [
    "# warning setting"
   ]
  },
  {
   "cell_type": "code",
   "execution_count": 18,
   "metadata": {},
   "outputs": [],
   "source": [
    "import warnings\n",
    "warnings.simplefilter(action='ignore', category=FutureWarning)\n",
    "\n",
    "import pandas"
   ]
  }
 ],
 "metadata": {
  "kernelspec": {
   "display_name": "Python 3",
   "language": "python",
   "name": "python3"
  },
  "language_info": {
   "codemirror_mode": {
    "name": "ipython",
    "version": 3
   },
   "file_extension": ".py",
   "mimetype": "text/x-python",
   "name": "python",
   "nbconvert_exporter": "python",
   "pygments_lexer": "ipython3",
   "version": "3.8.5"
  },
  "toc": {
   "base_numbering": 1,
   "nav_menu": {},
   "number_sections": true,
   "sideBar": true,
   "skip_h1_title": false,
   "title_cell": "Table of Contents",
   "title_sidebar": "Contents",
   "toc_cell": false,
   "toc_position": {},
   "toc_section_display": true,
   "toc_window_display": true
  }
 },
 "nbformat": 4,
 "nbformat_minor": 4
}
