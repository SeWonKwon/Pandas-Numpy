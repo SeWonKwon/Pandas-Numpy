{
 "cells": [
  {
   "cell_type": "markdown",
   "metadata": {},
   "source": [
    "<a href='https://github.com/SeWonKwon' ><div> <img src ='https://slid-capture.s3.ap-northeast-2.amazonaws.com/public/image_upload/6556674324ed41a289a354258718280d/964e5a8b-75ad-41fc-ae75-0ca66d06fbc7.png' align='left' /> </div></a>"
   ]
  },
  {
   "cell_type": "code",
   "execution_count": 13,
   "metadata": {
    "ExecuteTime": {
     "end_time": "2021-07-03T05:31:48.718662Z",
     "start_time": "2021-07-03T05:31:48.709654Z"
    }
   },
   "outputs": [
    {
     "data": {
      "text/plain": [
       "'1.19.2'"
      ]
     },
     "execution_count": 13,
     "metadata": {},
     "output_type": "execute_result"
    }
   ],
   "source": [
    "import numpy as np\n",
    "np.__version__"
   ]
  },
  {
   "cell_type": "code",
   "execution_count": 14,
   "metadata": {
    "ExecuteTime": {
     "end_time": "2021-07-03T05:31:48.733675Z",
     "start_time": "2021-07-03T05:31:48.719663Z"
    }
   },
   "outputs": [],
   "source": [
    "a1 = np.array([1, 2, 3, 4, 5])\n",
    "a2 = np.array([[1, 2, 3],[4, 5, 6], [7, 8, 9]])\n",
    "a3 = np.array([ [ [1,2,3], [4, 5, 6], [7, 8, 9] ],\n",
    "                [ [1,2,3], [4, 5, 6], [7, 8, 9] ],\n",
    "                [ [1,2,3], [4, 5, 6], [7, 8, 9] ] ])\n"
   ]
  },
  {
   "cell_type": "markdown",
   "metadata": {
    "id": "zDI5yQ58O-IX"
   },
   "source": [
    "# 배열 값 삽입/수정/삭제/복사"
   ]
  },
  {
   "cell_type": "markdown",
   "metadata": {
    "id": "zajd1qpVOQYy"
   },
   "source": [
    "##  삽입\n",
    "\n",
    "\n",
    "* `insert()`: 배열의 특정 위치에 값 삽입\n",
    "\n",
    "`np.insert(arr, obj, values, axis=None)`\n",
    "* axis를 지정하지 않으면 1차원 배열로 변환\n",
    "* 추가할 방향을 axis로 지정\n",
    "* 원본 배열 변경없이 새로운 배열 반환"
   ]
  },
  {
   "cell_type": "code",
   "execution_count": 15,
   "metadata": {
    "ExecuteTime": {
     "end_time": "2021-07-03T05:31:48.748689Z",
     "start_time": "2021-07-03T05:31:48.734676Z"
    },
    "id": "sedRT54rP395"
   },
   "outputs": [
    {
     "name": "stdout",
     "output_type": "stream",
     "text": [
      "[1 2 3 4 5]\n"
     ]
    },
    {
     "data": {
      "text/plain": [
       "array([10,  1,  2,  3,  4,  5])"
      ]
     },
     "execution_count": 15,
     "metadata": {},
     "output_type": "execute_result"
    }
   ],
   "source": [
    "print(a1)\n",
    "b1 = np.insert(a1, 0, 10)\n",
    "b1"
   ]
  },
  {
   "cell_type": "code",
   "execution_count": 16,
   "metadata": {
    "ExecuteTime": {
     "end_time": "2021-07-03T05:31:48.763703Z",
     "start_time": "2021-07-03T05:31:48.749690Z"
    },
    "id": "zNmu1E4iQ6h-"
   },
   "outputs": [
    {
     "name": "stdout",
     "output_type": "stream",
     "text": [
      "[[1 2 3]\n",
      " [4 5 6]\n",
      " [7 8 9]]\n",
      "(3, 3)\n",
      "[[ 1  2  3]\n",
      " [10 10 10]\n",
      " [ 4  5  6]\n",
      " [ 7  8  9]]\n",
      "(4, 3)\n",
      "[[ 1 10  2  3]\n",
      " [ 4 10  5  6]\n",
      " [ 7 10  8  9]]\n",
      "(3, 4)\n"
     ]
    }
   ],
   "source": [
    "print(a2)\n",
    "print(a2.shape)\n",
    "b2 = np.insert(a2, 1, 10, axis=0)\n",
    "print(b2)\n",
    "print(b2.shape)\n",
    "c3 = np.insert(a2, 1, 10, axis=1)\n",
    "print(c3)\n",
    "print(c3.shape)"
   ]
  },
  {
   "cell_type": "markdown",
   "metadata": {
    "id": "OlEzG4ffNjyL"
   },
   "source": [
    "##  수정\n",
    "\n",
    "* 배열의 인덱싱으로 접근하여 값 수정"
   ]
  },
  {
   "cell_type": "markdown",
   "metadata": {},
   "source": [
    "한개 한개 지정"
   ]
  },
  {
   "cell_type": "code",
   "execution_count": 17,
   "metadata": {
    "ExecuteTime": {
     "end_time": "2021-07-03T05:31:48.778716Z",
     "start_time": "2021-07-03T05:31:48.763703Z"
    },
    "id": "ec43i1KWNjeN"
   },
   "outputs": [
    {
     "name": "stdout",
     "output_type": "stream",
     "text": [
      "[1 2 3 4 5]\n",
      "[1 2 3 4 5]\n"
     ]
    }
   ],
   "source": [
    "print(a1)\n",
    "a1[0] = 1\n",
    "a1[1] = 2\n",
    "a1[2] = 3\n",
    "print(a1)"
   ]
  },
  {
   "cell_type": "markdown",
   "metadata": {},
   "source": [
    "인덱싱 : 사용"
   ]
  },
  {
   "cell_type": "code",
   "execution_count": 18,
   "metadata": {
    "ExecuteTime": {
     "end_time": "2021-07-03T05:31:48.793730Z",
     "start_time": "2021-07-03T05:31:48.779718Z"
    },
    "id": "ec43i1KWNjeN"
   },
   "outputs": [
    {
     "name": "stdout",
     "output_type": "stream",
     "text": [
      "[9 9 3 4 5]\n"
     ]
    }
   ],
   "source": [
    "a1[:2] = 9\n",
    "print(a1)"
   ]
  },
  {
   "cell_type": "markdown",
   "metadata": {},
   "source": [
    "facy indexing 사용"
   ]
  },
  {
   "cell_type": "code",
   "execution_count": 19,
   "metadata": {
    "ExecuteTime": {
     "end_time": "2021-07-03T05:31:48.808743Z",
     "start_time": "2021-07-03T05:31:48.794731Z"
    }
   },
   "outputs": [
    {
     "data": {
      "text/plain": [
       "array([9, 7, 3, 7, 7])"
      ]
     },
     "execution_count": 19,
     "metadata": {},
     "output_type": "execute_result"
    }
   ],
   "source": [
    "i = np.array([1, 3, 4])\n",
    "a1[i] = 7\n",
    "a1"
   ]
  },
  {
   "cell_type": "code",
   "execution_count": 20,
   "metadata": {
    "ExecuteTime": {
     "end_time": "2021-07-03T05:31:48.823757Z",
     "start_time": "2021-07-03T05:31:48.809745Z"
    },
    "id": "IApNNx3NOMQh"
   },
   "outputs": [
    {
     "data": {
      "text/plain": [
       "array([ 9, 11,  3, 11, 11])"
      ]
     },
     "execution_count": 20,
     "metadata": {},
     "output_type": "execute_result"
    }
   ],
   "source": [
    "a1[i] += 4\n",
    "a1"
   ]
  },
  {
   "cell_type": "code",
   "execution_count": 21,
   "metadata": {
    "ExecuteTime": {
     "end_time": "2021-07-03T05:31:48.838771Z",
     "start_time": "2021-07-03T05:31:48.824757Z"
    },
    "scrolled": true
   },
   "outputs": [
    {
     "name": "stdout",
     "output_type": "stream",
     "text": [
      "[[1 2 3]\n",
      " [4 5 6]\n",
      " [7 8 9]]\n"
     ]
    },
    {
     "data": {
      "text/plain": [
       "array([[1, 2, 3],\n",
       "       [4, 2, 6],\n",
       "       [7, 8, 3]])"
      ]
     },
     "execution_count": 21,
     "metadata": {},
     "output_type": "execute_result"
    }
   ],
   "source": [
    "print(a2)\n",
    "a2[0, 0] = 1\n",
    "a2[1, 1] = 2\n",
    "a2[2, 2] = 3\n",
    "a2"
   ]
  },
  {
   "cell_type": "code",
   "execution_count": 22,
   "metadata": {
    "ExecuteTime": {
     "end_time": "2021-07-03T05:31:48.853785Z",
     "start_time": "2021-07-03T05:31:48.839772Z"
    }
   },
   "outputs": [
    {
     "data": {
      "text/plain": [
       "array([[1, 1, 1],\n",
       "       [4, 2, 6],\n",
       "       [7, 8, 3]])"
      ]
     },
     "execution_count": 22,
     "metadata": {},
     "output_type": "execute_result"
    }
   ],
   "source": [
    "a2[0] = 1\n",
    "a2"
   ]
  },
  {
   "cell_type": "code",
   "execution_count": 23,
   "metadata": {
    "ExecuteTime": {
     "end_time": "2021-07-03T05:31:48.868798Z",
     "start_time": "2021-07-03T05:31:48.854786Z"
    }
   },
   "outputs": [
    {
     "data": {
      "text/plain": [
       "array([[1, 1, 1],\n",
       "       [4, 2, 9],\n",
       "       [7, 8, 9]])"
      ]
     },
     "execution_count": 23,
     "metadata": {},
     "output_type": "execute_result"
    }
   ],
   "source": [
    "a2[1:, 2] = 9\n",
    "a2"
   ]
  },
  {
   "cell_type": "code",
   "execution_count": 24,
   "metadata": {
    "ExecuteTime": {
     "end_time": "2021-07-03T05:31:48.883812Z",
     "start_time": "2021-07-03T05:31:48.869799Z"
    }
   },
   "outputs": [
    {
     "data": {
      "text/plain": [
       "array([[1, 0, 1],\n",
       "       [4, 2, 0],\n",
       "       [7, 8, 9]])"
      ]
     },
     "execution_count": 24,
     "metadata": {},
     "output_type": "execute_result"
    }
   ],
   "source": [
    "row = np.array([0, 1])\n",
    "col = np.array([1, 2])\n",
    "a2[row, col]=0\n",
    "a2"
   ]
  },
  {
   "cell_type": "markdown",
   "metadata": {
    "id": "emV7DgrITPcn"
   },
   "source": [
    "##  삭제\n",
    "\n",
    "* `delete()`: 배열의 특정 위치에 값 삭제\n",
    "\n",
    "`np.delete(arr, obj, axis=None)`\n",
    "    \n",
    "* axis를 지정하지 않으면 1차원 배열로 변환\n",
    "* 삭제할 방향을 axis로 지정\n",
    "* 원본 배열 변경없이 새로운 배열 반환"
   ]
  },
  {
   "cell_type": "code",
   "execution_count": 25,
   "metadata": {
    "ExecuteTime": {
     "end_time": "2021-07-03T05:31:48.898826Z",
     "start_time": "2021-07-03T05:31:48.884813Z"
    },
    "id": "I3k_Yx8lTRJ2"
   },
   "outputs": [
    {
     "name": "stdout",
     "output_type": "stream",
     "text": [
      "[ 9 11  3 11 11]\n",
      "[ 9  3 11 11]\n"
     ]
    }
   ],
   "source": [
    "print(a1)\n",
    "b1 = np.delete(a1, 1)\n",
    "print(b1)"
   ]
  },
  {
   "cell_type": "code",
   "execution_count": 26,
   "metadata": {
    "ExecuteTime": {
     "end_time": "2021-07-03T05:31:48.913839Z",
     "start_time": "2021-07-03T05:31:48.899827Z"
    },
    "id": "tRTwMIfJTq_y",
    "scrolled": true
   },
   "outputs": [
    {
     "name": "stdout",
     "output_type": "stream",
     "text": [
      "[[1 0 1]\n",
      " [4 2 0]\n",
      " [7 8 9]]\n",
      "(3, 3)\n",
      "(2, 3)\n"
     ]
    },
    {
     "data": {
      "text/plain": [
       "array([[1, 0, 1],\n",
       "       [7, 8, 9]])"
      ]
     },
     "execution_count": 26,
     "metadata": {},
     "output_type": "execute_result"
    }
   ],
   "source": [
    "print(a2)\n",
    "print(a2.shape)\n",
    "b2 = np.delete(a2, 1, axis=0)\n",
    "print(b2.shape)\n",
    "b2"
   ]
  },
  {
   "cell_type": "markdown",
   "metadata": {
    "id": "UydkYxV8Z6Fx"
   },
   "source": [
    "##  복사\n",
    "\n",
    "* 리스트 자료형과 달리 배열의 슬라이스는 복사본이 아님"
   ]
  },
  {
   "cell_type": "markdown",
   "metadata": {},
   "source": [
    "동일한 메모리에 위치한 것을 가져 오기 때문에   \n",
    "서로 영향이 있다. "
   ]
  },
  {
   "cell_type": "markdown",
   "metadata": {},
   "source": [
    "방지 하려면 copy()를 사용해야 한다."
   ]
  },
  {
   "cell_type": "code",
   "execution_count": 27,
   "metadata": {
    "ExecuteTime": {
     "end_time": "2021-07-03T05:31:48.928853Z",
     "start_time": "2021-07-03T05:31:48.914840Z"
    },
    "id": "n2_0L8KWZ7wH"
   },
   "outputs": [
    {
     "name": "stdout",
     "output_type": "stream",
     "text": [
      "[[1 0 1]\n",
      " [4 2 0]\n",
      " [7 8 9]]\n",
      "[[1 0]\n",
      " [4 2]]\n",
      "[[1 0]\n",
      " [4 2]]\n",
      "[[1 0]\n",
      " [4 0]]\n",
      "[[1 0 1]\n",
      " [4 0 0]\n",
      " [7 8 9]]\n"
     ]
    }
   ],
   "source": [
    "print(a2)\n",
    "print(a2[:2, :2])\n",
    "a2_sub = a2[:2, :2]\n",
    "print(a2_sub)\n",
    "a2_sub[:, 1] =  0 \n",
    "print(a2_sub)\n",
    "print(a2)"
   ]
  },
  {
   "cell_type": "markdown",
   "metadata": {
    "id": "UrQqOC1Eat5l"
   },
   "source": [
    "\n",
    "* `copy()`: 배열이나 하위 배열 내의 값을 명시적으로 복사"
   ]
  },
  {
   "cell_type": "code",
   "execution_count": 28,
   "metadata": {
    "ExecuteTime": {
     "end_time": "2021-07-03T05:31:48.943867Z",
     "start_time": "2021-07-03T05:31:48.928853Z"
    },
    "id": "hLBZ7Qn6bAKO"
   },
   "outputs": [
    {
     "name": "stdout",
     "output_type": "stream",
     "text": [
      "[[1 0 1]\n",
      " [4 0 0]\n",
      " [7 8 9]]\n",
      "[[1 0]\n",
      " [4 0]]\n",
      "[[1 1]\n",
      " [4 1]]\n",
      "[[1 0 1]\n",
      " [4 0 0]\n",
      " [7 8 9]]\n"
     ]
    }
   ],
   "source": [
    "print(a2)\n",
    "a2_sub_copy = a2[:2, :2].copy()\n",
    "print(a2_sub_copy)\n",
    "a2_sub_copy[:, 1] = 1\n",
    "print(a2_sub_copy)\n",
    "print(a2)"
   ]
  },
  {
   "cell_type": "markdown",
   "metadata": {
    "id": "4HTc9FXOGtA7"
   },
   "source": [
    "\n",
    "\n",
    "---\n",
    "\n"
   ]
  },
  {
   "cell_type": "markdown",
   "metadata": {
    "id": "XVZY082__yV6"
   },
   "source": [
    "# 배열 변환"
   ]
  },
  {
   "cell_type": "markdown",
   "metadata": {
    "id": "Ec09aPeBO58M"
   },
   "source": [
    "## 배열 전치, flatten 및 축 변경"
   ]
  },
  {
   "cell_type": "markdown",
   "metadata": {},
   "source": [
    "### 전치 `.T`"
   ]
  },
  {
   "cell_type": "markdown",
   "metadata": {},
   "source": [
    "대각행렬을 기준으로"
   ]
  },
  {
   "cell_type": "code",
   "execution_count": 29,
   "metadata": {
    "ExecuteTime": {
     "end_time": "2021-07-03T05:31:48.958880Z",
     "start_time": "2021-07-03T05:31:48.944867Z"
    },
    "id": "anYByBpoWZmj"
   },
   "outputs": [
    {
     "name": "stdout",
     "output_type": "stream",
     "text": [
      "[[1 0 1]\n",
      " [4 0 0]\n",
      " [7 8 9]]\n",
      "[[1 4 7]\n",
      " [0 0 8]\n",
      " [1 0 9]]\n"
     ]
    }
   ],
   "source": [
    "print(a2)\n",
    "print(a2.T)"
   ]
  },
  {
   "cell_type": "code",
   "execution_count": 30,
   "metadata": {
    "ExecuteTime": {
     "end_time": "2021-07-03T05:31:48.973894Z",
     "start_time": "2021-07-03T05:31:48.959881Z"
    },
    "id": "wg4XC6kiRnZo"
   },
   "outputs": [
    {
     "name": "stdout",
     "output_type": "stream",
     "text": [
      "[[[1 2 3]\n",
      "  [4 5 6]\n",
      "  [7 8 9]]\n",
      "\n",
      " [[1 2 3]\n",
      "  [4 5 6]\n",
      "  [7 8 9]]\n",
      "\n",
      " [[1 2 3]\n",
      "  [4 5 6]\n",
      "  [7 8 9]]]\n",
      "\n",
      "Trans-posed\n",
      "\n",
      "[[[1 1 1]\n",
      "  [4 4 4]\n",
      "  [7 7 7]]\n",
      "\n",
      " [[2 2 2]\n",
      "  [5 5 5]\n",
      "  [8 8 8]]\n",
      "\n",
      " [[3 3 3]\n",
      "  [6 6 6]\n",
      "  [9 9 9]]]\n"
     ]
    }
   ],
   "source": [
    "print(a3)\n",
    "print()\n",
    "print('Trans-posed')\n",
    "print()\n",
    "print(a3.T)"
   ]
  },
  {
   "cell_type": "markdown",
   "metadata": {},
   "source": [
    "### `flatten()`"
   ]
  },
  {
   "cell_type": "markdown",
   "metadata": {},
   "source": [
    "### swapaxes()"
   ]
  },
  {
   "cell_type": "code",
   "execution_count": 31,
   "metadata": {
    "ExecuteTime": {
     "end_time": "2021-07-03T05:31:48.988907Z",
     "start_time": "2021-07-03T05:31:48.974895Z"
    },
    "id": "6lPwXL8rRTfI"
   },
   "outputs": [
    {
     "name": "stdout",
     "output_type": "stream",
     "text": [
      "[[1 0 1]\n",
      " [4 0 0]\n",
      " [7 8 9]]\n",
      "[[1 4 7]\n",
      " [0 0 8]\n",
      " [1 0 9]]\n"
     ]
    }
   ],
   "source": [
    "print(a2)\n",
    "print(a2.swapaxes(1,0))"
   ]
  },
  {
   "cell_type": "code",
   "execution_count": 32,
   "metadata": {
    "ExecuteTime": {
     "end_time": "2021-07-03T05:31:49.003921Z",
     "start_time": "2021-07-03T05:31:48.989909Z"
    },
    "id": "oLbEHtijRewH"
   },
   "outputs": [
    {
     "name": "stdout",
     "output_type": "stream",
     "text": [
      "[[[1 2 3]\n",
      "  [4 5 6]\n",
      "  [7 8 9]]\n",
      "\n",
      " [[1 2 3]\n",
      "  [4 5 6]\n",
      "  [7 8 9]]\n",
      "\n",
      " [[1 2 3]\n",
      "  [4 5 6]\n",
      "  [7 8 9]]]\n",
      "(3, 3, 3)\n",
      "\n",
      "[[[1 2 3]\n",
      "  [1 2 3]\n",
      "  [1 2 3]]\n",
      "\n",
      " [[4 5 6]\n",
      "  [4 5 6]\n",
      "  [4 5 6]]\n",
      "\n",
      " [[7 8 9]\n",
      "  [7 8 9]\n",
      "  [7 8 9]]]\n",
      "\n",
      "[[[1 4 7]\n",
      "  [2 5 8]\n",
      "  [3 6 9]]\n",
      "\n",
      " [[1 4 7]\n",
      "  [2 5 8]\n",
      "  [3 6 9]]\n",
      "\n",
      " [[1 4 7]\n",
      "  [2 5 8]\n",
      "  [3 6 9]]]\n"
     ]
    }
   ],
   "source": [
    "print(a3)\n",
    "print(a3.shape)\n",
    "print('')\n",
    "print(a3.swapaxes(0, 1))\n",
    "print('')\n",
    "print(a3.swapaxes(1, 2))"
   ]
  },
  {
   "cell_type": "markdown",
   "metadata": {
    "id": "M7xN8WdOdb_S"
   },
   "source": [
    "## 배열 재구조화\n",
    "\n",
    "* `reshape()`\n",
    "* `newaxis()`"
   ]
  },
  {
   "cell_type": "markdown",
   "metadata": {
    "id": "JwZJMpXGfY0V"
   },
   "source": [
    "###  `reshape()`: 배열의 형상을 변경"
   ]
  },
  {
   "cell_type": "code",
   "execution_count": 33,
   "metadata": {
    "ExecuteTime": {
     "end_time": "2021-07-03T05:31:49.018936Z",
     "start_time": "2021-07-03T05:31:49.004923Z"
    },
    "id": "SlGQ17VQdd8i"
   },
   "outputs": [
    {
     "name": "stdout",
     "output_type": "stream",
     "text": [
      "[1 2 3 4 5 6 7 8 9]\n"
     ]
    }
   ],
   "source": [
    "n1 = np.arange(1, 10)\n",
    "print(n1)"
   ]
  },
  {
   "cell_type": "code",
   "execution_count": 34,
   "metadata": {
    "ExecuteTime": {
     "end_time": "2021-07-03T05:31:49.033948Z",
     "start_time": "2021-07-03T05:31:49.019934Z"
    }
   },
   "outputs": [
    {
     "data": {
      "text/plain": [
       "array([[1, 2, 3],\n",
       "       [4, 5, 6],\n",
       "       [7, 8, 9]])"
      ]
     },
     "execution_count": 34,
     "metadata": {},
     "output_type": "execute_result"
    }
   ],
   "source": [
    "n1.reshape(3,3)"
   ]
  },
  {
   "cell_type": "markdown",
   "metadata": {
    "id": "y_U1W-fQfuQY"
   },
   "source": [
    "###  `newaxis()`: 새로운 축 추가"
   ]
  },
  {
   "cell_type": "code",
   "execution_count": 35,
   "metadata": {
    "ExecuteTime": {
     "end_time": "2021-07-03T05:31:49.048962Z",
     "start_time": "2021-07-03T05:31:49.035951Z"
    },
    "id": "COif_weCfkGo"
   },
   "outputs": [
    {
     "name": "stdout",
     "output_type": "stream",
     "text": [
      "[1 2 3 4 5 6 7 8 9]\n",
      "[[1 2 3 4 5]]\n",
      "[[1]\n",
      " [2]\n",
      " [3]\n",
      " [4]\n",
      " [5]]\n"
     ]
    }
   ],
   "source": [
    "print(n1)\n",
    "print(n1[np.newaxis, :5])\n",
    "print(n1[:5, np.newaxis])"
   ]
  },
  {
   "cell_type": "markdown",
   "metadata": {
    "id": "FR82RSDggbcJ"
   },
   "source": [
    "## 배열 크기 변경"
   ]
  },
  {
   "cell_type": "markdown",
   "metadata": {
    "id": "D1LuDMVFl4tc"
   },
   "source": [
    "### `resize()`\n",
    "* 배열 모양만 변경"
   ]
  },
  {
   "cell_type": "code",
   "execution_count": 36,
   "metadata": {
    "ExecuteTime": {
     "end_time": "2021-07-03T05:31:49.063976Z",
     "start_time": "2021-07-03T05:31:49.049964Z"
    },
    "id": "7B6pHlfxgdSJ"
   },
   "outputs": [
    {
     "name": "stdout",
     "output_type": "stream",
     "text": [
      "[[7 5 6 1 6]\n",
      " [9 9 6 8 5]]\n"
     ]
    },
    {
     "data": {
      "text/plain": [
       "array([[7, 5],\n",
       "       [6, 1],\n",
       "       [6, 9],\n",
       "       [9, 6],\n",
       "       [8, 5]])"
      ]
     },
     "execution_count": 36,
     "metadata": {},
     "output_type": "execute_result"
    }
   ],
   "source": [
    "n2 = np.random.randint(0, 10, (2, 5))\n",
    "print(n2)\n",
    "n2.resize((5,2))\n",
    "n2"
   ]
  },
  {
   "cell_type": "markdown",
   "metadata": {
    "id": "s0adm-h9l6sv"
   },
   "source": [
    "* 배열 크기 증가\n",
    "* 남은 공간은 0으로 채워짐"
   ]
  },
  {
   "cell_type": "markdown",
   "metadata": {},
   "source": [
    "* 버젼에 따라 달라지는거 같음.\n",
    "* n2.resize(5,5) 는 에러메세지가 뜸 \n",
    "* 아래와 같이 실행시 0으로 채워지지 않고 반복으로 채워짐"
   ]
  },
  {
   "cell_type": "code",
   "execution_count": 37,
   "metadata": {
    "ExecuteTime": {
     "end_time": "2021-07-03T05:31:49.078990Z",
     "start_time": "2021-07-03T05:31:49.064977Z"
    },
    "id": "IrX0UcjrlWRV"
   },
   "outputs": [
    {
     "data": {
      "text/plain": [
       "array([[7, 5, 6, 1, 6],\n",
       "       [9, 9, 6, 8, 5],\n",
       "       [7, 5, 6, 1, 6],\n",
       "       [9, 9, 6, 8, 5],\n",
       "       [7, 5, 6, 1, 6]])"
      ]
     },
     "execution_count": 37,
     "metadata": {},
     "output_type": "execute_result"
    }
   ],
   "source": [
    "np.resize(n2, (5, 5))"
   ]
  },
  {
   "cell_type": "markdown",
   "metadata": {
    "id": "78hPDEzfl9JB"
   },
   "source": [
    "* 배열 크기 감소\n",
    "* 포함되지 않은 값은 삭제됨"
   ]
  },
  {
   "cell_type": "code",
   "execution_count": 38,
   "metadata": {
    "ExecuteTime": {
     "end_time": "2021-07-03T05:31:49.094003Z",
     "start_time": "2021-07-03T05:31:49.079991Z"
    }
   },
   "outputs": [
    {
     "name": "stdout",
     "output_type": "stream",
     "text": [
      "[[7 5]\n",
      " [6 1]\n",
      " [6 9]\n",
      " [9 6]\n",
      " [8 5]]\n"
     ]
    },
    {
     "data": {
      "text/plain": [
       "array([[7, 5],\n",
       "       [6, 1],\n",
       "       [6, 9]])"
      ]
     },
     "execution_count": 38,
     "metadata": {},
     "output_type": "execute_result"
    }
   ],
   "source": [
    "print(n2)\n",
    "np.resize(n2, (3,2))"
   ]
  },
  {
   "cell_type": "markdown",
   "metadata": {
    "id": "r9z2gD_pHyx9"
   },
   "source": [
    "### 배열 추가\n",
    "\n",
    "* `append()`: 배열의 끝에 값 추가"
   ]
  },
  {
   "cell_type": "code",
   "execution_count": 39,
   "metadata": {
    "ExecuteTime": {
     "end_time": "2021-07-03T05:31:49.109017Z",
     "start_time": "2021-07-03T05:31:49.095005Z"
    },
    "id": "fH4lpQKNH5s1"
   },
   "outputs": [
    {
     "name": "stdout",
     "output_type": "stream",
     "text": [
      "[[1 2 3]\n",
      " [4 5 6]\n",
      " [7 8 9]]\n",
      "[[10 11 12]\n",
      " [13 14 15]\n",
      " [16 17 18]]\n"
     ]
    }
   ],
   "source": [
    "a2 = np.arange(1, 10).reshape(3, 3)\n",
    "print(a2)\n",
    "\n",
    "b2 = np.arange(10, 19).reshape(3, 3)\n",
    "print(b2)"
   ]
  },
  {
   "cell_type": "markdown",
   "metadata": {
    "id": "n8SMl5VVIquk"
   },
   "source": [
    "* axis 지정이 없으면 1차원 배열 형태로 변형되어 결합"
   ]
  },
  {
   "cell_type": "code",
   "execution_count": 40,
   "metadata": {
    "ExecuteTime": {
     "end_time": "2021-07-03T05:31:49.124030Z",
     "start_time": "2021-07-03T05:31:49.110018Z"
    },
    "id": "LRltk3yFIVsV"
   },
   "outputs": [
    {
     "data": {
      "text/plain": [
       "array([ 1,  2,  3,  4,  5,  6,  7,  8,  9, 10, 11, 12, 13, 14, 15, 16, 17,\n",
       "       18])"
      ]
     },
     "execution_count": 40,
     "metadata": {},
     "output_type": "execute_result"
    }
   ],
   "source": [
    "c2 = np.append(a2, b2)\n",
    "c2"
   ]
  },
  {
   "cell_type": "markdown",
   "metadata": {
    "id": "sVW2UFVZJfpR"
   },
   "source": [
    "* axis를 0으로 지정\n",
    "* shape[0]을 제외한 나머지 shape은 같아야 함"
   ]
  },
  {
   "cell_type": "code",
   "execution_count": 41,
   "metadata": {
    "ExecuteTime": {
     "end_time": "2021-07-03T05:31:49.139044Z",
     "start_time": "2021-07-03T05:31:49.125031Z"
    },
    "id": "nwJ4xLOeIbMg"
   },
   "outputs": [
    {
     "data": {
      "text/plain": [
       "array([[ 1,  2,  3],\n",
       "       [ 4,  5,  6],\n",
       "       [ 7,  8,  9],\n",
       "       [10, 11, 12],\n",
       "       [13, 14, 15],\n",
       "       [16, 17, 18]])"
      ]
     },
     "execution_count": 41,
     "metadata": {},
     "output_type": "execute_result"
    }
   ],
   "source": [
    "c2 = np.append(a2, b2, axis=0)\n",
    "c2"
   ]
  },
  {
   "cell_type": "markdown",
   "metadata": {
    "id": "4YXxzygaJmj-"
   },
   "source": [
    "* axis를 1로 지정\n",
    "* shape[1]을 제외한 나머지 shape은 같아야 함"
   ]
  },
  {
   "cell_type": "code",
   "execution_count": 42,
   "metadata": {
    "ExecuteTime": {
     "end_time": "2021-07-03T05:31:49.154057Z",
     "start_time": "2021-07-03T05:31:49.140045Z"
    },
    "id": "JYE4_5gAJmYe"
   },
   "outputs": [
    {
     "data": {
      "text/plain": [
       "array([[ 1,  2,  3, 10, 11, 12],\n",
       "       [ 4,  5,  6, 13, 14, 15],\n",
       "       [ 7,  8,  9, 16, 17, 18]])"
      ]
     },
     "execution_count": 42,
     "metadata": {},
     "output_type": "execute_result"
    }
   ],
   "source": [
    "c2 = np.append(a2, b2, axis=1)\n",
    "c2"
   ]
  },
  {
   "cell_type": "markdown",
   "metadata": {
    "id": "9sTza3b2hoe4"
   },
   "source": [
    "## 배열 연결"
   ]
  },
  {
   "cell_type": "markdown",
   "metadata": {
    "id": "TRun2NPYj8Ct"
   },
   "source": [
    "### `concatenate()`: 튜플이나 배열의 리스트를 인수로 사용해 배열 연결"
   ]
  },
  {
   "attachments": {},
   "cell_type": "markdown",
   "metadata": {},
   "source": [
    "![image.png](data:image/png;base64,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)"
   ]
  },
  {
   "cell_type": "code",
   "execution_count": 43,
   "metadata": {
    "ExecuteTime": {
     "end_time": "2021-07-03T05:31:49.169071Z",
     "start_time": "2021-07-03T05:31:49.155057Z"
    },
    "id": "lmEqdPifhrB_"
   },
   "outputs": [
    {
     "data": {
      "text/plain": [
       "array([1, 3, 5, 2, 4, 6])"
      ]
     },
     "execution_count": 43,
     "metadata": {},
     "output_type": "execute_result"
    }
   ],
   "source": [
    "a1 = np.array([1, 3, 5])\n",
    "b1 = np.array([2, 4, 6])\n",
    "np.concatenate([a1, b1])"
   ]
  },
  {
   "cell_type": "code",
   "execution_count": 44,
   "metadata": {
    "ExecuteTime": {
     "end_time": "2021-07-03T05:31:49.184083Z",
     "start_time": "2021-07-03T05:31:49.170072Z"
    },
    "id": "IkoTNIt2k0tp"
   },
   "outputs": [
    {
     "data": {
      "text/plain": [
       "array([1, 3, 5, 2, 4, 6, 7, 8, 9])"
      ]
     },
     "execution_count": 44,
     "metadata": {},
     "output_type": "execute_result"
    }
   ],
   "source": [
    "c1 = np.array([7, 8, 9])\n",
    "np.concatenate([a1, b1, c1])"
   ]
  },
  {
   "cell_type": "code",
   "execution_count": 45,
   "metadata": {
    "ExecuteTime": {
     "end_time": "2021-07-03T05:31:49.199098Z",
     "start_time": "2021-07-03T05:31:49.185084Z"
    },
    "id": "vX0SCYX3lEs2"
   },
   "outputs": [
    {
     "data": {
      "text/plain": [
       "array([[1, 2, 3],\n",
       "       [4, 5, 6],\n",
       "       [1, 2, 3],\n",
       "       [4, 5, 6]])"
      ]
     },
     "execution_count": 45,
     "metadata": {},
     "output_type": "execute_result"
    }
   ],
   "source": [
    "a2 = np.array([[1, 2, 3],\n",
    "               [4, 5, 6]])\n",
    "np.concatenate([a2, a2])"
   ]
  },
  {
   "cell_type": "code",
   "execution_count": 46,
   "metadata": {
    "ExecuteTime": {
     "end_time": "2021-07-03T05:31:49.214112Z",
     "start_time": "2021-07-03T05:31:49.200098Z"
    },
    "id": "Rv6xGva7lxHP"
   },
   "outputs": [
    {
     "data": {
      "text/plain": [
       "array([[1, 2, 3, 1, 2, 3],\n",
       "       [4, 5, 6, 4, 5, 6]])"
      ]
     },
     "execution_count": 46,
     "metadata": {},
     "output_type": "execute_result"
    }
   ],
   "source": [
    "a2 = np.array([[1, 2, 3],\n",
    "               [4, 5, 6]])\n",
    "np.concatenate([a2, a2], axis=1)"
   ]
  },
  {
   "cell_type": "markdown",
   "metadata": {},
   "source": [
    "![image.png](data:image/png;base64,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)"
   ]
  },
  {
   "cell_type": "markdown",
   "metadata": {
    "id": "MbiBbx4nl2KD"
   },
   "source": [
    "### `vstack()`: 수직 스택(vertical stack), 1차원으로 연결"
   ]
  },
  {
   "cell_type": "code",
   "execution_count": 47,
   "metadata": {
    "ExecuteTime": {
     "end_time": "2021-07-03T05:31:49.229126Z",
     "start_time": "2021-07-03T05:31:49.215113Z"
    },
    "id": "HkHJwdBMl_qi"
   },
   "outputs": [
    {
     "data": {
      "text/plain": [
       "array([[1, 2, 3],\n",
       "       [4, 5, 6],\n",
       "       [1, 2, 3],\n",
       "       [4, 5, 6]])"
      ]
     },
     "execution_count": 47,
     "metadata": {},
     "output_type": "execute_result"
    }
   ],
   "source": [
    "np.vstack([a2, a2])"
   ]
  },
  {
   "cell_type": "markdown",
   "metadata": {
    "id": "-hTlAnWxmHA_"
   },
   "source": [
    "###  `hstack()`: 수평 스택(horizontal stack), 2차원으로 연결"
   ]
  },
  {
   "cell_type": "code",
   "execution_count": 48,
   "metadata": {
    "ExecuteTime": {
     "end_time": "2021-07-03T05:31:49.244140Z",
     "start_time": "2021-07-03T05:31:49.230128Z"
    },
    "id": "-HsGlAytmNEz"
   },
   "outputs": [
    {
     "data": {
      "text/plain": [
       "array([[1, 2, 3, 1, 2, 3],\n",
       "       [4, 5, 6, 4, 5, 6]])"
      ]
     },
     "execution_count": 48,
     "metadata": {},
     "output_type": "execute_result"
    }
   ],
   "source": [
    "np.hstack([a2, a2])"
   ]
  },
  {
   "cell_type": "markdown",
   "metadata": {
    "id": "CshM6LURmUhV"
   },
   "source": [
    "###  `dstack()`: 깊이 스택(depth stack), 3차원으로 연결"
   ]
  },
  {
   "cell_type": "code",
   "execution_count": 49,
   "metadata": {
    "ExecuteTime": {
     "end_time": "2021-07-03T05:31:49.259154Z",
     "start_time": "2021-07-03T05:31:49.245140Z"
    },
    "id": "TFBdRddpmU4m"
   },
   "outputs": [
    {
     "data": {
      "text/plain": [
       "array([[[1, 1],\n",
       "        [2, 2],\n",
       "        [3, 3]],\n",
       "\n",
       "       [[4, 4],\n",
       "        [5, 5],\n",
       "        [6, 6]]])"
      ]
     },
     "execution_count": 49,
     "metadata": {},
     "output_type": "execute_result"
    }
   ],
   "source": [
    "np.dstack([a2, a2])"
   ]
  },
  {
   "cell_type": "markdown",
   "metadata": {
    "id": "JUBtc4UnpaSz"
   },
   "source": [
    "### `stack()`: 새로운 차원으로 연결"
   ]
  },
  {
   "cell_type": "code",
   "execution_count": 50,
   "metadata": {
    "ExecuteTime": {
     "end_time": "2021-07-03T05:31:49.274167Z",
     "start_time": "2021-07-03T05:31:49.260152Z"
    },
    "id": "JzoujQ9_pHS5"
   },
   "outputs": [
    {
     "data": {
      "text/plain": [
       "array([[[1, 2, 3],\n",
       "        [4, 5, 6]],\n",
       "\n",
       "       [[1, 2, 3],\n",
       "        [4, 5, 6]]])"
      ]
     },
     "execution_count": 50,
     "metadata": {},
     "output_type": "execute_result"
    }
   ],
   "source": [
    "np.stack([a2, a2])"
   ]
  },
  {
   "cell_type": "markdown",
   "metadata": {
    "id": "eYz74NYKo8iH"
   },
   "source": [
    "## 배열 분할"
   ]
  },
  {
   "cell_type": "markdown",
   "metadata": {
    "id": "wjt2zku5pBmF"
   },
   "source": [
    "### `split()`: 배열 분할"
   ]
  },
  {
   "cell_type": "code",
   "execution_count": 51,
   "metadata": {
    "ExecuteTime": {
     "end_time": "2021-07-03T05:31:49.289180Z",
     "start_time": "2021-07-03T05:31:49.275168Z"
    },
    "id": "H_2e71heo-Eq",
    "scrolled": true
   },
   "outputs": [
    {
     "name": "stdout",
     "output_type": "stream",
     "text": [
      "[0 1 2 3 4 5 6 7 8 9]\n",
      "[0 1 2 3 4] [5 6 7 8 9]\n",
      "[0 1] [2 3] [4 5] [6 7] [8 9]\n"
     ]
    }
   ],
   "source": [
    "a1 = np.arange(0, 10)\n",
    "print(a1)\n",
    "b1, c1 = np.split(a1, [5])\n",
    "print(b1, c1)\n",
    "b1, c1, d1, e1, f1 = np.split(a1, [2, 4, 6, 8])\n",
    "print(b1, c1, d1, e1, f1)"
   ]
  },
  {
   "cell_type": "markdown",
   "metadata": {
    "id": "IvvdCQcKsCLn"
   },
   "source": [
    "### `vsplit()`: 수직 분할, 1차원으로 분할"
   ]
  },
  {
   "cell_type": "code",
   "execution_count": 52,
   "metadata": {
    "ExecuteTime": {
     "end_time": "2021-07-03T05:31:49.304194Z",
     "start_time": "2021-07-03T05:31:49.290180Z"
    },
    "id": "GdMYlsiLsCoe"
   },
   "outputs": [
    {
     "name": "stdout",
     "output_type": "stream",
     "text": [
      "[[1 2 3]\n",
      " [4 5 6]\n",
      " [7 8 9]]\n",
      "[[1 2 3]\n",
      " [4 5 6]]\n",
      "[[7 8 9]]\n"
     ]
    }
   ],
   "source": [
    "a2 = np.arange(1, 10).reshape(3,3)\n",
    "print(a2)\n",
    "b2, c2 = np.vsplit(a2, [2])\n",
    "print(b2)\n",
    "print(c2)"
   ]
  },
  {
   "cell_type": "markdown",
   "metadata": {
    "id": "1aC0a034rSXi"
   },
   "source": [
    "### `hsplit()`: 수평 분할, 2차원으로 분할"
   ]
  },
  {
   "cell_type": "code",
   "execution_count": 53,
   "metadata": {
    "ExecuteTime": {
     "end_time": "2021-07-03T05:31:49.319208Z",
     "start_time": "2021-07-03T05:31:49.305194Z"
    },
    "id": "ShMnE_bnrSBJ"
   },
   "outputs": [
    {
     "name": "stdout",
     "output_type": "stream",
     "text": [
      "[[1 2 3]\n",
      " [4 5 6]\n",
      " [7 8 9]]\n",
      "[[1 2]\n",
      " [4 5]\n",
      " [7 8]]\n",
      "[[3]\n",
      " [6]\n",
      " [9]]\n"
     ]
    }
   ],
   "source": [
    "a2 = np.arange(1, 10).reshape(3,3)\n",
    "print(a2)\n",
    "b2, c2 = np.hsplit(a2, [2])\n",
    "print(b2)\n",
    "print(c2)"
   ]
  },
  {
   "cell_type": "markdown",
   "metadata": {
    "id": "Pz3BDD8qsQER"
   },
   "source": [
    "### `dsplit()`: 깊이 분할, 3차원으로 분할"
   ]
  },
  {
   "cell_type": "code",
   "execution_count": 54,
   "metadata": {
    "ExecuteTime": {
     "end_time": "2021-07-03T05:31:49.334221Z",
     "start_time": "2021-07-03T05:31:49.320209Z"
    },
    "id": "DqHFGd43sQYj",
    "scrolled": true
   },
   "outputs": [
    {
     "name": "stdout",
     "output_type": "stream",
     "text": [
      "[[[ 1  2  3]\n",
      "  [ 4  5  6]\n",
      "  [ 7  8  9]]\n",
      "\n",
      " [[10 11 12]\n",
      "  [13 14 15]\n",
      "  [16 17 18]]\n",
      "\n",
      " [[19 20 21]\n",
      "  [22 23 24]\n",
      "  [25 26 27]]]\n",
      "[[[ 1  2]\n",
      "  [ 4  5]\n",
      "  [ 7  8]]\n",
      "\n",
      " [[10 11]\n",
      "  [13 14]\n",
      "  [16 17]]\n",
      "\n",
      " [[19 20]\n",
      "  [22 23]\n",
      "  [25 26]]]\n",
      "[[[ 3]\n",
      "  [ 6]\n",
      "  [ 9]]\n",
      "\n",
      " [[12]\n",
      "  [15]\n",
      "  [18]]\n",
      "\n",
      " [[21]\n",
      "  [24]\n",
      "  [27]]]\n"
     ]
    }
   ],
   "source": [
    "a3 = np.arange(1, 28).reshape(3,3,3)\n",
    "print(a3)\n",
    "b3, c3 = np.dsplit(a3, [2])\n",
    "print(b3)\n",
    "print(c3)"
   ]
  },
  {
   "cell_type": "markdown",
   "metadata": {},
   "source": [
    "출처:\n",
    "\n",
    "* <a href='https://github.com/SeWonKwon' ><div> <img src ='https://slid-capture.s3.ap-northeast-2.amazonaws.com/public/image_upload/6556674324ed41a289a354258718280d/964e5a8b-75ad-41fc-ae75-0ca66d06fbc7.png' align='left' /> </div></a>\n",
    "\n",
    "\n",
    "<br>\n",
    "\n",
    "* [TeamLab](https://www.youtube.com/watch?v=aHthqCgsSFs&list=PLBHVuYlKEkULZLnKLzRq1CnNBOBlBTkqp)\n",
    "\n",
    "* [이수안컴퓨터연구소](https://www.youtube.com/watch?v=mirZPrWwvao&list=PL7ZVZgsnLwEEZcVusN-fV_sJhQHq833OS&index=1)"
   ]
  },
  {
   "cell_type": "markdown",
   "metadata": {
    "id": "rK-zrDZuGoVd"
   },
   "source": [
    "\n",
    "\n",
    "---\n",
    "\n"
   ]
  }
 ],
 "metadata": {
  "colab": {
   "collapsed_sections": [],
   "name": "_NumPy 한번에 제대로 배우기.ipynb",
   "provenance": [],
   "toc_visible": true
  },
  "kernelspec": {
   "display_name": "Python 3",
   "language": "python",
   "name": "python3"
  },
  "language_info": {
   "codemirror_mode": {
    "name": "ipython",
    "version": 3
   },
   "file_extension": ".py",
   "mimetype": "text/x-python",
   "name": "python",
   "nbconvert_exporter": "python",
   "pygments_lexer": "ipython3",
   "version": "3.8.5"
  },
  "toc": {
   "base_numbering": 1,
   "nav_menu": {},
   "number_sections": true,
   "sideBar": true,
   "skip_h1_title": false,
   "title_cell": "Table of Contents",
   "title_sidebar": "Contents",
   "toc_cell": false,
   "toc_position": {
    "height": "calc(100% - 180px)",
    "left": "10px",
    "top": "150px",
    "width": "358.011px"
   },
   "toc_section_display": true,
   "toc_window_display": true
  }
 },
 "nbformat": 4,
 "nbformat_minor": 1
}
