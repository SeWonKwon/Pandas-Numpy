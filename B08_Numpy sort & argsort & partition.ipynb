{
 "cells": [
  {
   "cell_type": "markdown",
   "metadata": {},
   "source": [
    "<a href='https://github.com/SeWonKwon' ><div> <img src ='https://slid-capture.s3.ap-northeast-2.amazonaws.com/public/image_upload/6556674324ed41a289a354258718280d/964e5a8b-75ad-41fc-ae75-0ca66d06fbc7.png' align='left' /> </div></a>"
   ]
  },
  {
   "cell_type": "code",
   "execution_count": 2,
   "metadata": {
    "ExecuteTime": {
     "end_time": "2021-07-03T06:38:46.010103Z",
     "start_time": "2021-07-03T06:38:45.902917Z"
    }
   },
   "outputs": [
    {
     "data": {
      "text/plain": [
       "'1.19.2'"
      ]
     },
     "execution_count": 2,
     "metadata": {},
     "output_type": "execute_result"
    }
   ],
   "source": [
    "import numpy as np\n",
    "np.__version__"
   ]
  },
  {
   "cell_type": "markdown",
   "metadata": {
    "id": "FlQJVeGBxIFw"
   },
   "source": [
    "### 배열 정렬"
   ]
  },
  {
   "cell_type": "code",
   "execution_count": 3,
   "metadata": {
    "ExecuteTime": {
     "end_time": "2021-07-03T06:38:48.217966Z",
     "start_time": "2021-07-03T06:38:48.208959Z"
    },
    "id": "x0sodUMqLU37",
    "scrolled": true
   },
   "outputs": [
    {
     "name": "stdout",
     "output_type": "stream",
     "text": [
      "[1 6 1 8 8 1 6 2 9 7]\n",
      "[1 1 1 2 6 6 7 8 8 9]\n",
      "----------\n",
      "[1 6 1 8 8 1 6 2 9 7]\n",
      "[0 2 5 7 1 6 9 3 4 8]\n",
      "----------\n",
      "[1 6 1 8 8 1 6 2 9 7]\n",
      "[1 1 1 2 6 6 7 8 8 9]\n"
     ]
    }
   ],
   "source": [
    "a1 = np.random.randint(1, 10, size=10)\n",
    "print(a1)\n",
    "print(np.sort(a1))\n",
    "print('----------')\n",
    "print(a1)\n",
    "print(np.argsort(a1))\n",
    "print('----------')\n",
    "print(a1)\n",
    "a1.sort()\n",
    "print(a1)"
   ]
  },
  {
   "cell_type": "code",
   "execution_count": 6,
   "metadata": {
    "ExecuteTime": {
     "end_time": "2021-07-03T06:40:43.418809Z",
     "start_time": "2021-07-03T06:40:43.410802Z"
    }
   },
   "outputs": [
    {
     "name": "stdout",
     "output_type": "stream",
     "text": [
      "[1 1 1 2 6 6 7 8 8 9]\n",
      "[1 1 1 2 6 6 7 8 8 9]\n",
      "----------\n",
      "[0 1 2 3 4 5 6 7 8 9]\n",
      "[1 1 1 2 6 6 7 8 8 9]\n"
     ]
    }
   ],
   "source": [
    "print(a1)\n",
    "print(np.sort(a1))\n",
    "print('----------')\n",
    "a1_argsort = np.argsort(a1)\n",
    "print(a1_argsort)\n",
    "print(a1[a1_argsort])"
   ]
  },
  {
   "cell_type": "code",
   "execution_count": 8,
   "metadata": {
    "id": "FO_sO5POzeMp"
   },
   "outputs": [
    {
     "name": "stdout",
     "output_type": "stream",
     "text": [
      "[[5 7 7]\n",
      " [1 5 8]\n",
      " [9 9 1]]\n",
      "[[1 5 1]\n",
      " [5 7 7]\n",
      " [9 9 8]]\n",
      "[[5 7 7]\n",
      " [1 5 8]\n",
      " [1 9 9]]\n"
     ]
    }
   ],
   "source": [
    "a2 = np.random.randint(1, 10, size=(3, 3))\n",
    "print(a2)\n",
    "print(np.sort(a2, axis=0))\n",
    "print(np.sort(a2, axis=1))"
   ]
  },
  {
   "cell_type": "markdown",
   "metadata": {
    "id": "yYSItPz_00sZ"
   },
   "source": [
    "#### 부분 정렬\n",
    "\n",
    "* `partition()`: 배열에서 k개의 작은 값을 반환"
   ]
  },
  {
   "cell_type": "code",
   "execution_count": 9,
   "metadata": {
    "id": "QQwov4N00YFP"
   },
   "outputs": [
    {
     "name": "stdout",
     "output_type": "stream",
     "text": [
      "[5 1 7 9 4 7 1 3 4 8]\n",
      "[1 1 3 4 4 5 7 9 7 8]\n"
     ]
    }
   ],
   "source": [
    "a1 = np.random.randint(1, 10, size=10)\n",
    "print(a1)\n",
    "print(np.partition(a1, 3))"
   ]
  },
  {
   "cell_type": "code",
   "execution_count": 10,
   "metadata": {
    "scrolled": true
   },
   "outputs": [
    {
     "name": "stdout",
     "output_type": "stream",
     "text": [
      "[[8 3 5 3 1]\n",
      " [6 1 2 7 7]\n",
      " [8 9 1 1 4]\n",
      " [5 2 2 7 1]\n",
      " [1 2 7 8 7]]\n",
      "[[3 1 3 5 8]\n",
      " [1 2 6 7 7]\n",
      " [1 1 4 8 9]\n",
      " [1 2 2 5 7]\n",
      " [2 1 7 7 8]]\n",
      "[[5 2 2 1 1]\n",
      " [1 2 1 3 1]\n",
      " [6 1 2 7 4]\n",
      " [8 3 5 7 7]\n",
      " [8 9 7 8 7]]\n",
      "[[3 1 3 5 8]\n",
      " [1 2 6 7 7]\n",
      " [1 1 4 8 9]\n",
      " [1 2 2 5 7]\n",
      " [2 1 7 7 8]]\n"
     ]
    }
   ],
   "source": [
    "a2 = np.random.randint(1, 10, size=(5, 5))\n",
    "print(a2)\n",
    "print(np.partition(a2, 3))\n",
    "print(np.partition(a2, 3, axis=0))\n",
    "print(np.partition(a2, 3, axis=1))\n"
   ]
  },
  {
   "cell_type": "markdown",
   "metadata": {},
   "source": [
    "출처:\n",
    "\n",
    "* <a href='https://github.com/SeWonKwon' ><div> <img src ='https://slid-capture.s3.ap-northeast-2.amazonaws.com/public/image_upload/6556674324ed41a289a354258718280d/964e5a8b-75ad-41fc-ae75-0ca66d06fbc7.png' align='left' /> </div></a>\n",
    "\n",
    "\n",
    "<br>\n",
    "\n",
    "* [TeamLab](https://www.youtube.com/watch?v=aHthqCgsSFs&list=PLBHVuYlKEkULZLnKLzRq1CnNBOBlBTkqp)\n",
    "\n",
    "* [이수안컴퓨터연구소](https://www.youtube.com/watch?v=mirZPrWwvao&list=PL7ZVZgsnLwEEZcVusN-fV_sJhQHq833OS&index=1)"
   ]
  }
 ],
 "metadata": {
  "colab": {
   "collapsed_sections": [],
   "name": "_NumPy 한번에 제대로 배우기.ipynb",
   "provenance": [],
   "toc_visible": true
  },
  "kernelspec": {
   "display_name": "Python 3",
   "language": "python",
   "name": "python3"
  },
  "language_info": {
   "codemirror_mode": {
    "name": "ipython",
    "version": 3
   },
   "file_extension": ".py",
   "mimetype": "text/x-python",
   "name": "python",
   "nbconvert_exporter": "python",
   "pygments_lexer": "ipython3",
   "version": "3.8.5"
  },
  "toc": {
   "base_numbering": 1,
   "nav_menu": {},
   "number_sections": true,
   "sideBar": true,
   "skip_h1_title": false,
   "title_cell": "Table of Contents",
   "title_sidebar": "Contents",
   "toc_cell": false,
   "toc_position": {
    "height": "calc(100% - 180px)",
    "left": "10px",
    "top": "150px",
    "width": "197.159px"
   },
   "toc_section_display": true,
   "toc_window_display": false
  }
 },
 "nbformat": 4,
 "nbformat_minor": 1
}
