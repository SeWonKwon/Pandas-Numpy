{
 "cells": [
  {
   "cell_type": "markdown",
   "metadata": {},
   "source": [
    "<a href='https://github.com/SeWonKwon' ><div> <img src ='https://slid-capture.s3.ap-northeast-2.amazonaws.com/public/image_upload/6556674324ed41a289a354258718280d/964e5a8b-75ad-41fc-ae75-0ca66d06fbc7.png' align='left' /> </div></a>"
   ]
  },
  {
   "cell_type": "code",
   "execution_count": 1,
   "metadata": {
    "ExecuteTime": {
     "end_time": "2021-07-22T15:08:42.065319Z",
     "start_time": "2021-07-22T15:08:40.160476Z"
    }
   },
   "outputs": [
    {
     "data": {
      "text/plain": [
       "'1.20.2'"
      ]
     },
     "execution_count": 1,
     "metadata": {},
     "output_type": "execute_result"
    }
   ],
   "source": [
    "import numpy as np\n",
    "np.__version__"
   ]
  },
  {
   "cell_type": "markdown",
   "metadata": {
    "id": "FlQJVeGBxIFw"
   },
   "source": [
    "# Sort\n",
    "|code|설명|\n",
    "|:-|:-|\n",
    "|`ndarray.sort()`|In-place sort|\n",
    "|`np.sort`|Return a sorted copy of an array|\n",
    "|`np.argsort`|Indirect sort|\n",
    "|`np.lexsort`|Indirect stable sort with multiple keys|\n",
    "|`np.argpartition`|Indirect partial sort|"
   ]
  },
  {
   "cell_type": "markdown",
   "metadata": {},
   "source": [
    "`kind = ` 파라미터로 지정 할수 있다. \n",
    "```\n",
    "=========== ======= ============= ============ ========\n",
    "   kind      speed   worst case    work space   stable\n",
    "=========== ======= ============= ============ ========\n",
    "'quicksort'    1     O(n^2)            0          no\n",
    "'heapsort'     3     O(n*log(n))       0          no\n",
    "'mergesort'    2     O(n*log(n))      ~n/2        yes\n",
    "'timsort'      2     O(n*log(n))      ~n/2        yes\n",
    "=========== ======= ============= ============ ========\n",
    "```"
   ]
  },
  {
   "cell_type": "code",
   "execution_count": 2,
   "metadata": {
    "ExecuteTime": {
     "end_time": "2021-07-22T15:09:39.615056Z",
     "start_time": "2021-07-22T15:09:39.609051Z"
    }
   },
   "outputs": [
    {
     "data": {
      "text/plain": [
       "array([9, 1, 6, 3, 8, 4, 2, 2, 6, 2])"
      ]
     },
     "execution_count": 2,
     "metadata": {},
     "output_type": "execute_result"
    }
   ],
   "source": [
    "a1 = np.random.randint(1, 10, size=10)\n",
    "a1"
   ]
  },
  {
   "cell_type": "code",
   "execution_count": 4,
   "metadata": {
    "ExecuteTime": {
     "end_time": "2021-07-22T15:10:05.120333Z",
     "start_time": "2021-07-22T15:10:05.110378Z"
    }
   },
   "outputs": [
    {
     "data": {
      "text/plain": [
       "array([[3, 2, 2],\n",
       "       [2, 7, 4],\n",
       "       [9, 8, 4],\n",
       "       [2, 4, 1],\n",
       "       [6, 2, 5]])"
      ]
     },
     "execution_count": 4,
     "metadata": {},
     "output_type": "execute_result"
    }
   ],
   "source": [
    "a2 = np.random.randint(1, 10, size=(5, 3))\n",
    "a2"
   ]
  },
  {
   "cell_type": "code",
   "execution_count": 22,
   "metadata": {
    "ExecuteTime": {
     "end_time": "2021-07-22T15:18:34.398563Z",
     "start_time": "2021-07-22T15:18:34.386551Z"
    }
   },
   "outputs": [
    {
     "data": {
      "text/plain": [
       "array([[[15, 24, 18],\n",
       "        [ 7, 14,  7],\n",
       "        [14, 27, 13]],\n",
       "\n",
       "       [[19, 14, 21],\n",
       "        [ 5, 14, 11],\n",
       "        [22, 19, 21]],\n",
       "\n",
       "       [[23, 28, 11],\n",
       "        [ 8, 18,  2],\n",
       "        [18, 25, 25]]])"
      ]
     },
     "execution_count": 22,
     "metadata": {},
     "output_type": "execute_result"
    }
   ],
   "source": [
    "a3 = np.random.randint(1, 30, size=(3, 3, 3))\n",
    "a3"
   ]
  },
  {
   "cell_type": "markdown",
   "metadata": {},
   "source": [
    "## `array.sort()`"
   ]
  },
  {
   "cell_type": "code",
   "execution_count": 53,
   "metadata": {
    "ExecuteTime": {
     "end_time": "2021-07-22T15:33:56.373319Z",
     "start_time": "2021-07-22T15:33:56.367315Z"
    }
   },
   "outputs": [
    {
     "data": {
      "text/plain": [
       "array([1, 2, 2, 3, 4, 4, 5])"
      ]
     },
     "execution_count": 53,
     "metadata": {},
     "output_type": "execute_result"
    }
   ],
   "source": [
    "array = np.array([3, 4, 2, 1, 2, 4, 5])\n",
    "array.sort()\n",
    "array"
   ]
  },
  {
   "cell_type": "markdown",
   "metadata": {},
   "source": [
    "## `np.sort()`"
   ]
  },
  {
   "cell_type": "code",
   "execution_count": 5,
   "metadata": {
    "ExecuteTime": {
     "end_time": "2021-07-22T15:10:16.212329Z",
     "start_time": "2021-07-22T15:10:16.196316Z"
    }
   },
   "outputs": [
    {
     "data": {
      "text/plain": [
       "array([1, 2, 2, 2, 3, 4, 6, 6, 8, 9])"
      ]
     },
     "execution_count": 5,
     "metadata": {},
     "output_type": "execute_result"
    }
   ],
   "source": [
    "np.sort(a1)"
   ]
  },
  {
   "cell_type": "code",
   "execution_count": 13,
   "metadata": {
    "ExecuteTime": {
     "end_time": "2021-07-22T15:15:43.312588Z",
     "start_time": "2021-07-22T15:15:43.304581Z"
    }
   },
   "outputs": [
    {
     "data": {
      "text/plain": [
       "array([[2, 2, 3],\n",
       "       [2, 4, 7],\n",
       "       [4, 8, 9],\n",
       "       [1, 2, 4],\n",
       "       [2, 5, 6]])"
      ]
     },
     "execution_count": 13,
     "metadata": {},
     "output_type": "execute_result"
    }
   ],
   "source": [
    "np.sort(a2)"
   ]
  },
  {
   "cell_type": "code",
   "execution_count": 14,
   "metadata": {
    "ExecuteTime": {
     "end_time": "2021-07-22T15:15:57.331393Z",
     "start_time": "2021-07-22T15:15:57.322385Z"
    }
   },
   "outputs": [
    {
     "data": {
      "text/plain": [
       "array([[2, 2, 1],\n",
       "       [2, 2, 2],\n",
       "       [3, 4, 4],\n",
       "       [6, 7, 4],\n",
       "       [9, 8, 5]])"
      ]
     },
     "execution_count": 14,
     "metadata": {},
     "output_type": "execute_result"
    }
   ],
   "source": [
    "np.sort(a2, axis=0)"
   ]
  },
  {
   "cell_type": "code",
   "execution_count": 23,
   "metadata": {
    "ExecuteTime": {
     "end_time": "2021-07-22T15:18:38.508395Z",
     "start_time": "2021-07-22T15:18:38.496384Z"
    }
   },
   "outputs": [
    {
     "data": {
      "text/plain": [
       "array([[[15, 24, 18],\n",
       "        [ 7, 14,  7],\n",
       "        [14, 27, 13]],\n",
       "\n",
       "       [[19, 14, 21],\n",
       "        [ 5, 14, 11],\n",
       "        [22, 19, 21]],\n",
       "\n",
       "       [[23, 28, 11],\n",
       "        [ 8, 18,  2],\n",
       "        [18, 25, 25]]])"
      ]
     },
     "execution_count": 23,
     "metadata": {},
     "output_type": "execute_result"
    }
   ],
   "source": [
    "a3"
   ]
  },
  {
   "cell_type": "code",
   "execution_count": 26,
   "metadata": {
    "ExecuteTime": {
     "end_time": "2021-07-22T15:18:40.353546Z",
     "start_time": "2021-07-22T15:18:40.340363Z"
    }
   },
   "outputs": [
    {
     "data": {
      "text/plain": [
       "array([[[15, 18, 24],\n",
       "        [ 7,  7, 14],\n",
       "        [13, 14, 27]],\n",
       "\n",
       "       [[14, 19, 21],\n",
       "        [ 5, 11, 14],\n",
       "        [19, 21, 22]],\n",
       "\n",
       "       [[11, 23, 28],\n",
       "        [ 2,  8, 18],\n",
       "        [18, 25, 25]]])"
      ]
     },
     "execution_count": 26,
     "metadata": {},
     "output_type": "execute_result"
    }
   ],
   "source": [
    "np.sort(a3, axis=-1) # default, axis=2"
   ]
  },
  {
   "cell_type": "code",
   "execution_count": 25,
   "metadata": {
    "ExecuteTime": {
     "end_time": "2021-07-22T15:18:40.100013Z",
     "start_time": "2021-07-22T15:18:40.088001Z"
    }
   },
   "outputs": [
    {
     "data": {
      "text/plain": [
       "array([[[ 7, 14,  7],\n",
       "        [14, 24, 13],\n",
       "        [15, 27, 18]],\n",
       "\n",
       "       [[ 5, 14, 11],\n",
       "        [19, 14, 21],\n",
       "        [22, 19, 21]],\n",
       "\n",
       "       [[ 8, 18,  2],\n",
       "        [18, 25, 11],\n",
       "        [23, 28, 25]]])"
      ]
     },
     "execution_count": 25,
     "metadata": {},
     "output_type": "execute_result"
    }
   ],
   "source": [
    "np.sort(a3, axis=1)"
   ]
  },
  {
   "cell_type": "code",
   "execution_count": 24,
   "metadata": {
    "ExecuteTime": {
     "end_time": "2021-07-22T15:18:38.973562Z",
     "start_time": "2021-07-22T15:18:38.957546Z"
    }
   },
   "outputs": [
    {
     "data": {
      "text/plain": [
       "array([[[15, 14, 11],\n",
       "        [ 5, 14,  2],\n",
       "        [14, 19, 13]],\n",
       "\n",
       "       [[19, 24, 18],\n",
       "        [ 7, 14,  7],\n",
       "        [18, 25, 21]],\n",
       "\n",
       "       [[23, 28, 21],\n",
       "        [ 8, 18, 11],\n",
       "        [22, 27, 25]]])"
      ]
     },
     "execution_count": 24,
     "metadata": {},
     "output_type": "execute_result"
    }
   ],
   "source": [
    "np.sort(a3, axis=0)"
   ]
  },
  {
   "cell_type": "markdown",
   "metadata": {},
   "source": [
    "## `np.argsort()`"
   ]
  },
  {
   "cell_type": "code",
   "execution_count": 6,
   "metadata": {
    "ExecuteTime": {
     "end_time": "2021-07-22T15:10:31.481726Z",
     "start_time": "2021-07-22T15:10:31.470717Z"
    }
   },
   "outputs": [
    {
     "data": {
      "text/plain": [
       "array([1, 6, 7, 9, 3, 5, 2, 8, 4, 0], dtype=int64)"
      ]
     },
     "execution_count": 6,
     "metadata": {},
     "output_type": "execute_result"
    }
   ],
   "source": [
    "np.argsort(a1)"
   ]
  },
  {
   "cell_type": "code",
   "execution_count": 7,
   "metadata": {
    "ExecuteTime": {
     "end_time": "2021-07-22T15:11:06.565336Z",
     "start_time": "2021-07-22T15:11:06.557321Z"
    }
   },
   "outputs": [
    {
     "data": {
      "text/plain": [
       "array([1, 2, 2, 2, 3, 4, 6, 6, 8, 9])"
      ]
     },
     "execution_count": 7,
     "metadata": {},
     "output_type": "execute_result"
    }
   ],
   "source": [
    "a1[np.argsort(a1)]"
   ]
  },
  {
   "cell_type": "code",
   "execution_count": 30,
   "metadata": {
    "ExecuteTime": {
     "end_time": "2021-07-22T15:21:17.699035Z",
     "start_time": "2021-07-22T15:21:17.686024Z"
    }
   },
   "outputs": [
    {
     "data": {
      "text/plain": [
       "array([[3, 2, 2],\n",
       "       [2, 7, 4],\n",
       "       [9, 8, 4],\n",
       "       [2, 4, 1],\n",
       "       [6, 2, 5]])"
      ]
     },
     "execution_count": 30,
     "metadata": {},
     "output_type": "execute_result"
    }
   ],
   "source": [
    "a2"
   ]
  },
  {
   "cell_type": "code",
   "execution_count": 49,
   "metadata": {
    "ExecuteTime": {
     "end_time": "2021-07-22T15:31:03.504540Z",
     "start_time": "2021-07-22T15:31:03.489526Z"
    }
   },
   "outputs": [
    {
     "data": {
      "text/plain": [
       "array([[1, 2, 0],\n",
       "       [0, 2, 1],\n",
       "       [2, 1, 0],\n",
       "       [2, 0, 1],\n",
       "       [1, 2, 0]], dtype=int64)"
      ]
     },
     "execution_count": 49,
     "metadata": {},
     "output_type": "execute_result"
    }
   ],
   "source": [
    "idx = np.argsort(a2)\n",
    "idx"
   ]
  },
  {
   "cell_type": "code",
   "execution_count": 51,
   "metadata": {
    "ExecuteTime": {
     "end_time": "2021-07-22T15:32:03.088289Z",
     "start_time": "2021-07-22T15:32:03.077279Z"
    }
   },
   "outputs": [
    {
     "data": {
      "text/plain": [
       "array([[2, 2, 3],\n",
       "       [2, 4, 7],\n",
       "       [4, 8, 9],\n",
       "       [1, 2, 4],\n",
       "       [2, 5, 6]])"
      ]
     },
     "execution_count": 51,
     "metadata": {},
     "output_type": "execute_result"
    }
   ],
   "source": [
    "np.take_along_axis(a2, idx, axis=-1)"
   ]
  },
  {
   "cell_type": "markdown",
   "metadata": {},
   "source": [
    "## `np.lexsort()`"
   ]
  },
  {
   "cell_type": "markdown",
   "metadata": {},
   "source": [
    "활용 예1"
   ]
  },
  {
   "cell_type": "code",
   "execution_count": 58,
   "metadata": {
    "ExecuteTime": {
     "end_time": "2021-07-22T15:39:35.430982Z",
     "start_time": "2021-07-22T15:39:35.423975Z"
    }
   },
   "outputs": [
    {
     "data": {
      "text/plain": [
       "array([1, 2, 0], dtype=int64)"
      ]
     },
     "execution_count": 58,
     "metadata": {},
     "output_type": "execute_result"
    }
   ],
   "source": [
    "surnames =    ('Hertz',    'Galilei', 'Hertz')\n",
    "first_names = ('Heinrich', 'Galileo', 'Gustav')\n",
    "ind = np.lexsort((first_names, surnames))\n",
    "ind"
   ]
  },
  {
   "cell_type": "code",
   "execution_count": 59,
   "metadata": {
    "ExecuteTime": {
     "end_time": "2021-07-22T15:39:36.906985Z",
     "start_time": "2021-07-22T15:39:36.890993Z"
    }
   },
   "outputs": [
    {
     "data": {
      "text/plain": [
       "['Galilei, Galileo', 'Hertz, Gustav', 'Hertz, Heinrich']"
      ]
     },
     "execution_count": 59,
     "metadata": {},
     "output_type": "execute_result"
    }
   ],
   "source": [
    "[surnames[i] + \", \" + first_names[i] for i in ind]"
   ]
  },
  {
   "cell_type": "markdown",
   "metadata": {},
   "source": [
    "활용 예2"
   ]
  },
  {
   "cell_type": "code",
   "execution_count": 63,
   "metadata": {
    "ExecuteTime": {
     "end_time": "2021-07-22T15:41:57.121562Z",
     "start_time": "2021-07-22T15:41:57.105608Z"
    }
   },
   "outputs": [],
   "source": [
    "a = ['A','B','C','A','B','C']\n",
    "b = [1 , 2, 3, 4, 5, 6]\n",
    "idx = np.lexsort((b, a)) # Sort by a first, then by a"
   ]
  },
  {
   "cell_type": "code",
   "execution_count": 98,
   "metadata": {
    "ExecuteTime": {
     "end_time": "2021-07-22T15:55:05.637648Z",
     "start_time": "2021-07-22T15:55:05.624636Z"
    }
   },
   "outputs": [
    {
     "data": {
      "text/plain": [
       "[('A', 1), ('A', 4), ('B', 2), ('B', 5), ('C', 3), ('C', 6)]"
      ]
     },
     "execution_count": 98,
     "metadata": {},
     "output_type": "execute_result"
    }
   ],
   "source": [
    "ab = [(a[i],b[i]) for i in idx]\n",
    "ab"
   ]
  },
  {
   "cell_type": "markdown",
   "metadata": {},
   "source": [
    "`argsort` vs `lexsort`"
   ]
  },
  {
   "cell_type": "code",
   "execution_count": 99,
   "metadata": {
    "ExecuteTime": {
     "end_time": "2021-07-22T15:55:07.286475Z",
     "start_time": "2021-07-22T15:55:07.280469Z"
    }
   },
   "outputs": [
    {
     "data": {
      "text/plain": [
       "[('B', 2), ('C', 3), ('C', 6), ('A', 4), ('B', 5), ('A', 1)]"
      ]
     },
     "execution_count": 99,
     "metadata": {},
     "output_type": "execute_result"
    }
   ],
   "source": [
    "np.random.shuffle(ab)\n",
    "ab"
   ]
  },
  {
   "cell_type": "code",
   "execution_count": 100,
   "metadata": {
    "ExecuteTime": {
     "end_time": "2021-07-22T15:55:34.392648Z",
     "start_time": "2021-07-22T15:55:34.383638Z"
    }
   },
   "outputs": [
    {
     "data": {
      "text/plain": [
       "array([('B', 2), ('C', 3), ('C', 6), ('A', 4), ('B', 5), ('A', 1)],\n",
       "      dtype=[('x', 'O'), ('y', '<i4')])"
      ]
     },
     "execution_count": 100,
     "metadata": {},
     "output_type": "execute_result"
    }
   ],
   "source": [
    "ab = np.array(ab, dtype=np.dtype([('x','object'),('y',int)]))\n",
    "ab"
   ]
  },
  {
   "cell_type": "code",
   "execution_count": 102,
   "metadata": {
    "ExecuteTime": {
     "end_time": "2021-07-22T15:55:59.788118Z",
     "start_time": "2021-07-22T15:55:59.782114Z"
    }
   },
   "outputs": [
    {
     "data": {
      "text/plain": [
       "array([5, 3, 0, 4, 1, 2], dtype=int64)"
      ]
     },
     "execution_count": 102,
     "metadata": {},
     "output_type": "execute_result"
    }
   ],
   "source": [
    "idx = np.argsort(ab)\n",
    "idx"
   ]
  },
  {
   "cell_type": "code",
   "execution_count": 103,
   "metadata": {
    "ExecuteTime": {
     "end_time": "2021-07-22T15:56:03.507161Z",
     "start_time": "2021-07-22T15:56:03.498152Z"
    }
   },
   "outputs": [
    {
     "data": {
      "text/plain": [
       "array([('A', 1), ('A', 4), ('B', 2), ('B', 5), ('C', 3), ('C', 6)],\n",
       "      dtype=[('x', 'O'), ('y', '<i4')])"
      ]
     },
     "execution_count": 103,
     "metadata": {},
     "output_type": "execute_result"
    }
   ],
   "source": [
    "ab[idx]"
   ]
  },
  {
   "cell_type": "markdown",
   "metadata": {},
   "source": [
    "묶여 있다면 lexically 되어 있다면?! argsort도 같은 원리로 움직인다. 첫번째거 정렬하고 뒤에꺼 정렬!"
   ]
  },
  {
   "cell_type": "code",
   "execution_count": 80,
   "metadata": {
    "ExecuteTime": {
     "end_time": "2021-07-22T15:50:04.587599Z",
     "start_time": "2021-07-22T15:50:04.582598Z"
    }
   },
   "outputs": [
    {
     "data": {
      "text/plain": [
       "array([(1, 9), (5, 4), (1, 0), (4, 4), (3, 0), (4, 2), (4, 1)],\n",
       "      dtype=[('x', '<i4'), ('y', '<i4')])"
      ]
     },
     "execution_count": 80,
     "metadata": {},
     "output_type": "execute_result"
    }
   ],
   "source": [
    "x = np.array([(1,9), (5,4), (1,0), (4,4), (3,0), (4,2), (4,1)],\n",
    "          dtype=np.dtype([('x', int), ('y', int)]))\n",
    "x"
   ]
  },
  {
   "cell_type": "markdown",
   "metadata": {
    "id": "yYSItPz_00sZ"
   },
   "source": [
    "# 부분 정렬\n",
    "\n",
    "* `partition()`: 배열에서 k개의 작은 값을 반환\n",
    "* `argpartition()` : 배열에서 k개의 작은 값을 반환하는 인덱스"
   ]
  },
  {
   "cell_type": "markdown",
   "metadata": {},
   "source": [
    "## `np.partition()`"
   ]
  },
  {
   "cell_type": "code",
   "execution_count": 9,
   "metadata": {
    "id": "QQwov4N00YFP"
   },
   "outputs": [
    {
     "name": "stdout",
     "output_type": "stream",
     "text": [
      "[5 1 7 9 4 7 1 3 4 8]\n",
      "[1 1 3 4 4 5 7 9 7 8]\n"
     ]
    }
   ],
   "source": [
    "a1 = np.random.randint(1, 10, size=10)\n",
    "print(a1)\n",
    "print(np.partition(a1, 3))"
   ]
  },
  {
   "cell_type": "code",
   "execution_count": 10,
   "metadata": {
    "scrolled": true
   },
   "outputs": [
    {
     "name": "stdout",
     "output_type": "stream",
     "text": [
      "[[8 3 5 3 1]\n",
      " [6 1 2 7 7]\n",
      " [8 9 1 1 4]\n",
      " [5 2 2 7 1]\n",
      " [1 2 7 8 7]]\n",
      "[[3 1 3 5 8]\n",
      " [1 2 6 7 7]\n",
      " [1 1 4 8 9]\n",
      " [1 2 2 5 7]\n",
      " [2 1 7 7 8]]\n",
      "[[5 2 2 1 1]\n",
      " [1 2 1 3 1]\n",
      " [6 1 2 7 4]\n",
      " [8 3 5 7 7]\n",
      " [8 9 7 8 7]]\n",
      "[[3 1 3 5 8]\n",
      " [1 2 6 7 7]\n",
      " [1 1 4 8 9]\n",
      " [1 2 2 5 7]\n",
      " [2 1 7 7 8]]\n"
     ]
    }
   ],
   "source": [
    "a2 = np.random.randint(1, 10, size=(5, 5))\n",
    "print(a2)\n",
    "print(np.partition(a2, 3))\n",
    "print(np.partition(a2, 3, axis=0))\n",
    "print(np.partition(a2, 3, axis=1))\n"
   ]
  },
  {
   "cell_type": "markdown",
   "metadata": {},
   "source": [
    "## `np.argpartition()`"
   ]
  },
  {
   "cell_type": "markdown",
   "metadata": {},
   "source": [
    "k개의 작은 원소를 앞으로 가져오는 인덱스를 환원한다. "
   ]
  },
  {
   "cell_type": "code",
   "execution_count": 104,
   "metadata": {
    "ExecuteTime": {
     "end_time": "2021-07-22T16:01:27.102706Z",
     "start_time": "2021-07-22T16:01:27.095701Z"
    }
   },
   "outputs": [
    {
     "data": {
      "text/plain": [
       "array([1, 6, 2, 3, 4, 5, 0, 7, 8, 9], dtype=int64)"
      ]
     },
     "execution_count": 104,
     "metadata": {},
     "output_type": "execute_result"
    }
   ],
   "source": [
    "np.argpartition(a1,1)"
   ]
  },
  {
   "cell_type": "code",
   "execution_count": 122,
   "metadata": {
    "ExecuteTime": {
     "end_time": "2021-07-22T16:08:34.430131Z",
     "start_time": "2021-07-22T16:08:34.422124Z"
    }
   },
   "outputs": [
    {
     "data": {
      "text/plain": [
       "array([5, 1, 9, 2, 3, 2, 1, 4, 3])"
      ]
     },
     "execution_count": 122,
     "metadata": {},
     "output_type": "execute_result"
    }
   ],
   "source": [
    "a1 = np.array([9, 3, 2, 1, 1, 2, 3, 4, 5])\n",
    "np.random.shuffle(a1)\n",
    "a1"
   ]
  },
  {
   "cell_type": "code",
   "execution_count": 123,
   "metadata": {
    "ExecuteTime": {
     "end_time": "2021-07-22T16:08:38.057747Z",
     "start_time": "2021-07-22T16:08:38.044735Z"
    },
    "scrolled": true
   },
   "outputs": [
    {
     "name": "stdout",
     "output_type": "stream",
     "text": [
      "0 [1 5 9 2 3 2 1 4 3]\n",
      "1 [1 1 9 2 3 2 5 4 3]\n",
      "2 [1 1 2 9 3 2 5 4 3]\n",
      "3 [1 1 2 2 3 3 9 4 5]\n",
      "4 [1 1 2 2 3 3 9 4 5]\n",
      "5 [2 3 1 2 1 3 9 4 5]\n",
      "6 [2 3 1 2 1 3 4 5 9]\n",
      "7 [2 3 1 2 1 3 4 5 9]\n",
      "8 [2 3 1 2 1 3 4 5 9]\n"
     ]
    }
   ],
   "source": [
    "for i in range(9):\n",
    "    print(i, a1[np.argpartition(a1, i)])"
   ]
  },
  {
   "cell_type": "markdown",
   "metadata": {},
   "source": [
    "출처:\n",
    "\n",
    "* <a href='https://github.com/SeWonKwon' ><div> <img src ='https://slid-capture.s3.ap-northeast-2.amazonaws.com/public/image_upload/6556674324ed41a289a354258718280d/964e5a8b-75ad-41fc-ae75-0ca66d06fbc7.png' align='left' /> </div></a>\n",
    "\n",
    "\n",
    "<br>\n",
    "\n",
    "* [TeamLab](https://www.youtube.com/watch?v=aHthqCgsSFs&list=PLBHVuYlKEkULZLnKLzRq1CnNBOBlBTkqp)\n",
    "\n",
    "* [이수안컴퓨터연구소](https://www.youtube.com/watch?v=mirZPrWwvao&list=PL7ZVZgsnLwEEZcVusN-fV_sJhQHq833OS&index=1)"
   ]
  }
 ],
 "metadata": {
  "colab": {
   "collapsed_sections": [],
   "name": "_NumPy 한번에 제대로 배우기.ipynb",
   "provenance": [],
   "toc_visible": true
  },
  "kernelspec": {
   "display_name": "Python 3",
   "language": "python",
   "name": "python3"
  },
  "language_info": {
   "codemirror_mode": {
    "name": "ipython",
    "version": 3
   },
   "file_extension": ".py",
   "mimetype": "text/x-python",
   "name": "python",
   "nbconvert_exporter": "python",
   "pygments_lexer": "ipython3",
   "version": "3.8.5"
  },
  "toc": {
   "base_numbering": 1,
   "nav_menu": {},
   "number_sections": true,
   "sideBar": true,
   "skip_h1_title": false,
   "title_cell": "Table of Contents",
   "title_sidebar": "Contents",
   "toc_cell": false,
   "toc_position": {
    "height": "calc(100% - 180px)",
    "left": "10px",
    "top": "150px",
    "width": "197.156px"
   },
   "toc_section_display": true,
   "toc_window_display": true
  }
 },
 "nbformat": 4,
 "nbformat_minor": 1
}
