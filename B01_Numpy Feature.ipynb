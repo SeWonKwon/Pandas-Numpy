{
 "cells": [
  {
   "cell_type": "markdown",
   "metadata": {},
   "source": [
    "<a href='https://github.com/SeWonKwon' ><div> <img src ='https://slid-capture.s3.ap-northeast-2.amazonaws.com/public/image_upload/6556674324ed41a289a354258718280d/964e5a8b-75ad-41fc-ae75-0ca66d06fbc7.png' align='left' /> </div></a>"
   ]
  },
  {
   "cell_type": "markdown",
   "metadata": {},
   "source": [
    "\n",
    "NumPy https://numpy.org"
   ]
  },
  {
   "cell_type": "markdown",
   "metadata": {},
   "source": [
    "# 넘파이는 왜 필요한가?"
   ]
  },
  {
   "cell_type": "markdown",
   "metadata": {},
   "source": [
    "## 코드로 방정식 표현하기 "
   ]
  },
  {
   "cell_type": "markdown",
   "metadata": {},
   "source": [
    "\\begin{equation}\n",
    "2x_1 + 2x_2 + x_3 = 9\n",
    "\\end{equation}\n",
    "\n",
    "\\begin{equation}\n",
    "2x_1 - x_2 + 2x_3 = 6\n",
    "\\end{equation}\n",
    "\n",
    "\\begin{equation}\n",
    "x_1 - x2 + 2x_3 = 5\n",
    "\\end{equation}"
   ]
  },
  {
   "cell_type": "markdown",
   "metadata": {},
   "source": [
    "\\begin{bmatrix}\n",
    "2 & 2 & 1 & 9 \\\\\n",
    "2 & -1 & 2 & 6 \\\\\n",
    "1 & -1 & 2 & 5 \n",
    "\\end{bmatrix}"
   ]
  },
  {
   "cell_type": "markdown",
   "metadata": {},
   "source": [
    "`coefficient_matrix = [[2, 2, 1], [2, -1, 2], [1, -1, 2]]`\n",
    "`constant_vector = [9, 6, 5]`"
   ]
  },
  {
   "cell_type": "markdown",
   "metadata": {},
   "source": [
    "* 다양한 Matrix 계산을 어떻게 만들 것 인가 ?   \n",
    "\n",
    "\n",
    "* 굉장히 큰 Matrix에 대한 표현\n",
    "\n",
    "\n",
    "* 처리 속도 문제 -파이썬은 Interpreter 언어\n",
    "\n",
    "> * *적절한 패키지를 활용하는 건 좋은 방법*\n",
    ">> * **Numpy!!**"
   ]
  },
  {
   "cell_type": "markdown",
   "metadata": {
    "id": "oR5hNBH-Retd"
   },
   "source": [
    "# NumPy 특징\n",
    "\n",
    "* Numerical Python의 약자   \n",
    "\n",
    "\n",
    "* Matrix와 Vector와 같은 Array 연산의 사실상의 표준     \n",
    "\n",
    "\n",
    "* 고성능 과학 계산용 패키지로 강력한 N차원 배열 객체   \n",
    "\n",
    "\n",
    "* 범용적 데이터 처리에 사용 가능한 다차원 컨테이너   \n",
    "\n",
    "\n",
    "\n",
    "* **정교한 브로드캐스팅(broadcasting) 기능**     \n",
    "\n",
    "\n",
    "* 파이썬의 자료형 list와 비슷하지만, 더 빠르고 메모리를 효율적으로 관리    \n",
    "\n",
    "\n",
    "* 반복문 없이 데이터 배열에 대한 처리를 지원하여 빠르고 편리    \n",
    "\n",
    "\n",
    "* 데이터 과학 도구에 대한 생태계의 핵심을 이루고 있음    \n",
    "\n"
   ]
  },
  {
   "cell_type": "code",
   "execution_count": 1,
   "metadata": {
    "ExecuteTime": {
     "end_time": "2021-07-03T02:58:25.029822Z",
     "start_time": "2021-07-03T02:58:23.428639Z"
    },
    "id": "R9klTdhLQ564"
   },
   "outputs": [
    {
     "data": {
      "text/plain": [
       "'1.19.2'"
      ]
     },
     "execution_count": 1,
     "metadata": {},
     "output_type": "execute_result"
    }
   ],
   "source": [
    "import numpy as np\n",
    "np.__version__"
   ]
  },
  {
   "cell_type": "markdown",
   "metadata": {},
   "source": [
    "\n",
    "* 일반 List에 비해 빠르고,메모리 효율적   \n",
    "\n",
    "\n",
    "\n",
    "넘파이는 같은 자료형만 담을수 있기 때문에 메모리 지정을 따로 따로 하지 않는다.\n",
    "그것이 고속 처리를 할수 있고, 메모리를 적게 가질수 있게 한다.\n",
    "\n",
    "반면에 파이선의 리스트는 하나의 리스트에 여러개 타입의 자료형을 담을수 있기 때문에, 각각의 리스트의 요소에 다른 메모리를 지정을 해줘야 한다.  \n",
    "\n",
    "할당 구조가 다르다. "
   ]
  },
  {
   "cell_type": "markdown",
   "metadata": {
    "id": "2hSWC5ptGyWP"
   },
   "source": [
    "\n",
    "\n",
    "---\n",
    "\n"
   ]
  },
  {
   "cell_type": "markdown",
   "metadata": {},
   "source": [
    "# 추천 site\n",
    "\n",
    "* cs231 - http://cs231n.github.io/python-numpy-tutorial/#numpy\n",
    "\n",
    "* https://docs.scipy.org/doc/numpy-dev/user/quickstart.html\n",
    "\n",
    "* 데이터 사이언스 스쿨 (파이썬 버전)-https://goo.gl/3hsjbs\n",
    "\n",
    "* https://goo.gl/7Nwjw\n",
    "\n",
    "* 책 : 파이썬 라이브러리를 활용한 데이터 분석\n"
   ]
  },
  {
   "cell_type": "markdown",
   "metadata": {},
   "source": [
    "출처:\n",
    "\n",
    "* <a href='https://github.com/SeWonKwon' ><div> <img src ='https://slid-capture.s3.ap-northeast-2.amazonaws.com/public/image_upload/6556674324ed41a289a354258718280d/964e5a8b-75ad-41fc-ae75-0ca66d06fbc7.png' align='left' /> </div></a>\n",
    "\n",
    "\n",
    "<br>\n",
    "\n",
    "* [TeamLab](https://www.youtube.com/watch?v=aHthqCgsSFs&list=PLBHVuYlKEkULZLnKLzRq1CnNBOBlBTkqp)\n",
    "\n",
    "* [이수안컴퓨터연구소](https://www.youtube.com/watch?v=mirZPrWwvao&list=PL7ZVZgsnLwEEZcVusN-fV_sJhQHq833OS&index=1)"
   ]
  }
 ],
 "metadata": {
  "colab": {
   "collapsed_sections": [],
   "name": "_NumPy 한번에 제대로 배우기.ipynb",
   "provenance": [],
   "toc_visible": true
  },
  "kernelspec": {
   "display_name": "Python 3",
   "language": "python",
   "name": "python3"
  },
  "language_info": {
   "codemirror_mode": {
    "name": "ipython",
    "version": 3
   },
   "file_extension": ".py",
   "mimetype": "text/x-python",
   "name": "python",
   "nbconvert_exporter": "python",
   "pygments_lexer": "ipython3",
   "version": "3.8.5"
  },
  "toc": {
   "base_numbering": 1,
   "nav_menu": {},
   "number_sections": true,
   "sideBar": true,
   "skip_h1_title": false,
   "title_cell": "Table of Contents",
   "title_sidebar": "Contents",
   "toc_cell": false,
   "toc_position": {
    "height": "calc(100% - 180px)",
    "left": "10px",
    "top": "150px",
    "width": "184.141px"
   },
   "toc_section_display": true,
   "toc_window_display": false
  }
 },
 "nbformat": 4,
 "nbformat_minor": 1
}
