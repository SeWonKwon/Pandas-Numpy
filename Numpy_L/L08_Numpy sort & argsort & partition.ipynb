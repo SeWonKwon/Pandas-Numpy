{
 "cells": [
  {
   "cell_type": "code",
   "execution_count": 1,
   "metadata": {},
   "outputs": [
    {
     "data": {
      "text/plain": [
       "'1.19.2'"
      ]
     },
     "execution_count": 1,
     "metadata": {},
     "output_type": "execute_result"
    }
   ],
   "source": [
    "import numpy as np\n",
    "np.__version__"
   ]
  },
  {
   "cell_type": "markdown",
   "metadata": {
    "id": "FlQJVeGBxIFw"
   },
   "source": [
    "### 배열 정렬"
   ]
  },
  {
   "cell_type": "code",
   "execution_count": 7,
   "metadata": {
    "id": "x0sodUMqLU37"
   },
   "outputs": [
    {
     "name": "stdout",
     "output_type": "stream",
     "text": [
      "[2 7 7 8 6 2 2 9 4 6]\n",
      "[2 2 2 4 6 6 7 7 8 9]\n",
      "[2 7 7 8 6 2 2 9 4 6]\n",
      "[0 5 6 8 4 9 1 2 3 7]\n",
      "[2 7 7 8 6 2 2 9 4 6]\n",
      "[2 2 2 4 6 6 7 7 8 9]\n"
     ]
    }
   ],
   "source": [
    "a1 = np.random.randint(1, 10, size=10)\n",
    "print(a1)\n",
    "print(np.sort(a1))\n",
    "print(a1)\n",
    "print(np.argsort(a1))\n",
    "print(a1)\n",
    "a1.sort()\n",
    "print(a1)"
   ]
  },
  {
   "cell_type": "code",
   "execution_count": 8,
   "metadata": {
    "id": "FO_sO5POzeMp"
   },
   "outputs": [
    {
     "name": "stdout",
     "output_type": "stream",
     "text": [
      "[[5 7 7]\n",
      " [1 5 8]\n",
      " [9 9 1]]\n",
      "[[1 5 1]\n",
      " [5 7 7]\n",
      " [9 9 8]]\n",
      "[[5 7 7]\n",
      " [1 5 8]\n",
      " [1 9 9]]\n"
     ]
    }
   ],
   "source": [
    "a2 = np.random.randint(1, 10, size=(3, 3))\n",
    "print(a2)\n",
    "print(np.sort(a2, axis=0))\n",
    "print(np.sort(a2, axis=1))"
   ]
  },
  {
   "cell_type": "markdown",
   "metadata": {
    "id": "yYSItPz_00sZ"
   },
   "source": [
    "#### 부분 정렬\n",
    "\n",
    "* `partition()`: 배열에서 k개의 작은 값을 반환"
   ]
  },
  {
   "cell_type": "code",
   "execution_count": 9,
   "metadata": {
    "id": "QQwov4N00YFP"
   },
   "outputs": [
    {
     "name": "stdout",
     "output_type": "stream",
     "text": [
      "[5 1 7 9 4 7 1 3 4 8]\n",
      "[1 1 3 4 4 5 7 9 7 8]\n"
     ]
    }
   ],
   "source": [
    "a1 = np.random.randint(1, 10, size=10)\n",
    "print(a1)\n",
    "print(np.partition(a1, 3))"
   ]
  },
  {
   "cell_type": "code",
   "execution_count": 10,
   "metadata": {},
   "outputs": [
    {
     "name": "stdout",
     "output_type": "stream",
     "text": [
      "[[8 3 5 3 1]\n",
      " [6 1 2 7 7]\n",
      " [8 9 1 1 4]\n",
      " [5 2 2 7 1]\n",
      " [1 2 7 8 7]]\n",
      "[[3 1 3 5 8]\n",
      " [1 2 6 7 7]\n",
      " [1 1 4 8 9]\n",
      " [1 2 2 5 7]\n",
      " [2 1 7 7 8]]\n",
      "[[5 2 2 1 1]\n",
      " [1 2 1 3 1]\n",
      " [6 1 2 7 4]\n",
      " [8 3 5 7 7]\n",
      " [8 9 7 8 7]]\n",
      "[[3 1 3 5 8]\n",
      " [1 2 6 7 7]\n",
      " [1 1 4 8 9]\n",
      " [1 2 2 5 7]\n",
      " [2 1 7 7 8]]\n"
     ]
    }
   ],
   "source": [
    "a2 = np.random.randint(1, 10, size=(5, 5))\n",
    "print(a2)\n",
    "print(np.partition(a2, 3))\n",
    "print(np.partition(a2, 3, axis=0))\n",
    "print(np.partition(a2, 3, axis=1))\n"
   ]
  }
 ],
 "metadata": {
  "colab": {
   "collapsed_sections": [],
   "name": "_NumPy 한번에 제대로 배우기.ipynb",
   "provenance": [],
   "toc_visible": true
  },
  "kernelspec": {
   "display_name": "Python 3",
   "language": "python",
   "name": "python3"
  },
  "language_info": {
   "codemirror_mode": {
    "name": "ipython",
    "version": 3
   },
   "file_extension": ".py",
   "mimetype": "text/x-python",
   "name": "python",
   "nbconvert_exporter": "python",
   "pygments_lexer": "ipython3",
   "version": "3.8.5"
  },
  "toc": {
   "base_numbering": 1,
   "nav_menu": {},
   "number_sections": true,
   "sideBar": true,
   "skip_h1_title": false,
   "title_cell": "Table of Contents",
   "title_sidebar": "Contents",
   "toc_cell": false,
   "toc_position": {
    "height": "calc(100% - 180px)",
    "left": "10px",
    "top": "150px",
    "width": "197.167px"
   },
   "toc_section_display": true,
   "toc_window_display": true
  }
 },
 "nbformat": 4,
 "nbformat_minor": 1
}
